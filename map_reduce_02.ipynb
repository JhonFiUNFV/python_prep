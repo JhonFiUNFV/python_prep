{
  "cells": [
    {
      "cell_type": "markdown",
      "metadata": {
        "id": "view-in-github",
        "colab_type": "text"
      },
      "source": [
        "<a href=\"https://colab.research.google.com/github/JhonFiUNFV/python_prep/blob/master/map_reduce_02.ipynb\" target=\"_parent\"><img src=\"https://colab.research.google.com/assets/colab-badge.svg\" alt=\"Open In Colab\"/></a>"
      ]
    },
    {
      "cell_type": "markdown",
      "metadata": {
        "id": "goThxM03-FHN"
      },
      "source": [
        "# Importación de la data"
      ]
    },
    {
      "cell_type": "code",
      "execution_count": null,
      "metadata": {
        "id": "k5zgmqsX-FHP",
        "outputId": "5fc8a3cd-5b1f-4b04-ae28-cfc18b5d5ca1"
      },
      "outputs": [
        {
          "name": "stdout",
          "output_type": "stream",
          "text": [
            "4\tBook A\t2\n",
            "\n",
            "5\tBook B\t8\n",
            "\n",
            "6\tBook C\t1\n",
            "\n",
            "7\tBook B\t6\n",
            "\n",
            "2\tBook B\t15\n",
            "\n",
            "3\tBook A\t2\n",
            "\n",
            "4\tBook C\t7\n",
            "\n",
            "5\tBook A\t1\n",
            "\n",
            "5\tBook C\t4\n",
            "\n",
            "6\tBook A\t3\n",
            "\n",
            "7\tBook B\t9\n",
            "\n",
            "8\tBook C\t11\n"
          ]
        }
      ],
      "source": [
        "# Leyendo la data linea por linea\n",
        "data = []\n",
        "with open(\"Ejemplo02_MR.txt\",\"r\") as archivo:\n",
        "    \n",
        "    for linea in archivo:\n",
        "        print(linea)\n",
        "        data.append(linea)"
      ]
    },
    {
      "cell_type": "code",
      "execution_count": null,
      "metadata": {
        "id": "y3hbb6aU-FHQ",
        "outputId": "e62e696c-a2c9-4af7-8739-b764c7a74649"
      },
      "outputs": [
        {
          "name": "stdout",
          "output_type": "stream",
          "text": [
            "['4\\tBook A\\t2\\n', '5\\tBook B\\t8\\n', '6\\tBook C\\t1\\n', '7\\tBook B\\t6\\n', '2\\tBook B\\t15\\n', '3\\tBook A\\t2\\n', '4\\tBook C\\t7\\n', '5\\tBook A\\t1\\n', '5\\tBook C\\t4\\n', '6\\tBook A\\t3\\n', '7\\tBook B\\t9\\n', '8\\tBook C\\t11']\n"
          ]
        }
      ],
      "source": [
        "# Mostrando la data\n",
        "print(data)"
      ]
    },
    {
      "cell_type": "code",
      "execution_count": null,
      "metadata": {
        "id": "ZTM-Wj1l-FHR",
        "outputId": "1bc4369a-b6c0-42ad-e85e-b4e3448cdf4b"
      },
      "outputs": [
        {
          "data": {
            "text/plain": [
              "['4\\tBook A\\t2',\n",
              " '5\\tBook B\\t8',\n",
              " '6\\tBook C\\t1',\n",
              " '7\\tBook B\\t6',\n",
              " '2\\tBook B\\t15',\n",
              " '3\\tBook A\\t2',\n",
              " '4\\tBook C\\t7',\n",
              " '5\\tBook A\\t1',\n",
              " '5\\tBook C\\t4',\n",
              " '6\\tBook A\\t3',\n",
              " '7\\tBook B\\t9',\n",
              " '8\\tBook C\\t11']"
            ]
          },
          "execution_count": 9,
          "metadata": {},
          "output_type": "execute_result"
        }
      ],
      "source": [
        "# Limpieando la data\n",
        "data = [linea.strip() for linea in data]\n",
        "data"
      ]
    },
    {
      "cell_type": "code",
      "execution_count": null,
      "metadata": {
        "id": "3I0XyXKj-FHS",
        "outputId": "70526656-9978-40f6-ad2d-df274b57bbcf"
      },
      "outputs": [
        {
          "data": {
            "text/plain": [
              "[['4', 'Book A', '2'],\n",
              " ['5', 'Book B', '8'],\n",
              " ['6', 'Book C', '1'],\n",
              " ['7', 'Book B', '6'],\n",
              " ['2', 'Book B', '15'],\n",
              " ['3', 'Book A', '2'],\n",
              " ['4', 'Book C', '7'],\n",
              " ['5', 'Book A', '1'],\n",
              " ['5', 'Book C', '4'],\n",
              " ['6', 'Book A', '3'],\n",
              " ['7', 'Book B', '9'],\n",
              " ['8', 'Book C', '11']]"
            ]
          },
          "execution_count": 10,
          "metadata": {},
          "output_type": "execute_result"
        }
      ],
      "source": [
        "# Quedandome con las palabras\n",
        "data = [linea.split('\\t') for linea in data]\n",
        "data"
      ]
    },
    {
      "cell_type": "code",
      "execution_count": null,
      "metadata": {
        "id": "ZAnDaEtq-FHT",
        "outputId": "0022ecdc-0887-4c29-b455-baac980d1c0e"
      },
      "outputs": [
        {
          "name": "stdout",
          "output_type": "stream",
          "text": [
            "['4', 'Book A', '2']\n",
            "4\n",
            "Book A\n",
            "2\n",
            "['5', 'Book B', '8']\n",
            "5\n",
            "Book B\n",
            "8\n",
            "['6', 'Book C', '1']\n",
            "6\n",
            "Book C\n",
            "1\n",
            "['7', 'Book B', '6']\n",
            "7\n",
            "Book B\n",
            "6\n",
            "['2', 'Book B', '15']\n",
            "2\n",
            "Book B\n",
            "15\n",
            "['3', 'Book A', '2']\n",
            "3\n",
            "Book A\n",
            "2\n",
            "['4', 'Book C', '7']\n",
            "4\n",
            "Book C\n",
            "7\n",
            "['5', 'Book A', '1']\n",
            "5\n",
            "Book A\n",
            "1\n",
            "['5', 'Book C', '4']\n",
            "5\n",
            "Book C\n",
            "4\n",
            "['6', 'Book A', '3']\n",
            "6\n",
            "Book A\n",
            "3\n",
            "['7', 'Book B', '9']\n",
            "7\n",
            "Book B\n",
            "9\n",
            "['8', 'Book C', '11']\n",
            "8\n",
            "Book C\n",
            "11\n"
          ]
        }
      ],
      "source": [
        "# Mostrando la data\n",
        "for linea in data:\n",
        "    print(linea)\n",
        "    for palabra in linea:\n",
        "        print(palabra)"
      ]
    },
    {
      "cell_type": "code",
      "execution_count": null,
      "metadata": {
        "id": "-b7KE58i-FHT",
        "outputId": "847be269-e677-4826-e595-78522ef0f747"
      },
      "outputs": [
        {
          "name": "stdout",
          "output_type": "stream",
          "text": [
            "['4', 'Book A', '2']\n",
            "['5', 'Book B', '8']\n",
            "['6', 'Book C', '1']\n",
            "['7', 'Book B', '6']\n",
            "['2', 'Book B', '15']\n",
            "['3', 'Book A', '2']\n",
            "['4', 'Book C', '7']\n",
            "['5', 'Book A', '1']\n",
            "['5', 'Book C', '4']\n",
            "['6', 'Book A', '3']\n",
            "['7', 'Book B', '9']\n",
            "['8', 'Book C', '11']\n"
          ]
        },
        {
          "data": {
            "text/plain": [
              "['Book A|2',\n",
              " 'Book B|8',\n",
              " 'Book C|1',\n",
              " 'Book B|6',\n",
              " 'Book B|15',\n",
              " 'Book A|2',\n",
              " 'Book C|7',\n",
              " 'Book A|1',\n",
              " 'Book C|4',\n",
              " 'Book A|3',\n",
              " 'Book B|9',\n",
              " 'Book C|11']"
            ]
          },
          "execution_count": 14,
          "metadata": {},
          "output_type": "execute_result"
        }
      ],
      "source": [
        "# Generando nuestros pares de clave - valor (map)\n",
        "dataMap = []\n",
        "for linea in data:\n",
        "    print(linea)\n",
        "    llave = linea[1]\n",
        "    valor = linea[2]\n",
        "    dataMap.append(llave + '|' + valor)\n",
        "dataMap"
      ]
    },
    {
      "cell_type": "code",
      "execution_count": null,
      "metadata": {
        "id": "ZpRske-K-FHU",
        "outputId": "46942fa8-634e-46a0-836a-2cc88dd7ee61"
      },
      "outputs": [
        {
          "data": {
            "text/plain": [
              "['Book A|1',\n",
              " 'Book A|2',\n",
              " 'Book A|2',\n",
              " 'Book A|3',\n",
              " 'Book B|15',\n",
              " 'Book B|6',\n",
              " 'Book B|8',\n",
              " 'Book B|9',\n",
              " 'Book C|1',\n",
              " 'Book C|11',\n",
              " 'Book C|4',\n",
              " 'Book C|7']"
            ]
          },
          "execution_count": 15,
          "metadata": {},
          "output_type": "execute_result"
        }
      ],
      "source": [
        "# Ordenando la data (shuffle)\n",
        "dataMap.sort()\n",
        "dataMap"
      ]
    },
    {
      "cell_type": "code",
      "execution_count": null,
      "metadata": {
        "id": "cd1fCBuM-FHV",
        "outputId": "80e6c7e6-e03e-4d4e-de2e-c4e3f97fa5c5"
      },
      "outputs": [
        {
          "name": "stdout",
          "output_type": "stream",
          "text": [
            "Book A|1\n",
            "Book A|2\n",
            "Book A|2\n",
            "Book A|3\n",
            "Book B|15\n",
            "Book B|6\n",
            "Book B|8\n",
            "Book B|9\n",
            "Book C|1\n",
            "Book C|11\n",
            "Book C|4\n",
            "Book C|7\n"
          ]
        }
      ],
      "source": [
        "# Mostrando los pares de clave - valor\n",
        "for par in dataMap:\n",
        "    print(par)"
      ]
    },
    {
      "cell_type": "code",
      "execution_count": null,
      "metadata": {
        "id": "rq7eqnrO-FHV",
        "outputId": "e7a0029a-a80d-490a-fb14-77d3582dd749"
      },
      "outputs": [
        {
          "name": "stdout",
          "output_type": "stream",
          "text": [
            "Book A 1\n",
            "Book A 2\n",
            "Book A 2\n",
            "Book A 3\n",
            "Book B 15\n",
            "Book B 6\n",
            "Book B 8\n",
            "Book B 9\n",
            "Book C 1\n",
            "Book C 11\n",
            "Book C 4\n",
            "Book C 7\n"
          ]
        }
      ],
      "source": [
        "# Reduciendo los pares de clave valor (reduce)\n",
        "dictResultado = {}\n",
        "for par in dataMap:\n",
        "    llave, valor = par.split('|')\n",
        "    print(llave, valor)\n",
        "    dictResultado[llave] = dictResultado.get(llave, 0) + int(valor)"
      ]
    },
    {
      "cell_type": "code",
      "execution_count": null,
      "metadata": {
        "id": "QcxFt_V3-FHX",
        "outputId": "e3c007b0-9525-48e7-cba5-f369d6ed4459"
      },
      "outputs": [
        {
          "data": {
            "text/plain": [
              "{'Book A': 8, 'Book B': 38, 'Book C': 23}"
            ]
          },
          "execution_count": 18,
          "metadata": {},
          "output_type": "execute_result"
        }
      ],
      "source": [
        "# Mostrando el resultado\n",
        "dictResultado"
      ]
    }
  ],
  "metadata": {
    "interpreter": {
      "hash": "6c68c24c9f6dc6214c1cb1fe145e14906af977bf87c30f07fe886d1925d8ed5f"
    },
    "kernelspec": {
      "display_name": "Python 3.8.3 64-bit",
      "language": "python",
      "name": "python3"
    },
    "language_info": {
      "codemirror_mode": {
        "name": "ipython",
        "version": 3
      },
      "file_extension": ".py",
      "mimetype": "text/x-python",
      "name": "python",
      "nbconvert_exporter": "python",
      "pygments_lexer": "ipython3",
      "version": "3.8.3"
    },
    "orig_nbformat": 4,
    "colab": {
      "name": "map_reduce_02.ipynb",
      "provenance": [],
      "include_colab_link": true
    }
  },
  "nbformat": 4,
  "nbformat_minor": 0
}