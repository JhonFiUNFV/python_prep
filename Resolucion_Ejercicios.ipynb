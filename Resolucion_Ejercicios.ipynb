{
  "nbformat": 4,
  "nbformat_minor": 0,
  "metadata": {
    "colab": {
      "name": "Resolucion_Ejercicios.ipynb",
      "provenance": [],
      "collapsed_sections": [],
      "include_colab_link": true
    },
    "kernelspec": {
      "name": "python3",
      "display_name": "Python 3"
    }
  },
  "cells": [
    {
      "cell_type": "markdown",
      "metadata": {
        "id": "view-in-github",
        "colab_type": "text"
      },
      "source": [
        "<a href=\"https://colab.research.google.com/github/JhonFiUNFV/python_prep/blob/master/Resolucion_Ejercicios.ipynb\" target=\"_parent\"><img src=\"https://colab.research.google.com/assets/colab-badge.svg\" alt=\"Open In Colab\"/></a>"
      ]
    },
    {
      "cell_type": "code",
      "metadata": {
        "id": "mVQlLqtnrhjN",
        "outputId": "3e29b855-e40d-4615-8c51-0342ffb848f9",
        "colab": {
          "base_uri": "https://localhost:8080/"
        }
      },
      "source": [
        "# Descargamos spark con hadoop y Java\n",
        "!apt-get update # Actualizar el gestor de paquetes de Linux\n",
        "!apt-get install openjdk-8-jdk-headless -qq > /dev/null # Descargar Java\n",
        "!wget -q https://dlcdn.apache.org/spark/spark-2.4.8/spark-2.4.8-bin-hadoop2.7.tgz # Descargar Apache Spark\n",
        "!tar xf spark-2.4.8-bin-hadoop2.7.tgz #Descomprimir Spark\n",
        "!pip install -q findspark # Para Utilizar Spark"
      ],
      "execution_count": 1,
      "outputs": [
        {
          "output_type": "stream",
          "name": "stdout",
          "text": [
            "Get:1 https://cloud.r-project.org/bin/linux/ubuntu bionic-cran40/ InRelease [3,626 B]\n",
            "Hit:2 https://developer.download.nvidia.com/compute/cuda/repos/ubuntu1804/x86_64  InRelease\n",
            "Get:3 https://cloud.r-project.org/bin/linux/ubuntu bionic-cran40/ Packages [84.8 kB]\n",
            "Hit:4 http://archive.ubuntu.com/ubuntu bionic InRelease\n",
            "Ign:5 https://developer.download.nvidia.com/compute/machine-learning/repos/ubuntu1804/x86_64  InRelease\n",
            "Hit:6 https://developer.download.nvidia.com/compute/machine-learning/repos/ubuntu1804/x86_64  Release\n",
            "Get:7 http://security.ubuntu.com/ubuntu bionic-security InRelease [88.7 kB]\n",
            "Get:8 http://archive.ubuntu.com/ubuntu bionic-updates InRelease [88.7 kB]\n",
            "Get:9 http://ppa.launchpad.net/c2d4u.team/c2d4u4.0+/ubuntu bionic InRelease [15.9 kB]\n",
            "Get:11 http://archive.ubuntu.com/ubuntu bionic-backports InRelease [74.6 kB]\n",
            "Hit:12 http://ppa.launchpad.net/cran/libgit2/ubuntu bionic InRelease\n",
            "Get:13 http://archive.ubuntu.com/ubuntu bionic-updates/main amd64 Packages [3,167 kB]\n",
            "Get:14 http://security.ubuntu.com/ubuntu bionic-security/universe amd64 Packages [1,496 kB]\n",
            "Hit:15 http://ppa.launchpad.net/deadsnakes/ppa/ubuntu bionic InRelease\n",
            "Hit:16 http://ppa.launchpad.net/graphics-drivers/ppa/ubuntu bionic InRelease\n",
            "Get:17 http://archive.ubuntu.com/ubuntu bionic-updates/universe amd64 Packages [2,272 kB]\n",
            "Get:18 http://security.ubuntu.com/ubuntu bionic-security/main amd64 Packages [2,733 kB]\n",
            "Get:19 http://ppa.launchpad.net/c2d4u.team/c2d4u4.0+/ubuntu bionic/main Sources [1,953 kB]\n",
            "Get:20 http://ppa.launchpad.net/c2d4u.team/c2d4u4.0+/ubuntu bionic/main amd64 Packages [1,001 kB]\n",
            "Fetched 13.0 MB in 7s (1,825 kB/s)\n",
            "Reading package lists... Done\n"
          ]
        }
      ]
    },
    {
      "cell_type": "code",
      "metadata": {
        "id": "KuwpSO7qr1sT"
      },
      "source": [
        "# Seteamos las variables de entorno\n",
        "import os\n",
        "os.environ[\"JAVA_HOME\"] = \"/usr/lib/jvm/java-8-openjdk-amd64\"\n",
        "os.environ[\"SPARK_HOME\"] = \"/content/spark-2.4.8-bin-hadoop2.7\""
      ],
      "execution_count": 2,
      "outputs": []
    },
    {
      "cell_type": "code",
      "metadata": {
        "id": "sow2Ksior1xJ"
      },
      "source": [
        "# Creamos la conexion a Spark \n",
        "import findspark\n",
        "findspark.init()\n",
        "from pyspark.sql import SparkSession\n",
        "spark = SparkSession.builder.master(\"local[*]\").getOrCreate()"
      ],
      "execution_count": 3,
      "outputs": []
    },
    {
      "cell_type": "code",
      "metadata": {
        "id": "irP5b2ZLr6MO",
        "outputId": "aa1cf0b7-85a7-4bb4-9a98-94230e0638a3",
        "colab": {
          "base_uri": "https://localhost:8080/",
          "height": 219
        }
      },
      "source": [
        "spark"
      ],
      "execution_count": 4,
      "outputs": [
        {
          "output_type": "execute_result",
          "data": {
            "text/plain": [
              "<pyspark.sql.session.SparkSession at 0x7fc05ebe4490>"
            ],
            "text/html": [
              "\n",
              "            <div>\n",
              "                <p><b>SparkSession - in-memory</b></p>\n",
              "                \n",
              "        <div>\n",
              "            <p><b>SparkContext</b></p>\n",
              "\n",
              "            <p><a href=\"http://1742c5537252:4040\">Spark UI</a></p>\n",
              "\n",
              "            <dl>\n",
              "              <dt>Version</dt>\n",
              "                <dd><code>v2.4.8</code></dd>\n",
              "              <dt>Master</dt>\n",
              "                <dd><code>local[*]</code></dd>\n",
              "              <dt>AppName</dt>\n",
              "                <dd><code>pyspark-shell</code></dd>\n",
              "            </dl>\n",
              "        </div>\n",
              "        \n",
              "            </div>\n",
              "        "
            ]
          },
          "metadata": {},
          "execution_count": 4
        }
      ]
    },
    {
      "cell_type": "code",
      "metadata": {
        "id": "HnBoMlFyr7UF"
      },
      "source": [
        "# Librerias Spark\n",
        "from pyspark.sql import functions as F\n",
        "\n",
        "#Librerias Python\n",
        "import pandas as pd"
      ],
      "execution_count": 5,
      "outputs": []
    },
    {
      "cell_type": "code",
      "source": [
        "from google.colab import drive\n",
        "drive.mount('/content/drive')"
      ],
      "metadata": {
        "id": "BfZs5whbfie6",
        "outputId": "1ae911c9-dfe3-4f28-986d-ce7f7162e2be",
        "colab": {
          "base_uri": "https://localhost:8080/"
        }
      },
      "execution_count": 6,
      "outputs": [
        {
          "output_type": "stream",
          "name": "stdout",
          "text": [
            "Mounted at /content/drive\n"
          ]
        }
      ]
    },
    {
      "cell_type": "code",
      "source": [
        "ruta = \"/content/drive/MyDrive/Data/Data_2/\""
      ],
      "metadata": {
        "id": "v_P54f06fiSe"
      },
      "execution_count": 7,
      "outputs": []
    },
    {
      "cell_type": "markdown",
      "metadata": {
        "id": "NdTzhksTsCb8"
      },
      "source": [
        "# Importacion de los datos"
      ]
    },
    {
      "cell_type": "code",
      "metadata": {
        "id": "JoMIL8Csuibj",
        "outputId": "0e95380b-1390-4d83-fe7f-6811d8cf887a",
        "colab": {
          "base_uri": "https://localhost:8080/"
        }
      },
      "source": [
        "# Importando los datos del banco\n",
        "dfBanco = spark.read.csv(ruta  + 'bank.csv', header = True, inferSchema = True)\n",
        "dfBanco.show()"
      ],
      "execution_count": 8,
      "outputs": [
        {
          "output_type": "stream",
          "name": "stdout",
          "text": [
            "+---+---+------+----------+------------+-------+-------+-------+----+----------+---+-----+--------+--------+-----+--------+-----------+------+\n",
            "| ID|age|job_id|id_marital|id_education|default|balance|housing|loan|id_contact|day|month|duration|campaign|pdays|previous|id_poutcome|target|\n",
            "+---+---+------+----------+------------+-------+-------+-------+----+----------+---+-----+--------+--------+-----+--------+-----------+------+\n",
            "|  1| 30|     1|         M|           P|     no|   1787|     no|  no|         C| 19|  oct|      79|       1|   -1|       0|          U|    no|\n",
            "|  2| 33|     2|         M|           S|     no|   4789|    yes| yes|         C| 11|  may|     220|       1|  339|       4|          F|    no|\n",
            "|  3| 35|     3|         S|           T|     no|   1350|    yes|  no|         C| 16|  apr|     185|       1|  330|       1|          F|    no|\n",
            "|  4| 30|     3|         M|           T|     no|   1476|    yes| yes|         U|  3|  jun|     199|       4|   -1|       0|          U|    no|\n",
            "|  5| 59|     4|         M|           S|     no|      0|    yes|  no|         U|  5|  may|     226|       1|   -1|       0|          U|    no|\n",
            "|  6| 35|     3|         S|           T|     no|    747|     no|  no|         C| 23|  feb|     141|       2|  176|       3|          F|    no|\n",
            "|  7| 36|     5|         M|           T|     no|    307|    yes|  no|         C| 14|  may|     341|       1|  330|       2|          O|    no|\n",
            "|  8| 39|     6|         M|           S|     no|    147|    yes|  no|         C|  6|  may|     151|       2|   -1|       0|          U|    no|\n",
            "|  9| 41|     7|         M|           T|     no|    221|    yes|  no|         U| 14|  may|      57|       2|   -1|       0|          U|    no|\n",
            "| 10| 43|     2|         M|           P|     no|    -88|    yes| yes|         C| 17|  apr|     313|       1|  147|       2|          F|    no|\n",
            "| 11| 39|     2|         M|           S|     no|   9374|    yes|  no|         U| 20|  may|     273|       1|   -1|       0|          U|    no|\n",
            "| 12| 43|     8|         M|           S|     no|    264|    yes|  no|         C| 17|  apr|     113|       2|   -1|       0|          U|    no|\n",
            "| 13| 36|     6|         M|           T|     no|   1109|     no|  no|         C| 13|  aug|     328|       2|   -1|       0|          U|    no|\n",
            "| 14| 20|     9|         S|           S|     no|    502|     no|  no|         C| 30|  apr|     261|       1|   -1|       0|          U|   yes|\n",
            "| 15| 31|     4|         M|           S|     no|    360|    yes| yes|         C| 29|  jan|      89|       1|  241|       1|          F|    no|\n",
            "| 16| 40|     3|         M|           T|     no|    194|     no| yes|         C| 29|  aug|     189|       2|   -1|       0|          U|    no|\n",
            "| 17| 56|     6|         M|           S|     no|   4073|     no|  no|         C| 27|  aug|     239|       5|   -1|       0|          U|    no|\n",
            "| 18| 37|     8|         S|           T|     no|   2317|    yes|  no|         C| 20|  apr|     114|       1|  152|       2|          F|    no|\n",
            "| 19| 25|     4|         S|           P|     no|   -221|    yes|  no|         U| 23|  may|     250|       1|   -1|       0|          U|    no|\n",
            "| 20| 31|     2|         M|           S|     no|    132|     no|  no|         C|  7|  jul|     148|       1|  152|       1|          O|    no|\n",
            "+---+---+------+----------+------------+-------+-------+-------+----+----------+---+-----+--------+--------+-----+--------+-----------+------+\n",
            "only showing top 20 rows\n",
            "\n"
          ]
        }
      ]
    },
    {
      "cell_type": "code",
      "metadata": {
        "id": "7qdqoTUbvo1f",
        "outputId": "89f885c1-c205-41ab-fb60-f6be3882b56c",
        "colab": {
          "base_uri": "https://localhost:8080/"
        }
      },
      "source": [
        "# Importando los datos del contacto\n",
        "dfContacto = spark.read.csv(ruta  + 'contact.txt', header = True, inferSchema = True)\n",
        "dfContacto.show()"
      ],
      "execution_count": 9,
      "outputs": [
        {
          "output_type": "stream",
          "name": "stdout",
          "text": [
            "+----------+---------+\n",
            "|id_contact|  contact|\n",
            "+----------+---------+\n",
            "|         C| cellular|\n",
            "|         U|  unknown|\n",
            "|         T|telephone|\n",
            "+----------+---------+\n",
            "\n"
          ]
        }
      ]
    },
    {
      "cell_type": "code",
      "metadata": {
        "id": "aIOX34JfvuW9",
        "outputId": "7f35a8bb-a8dd-43ce-c7ef-62dc29f8c02c",
        "colab": {
          "base_uri": "https://localhost:8080/"
        }
      },
      "source": [
        "# Importando los datos del educacion\n",
        "dfEducacion = spark.read.csv(ruta  + 'education.txt',sep=';', header = True, inferSchema = True)\n",
        "dfEducacion.show()"
      ],
      "execution_count": 10,
      "outputs": [
        {
          "output_type": "stream",
          "name": "stdout",
          "text": [
            "+------------+---------+\n",
            "|id_education|education|\n",
            "+------------+---------+\n",
            "|           P|  primary|\n",
            "|           S|secondary|\n",
            "|           T| tertiary|\n",
            "|           U|  unknown|\n",
            "+------------+---------+\n",
            "\n"
          ]
        }
      ]
    },
    {
      "cell_type": "code",
      "metadata": {
        "id": "xnSsImmkv2ux",
        "outputId": "f17c320d-99aa-4b97-bd1f-cca40fde4445",
        "colab": {
          "base_uri": "https://localhost:8080/"
        }
      },
      "source": [
        "# Importando los datos del trabajo\n",
        "dfTrabajo = spark.read.csv(ruta  + 'job.tsv',sep='\\t', header = True, inferSchema = True)\n",
        "dfTrabajo.show()"
      ],
      "execution_count": 11,
      "outputs": [
        {
          "output_type": "stream",
          "name": "stdout",
          "text": [
            "+------+-------------+\n",
            "|job_id|          job|\n",
            "+------+-------------+\n",
            "|     1|   unemployed|\n",
            "|     2|     services|\n",
            "|     3|   management|\n",
            "|     4|  blue-collar|\n",
            "|     5|self-employed|\n",
            "|     6|   technician|\n",
            "|     7| entrepreneur|\n",
            "|     8|       admin.|\n",
            "|     9|      student|\n",
            "|    10|    housemaid|\n",
            "|    11|      retired|\n",
            "|    12|      unknown|\n",
            "+------+-------------+\n",
            "\n"
          ]
        }
      ]
    },
    {
      "cell_type": "code",
      "metadata": {
        "id": "ZSmnnXVAvych",
        "outputId": "b0f536ee-696a-4dfc-c2cd-227a567c2937",
        "colab": {
          "base_uri": "https://localhost:8080/"
        }
      },
      "source": [
        "# Importando los datos del matrimonio\n",
        "dfMarital = spark.read.csv(ruta  + 'marital.txt',sep='|', header = True, inferSchema = True)\n",
        "dfMarital.show()"
      ],
      "execution_count": 12,
      "outputs": [
        {
          "output_type": "stream",
          "name": "stdout",
          "text": [
            "+----------+--------+\n",
            "|id_marital| marital|\n",
            "+----------+--------+\n",
            "|         M| married|\n",
            "|         S|  single|\n",
            "|         D|divorced|\n",
            "+----------+--------+\n",
            "\n"
          ]
        }
      ]
    },
    {
      "cell_type": "code",
      "metadata": {
        "id": "MPxcZ9ePv5uA",
        "outputId": "fd949737-2d4f-4502-c93c-97746deb4fe1",
        "colab": {
          "base_uri": "https://localhost:8080/"
        }
      },
      "source": [
        "# Importando los datos del gastos\n",
        "dfGasto = spark.read.csv(ruta  + 'poutcome.txt',sep=':', header = True, inferSchema = True)\n",
        "dfGasto.show()"
      ],
      "execution_count": 13,
      "outputs": [
        {
          "output_type": "stream",
          "name": "stdout",
          "text": [
            "+-----------+--------+\n",
            "|id_poutcome|poutcome|\n",
            "+-----------+--------+\n",
            "|          U| unknown|\n",
            "|          F| failure|\n",
            "|          O|   other|\n",
            "|          S| success|\n",
            "+-----------+--------+\n",
            "\n"
          ]
        }
      ]
    },
    {
      "cell_type": "markdown",
      "metadata": {
        "id": "ptKSIvU7y0gw"
      },
      "source": [
        "# Ejercicio 2\n",
        "2)\tDesarrolle una consulta que muestre el ID, la edad (age) y el balance de la tabla bank ordenada por edad de menor a mayor y por balance de mayor a menor."
      ]
    },
    {
      "cell_type": "code",
      "metadata": {
        "id": "Cj8uAIu4PMVR",
        "outputId": "093ea0d0-67e0-4999-efbe-41cc233b9e15",
        "colab": {
          "base_uri": "https://localhost:8080/"
        }
      },
      "source": [
        "dfBanco.select(F.col('ID'), F.col('age'), F.col('balance'))\\\n",
        ".sort(F.col('age').desc(), F.col('balance')).show()"
      ],
      "execution_count": 14,
      "outputs": [
        {
          "output_type": "stream",
          "name": "stdout",
          "text": [
            "+----+---+-------+\n",
            "|  ID|age|balance|\n",
            "+----+---+-------+\n",
            "|3312| 87|    230|\n",
            "|1867| 86|   1503|\n",
            "|4109| 84|    639|\n",
            "| 634| 83|      0|\n",
            "|4324| 83|      0|\n",
            "|1350| 83|    425|\n",
            "|4389| 83|   1097|\n",
            "| 574| 81|      1|\n",
            "|3691| 80|      0|\n",
            "|2849| 80|    462|\n",
            "|2897| 80|   1548|\n",
            "| 689| 80|   6483|\n",
            "|1313| 80|   8304|\n",
            "|2071| 80|   8304|\n",
            "|3361| 79|    429|\n",
            "|3751| 79|   2628|\n",
            "|1423| 79|   4738|\n",
            "|3203| 79|   8556|\n",
            "|1950| 78|    226|\n",
            "|  37| 78|    229|\n",
            "+----+---+-------+\n",
            "only showing top 20 rows\n",
            "\n"
          ]
        }
      ]
    },
    {
      "cell_type": "markdown",
      "metadata": {
        "id": "kYfxdLaE1npy"
      },
      "source": [
        "# Ejercicio 3\n",
        "Desarrolle una consulta que muestre el ID, el id_marital y la columna default de los registros cuyo valor de loan sea igual a “yes”. (Tabla: bank)"
      ]
    },
    {
      "cell_type": "code",
      "metadata": {
        "id": "_Gsyfwby1nyp",
        "outputId": "4d6fede2-5aa7-491b-988d-108abe3b78bd",
        "colab": {
          "base_uri": "https://localhost:8080/"
        }
      },
      "source": [
        "dfBanco.select('ID', 'id_marital', 'default', 'loan').where(F.col('loan')=='yes').show()"
      ],
      "execution_count": 15,
      "outputs": [
        {
          "output_type": "stream",
          "name": "stdout",
          "text": [
            "+---+----------+-------+----+\n",
            "| ID|id_marital|default|loan|\n",
            "+---+----------+-------+----+\n",
            "|  2|         M|     no| yes|\n",
            "|  4|         M|     no| yes|\n",
            "| 10|         M|     no| yes|\n",
            "| 15|         M|     no| yes|\n",
            "| 16|         M|     no| yes|\n",
            "| 29|         M|     no| yes|\n",
            "| 30|         M|     no| yes|\n",
            "| 49|         S|    yes| yes|\n",
            "| 57|         M|     no| yes|\n",
            "| 59|         S|     no| yes|\n",
            "| 60|         D|     no| yes|\n",
            "| 61|         M|     no| yes|\n",
            "| 69|         M|     no| yes|\n",
            "| 78|         S|     no| yes|\n",
            "| 83|         S|     no| yes|\n",
            "| 87|         S|     no| yes|\n",
            "|107|         M|     no| yes|\n",
            "|113|         M|     no| yes|\n",
            "|116|         S|     no| yes|\n",
            "|118|         S|     no| yes|\n",
            "+---+----------+-------+----+\n",
            "only showing top 20 rows\n",
            "\n"
          ]
        }
      ]
    },
    {
      "cell_type": "markdown",
      "metadata": {
        "id": "Wnz9am952fYo"
      },
      "source": [
        "# Ejercicio 4\n",
        "Desarrolle una consulta que muestre el job_id, la duracion (duration) y la campaña (campaign) de los registros cuyo valor de balan sea menor igual a 800 y los meses (month) sean igual a Julio y Diciembre. (Tabla: bank)"
      ]
    },
    {
      "cell_type": "code",
      "metadata": {
        "id": "JYB9-qEKVa5I",
        "outputId": "151fa45a-cd2c-4e8d-b7ad-86f043a5da98",
        "colab": {
          "base_uri": "https://localhost:8080/"
        }
      },
      "source": [
        "dfBanco.select('job_id', 'duration', 'campaign', 'balance', 'month')\\\n",
        "  .where((F.col('balance')<= 800) & (F.col('month').isin('jul', 'dec'))).show()"
      ],
      "execution_count": 16,
      "outputs": [
        {
          "output_type": "stream",
          "name": "stdout",
          "text": [
            "+------+--------+--------+-------+-----+\n",
            "|job_id|duration|campaign|balance|month|\n",
            "+------+--------+--------+-------+-----+\n",
            "|     2|     148|       1|    132|  jul|\n",
            "|     7|     125|       2|     93|  jul|\n",
            "|     5|     149|       2|    784|  jul|\n",
            "|     4|     554|       3|   -516|  jul|\n",
            "|     6|     130|       4|    444|  jul|\n",
            "|     3|     630|       3|      0|  jul|\n",
            "|     3|     268|       2|      0|  jul|\n",
            "|     8|     652|       1|    451|  jul|\n",
            "|     2|     398|       2|    657|  jul|\n",
            "|    10|     435|       3|      0|  jul|\n",
            "|     5|     317|       5|    217|  jul|\n",
            "|     4|     779|       2|   -231|  jul|\n",
            "|     6|      32|       3|    586|  jul|\n",
            "|     3|     455|       2|      0|  jul|\n",
            "|     3|     102|       3|    442|  jul|\n",
            "|     1|      92|       1|   -249|  jul|\n",
            "|     8|     166|       1|   -465|  jul|\n",
            "|     2|     333|       2|      0|  jul|\n",
            "|     4|      97|       6|      0|  jul|\n",
            "|     5|     543|      12|    215|  jul|\n",
            "+------+--------+--------+-------+-----+\n",
            "only showing top 20 rows\n",
            "\n"
          ]
        }
      ]
    },
    {
      "cell_type": "code",
      "source": [
        "dfBanco.select('job_id', 'duration', 'campaign', 'balance', 'month')\\\n",
        "  .where(\"balance <= 800 AND month IN ('jul', 'dec')\").show()"
      ],
      "metadata": {
        "id": "IS1OXsKcvjf-",
        "outputId": "1de33576-8b82-4ee5-c039-355fc46f3bfb",
        "colab": {
          "base_uri": "https://localhost:8080/"
        }
      },
      "execution_count": 17,
      "outputs": [
        {
          "output_type": "stream",
          "name": "stdout",
          "text": [
            "+------+--------+--------+-------+-----+\n",
            "|job_id|duration|campaign|balance|month|\n",
            "+------+--------+--------+-------+-----+\n",
            "|     2|     148|       1|    132|  jul|\n",
            "|     7|     125|       2|     93|  jul|\n",
            "|     5|     149|       2|    784|  jul|\n",
            "|     4|     554|       3|   -516|  jul|\n",
            "|     6|     130|       4|    444|  jul|\n",
            "|     3|     630|       3|      0|  jul|\n",
            "|     3|     268|       2|      0|  jul|\n",
            "|     8|     652|       1|    451|  jul|\n",
            "|     2|     398|       2|    657|  jul|\n",
            "|    10|     435|       3|      0|  jul|\n",
            "|     5|     317|       5|    217|  jul|\n",
            "|     4|     779|       2|   -231|  jul|\n",
            "|     6|      32|       3|    586|  jul|\n",
            "|     3|     455|       2|      0|  jul|\n",
            "|     3|     102|       3|    442|  jul|\n",
            "|     1|      92|       1|   -249|  jul|\n",
            "|     8|     166|       1|   -465|  jul|\n",
            "|     2|     333|       2|      0|  jul|\n",
            "|     4|      97|       6|      0|  jul|\n",
            "|     5|     543|      12|    215|  jul|\n",
            "+------+--------+--------+-------+-----+\n",
            "only showing top 20 rows\n",
            "\n"
          ]
        }
      ]
    },
    {
      "cell_type": "markdown",
      "metadata": {
        "id": "iFfE1BF356PZ"
      },
      "source": [
        "# Ejercicio 5\n",
        "Desarrolle una consulta que muestre la cantidad de registros agrupados por id_education y target. (Tabla: bank)"
      ]
    },
    {
      "cell_type": "code",
      "metadata": {
        "id": "kd629K5u5-2C",
        "outputId": "751f492b-b011-46e1-efc7-1d8f8e033be1",
        "colab": {
          "base_uri": "https://localhost:8080/"
        }
      },
      "source": [
        "dfBanco.groupby('id_education', 'target').count().show()"
      ],
      "execution_count": 18,
      "outputs": [
        {
          "output_type": "stream",
          "name": "stdout",
          "text": [
            "+------------+------+-----+\n",
            "|id_education|target|count|\n",
            "+------------+------+-----+\n",
            "|           P|    no|  614|\n",
            "|           U|   yes|   19|\n",
            "|           P|   yes|   64|\n",
            "|           S|    no| 2061|\n",
            "|           T|    no| 1157|\n",
            "|           S|   yes|  245|\n",
            "|           U|    no|  168|\n",
            "|           T|   yes|  193|\n",
            "+------------+------+-----+\n",
            "\n"
          ]
        }
      ]
    },
    {
      "cell_type": "code",
      "source": [
        "dfBanco.groupby('id_education', 'target').agg(F.count('*').alias('cuenta')).show()"
      ],
      "metadata": {
        "id": "HSFN0nBAxQiv",
        "outputId": "1fd38b39-dcc3-4c02-9add-5b7e262b1d7c",
        "colab": {
          "base_uri": "https://localhost:8080/"
        }
      },
      "execution_count": 19,
      "outputs": [
        {
          "output_type": "stream",
          "name": "stdout",
          "text": [
            "+------------+------+------+\n",
            "|id_education|target|cuenta|\n",
            "+------------+------+------+\n",
            "|           P|    no|   614|\n",
            "|           U|   yes|    19|\n",
            "|           P|   yes|    64|\n",
            "|           S|    no|  2061|\n",
            "|           T|    no|  1157|\n",
            "|           S|   yes|   245|\n",
            "|           U|    no|   168|\n",
            "|           T|   yes|   193|\n",
            "+------------+------+------+\n",
            "\n"
          ]
        }
      ]
    },
    {
      "cell_type": "markdown",
      "metadata": {
        "id": "BVfTXl5o6dMq"
      },
      "source": [
        "# Ejercicio 6\n",
        "Desarrolle una consulta que muestre la suma de las duraciones (duration) y el conteo de cada mes (month). (Tabla Bank)"
      ]
    },
    {
      "cell_type": "code",
      "source": [
        "dfBanco.show()"
      ],
      "metadata": {
        "id": "40SmjMVK0SM6",
        "outputId": "0c14aecc-d476-4b15-a03a-e989a54d6c50",
        "colab": {
          "base_uri": "https://localhost:8080/"
        }
      },
      "execution_count": 20,
      "outputs": [
        {
          "output_type": "stream",
          "name": "stdout",
          "text": [
            "+---+---+------+----------+------------+-------+-------+-------+----+----------+---+-----+--------+--------+-----+--------+-----------+------+\n",
            "| ID|age|job_id|id_marital|id_education|default|balance|housing|loan|id_contact|day|month|duration|campaign|pdays|previous|id_poutcome|target|\n",
            "+---+---+------+----------+------------+-------+-------+-------+----+----------+---+-----+--------+--------+-----+--------+-----------+------+\n",
            "|  1| 30|     1|         M|           P|     no|   1787|     no|  no|         C| 19|  oct|      79|       1|   -1|       0|          U|    no|\n",
            "|  2| 33|     2|         M|           S|     no|   4789|    yes| yes|         C| 11|  may|     220|       1|  339|       4|          F|    no|\n",
            "|  3| 35|     3|         S|           T|     no|   1350|    yes|  no|         C| 16|  apr|     185|       1|  330|       1|          F|    no|\n",
            "|  4| 30|     3|         M|           T|     no|   1476|    yes| yes|         U|  3|  jun|     199|       4|   -1|       0|          U|    no|\n",
            "|  5| 59|     4|         M|           S|     no|      0|    yes|  no|         U|  5|  may|     226|       1|   -1|       0|          U|    no|\n",
            "|  6| 35|     3|         S|           T|     no|    747|     no|  no|         C| 23|  feb|     141|       2|  176|       3|          F|    no|\n",
            "|  7| 36|     5|         M|           T|     no|    307|    yes|  no|         C| 14|  may|     341|       1|  330|       2|          O|    no|\n",
            "|  8| 39|     6|         M|           S|     no|    147|    yes|  no|         C|  6|  may|     151|       2|   -1|       0|          U|    no|\n",
            "|  9| 41|     7|         M|           T|     no|    221|    yes|  no|         U| 14|  may|      57|       2|   -1|       0|          U|    no|\n",
            "| 10| 43|     2|         M|           P|     no|    -88|    yes| yes|         C| 17|  apr|     313|       1|  147|       2|          F|    no|\n",
            "| 11| 39|     2|         M|           S|     no|   9374|    yes|  no|         U| 20|  may|     273|       1|   -1|       0|          U|    no|\n",
            "| 12| 43|     8|         M|           S|     no|    264|    yes|  no|         C| 17|  apr|     113|       2|   -1|       0|          U|    no|\n",
            "| 13| 36|     6|         M|           T|     no|   1109|     no|  no|         C| 13|  aug|     328|       2|   -1|       0|          U|    no|\n",
            "| 14| 20|     9|         S|           S|     no|    502|     no|  no|         C| 30|  apr|     261|       1|   -1|       0|          U|   yes|\n",
            "| 15| 31|     4|         M|           S|     no|    360|    yes| yes|         C| 29|  jan|      89|       1|  241|       1|          F|    no|\n",
            "| 16| 40|     3|         M|           T|     no|    194|     no| yes|         C| 29|  aug|     189|       2|   -1|       0|          U|    no|\n",
            "| 17| 56|     6|         M|           S|     no|   4073|     no|  no|         C| 27|  aug|     239|       5|   -1|       0|          U|    no|\n",
            "| 18| 37|     8|         S|           T|     no|   2317|    yes|  no|         C| 20|  apr|     114|       1|  152|       2|          F|    no|\n",
            "| 19| 25|     4|         S|           P|     no|   -221|    yes|  no|         U| 23|  may|     250|       1|   -1|       0|          U|    no|\n",
            "| 20| 31|     2|         M|           S|     no|    132|     no|  no|         C|  7|  jul|     148|       1|  152|       1|          O|    no|\n",
            "+---+---+------+----------+------------+-------+-------+-------+----+----------+---+-----+--------+--------+-----+--------+-----------+------+\n",
            "only showing top 20 rows\n",
            "\n"
          ]
        }
      ]
    },
    {
      "cell_type": "code",
      "metadata": {
        "id": "UwdcON7P6cUV",
        "outputId": "310adf2f-9ac5-42f6-b543-29bd1bc75b08",
        "colab": {
          "base_uri": "https://localhost:8080/"
        }
      },
      "source": [
        "dfBanco.groupby('month').agg(F.count('*').alias('registros'), F.sum('duration').alias('Duracion_Total')).show()"
      ],
      "execution_count": 21,
      "outputs": [
        {
          "output_type": "stream",
          "name": "stdout",
          "text": [
            "+-----+---------+--------------+\n",
            "|month|registros|Duracion_Total|\n",
            "+-----+---------+--------------+\n",
            "|  jun|      531|        134038|\n",
            "|  aug|      633|        154289|\n",
            "|  may|     1398|        373708|\n",
            "|  feb|      222|         56765|\n",
            "|  sep|       52|         11218|\n",
            "|  mar|       49|          9746|\n",
            "|  oct|       80|         21824|\n",
            "|  jul|      706|        191471|\n",
            "|  nov|      389|        105834|\n",
            "|  apr|      293|         86246|\n",
            "|  dec|       20|          8338|\n",
            "|  jan|      148|         39892|\n",
            "+-----+---------+--------------+\n",
            "\n"
          ]
        }
      ]
    },
    {
      "cell_type": "markdown",
      "metadata": {
        "id": "cckFg1nn7BLJ"
      },
      "source": [
        "# Ejercico 7\n",
        "Desarrole una consulta que muestre el trabajo (job), la columna housing y los dias (day) de los registros cuyo id_contact se igual a ‘C’. (tablas: bank y job)"
      ]
    },
    {
      "cell_type": "code",
      "metadata": {
        "id": "K7AYOZ7U7AkJ",
        "outputId": "91ca1312-be61-4f5a-ba80-229d23db0d49",
        "colab": {
          "base_uri": "https://localhost:8080/"
        }
      },
      "source": [
        "dfBanco.alias('A').join(dfTrabajo.alias('B'), on=[\"job_id\"])\\\n",
        "  .select(F.col('B.job'), F.col('A.housing'), F.col('A.campaign'), F.col('A.id_contact'))\\\n",
        "  .where(\"A.id_contact = 'C'\").show()"
      ],
      "execution_count": 22,
      "outputs": [
        {
          "output_type": "stream",
          "name": "stdout",
          "text": [
            "+-------------+-------+--------+----------+\n",
            "|          job|housing|campaign|id_contact|\n",
            "+-------------+-------+--------+----------+\n",
            "|   unemployed|     no|       1|         C|\n",
            "|     services|    yes|       1|         C|\n",
            "|   management|    yes|       1|         C|\n",
            "|   management|     no|       2|         C|\n",
            "|self-employed|    yes|       1|         C|\n",
            "|   technician|    yes|       2|         C|\n",
            "|     services|    yes|       1|         C|\n",
            "|       admin.|    yes|       2|         C|\n",
            "|   technician|     no|       2|         C|\n",
            "|      student|     no|       1|         C|\n",
            "|  blue-collar|    yes|       1|         C|\n",
            "|   management|     no|       2|         C|\n",
            "|   technician|     no|       5|         C|\n",
            "|       admin.|    yes|       1|         C|\n",
            "|     services|     no|       1|         C|\n",
            "|   management|    yes|       2|         C|\n",
            "|   management|     no|       3|         C|\n",
            "| entrepreneur|     no|       2|         C|\n",
            "|    housemaid|     no|       3|         C|\n",
            "|   management|     no|       2|         C|\n",
            "+-------------+-------+--------+----------+\n",
            "only showing top 20 rows\n",
            "\n"
          ]
        }
      ]
    },
    {
      "cell_type": "code",
      "source": [
        "dfBanco.alias('A').join(dfTrabajo.alias('B'), on=[\"job_id\"])\\\n",
        "  .select(F.col('B.job'), F.col('A.housing'), F.col('A.campaign'), F.col('A.id_contact'))\\\n",
        "  .where(F.col(\"A.id_contact\") == 'C').show()"
      ],
      "metadata": {
        "id": "kpTHvh0VAkNz",
        "outputId": "db8cd224-c9dc-4ba3-8017-7d0f9f3c4618",
        "colab": {
          "base_uri": "https://localhost:8080/"
        }
      },
      "execution_count": 23,
      "outputs": [
        {
          "output_type": "stream",
          "name": "stdout",
          "text": [
            "+-------------+-------+--------+----------+\n",
            "|          job|housing|campaign|id_contact|\n",
            "+-------------+-------+--------+----------+\n",
            "|   unemployed|     no|       1|         C|\n",
            "|     services|    yes|       1|         C|\n",
            "|   management|    yes|       1|         C|\n",
            "|   management|     no|       2|         C|\n",
            "|self-employed|    yes|       1|         C|\n",
            "|   technician|    yes|       2|         C|\n",
            "|     services|    yes|       1|         C|\n",
            "|       admin.|    yes|       2|         C|\n",
            "|   technician|     no|       2|         C|\n",
            "|      student|     no|       1|         C|\n",
            "|  blue-collar|    yes|       1|         C|\n",
            "|   management|     no|       2|         C|\n",
            "|   technician|     no|       5|         C|\n",
            "|       admin.|    yes|       1|         C|\n",
            "|     services|     no|       1|         C|\n",
            "|   management|    yes|       2|         C|\n",
            "|   management|     no|       3|         C|\n",
            "| entrepreneur|     no|       2|         C|\n",
            "|    housemaid|     no|       3|         C|\n",
            "|   management|     no|       2|         C|\n",
            "+-------------+-------+--------+----------+\n",
            "only showing top 20 rows\n",
            "\n"
          ]
        }
      ]
    },
    {
      "cell_type": "code",
      "source": [
        "dfBanco[['job_id', 'housing', 'day', 'id_contact']].join(dfTrabajo, on=[\"job_id\"])\\\n",
        "  .where(F.col(\"id_contact\") == 'C')[['job', 'housing', 'day']].show()"
      ],
      "metadata": {
        "id": "KjdghzGaBXVa",
        "outputId": "107c0a44-49ee-4cfa-b38a-9857dfdc92d6",
        "colab": {
          "base_uri": "https://localhost:8080/"
        }
      },
      "execution_count": 24,
      "outputs": [
        {
          "output_type": "stream",
          "name": "stdout",
          "text": [
            "+-------------+-------+---+\n",
            "|          job|housing|day|\n",
            "+-------------+-------+---+\n",
            "|   unemployed|     no| 19|\n",
            "|     services|    yes| 11|\n",
            "|   management|    yes| 16|\n",
            "|   management|     no| 23|\n",
            "|self-employed|    yes| 14|\n",
            "|   technician|    yes|  6|\n",
            "|     services|    yes| 17|\n",
            "|       admin.|    yes| 17|\n",
            "|   technician|     no| 13|\n",
            "|      student|     no| 30|\n",
            "|  blue-collar|    yes| 29|\n",
            "|   management|     no| 29|\n",
            "|   technician|     no| 27|\n",
            "|       admin.|    yes| 20|\n",
            "|     services|     no|  7|\n",
            "|   management|    yes| 18|\n",
            "|   management|     no| 19|\n",
            "| entrepreneur|     no|  7|\n",
            "|    housemaid|     no| 30|\n",
            "|   management|     no| 20|\n",
            "+-------------+-------+---+\n",
            "only showing top 20 rows\n",
            "\n"
          ]
        }
      ]
    },
    {
      "cell_type": "markdown",
      "metadata": {
        "id": "y9gGmex27Gts"
      },
      "source": [
        "# Ejercicio 8\n",
        "Desarrole una consulta que muestre el estado civil (marital), nivel de educación (education) y la edad (age) de los registros cuyo estado civil sea solteros (single) y su educación sea mayor a la secundaria (education = tertiary). (Tablas: bank, marital y education)"
      ]
    },
    {
      "cell_type": "code",
      "metadata": {
        "id": "GrOzg3GL7G2_",
        "outputId": "a4e53127-aa78-4745-f88a-a68ed780cbff",
        "colab": {
          "base_uri": "https://localhost:8080/"
        }
      },
      "source": [
        "dfBanco.alias('A').join(dfMarital.alias('B'), on = [\"id_marital\"])\\\n",
        "  .join(dfEducacion.alias('C'), on = [\"id_education\"])\\\n",
        "  .select(F.col('B.marital'), F.col('C.education'), F.col('A.age'))\\\n",
        "  .where((F.col('B.marital') == 'single') & (F.col('C.education') == 'tertiary')).show()"
      ],
      "execution_count": 34,
      "outputs": [
        {
          "output_type": "stream",
          "name": "stdout",
          "text": [
            "+-------+---------+---+\n",
            "|marital|education|age|\n",
            "+-------+---------+---+\n",
            "| single| tertiary| 35|\n",
            "| single| tertiary| 35|\n",
            "| single| tertiary| 37|\n",
            "| single| tertiary| 32|\n",
            "| single| tertiary| 23|\n",
            "| single| tertiary| 38|\n",
            "| single| tertiary| 36|\n",
            "| single| tertiary| 32|\n",
            "| single| tertiary| 34|\n",
            "| single| tertiary| 33|\n",
            "| single| tertiary| 32|\n",
            "| single| tertiary| 31|\n",
            "| single| tertiary| 32|\n",
            "| single| tertiary| 41|\n",
            "| single| tertiary| 30|\n",
            "| single| tertiary| 38|\n",
            "| single| tertiary| 32|\n",
            "| single| tertiary| 51|\n",
            "| single| tertiary| 34|\n",
            "| single| tertiary| 33|\n",
            "+-------+---------+---+\n",
            "only showing top 20 rows\n",
            "\n"
          ]
        }
      ]
    },
    {
      "cell_type": "code",
      "source": [
        "dfBanco.select('id_marital', 'id_education', 'age' )\\\n",
        "  .join(dfMarital.where(F.col('marital')== 'single'), on = ['id_marital'])\\\n",
        "  .join(dfEducacion.where(F.col('education') == 'tertiary'), on = ['id_education'])\\\n",
        "  .select('marital', 'education', 'age').show()"
      ],
      "metadata": {
        "id": "nPmFEkmK5oZs",
        "outputId": "c24892df-b749-480e-d7f9-ee8af44e4929",
        "colab": {
          "base_uri": "https://localhost:8080/"
        }
      },
      "execution_count": 35,
      "outputs": [
        {
          "output_type": "stream",
          "name": "stdout",
          "text": [
            "+-------+---------+---+\n",
            "|marital|education|age|\n",
            "+-------+---------+---+\n",
            "| single| tertiary| 35|\n",
            "| single| tertiary| 35|\n",
            "| single| tertiary| 37|\n",
            "| single| tertiary| 32|\n",
            "| single| tertiary| 23|\n",
            "| single| tertiary| 38|\n",
            "| single| tertiary| 36|\n",
            "| single| tertiary| 32|\n",
            "| single| tertiary| 34|\n",
            "| single| tertiary| 33|\n",
            "| single| tertiary| 32|\n",
            "| single| tertiary| 31|\n",
            "| single| tertiary| 32|\n",
            "| single| tertiary| 41|\n",
            "| single| tertiary| 30|\n",
            "| single| tertiary| 38|\n",
            "| single| tertiary| 32|\n",
            "| single| tertiary| 51|\n",
            "| single| tertiary| 34|\n",
            "| single| tertiary| 33|\n",
            "+-------+---------+---+\n",
            "only showing top 20 rows\n",
            "\n"
          ]
        }
      ]
    },
    {
      "cell_type": "markdown",
      "metadata": {
        "id": "ilZKfR3R8Cf2"
      },
      "source": [
        "# Ejercicio 9\n",
        "Desarrollar un consulta que cuente la cantidad de registros por cada tipo de contacto (contact) de los target que sean “no”. (Tablas: Bank y contact)"
      ]
    },
    {
      "cell_type": "code",
      "metadata": {
        "id": "WtcNt-Tc8Crq",
        "outputId": "639c628a-2918-476e-9d17-3d174c4ae6f8",
        "colab": {
          "base_uri": "https://localhost:8080/",
          "height": 166
        }
      },
      "source": [
        "dfBanco.alias('A').join(dfContacto.alias=('B'), on=[\"id_contact\"])\\\n",
        "  .where((F.col('A-target')=='no')\\\n",
        "  .groupby('B.contact').count()\\\n",
        "  .show()"
      ],
      "execution_count": 36,
      "outputs": [
        {
          "output_type": "error",
          "ename": "SyntaxError",
          "evalue": "ignored",
          "traceback": [
            "\u001b[0;36m  File \u001b[0;32m\"<ipython-input-36-13307f1ab9f4>\"\u001b[0;36m, line \u001b[0;32m1\u001b[0m\n\u001b[0;31m    dfBanco.alias('A').join(dfContacto.alias=('B'), on=[\"id_contact\"])  .where((F.col('A-target')=='no')  .groupby('B.contact').count()  .show()\u001b[0m\n\u001b[0m                                                                                                                                                ^\u001b[0m\n\u001b[0;31mSyntaxError\u001b[0m\u001b[0;31m:\u001b[0m unexpected EOF while parsing\n"
          ]
        }
      ]
    },
    {
      "cell_type": "markdown",
      "metadata": {
        "id": "B8t0ZyAP8DL7"
      },
      "source": [
        "# Ejercicio 10\n",
        "Elabore una consulta que sume los balances (balance) agrupados por trabajo (job), educación (education) para los registros cuya edad (age) sea mayor igual a 21, su educación no sea desconocida (unknown). (tablas: bank, job y education.)"
      ]
    },
    {
      "cell_type": "code",
      "metadata": {
        "id": "thai9EjQ8DVr"
      },
      "source": [
        ""
      ],
      "execution_count": null,
      "outputs": []
    }
  ]
}