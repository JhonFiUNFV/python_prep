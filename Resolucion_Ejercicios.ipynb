{
  "nbformat": 4,
  "nbformat_minor": 0,
  "metadata": {
    "colab": {
      "name": "Resolucion_Ejercicios.ipynb",
      "provenance": [],
      "collapsed_sections": [],
      "include_colab_link": true
    },
    "kernelspec": {
      "name": "python3",
      "display_name": "Python 3"
    }
  },
  "cells": [
    {
      "cell_type": "markdown",
      "metadata": {
        "id": "view-in-github",
        "colab_type": "text"
      },
      "source": [
        "<a href=\"https://colab.research.google.com/github/JhonFiUNFV/python_prep/blob/master/Resolucion_Ejercicios.ipynb\" target=\"_parent\"><img src=\"https://colab.research.google.com/assets/colab-badge.svg\" alt=\"Open In Colab\"/></a>"
      ]
    },
    {
      "cell_type": "code",
      "metadata": {
        "id": "mVQlLqtnrhjN",
        "outputId": "5bcc7b93-fc1b-4465-8d79-48039d33fe25",
        "colab": {
          "base_uri": "https://localhost:8080/"
        }
      },
      "source": [
        "# Descargamos spark con hadoop y Java\n",
        "!apt-get update # Actualizar el gestor de paquetes de Linux\n",
        "!apt-get install openjdk-8-jdk-headless -qq > /dev/null # Descargar Java\n",
        "!wget -q https://dlcdn.apache.org/spark/spark-2.4.8/spark-2.4.8-bin-hadoop2.7.tgz # Descargar Apache Spark\n",
        "!tar xf spark-2.4.8-bin-hadoop2.7.tgz #Descomprimir Spark\n",
        "!pip install -q findspark # Para Utilizar Spark"
      ],
      "execution_count": 1,
      "outputs": [
        {
          "output_type": "stream",
          "name": "stdout",
          "text": [
            "\r0% [Working]\r            \rHit:1 https://developer.download.nvidia.com/compute/cuda/repos/ubuntu1804/x86_64  InRelease\n",
            "Get:2 https://cloud.r-project.org/bin/linux/ubuntu bionic-cran40/ InRelease [3,626 B]\n",
            "Ign:3 https://developer.download.nvidia.com/compute/machine-learning/repos/ubuntu1804/x86_64  InRelease\n",
            "Hit:4 https://developer.download.nvidia.com/compute/machine-learning/repos/ubuntu1804/x86_64  Release\n",
            "Get:5 http://security.ubuntu.com/ubuntu bionic-security InRelease [88.7 kB]\n",
            "Get:6 http://ppa.launchpad.net/c2d4u.team/c2d4u4.0+/ubuntu bionic InRelease [15.9 kB]\n",
            "Hit:7 http://archive.ubuntu.com/ubuntu bionic InRelease\n",
            "Get:8 http://archive.ubuntu.com/ubuntu bionic-updates InRelease [88.7 kB]\n",
            "Hit:9 http://ppa.launchpad.net/cran/libgit2/ubuntu bionic InRelease\n",
            "Get:10 https://cloud.r-project.org/bin/linux/ubuntu bionic-cran40/ Packages [84.8 kB]\n",
            "Get:11 http://archive.ubuntu.com/ubuntu bionic-backports InRelease [74.6 kB]\n",
            "Hit:12 http://ppa.launchpad.net/deadsnakes/ppa/ubuntu bionic InRelease\n",
            "Get:14 http://security.ubuntu.com/ubuntu bionic-security/main amd64 Packages [2,733 kB]\n",
            "Hit:15 http://ppa.launchpad.net/graphics-drivers/ppa/ubuntu bionic InRelease\n",
            "Get:16 http://archive.ubuntu.com/ubuntu bionic-updates/main amd64 Packages [3,167 kB]\n",
            "Get:17 http://ppa.launchpad.net/c2d4u.team/c2d4u4.0+/ubuntu bionic/main Sources [1,953 kB]\n",
            "Get:18 http://security.ubuntu.com/ubuntu bionic-security/universe amd64 Packages [1,496 kB]\n",
            "Get:19 http://archive.ubuntu.com/ubuntu bionic-updates/universe amd64 Packages [2,272 kB]\n",
            "Get:20 http://ppa.launchpad.net/c2d4u.team/c2d4u4.0+/ubuntu bionic/main amd64 Packages [1,001 kB]\n",
            "Fetched 13.0 MB in 10s (1,236 kB/s)\n",
            "Reading package lists... Done\n"
          ]
        }
      ]
    },
    {
      "cell_type": "code",
      "metadata": {
        "id": "KuwpSO7qr1sT"
      },
      "source": [
        "# Seteamos las variables de entorno\n",
        "import os\n",
        "os.environ[\"JAVA_HOME\"] = \"/usr/lib/jvm/java-8-openjdk-amd64\"\n",
        "os.environ[\"SPARK_HOME\"] = \"/content/spark-2.4.8-bin-hadoop2.7\""
      ],
      "execution_count": 2,
      "outputs": []
    },
    {
      "cell_type": "code",
      "metadata": {
        "id": "sow2Ksior1xJ"
      },
      "source": [
        "# Creamos la conexion a Spark \n",
        "import findspark\n",
        "findspark.init()\n",
        "from pyspark.sql import SparkSession\n",
        "spark = SparkSession.builder.master(\"local[*]\").getOrCreate()"
      ],
      "execution_count": 3,
      "outputs": []
    },
    {
      "cell_type": "code",
      "metadata": {
        "id": "irP5b2ZLr6MO",
        "outputId": "531ee81e-c766-4ec1-a1ac-0c0470b401e3",
        "colab": {
          "base_uri": "https://localhost:8080/",
          "height": 219
        }
      },
      "source": [
        "spark"
      ],
      "execution_count": 4,
      "outputs": [
        {
          "output_type": "execute_result",
          "data": {
            "text/plain": [
              "<pyspark.sql.session.SparkSession at 0x7f8f476e3790>"
            ],
            "text/html": [
              "\n",
              "            <div>\n",
              "                <p><b>SparkSession - in-memory</b></p>\n",
              "                \n",
              "        <div>\n",
              "            <p><b>SparkContext</b></p>\n",
              "\n",
              "            <p><a href=\"http://3ecbfaba54a3:4040\">Spark UI</a></p>\n",
              "\n",
              "            <dl>\n",
              "              <dt>Version</dt>\n",
              "                <dd><code>v2.4.8</code></dd>\n",
              "              <dt>Master</dt>\n",
              "                <dd><code>local[*]</code></dd>\n",
              "              <dt>AppName</dt>\n",
              "                <dd><code>pyspark-shell</code></dd>\n",
              "            </dl>\n",
              "        </div>\n",
              "        \n",
              "            </div>\n",
              "        "
            ]
          },
          "metadata": {},
          "execution_count": 4
        }
      ]
    },
    {
      "cell_type": "code",
      "metadata": {
        "id": "HnBoMlFyr7UF"
      },
      "source": [
        "# Librerias Spark\n",
        "from pyspark.sql import functions as F\n",
        "\n",
        "#Librerias Python\n",
        "import pandas as pd"
      ],
      "execution_count": 5,
      "outputs": []
    },
    {
      "cell_type": "code",
      "source": [
        "from google.colab import drive\n",
        "drive.mount('/content/drive')"
      ],
      "metadata": {
        "id": "BfZs5whbfie6",
        "outputId": "861fb50b-e2aa-4e9e-b6a2-44e56e3edb01",
        "colab": {
          "base_uri": "https://localhost:8080/"
        }
      },
      "execution_count": 6,
      "outputs": [
        {
          "output_type": "stream",
          "name": "stdout",
          "text": [
            "Mounted at /content/drive\n"
          ]
        }
      ]
    },
    {
      "cell_type": "code",
      "source": [
        "ruta = \"/content/drive/MyDrive/Data/Data_2/\""
      ],
      "metadata": {
        "id": "v_P54f06fiSe"
      },
      "execution_count": 7,
      "outputs": []
    },
    {
      "cell_type": "markdown",
      "metadata": {
        "id": "NdTzhksTsCb8"
      },
      "source": [
        "# Importacion de los datos"
      ]
    },
    {
      "cell_type": "code",
      "metadata": {
        "id": "JoMIL8Csuibj",
        "outputId": "7da22590-7e72-42e2-94a5-7659e9fc0e69",
        "colab": {
          "base_uri": "https://localhost:8080/"
        }
      },
      "source": [
        "# Importando los datos del banco\n",
        "dfBanco = spark.read.csv(ruta  + 'bank.csv', header = True, inferSchema = True)\n",
        "dfBanco.show()"
      ],
      "execution_count": 8,
      "outputs": [
        {
          "output_type": "stream",
          "name": "stdout",
          "text": [
            "+---+---+------+----------+------------+-------+-------+-------+----+----------+---+-----+--------+--------+-----+--------+-----------+------+\n",
            "| ID|age|job_id|id_marital|id_education|default|balance|housing|loan|id_contact|day|month|duration|campaign|pdays|previous|id_poutcome|target|\n",
            "+---+---+------+----------+------------+-------+-------+-------+----+----------+---+-----+--------+--------+-----+--------+-----------+------+\n",
            "|  1| 30|     1|         M|           P|     no|   1787|     no|  no|         C| 19|  oct|      79|       1|   -1|       0|          U|    no|\n",
            "|  2| 33|     2|         M|           S|     no|   4789|    yes| yes|         C| 11|  may|     220|       1|  339|       4|          F|    no|\n",
            "|  3| 35|     3|         S|           T|     no|   1350|    yes|  no|         C| 16|  apr|     185|       1|  330|       1|          F|    no|\n",
            "|  4| 30|     3|         M|           T|     no|   1476|    yes| yes|         U|  3|  jun|     199|       4|   -1|       0|          U|    no|\n",
            "|  5| 59|     4|         M|           S|     no|      0|    yes|  no|         U|  5|  may|     226|       1|   -1|       0|          U|    no|\n",
            "|  6| 35|     3|         S|           T|     no|    747|     no|  no|         C| 23|  feb|     141|       2|  176|       3|          F|    no|\n",
            "|  7| 36|     5|         M|           T|     no|    307|    yes|  no|         C| 14|  may|     341|       1|  330|       2|          O|    no|\n",
            "|  8| 39|     6|         M|           S|     no|    147|    yes|  no|         C|  6|  may|     151|       2|   -1|       0|          U|    no|\n",
            "|  9| 41|     7|         M|           T|     no|    221|    yes|  no|         U| 14|  may|      57|       2|   -1|       0|          U|    no|\n",
            "| 10| 43|     2|         M|           P|     no|    -88|    yes| yes|         C| 17|  apr|     313|       1|  147|       2|          F|    no|\n",
            "| 11| 39|     2|         M|           S|     no|   9374|    yes|  no|         U| 20|  may|     273|       1|   -1|       0|          U|    no|\n",
            "| 12| 43|     8|         M|           S|     no|    264|    yes|  no|         C| 17|  apr|     113|       2|   -1|       0|          U|    no|\n",
            "| 13| 36|     6|         M|           T|     no|   1109|     no|  no|         C| 13|  aug|     328|       2|   -1|       0|          U|    no|\n",
            "| 14| 20|     9|         S|           S|     no|    502|     no|  no|         C| 30|  apr|     261|       1|   -1|       0|          U|   yes|\n",
            "| 15| 31|     4|         M|           S|     no|    360|    yes| yes|         C| 29|  jan|      89|       1|  241|       1|          F|    no|\n",
            "| 16| 40|     3|         M|           T|     no|    194|     no| yes|         C| 29|  aug|     189|       2|   -1|       0|          U|    no|\n",
            "| 17| 56|     6|         M|           S|     no|   4073|     no|  no|         C| 27|  aug|     239|       5|   -1|       0|          U|    no|\n",
            "| 18| 37|     8|         S|           T|     no|   2317|    yes|  no|         C| 20|  apr|     114|       1|  152|       2|          F|    no|\n",
            "| 19| 25|     4|         S|           P|     no|   -221|    yes|  no|         U| 23|  may|     250|       1|   -1|       0|          U|    no|\n",
            "| 20| 31|     2|         M|           S|     no|    132|     no|  no|         C|  7|  jul|     148|       1|  152|       1|          O|    no|\n",
            "+---+---+------+----------+------------+-------+-------+-------+----+----------+---+-----+--------+--------+-----+--------+-----------+------+\n",
            "only showing top 20 rows\n",
            "\n"
          ]
        }
      ]
    },
    {
      "cell_type": "code",
      "metadata": {
        "id": "7qdqoTUbvo1f",
        "outputId": "8c6c9c28-f88d-42b7-87a2-377df5ebfedb",
        "colab": {
          "base_uri": "https://localhost:8080/"
        }
      },
      "source": [
        "# Importando los datos del contacto\n",
        "dfContacto = spark.read.csv(ruta  + 'contact.txt', header = True, inferSchema = True)\n",
        "dfContacto.show()"
      ],
      "execution_count": 9,
      "outputs": [
        {
          "output_type": "stream",
          "name": "stdout",
          "text": [
            "+----------+---------+\n",
            "|id_contact|  contact|\n",
            "+----------+---------+\n",
            "|         C| cellular|\n",
            "|         U|  unknown|\n",
            "|         T|telephone|\n",
            "+----------+---------+\n",
            "\n"
          ]
        }
      ]
    },
    {
      "cell_type": "code",
      "metadata": {
        "id": "aIOX34JfvuW9",
        "outputId": "ff6525f7-95f1-43e9-bf4a-7134fefda4d8",
        "colab": {
          "base_uri": "https://localhost:8080/"
        }
      },
      "source": [
        "# Importando los datos del educacion\n",
        "dfEducacion = spark.read.csv(ruta  + 'education.txt',sep=';', header = True, inferSchema = True)\n",
        "dfEducacion.show()"
      ],
      "execution_count": 10,
      "outputs": [
        {
          "output_type": "stream",
          "name": "stdout",
          "text": [
            "+------------+---------+\n",
            "|id_education|education|\n",
            "+------------+---------+\n",
            "|           P|  primary|\n",
            "|           S|secondary|\n",
            "|           T| tertiary|\n",
            "|           U|  unknown|\n",
            "+------------+---------+\n",
            "\n"
          ]
        }
      ]
    },
    {
      "cell_type": "code",
      "metadata": {
        "id": "xnSsImmkv2ux",
        "outputId": "dd0681dc-1db8-408a-edb0-e83ad6cdc9fe",
        "colab": {
          "base_uri": "https://localhost:8080/"
        }
      },
      "source": [
        "# Importando los datos del trabajo\n",
        "dfTrabajo = spark.read.csv(ruta  + 'job.tsv',sep='\\t', header = True, inferSchema = True)\n",
        "dfTrabajo.show()"
      ],
      "execution_count": 11,
      "outputs": [
        {
          "output_type": "stream",
          "name": "stdout",
          "text": [
            "+------+-------------+\n",
            "|job_id|          job|\n",
            "+------+-------------+\n",
            "|     1|   unemployed|\n",
            "|     2|     services|\n",
            "|     3|   management|\n",
            "|     4|  blue-collar|\n",
            "|     5|self-employed|\n",
            "|     6|   technician|\n",
            "|     7| entrepreneur|\n",
            "|     8|       admin.|\n",
            "|     9|      student|\n",
            "|    10|    housemaid|\n",
            "|    11|      retired|\n",
            "|    12|      unknown|\n",
            "+------+-------------+\n",
            "\n"
          ]
        }
      ]
    },
    {
      "cell_type": "code",
      "metadata": {
        "id": "ZSmnnXVAvych",
        "outputId": "798e2e74-3355-401e-86e4-566001124346",
        "colab": {
          "base_uri": "https://localhost:8080/"
        }
      },
      "source": [
        "# Importando los datos del matrimonio\n",
        "dfMarital = spark.read.csv(ruta  + 'marital.txt',sep='|', header = True, inferSchema = True)\n",
        "dfMarital.show()"
      ],
      "execution_count": 12,
      "outputs": [
        {
          "output_type": "stream",
          "name": "stdout",
          "text": [
            "+----------+--------+\n",
            "|id_marital| marital|\n",
            "+----------+--------+\n",
            "|         M| married|\n",
            "|         S|  single|\n",
            "|         D|divorced|\n",
            "+----------+--------+\n",
            "\n"
          ]
        }
      ]
    },
    {
      "cell_type": "code",
      "metadata": {
        "id": "MPxcZ9ePv5uA",
        "outputId": "5829cf63-5006-425f-e1a3-9c96576a0ea6",
        "colab": {
          "base_uri": "https://localhost:8080/"
        }
      },
      "source": [
        "# Importando los datos del gastos\n",
        "dfGasto = spark.read.csv(ruta  + 'poutcome.txt',sep=':', header = True, inferSchema = True)\n",
        "dfGasto.show()"
      ],
      "execution_count": 13,
      "outputs": [
        {
          "output_type": "stream",
          "name": "stdout",
          "text": [
            "+-----------+--------+\n",
            "|id_poutcome|poutcome|\n",
            "+-----------+--------+\n",
            "|          U| unknown|\n",
            "|          F| failure|\n",
            "|          O|   other|\n",
            "|          S| success|\n",
            "+-----------+--------+\n",
            "\n"
          ]
        }
      ]
    },
    {
      "cell_type": "markdown",
      "metadata": {
        "id": "ptKSIvU7y0gw"
      },
      "source": [
        "# Ejercicio 2\n",
        "2)\tDesarrolle una consulta que muestre el ID, la edad (age) y el balance de la tabla bank ordenada por edad de menor a mayor y por balance de mayor a menor."
      ]
    },
    {
      "cell_type": "code",
      "metadata": {
        "id": "Cj8uAIu4PMVR",
        "outputId": "c1a35b20-956c-4378-a42f-b60bb863c648",
        "colab": {
          "base_uri": "https://localhost:8080/"
        }
      },
      "source": [
        "dfBanco.select(F.col('ID'), F.col('age'), F.col('balance'))\\\n",
        ".sort(F.col('age').desc(), F.col('balance')).show()"
      ],
      "execution_count": 14,
      "outputs": [
        {
          "output_type": "stream",
          "name": "stdout",
          "text": [
            "+----+---+-------+\n",
            "|  ID|age|balance|\n",
            "+----+---+-------+\n",
            "|3312| 87|    230|\n",
            "|1867| 86|   1503|\n",
            "|4109| 84|    639|\n",
            "| 634| 83|      0|\n",
            "|4324| 83|      0|\n",
            "|1350| 83|    425|\n",
            "|4389| 83|   1097|\n",
            "| 574| 81|      1|\n",
            "|3691| 80|      0|\n",
            "|2849| 80|    462|\n",
            "|2897| 80|   1548|\n",
            "| 689| 80|   6483|\n",
            "|1313| 80|   8304|\n",
            "|2071| 80|   8304|\n",
            "|3361| 79|    429|\n",
            "|3751| 79|   2628|\n",
            "|1423| 79|   4738|\n",
            "|3203| 79|   8556|\n",
            "|1950| 78|    226|\n",
            "|  37| 78|    229|\n",
            "+----+---+-------+\n",
            "only showing top 20 rows\n",
            "\n"
          ]
        }
      ]
    },
    {
      "cell_type": "markdown",
      "metadata": {
        "id": "kYfxdLaE1npy"
      },
      "source": [
        "# Ejercicio 3\n",
        "Desarrolle una consulta que muestre el ID, el id_marital y la columna default de los registros cuyo valor de loan sea igual a “yes”. (Tabla: bank)"
      ]
    },
    {
      "cell_type": "code",
      "metadata": {
        "id": "_Gsyfwby1nyp",
        "outputId": "5e645cef-9f57-4212-a877-6d2ec097d9e8",
        "colab": {
          "base_uri": "https://localhost:8080/"
        }
      },
      "source": [
        "dfBanco.select('ID', 'id_marital', 'default', 'loan').where(F.col('loan')=='yes').show()"
      ],
      "execution_count": 15,
      "outputs": [
        {
          "output_type": "stream",
          "name": "stdout",
          "text": [
            "+---+----------+-------+----+\n",
            "| ID|id_marital|default|loan|\n",
            "+---+----------+-------+----+\n",
            "|  2|         M|     no| yes|\n",
            "|  4|         M|     no| yes|\n",
            "| 10|         M|     no| yes|\n",
            "| 15|         M|     no| yes|\n",
            "| 16|         M|     no| yes|\n",
            "| 29|         M|     no| yes|\n",
            "| 30|         M|     no| yes|\n",
            "| 49|         S|    yes| yes|\n",
            "| 57|         M|     no| yes|\n",
            "| 59|         S|     no| yes|\n",
            "| 60|         D|     no| yes|\n",
            "| 61|         M|     no| yes|\n",
            "| 69|         M|     no| yes|\n",
            "| 78|         S|     no| yes|\n",
            "| 83|         S|     no| yes|\n",
            "| 87|         S|     no| yes|\n",
            "|107|         M|     no| yes|\n",
            "|113|         M|     no| yes|\n",
            "|116|         S|     no| yes|\n",
            "|118|         S|     no| yes|\n",
            "+---+----------+-------+----+\n",
            "only showing top 20 rows\n",
            "\n"
          ]
        }
      ]
    },
    {
      "cell_type": "markdown",
      "metadata": {
        "id": "Wnz9am952fYo"
      },
      "source": [
        "# Ejercicio 4\n",
        "Desarrolle una consulta que muestre el job_id, la duracion (duration) y la campaña (campaign) de los registros cuyo valor de balan sea menor igual a 800 y los meses (month) sean igual a Julio y Diciembre. (Tabla: bank)"
      ]
    },
    {
      "cell_type": "code",
      "metadata": {
        "id": "JYB9-qEKVa5I",
        "outputId": "0551aeec-8d95-4338-90ca-3a3cf8a7001a",
        "colab": {
          "base_uri": "https://localhost:8080/"
        }
      },
      "source": [
        "dfBanco.select('job_id', 'duration', 'campaign', 'balance', 'month')\\\n",
        "  .where((F.col('balance')<= 800) & (F.col('month').isin('jul', 'dec'))).show()"
      ],
      "execution_count": 16,
      "outputs": [
        {
          "output_type": "stream",
          "name": "stdout",
          "text": [
            "+------+--------+--------+-------+-----+\n",
            "|job_id|duration|campaign|balance|month|\n",
            "+------+--------+--------+-------+-----+\n",
            "|     2|     148|       1|    132|  jul|\n",
            "|     7|     125|       2|     93|  jul|\n",
            "|     5|     149|       2|    784|  jul|\n",
            "|     4|     554|       3|   -516|  jul|\n",
            "|     6|     130|       4|    444|  jul|\n",
            "|     3|     630|       3|      0|  jul|\n",
            "|     3|     268|       2|      0|  jul|\n",
            "|     8|     652|       1|    451|  jul|\n",
            "|     2|     398|       2|    657|  jul|\n",
            "|    10|     435|       3|      0|  jul|\n",
            "|     5|     317|       5|    217|  jul|\n",
            "|     4|     779|       2|   -231|  jul|\n",
            "|     6|      32|       3|    586|  jul|\n",
            "|     3|     455|       2|      0|  jul|\n",
            "|     3|     102|       3|    442|  jul|\n",
            "|     1|      92|       1|   -249|  jul|\n",
            "|     8|     166|       1|   -465|  jul|\n",
            "|     2|     333|       2|      0|  jul|\n",
            "|     4|      97|       6|      0|  jul|\n",
            "|     5|     543|      12|    215|  jul|\n",
            "+------+--------+--------+-------+-----+\n",
            "only showing top 20 rows\n",
            "\n"
          ]
        }
      ]
    },
    {
      "cell_type": "code",
      "source": [
        "dfBanco.select('job_id', 'duration', 'campaign', 'balance', 'month')\\\n",
        "  .where(\"balance <= 800 AND month IN ('jul', 'dec')\").show()"
      ],
      "metadata": {
        "id": "IS1OXsKcvjf-",
        "outputId": "ef738217-c09c-43ca-df9d-1baba9b6d29b",
        "colab": {
          "base_uri": "https://localhost:8080/"
        }
      },
      "execution_count": 17,
      "outputs": [
        {
          "output_type": "stream",
          "name": "stdout",
          "text": [
            "+------+--------+--------+-------+-----+\n",
            "|job_id|duration|campaign|balance|month|\n",
            "+------+--------+--------+-------+-----+\n",
            "|     2|     148|       1|    132|  jul|\n",
            "|     7|     125|       2|     93|  jul|\n",
            "|     5|     149|       2|    784|  jul|\n",
            "|     4|     554|       3|   -516|  jul|\n",
            "|     6|     130|       4|    444|  jul|\n",
            "|     3|     630|       3|      0|  jul|\n",
            "|     3|     268|       2|      0|  jul|\n",
            "|     8|     652|       1|    451|  jul|\n",
            "|     2|     398|       2|    657|  jul|\n",
            "|    10|     435|       3|      0|  jul|\n",
            "|     5|     317|       5|    217|  jul|\n",
            "|     4|     779|       2|   -231|  jul|\n",
            "|     6|      32|       3|    586|  jul|\n",
            "|     3|     455|       2|      0|  jul|\n",
            "|     3|     102|       3|    442|  jul|\n",
            "|     1|      92|       1|   -249|  jul|\n",
            "|     8|     166|       1|   -465|  jul|\n",
            "|     2|     333|       2|      0|  jul|\n",
            "|     4|      97|       6|      0|  jul|\n",
            "|     5|     543|      12|    215|  jul|\n",
            "+------+--------+--------+-------+-----+\n",
            "only showing top 20 rows\n",
            "\n"
          ]
        }
      ]
    },
    {
      "cell_type": "markdown",
      "metadata": {
        "id": "iFfE1BF356PZ"
      },
      "source": [
        "# Ejercicio 5\n",
        "Desarrolle una consulta que muestre la cantidad de registros agrupados por id_education y target. (Tabla: bank)"
      ]
    },
    {
      "cell_type": "code",
      "metadata": {
        "id": "kd629K5u5-2C",
        "outputId": "7e3fed7d-7889-4faf-9fd8-a7aa0f70ed24",
        "colab": {
          "base_uri": "https://localhost:8080/"
        }
      },
      "source": [
        "dfBanco.groupby('id_education', 'target').count().show()"
      ],
      "execution_count": 18,
      "outputs": [
        {
          "output_type": "stream",
          "name": "stdout",
          "text": [
            "+------------+------+-----+\n",
            "|id_education|target|count|\n",
            "+------------+------+-----+\n",
            "|           P|    no|  614|\n",
            "|           U|   yes|   19|\n",
            "|           P|   yes|   64|\n",
            "|           S|    no| 2061|\n",
            "|           T|    no| 1157|\n",
            "|           S|   yes|  245|\n",
            "|           U|    no|  168|\n",
            "|           T|   yes|  193|\n",
            "+------------+------+-----+\n",
            "\n"
          ]
        }
      ]
    },
    {
      "cell_type": "code",
      "source": [
        "dfBanco.groupby('id_education', 'target').agg(F.count('*').alias('cuenta')).show()"
      ],
      "metadata": {
        "id": "HSFN0nBAxQiv",
        "outputId": "ba7b211f-9617-4da4-8a94-b97076ccc576",
        "colab": {
          "base_uri": "https://localhost:8080/"
        }
      },
      "execution_count": 19,
      "outputs": [
        {
          "output_type": "stream",
          "name": "stdout",
          "text": [
            "+------------+------+------+\n",
            "|id_education|target|cuenta|\n",
            "+------------+------+------+\n",
            "|           P|    no|   614|\n",
            "|           U|   yes|    19|\n",
            "|           P|   yes|    64|\n",
            "|           S|    no|  2061|\n",
            "|           T|    no|  1157|\n",
            "|           S|   yes|   245|\n",
            "|           U|    no|   168|\n",
            "|           T|   yes|   193|\n",
            "+------------+------+------+\n",
            "\n"
          ]
        }
      ]
    },
    {
      "cell_type": "markdown",
      "metadata": {
        "id": "BVfTXl5o6dMq"
      },
      "source": [
        "# Ejercicio 6\n",
        "Desarrolle una consulta que muestre la suma de las duraciones (duration) y el conteo de cada mes (month). (Tabla Bank)"
      ]
    },
    {
      "cell_type": "code",
      "source": [
        "dfBanco.show()"
      ],
      "metadata": {
        "id": "40SmjMVK0SM6",
        "outputId": "3e975d7b-89a5-488e-9e60-88ad3e63fb05",
        "colab": {
          "base_uri": "https://localhost:8080/"
        }
      },
      "execution_count": 20,
      "outputs": [
        {
          "output_type": "stream",
          "name": "stdout",
          "text": [
            "+---+---+------+----------+------------+-------+-------+-------+----+----------+---+-----+--------+--------+-----+--------+-----------+------+\n",
            "| ID|age|job_id|id_marital|id_education|default|balance|housing|loan|id_contact|day|month|duration|campaign|pdays|previous|id_poutcome|target|\n",
            "+---+---+------+----------+------------+-------+-------+-------+----+----------+---+-----+--------+--------+-----+--------+-----------+------+\n",
            "|  1| 30|     1|         M|           P|     no|   1787|     no|  no|         C| 19|  oct|      79|       1|   -1|       0|          U|    no|\n",
            "|  2| 33|     2|         M|           S|     no|   4789|    yes| yes|         C| 11|  may|     220|       1|  339|       4|          F|    no|\n",
            "|  3| 35|     3|         S|           T|     no|   1350|    yes|  no|         C| 16|  apr|     185|       1|  330|       1|          F|    no|\n",
            "|  4| 30|     3|         M|           T|     no|   1476|    yes| yes|         U|  3|  jun|     199|       4|   -1|       0|          U|    no|\n",
            "|  5| 59|     4|         M|           S|     no|      0|    yes|  no|         U|  5|  may|     226|       1|   -1|       0|          U|    no|\n",
            "|  6| 35|     3|         S|           T|     no|    747|     no|  no|         C| 23|  feb|     141|       2|  176|       3|          F|    no|\n",
            "|  7| 36|     5|         M|           T|     no|    307|    yes|  no|         C| 14|  may|     341|       1|  330|       2|          O|    no|\n",
            "|  8| 39|     6|         M|           S|     no|    147|    yes|  no|         C|  6|  may|     151|       2|   -1|       0|          U|    no|\n",
            "|  9| 41|     7|         M|           T|     no|    221|    yes|  no|         U| 14|  may|      57|       2|   -1|       0|          U|    no|\n",
            "| 10| 43|     2|         M|           P|     no|    -88|    yes| yes|         C| 17|  apr|     313|       1|  147|       2|          F|    no|\n",
            "| 11| 39|     2|         M|           S|     no|   9374|    yes|  no|         U| 20|  may|     273|       1|   -1|       0|          U|    no|\n",
            "| 12| 43|     8|         M|           S|     no|    264|    yes|  no|         C| 17|  apr|     113|       2|   -1|       0|          U|    no|\n",
            "| 13| 36|     6|         M|           T|     no|   1109|     no|  no|         C| 13|  aug|     328|       2|   -1|       0|          U|    no|\n",
            "| 14| 20|     9|         S|           S|     no|    502|     no|  no|         C| 30|  apr|     261|       1|   -1|       0|          U|   yes|\n",
            "| 15| 31|     4|         M|           S|     no|    360|    yes| yes|         C| 29|  jan|      89|       1|  241|       1|          F|    no|\n",
            "| 16| 40|     3|         M|           T|     no|    194|     no| yes|         C| 29|  aug|     189|       2|   -1|       0|          U|    no|\n",
            "| 17| 56|     6|         M|           S|     no|   4073|     no|  no|         C| 27|  aug|     239|       5|   -1|       0|          U|    no|\n",
            "| 18| 37|     8|         S|           T|     no|   2317|    yes|  no|         C| 20|  apr|     114|       1|  152|       2|          F|    no|\n",
            "| 19| 25|     4|         S|           P|     no|   -221|    yes|  no|         U| 23|  may|     250|       1|   -1|       0|          U|    no|\n",
            "| 20| 31|     2|         M|           S|     no|    132|     no|  no|         C|  7|  jul|     148|       1|  152|       1|          O|    no|\n",
            "+---+---+------+----------+------------+-------+-------+-------+----+----------+---+-----+--------+--------+-----+--------+-----------+------+\n",
            "only showing top 20 rows\n",
            "\n"
          ]
        }
      ]
    },
    {
      "cell_type": "code",
      "metadata": {
        "id": "UwdcON7P6cUV",
        "outputId": "859fa4c4-f5b0-4641-9020-81bdc4e8da1b",
        "colab": {
          "base_uri": "https://localhost:8080/"
        }
      },
      "source": [
        "dfBanco.groupby('month').agg(F.count('*').alias('registros'), F.sum('duration').alias('Duracion_Total')).show()"
      ],
      "execution_count": 21,
      "outputs": [
        {
          "output_type": "stream",
          "name": "stdout",
          "text": [
            "+-----+---------+--------------+\n",
            "|month|registros|Duracion_Total|\n",
            "+-----+---------+--------------+\n",
            "|  jun|      531|        134038|\n",
            "|  aug|      633|        154289|\n",
            "|  may|     1398|        373708|\n",
            "|  feb|      222|         56765|\n",
            "|  sep|       52|         11218|\n",
            "|  mar|       49|          9746|\n",
            "|  oct|       80|         21824|\n",
            "|  jul|      706|        191471|\n",
            "|  nov|      389|        105834|\n",
            "|  apr|      293|         86246|\n",
            "|  dec|       20|          8338|\n",
            "|  jan|      148|         39892|\n",
            "+-----+---------+--------------+\n",
            "\n"
          ]
        }
      ]
    },
    {
      "cell_type": "markdown",
      "metadata": {
        "id": "cckFg1nn7BLJ"
      },
      "source": [
        "# Ejercico 7\n",
        "Desarrole una consulta que muestre el trabajo (job), la columna housing y los dias (day) de los registros cuyo id_contact se igual a ‘C’. (tablas: bank y job)"
      ]
    },
    {
      "cell_type": "code",
      "metadata": {
        "id": "K7AYOZ7U7AkJ",
        "outputId": "36eb6fb9-56ff-4897-9fa7-444a87db4ce3",
        "colab": {
          "base_uri": "https://localhost:8080/"
        }
      },
      "source": [
        "dfBanco.alias('A').join(dfTrabajo.alias('B'), on=[\"job_id\"])\\\n",
        "  .select(F.col('B.job'), F.col('A.housing'), F.col('A.campaign'), F.col('A.id_contact'))\\\n",
        "  .where(\"A.id_contact = 'C'\").show()"
      ],
      "execution_count": 22,
      "outputs": [
        {
          "output_type": "stream",
          "name": "stdout",
          "text": [
            "+-------------+-------+--------+----------+\n",
            "|          job|housing|campaign|id_contact|\n",
            "+-------------+-------+--------+----------+\n",
            "|   unemployed|     no|       1|         C|\n",
            "|     services|    yes|       1|         C|\n",
            "|   management|    yes|       1|         C|\n",
            "|   management|     no|       2|         C|\n",
            "|self-employed|    yes|       1|         C|\n",
            "|   technician|    yes|       2|         C|\n",
            "|     services|    yes|       1|         C|\n",
            "|       admin.|    yes|       2|         C|\n",
            "|   technician|     no|       2|         C|\n",
            "|      student|     no|       1|         C|\n",
            "|  blue-collar|    yes|       1|         C|\n",
            "|   management|     no|       2|         C|\n",
            "|   technician|     no|       5|         C|\n",
            "|       admin.|    yes|       1|         C|\n",
            "|     services|     no|       1|         C|\n",
            "|   management|    yes|       2|         C|\n",
            "|   management|     no|       3|         C|\n",
            "| entrepreneur|     no|       2|         C|\n",
            "|    housemaid|     no|       3|         C|\n",
            "|   management|     no|       2|         C|\n",
            "+-------------+-------+--------+----------+\n",
            "only showing top 20 rows\n",
            "\n"
          ]
        }
      ]
    },
    {
      "cell_type": "code",
      "source": [
        "dfBanco.alias('A').join(dfTrabajo.alias('B'), on=[\"job_id\"])\\\n",
        "  .select(F.col('B.job'), F.col('A.housing'), F.col('A.campaign'), F.col('A.id_contact'))\\\n",
        "  .where(F.col(\"A.id_contact\") == 'C').show()"
      ],
      "metadata": {
        "id": "kpTHvh0VAkNz",
        "outputId": "f2555467-8bb0-4ef7-d41c-ce0f53298a27",
        "colab": {
          "base_uri": "https://localhost:8080/"
        }
      },
      "execution_count": 23,
      "outputs": [
        {
          "output_type": "stream",
          "name": "stdout",
          "text": [
            "+-------------+-------+--------+----------+\n",
            "|          job|housing|campaign|id_contact|\n",
            "+-------------+-------+--------+----------+\n",
            "|   unemployed|     no|       1|         C|\n",
            "|     services|    yes|       1|         C|\n",
            "|   management|    yes|       1|         C|\n",
            "|   management|     no|       2|         C|\n",
            "|self-employed|    yes|       1|         C|\n",
            "|   technician|    yes|       2|         C|\n",
            "|     services|    yes|       1|         C|\n",
            "|       admin.|    yes|       2|         C|\n",
            "|   technician|     no|       2|         C|\n",
            "|      student|     no|       1|         C|\n",
            "|  blue-collar|    yes|       1|         C|\n",
            "|   management|     no|       2|         C|\n",
            "|   technician|     no|       5|         C|\n",
            "|       admin.|    yes|       1|         C|\n",
            "|     services|     no|       1|         C|\n",
            "|   management|    yes|       2|         C|\n",
            "|   management|     no|       3|         C|\n",
            "| entrepreneur|     no|       2|         C|\n",
            "|    housemaid|     no|       3|         C|\n",
            "|   management|     no|       2|         C|\n",
            "+-------------+-------+--------+----------+\n",
            "only showing top 20 rows\n",
            "\n"
          ]
        }
      ]
    },
    {
      "cell_type": "code",
      "source": [
        "dfBanco[['job_id', 'housing', 'day', 'id_contact']].join(dfTrabajo, on=[\"job_id\"])\\\n",
        "  .where(F.col(\"id_contact\") == 'C')[['job', 'housing', 'day']].show()"
      ],
      "metadata": {
        "id": "KjdghzGaBXVa",
        "outputId": "d420552d-47c5-4a20-ae11-347327629a92",
        "colab": {
          "base_uri": "https://localhost:8080/"
        }
      },
      "execution_count": 24,
      "outputs": [
        {
          "output_type": "stream",
          "name": "stdout",
          "text": [
            "+-------------+-------+---+\n",
            "|          job|housing|day|\n",
            "+-------------+-------+---+\n",
            "|   unemployed|     no| 19|\n",
            "|     services|    yes| 11|\n",
            "|   management|    yes| 16|\n",
            "|   management|     no| 23|\n",
            "|self-employed|    yes| 14|\n",
            "|   technician|    yes|  6|\n",
            "|     services|    yes| 17|\n",
            "|       admin.|    yes| 17|\n",
            "|   technician|     no| 13|\n",
            "|      student|     no| 30|\n",
            "|  blue-collar|    yes| 29|\n",
            "|   management|     no| 29|\n",
            "|   technician|     no| 27|\n",
            "|       admin.|    yes| 20|\n",
            "|     services|     no|  7|\n",
            "|   management|    yes| 18|\n",
            "|   management|     no| 19|\n",
            "| entrepreneur|     no|  7|\n",
            "|    housemaid|     no| 30|\n",
            "|   management|     no| 20|\n",
            "+-------------+-------+---+\n",
            "only showing top 20 rows\n",
            "\n"
          ]
        }
      ]
    },
    {
      "cell_type": "markdown",
      "metadata": {
        "id": "y9gGmex27Gts"
      },
      "source": [
        "# Ejercicio 8\n",
        "Desarrole una consulta que muestre el estado civil (marital), nivel de educación (education) y la edad (age) de los registros cuyo estado civil sea solteros (single) y su educación sea mayor a la secundaria (education = tertiary). (Tablas: bank, marital y education)"
      ]
    },
    {
      "cell_type": "code",
      "metadata": {
        "id": "GrOzg3GL7G2_",
        "outputId": "b5ff99b9-b6d1-4973-f54b-36248b36808e",
        "colab": {
          "base_uri": "https://localhost:8080/"
        }
      },
      "source": [
        "dfBanco.alias('A').join(dfMarital.alias('B'), on = [\"id_marital\"])\\\n",
        "  .join(dfEducacion.alias('C'), on = [\"id_education\"])\\\n",
        "  .select(F.col('B.marital'), F.col('C.education'), F.col('A.age'))\\\n",
        "  .where((F.col('B.marital') == 'single') & (F.col('C.education') == 'tertiary')).show()"
      ],
      "execution_count": 25,
      "outputs": [
        {
          "output_type": "stream",
          "name": "stdout",
          "text": [
            "+-------+---------+---+\n",
            "|marital|education|age|\n",
            "+-------+---------+---+\n",
            "| single| tertiary| 35|\n",
            "| single| tertiary| 35|\n",
            "| single| tertiary| 37|\n",
            "| single| tertiary| 32|\n",
            "| single| tertiary| 23|\n",
            "| single| tertiary| 38|\n",
            "| single| tertiary| 36|\n",
            "| single| tertiary| 32|\n",
            "| single| tertiary| 34|\n",
            "| single| tertiary| 33|\n",
            "| single| tertiary| 32|\n",
            "| single| tertiary| 31|\n",
            "| single| tertiary| 32|\n",
            "| single| tertiary| 41|\n",
            "| single| tertiary| 30|\n",
            "| single| tertiary| 38|\n",
            "| single| tertiary| 32|\n",
            "| single| tertiary| 51|\n",
            "| single| tertiary| 34|\n",
            "| single| tertiary| 33|\n",
            "+-------+---------+---+\n",
            "only showing top 20 rows\n",
            "\n"
          ]
        }
      ]
    },
    {
      "cell_type": "code",
      "source": [
        "dfBanco.select('id_marital', 'id_education', 'age' )\\\n",
        "  .join(dfMarital.where(F.col('marital')== 'single'), on = ['id_marital'])\\\n",
        "  .join(dfEducacion.where(F.col('education') == 'tertiary'), on = ['id_education'])\\\n",
        "  .select('marital', 'education', 'age').show()"
      ],
      "metadata": {
        "id": "nPmFEkmK5oZs",
        "outputId": "76c62452-58de-4011-ef94-8438856f1504",
        "colab": {
          "base_uri": "https://localhost:8080/"
        }
      },
      "execution_count": 26,
      "outputs": [
        {
          "output_type": "stream",
          "name": "stdout",
          "text": [
            "+-------+---------+---+\n",
            "|marital|education|age|\n",
            "+-------+---------+---+\n",
            "| single| tertiary| 35|\n",
            "| single| tertiary| 35|\n",
            "| single| tertiary| 37|\n",
            "| single| tertiary| 32|\n",
            "| single| tertiary| 23|\n",
            "| single| tertiary| 38|\n",
            "| single| tertiary| 36|\n",
            "| single| tertiary| 32|\n",
            "| single| tertiary| 34|\n",
            "| single| tertiary| 33|\n",
            "| single| tertiary| 32|\n",
            "| single| tertiary| 31|\n",
            "| single| tertiary| 32|\n",
            "| single| tertiary| 41|\n",
            "| single| tertiary| 30|\n",
            "| single| tertiary| 38|\n",
            "| single| tertiary| 32|\n",
            "| single| tertiary| 51|\n",
            "| single| tertiary| 34|\n",
            "| single| tertiary| 33|\n",
            "+-------+---------+---+\n",
            "only showing top 20 rows\n",
            "\n"
          ]
        }
      ]
    },
    {
      "cell_type": "markdown",
      "metadata": {
        "id": "ilZKfR3R8Cf2"
      },
      "source": [
        "# Ejercicio 9\n",
        "Desarrollar un consulta que cuente la cantidad de registros por cada tipo de contacto (contact) de los target que sean “no”. (Tablas: Bank y contact)"
      ]
    },
    {
      "cell_type": "code",
      "metadata": {
        "id": "WtcNt-Tc8Crq",
        "outputId": "dcc45c1e-ebd4-4ac0-9c89-47c73c2b7152",
        "colab": {
          "base_uri": "https://localhost:8080/"
        }
      },
      "source": [
        "dfBanco.alias('A').join(dfContacto.alias('B'), on=[\"id_contact\"])\\\n",
        "  .where((F.col('A.target')=='no'))\\\n",
        "  .groupBy('B.contact').count().show()"
      ],
      "execution_count": 30,
      "outputs": [
        {
          "output_type": "stream",
          "name": "stdout",
          "text": [
            "+---------+-----+\n",
            "|  contact|count|\n",
            "+---------+-----+\n",
            "|  unknown| 1263|\n",
            "| cellular| 2480|\n",
            "|telephone|  257|\n",
            "+---------+-----+\n",
            "\n"
          ]
        }
      ]
    },
    {
      "cell_type": "markdown",
      "metadata": {
        "id": "B8t0ZyAP8DL7"
      },
      "source": [
        "# Ejercicio 10\n",
        "Elabore una consulta que sume los balances (balance) agrupados por trabajo (job), educación (education) para los registros cuya edad (age) sea mayor igual a 21, su educación no sea desconocida (unknown). (tablas: bank, job y education.)"
      ]
    },
    {
      "cell_type": "code",
      "metadata": {
        "id": "thai9EjQ8DVr",
        "outputId": "70a33048-b326-4807-b259-3204ce940414",
        "colab": {
          "base_uri": "https://localhost:8080/"
        }
      },
      "source": [
        "dfBanco.show()"
      ],
      "execution_count": 31,
      "outputs": [
        {
          "output_type": "stream",
          "name": "stdout",
          "text": [
            "+---+---+------+----------+------------+-------+-------+-------+----+----------+---+-----+--------+--------+-----+--------+-----------+------+\n",
            "| ID|age|job_id|id_marital|id_education|default|balance|housing|loan|id_contact|day|month|duration|campaign|pdays|previous|id_poutcome|target|\n",
            "+---+---+------+----------+------------+-------+-------+-------+----+----------+---+-----+--------+--------+-----+--------+-----------+------+\n",
            "|  1| 30|     1|         M|           P|     no|   1787|     no|  no|         C| 19|  oct|      79|       1|   -1|       0|          U|    no|\n",
            "|  2| 33|     2|         M|           S|     no|   4789|    yes| yes|         C| 11|  may|     220|       1|  339|       4|          F|    no|\n",
            "|  3| 35|     3|         S|           T|     no|   1350|    yes|  no|         C| 16|  apr|     185|       1|  330|       1|          F|    no|\n",
            "|  4| 30|     3|         M|           T|     no|   1476|    yes| yes|         U|  3|  jun|     199|       4|   -1|       0|          U|    no|\n",
            "|  5| 59|     4|         M|           S|     no|      0|    yes|  no|         U|  5|  may|     226|       1|   -1|       0|          U|    no|\n",
            "|  6| 35|     3|         S|           T|     no|    747|     no|  no|         C| 23|  feb|     141|       2|  176|       3|          F|    no|\n",
            "|  7| 36|     5|         M|           T|     no|    307|    yes|  no|         C| 14|  may|     341|       1|  330|       2|          O|    no|\n",
            "|  8| 39|     6|         M|           S|     no|    147|    yes|  no|         C|  6|  may|     151|       2|   -1|       0|          U|    no|\n",
            "|  9| 41|     7|         M|           T|     no|    221|    yes|  no|         U| 14|  may|      57|       2|   -1|       0|          U|    no|\n",
            "| 10| 43|     2|         M|           P|     no|    -88|    yes| yes|         C| 17|  apr|     313|       1|  147|       2|          F|    no|\n",
            "| 11| 39|     2|         M|           S|     no|   9374|    yes|  no|         U| 20|  may|     273|       1|   -1|       0|          U|    no|\n",
            "| 12| 43|     8|         M|           S|     no|    264|    yes|  no|         C| 17|  apr|     113|       2|   -1|       0|          U|    no|\n",
            "| 13| 36|     6|         M|           T|     no|   1109|     no|  no|         C| 13|  aug|     328|       2|   -1|       0|          U|    no|\n",
            "| 14| 20|     9|         S|           S|     no|    502|     no|  no|         C| 30|  apr|     261|       1|   -1|       0|          U|   yes|\n",
            "| 15| 31|     4|         M|           S|     no|    360|    yes| yes|         C| 29|  jan|      89|       1|  241|       1|          F|    no|\n",
            "| 16| 40|     3|         M|           T|     no|    194|     no| yes|         C| 29|  aug|     189|       2|   -1|       0|          U|    no|\n",
            "| 17| 56|     6|         M|           S|     no|   4073|     no|  no|         C| 27|  aug|     239|       5|   -1|       0|          U|    no|\n",
            "| 18| 37|     8|         S|           T|     no|   2317|    yes|  no|         C| 20|  apr|     114|       1|  152|       2|          F|    no|\n",
            "| 19| 25|     4|         S|           P|     no|   -221|    yes|  no|         U| 23|  may|     250|       1|   -1|       0|          U|    no|\n",
            "| 20| 31|     2|         M|           S|     no|    132|     no|  no|         C|  7|  jul|     148|       1|  152|       1|          O|    no|\n",
            "+---+---+------+----------+------------+-------+-------+-------+----+----------+---+-----+--------+--------+-----+--------+-----------+------+\n",
            "only showing top 20 rows\n",
            "\n"
          ]
        }
      ]
    },
    {
      "cell_type": "code",
      "source": [
        "dfTrabajo.show()"
      ],
      "metadata": {
        "id": "aUFOTTkVMQWX",
        "outputId": "80929da1-835b-47f6-d557-8c19273190db",
        "colab": {
          "base_uri": "https://localhost:8080/"
        }
      },
      "execution_count": 32,
      "outputs": [
        {
          "output_type": "stream",
          "name": "stdout",
          "text": [
            "+------+-------------+\n",
            "|job_id|          job|\n",
            "+------+-------------+\n",
            "|     1|   unemployed|\n",
            "|     2|     services|\n",
            "|     3|   management|\n",
            "|     4|  blue-collar|\n",
            "|     5|self-employed|\n",
            "|     6|   technician|\n",
            "|     7| entrepreneur|\n",
            "|     8|       admin.|\n",
            "|     9|      student|\n",
            "|    10|    housemaid|\n",
            "|    11|      retired|\n",
            "|    12|      unknown|\n",
            "+------+-------------+\n",
            "\n"
          ]
        }
      ]
    },
    {
      "cell_type": "code",
      "source": [
        "dfEducacion.show()"
      ],
      "metadata": {
        "id": "jrEteAlXMQ_N",
        "outputId": "4cfb59d8-0fa8-41c8-9f39-3ad59473c276",
        "colab": {
          "base_uri": "https://localhost:8080/"
        }
      },
      "execution_count": 33,
      "outputs": [
        {
          "output_type": "stream",
          "name": "stdout",
          "text": [
            "+------------+---------+\n",
            "|id_education|education|\n",
            "+------------+---------+\n",
            "|           P|  primary|\n",
            "|           S|secondary|\n",
            "|           T| tertiary|\n",
            "|           U|  unknown|\n",
            "+------------+---------+\n",
            "\n"
          ]
        }
      ]
    },
    {
      "cell_type": "code",
      "source": [
        "dfBanco.where(F.col('age')>=21)\\\n",
        ".join(dfTrabajo, on=['job_id'])\\\n",
        ".join(dfEducacion.where(F.col('education')!='unknown'), on = ['id_education'])\\\n",
        ".groupby('job', 'education')\\\n",
        ".agg(F.sum('balance').alias('Total Balance'), F.count('*').alias('Total Registros')).show()"
      ],
      "metadata": {
        "id": "t7_nkIrKMRQu",
        "outputId": "cb1cfa46-e92b-4069-9845-60e5aaad0c28",
        "colab": {
          "base_uri": "https://localhost:8080/"
        }
      },
      "execution_count": 35,
      "outputs": [
        {
          "output_type": "stream",
          "name": "stdout",
          "text": [
            "+-------------+---------+-------------+---------------+\n",
            "|          job|education|Total Balance|Total Registros|\n",
            "+-------------+---------+-------------+---------------+\n",
            "|      retired|  primary|       219568|             80|\n",
            "|   management| tertiary|      1397982|            787|\n",
            "| entrepreneur|secondary|        74018|             58|\n",
            "|   technician|secondary|       599876|            520|\n",
            "|      student|secondary|        73404|             43|\n",
            "|      student| tertiary|        22338|             19|\n",
            "|       admin.| tertiary|        53718|             51|\n",
            "|   technician| tertiary|       344274|            211|\n",
            "|  blue-collar| tertiary|        28626|             12|\n",
            "|      unknown|secondary|         9832|              8|\n",
            "|       admin.|secondary|       498984|            393|\n",
            "|   management|secondary|       145012|            116|\n",
            "| entrepreneur| tertiary|       188771|             73|\n",
            "|  blue-collar|secondary|       559942|            524|\n",
            "|    housemaid|  primary|       103005|             57|\n",
            "|self-employed|secondary|        88506|             76|\n",
            "|     services|secondary|       362595|            363|\n",
            "|   technician|  primary|        38895|             15|\n",
            "|    housemaid| tertiary|        52636|             22|\n",
            "|   management|  primary|       104731|             39|\n",
            "+-------------+---------+-------------+---------------+\n",
            "only showing top 20 rows\n",
            "\n"
          ]
        }
      ]
    },
    {
      "cell_type": "code",
      "source": [
        ""
      ],
      "metadata": {
        "id": "JWDTFQJrMRi1"
      },
      "execution_count": null,
      "outputs": []
    }
  ]
}