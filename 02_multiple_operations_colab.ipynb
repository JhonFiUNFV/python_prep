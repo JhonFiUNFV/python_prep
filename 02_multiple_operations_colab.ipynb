{
  "nbformat": 4,
  "nbformat_minor": 0,
  "metadata": {
    "colab": {
      "name": "02_multiple_operations_colab.ipynb",
      "provenance": [],
      "collapsed_sections": [],
      "include_colab_link": true
    },
    "kernelspec": {
      "display_name": "Python 3",
      "language": "python",
      "name": "python3"
    },
    "language_info": {
      "codemirror_mode": {
        "name": "ipython",
        "version": 3
      },
      "file_extension": ".py",
      "mimetype": "text/x-python",
      "name": "python",
      "nbconvert_exporter": "python",
      "pygments_lexer": "ipython3",
      "version": "3.8.3"
    },
    "accelerator": "GPU"
  },
  "cells": [
    {
      "cell_type": "markdown",
      "metadata": {
        "id": "view-in-github",
        "colab_type": "text"
      },
      "source": [
        "<a href=\"https://colab.research.google.com/github/JhonFiUNFV/python_prep/blob/master/02_multiple_operations_colab.ipynb\" target=\"_parent\"><img src=\"https://colab.research.google.com/assets/colab-badge.svg\" alt=\"Open In Colab\"/></a>"
      ]
    },
    {
      "cell_type": "markdown",
      "metadata": {
        "id": "KdUFcDsdzRyw"
      },
      "source": [
        "# Clonamos el repositorio para obtener los dataSet"
      ]
    },
    {
      "cell_type": "code",
      "metadata": {
        "id": "mHReFf3_y9ms"
      },
      "source": [
        "!git clone https://github.com/joanby/tensorflow.git"
      ],
      "execution_count": null,
      "outputs": []
    },
    {
      "cell_type": "markdown",
      "metadata": {
        "id": "vNKZXgtKzU2x"
      },
      "source": [
        "# Damos acceso a nuestro Drive"
      ]
    },
    {
      "cell_type": "code",
      "metadata": {
        "id": "5gu7KWnzzUQ0"
      },
      "source": [
        "from google.colab import drive\n",
        "drive.mount('/content/drive')"
      ],
      "execution_count": null,
      "outputs": []
    },
    {
      "cell_type": "markdown",
      "metadata": {
        "id": "1gUxIkHWzfHV"
      },
      "source": [
        "# Test it"
      ]
    },
    {
      "cell_type": "code",
      "metadata": {
        "id": "mIQt3jBMzYRE"
      },
      "source": [
        "!ls '/content/drive/My Drive' "
      ],
      "execution_count": null,
      "outputs": []
    },
    {
      "cell_type": "markdown",
      "metadata": {
        "id": "mHsK36uN0XB-"
      },
      "source": [
        "# Google colab tools"
      ]
    },
    {
      "cell_type": "code",
      "metadata": {
        "id": "kTzwfUPWzrm4"
      },
      "source": [
        "from google.colab import files # Para manejar los archivos y, por ejemplo, exportar a su navegador\n",
        "import glob # Para manejar los archivos y, por ejemplo, exportar a su navegador\n",
        "from google.colab import drive # Montar tu Google drive"
      ],
      "execution_count": null,
      "outputs": []
    },
    {
      "cell_type": "markdown",
      "metadata": {
        "id": "yQQ8nLiMY6wM"
      },
      "source": [
        "##Especificando la versión de TensorFlow\n",
        "\n",
        "Ejecutando \"importar tensorflow\" importará la versión por defecto (actualmente 2.x). Puedes usar la 1.x ejecutando una celda con la \"versión mágica de tensorflow\" **antes de ejecutar \"importar tensorflow\".\n",
        "\n",
        "### Si no funciona hacer el pip install\n"
      ]
    },
    {
      "cell_type": "code",
      "metadata": {
        "id": "1j---G3ZY6wN",
        "colab": {
          "base_uri": "https://localhost:8080/",
          "height": 34
        },
        "outputId": "0e19c31b-fc3c-4902-b52b-936a3a165ec1"
      },
      "source": [
        "#!pip install tensorflow==1.14\n",
        "%tensorflow_version 1.x"
      ],
      "execution_count": null,
      "outputs": [
        {
          "output_type": "stream",
          "text": [
            "TensorFlow 1.x selected.\n"
          ],
          "name": "stdout"
        }
      ]
    },
    {
      "cell_type": "markdown",
      "metadata": {
        "id": "S-OIfuWLujbt"
      },
      "source": [
        "# Importar Tensorflow"
      ]
    },
    {
      "cell_type": "code",
      "metadata": {
        "id": "OPSus73fumtP",
        "colab": {
          "base_uri": "https://localhost:8080/",
          "height": 34
        },
        "outputId": "8458342b-e18f-44c1-83ba-4d23543e3cec"
      },
      "source": [
        "import tensorflow as tf\n",
        "print(tf.__version__)"
      ],
      "execution_count": null,
      "outputs": [
        {
          "output_type": "stream",
          "text": [
            "1.15.2\n"
          ],
          "name": "stdout"
        }
      ]
    },
    {
      "cell_type": "code",
      "metadata": {
        "id": "VQheSGsEBdD3"
      },
      "source": [
        "session = tf.Session()"
      ],
      "execution_count": null,
      "outputs": []
    },
    {
      "cell_type": "markdown",
      "metadata": {
        "id": "qzlBylUEmQJ0"
      },
      "source": [
        "# Operaciones por capas"
      ]
    },
    {
      "cell_type": "markdown",
      "metadata": {
        "id": "0SQXoIAQBaHU"
      },
      "source": [
        "- $X \\in \\mathbb R_{3\\times 4}$"
      ]
    },
    {
      "cell_type": "code",
      "metadata": {
        "id": "AwPNJepKmJAJ",
        "colab": {
          "base_uri": "https://localhost:8080/",
          "height": 68
        },
        "outputId": "023a414f-354f-467e-a3e7-fc9a40ed8b5b"
      },
      "source": [
        "import numpy as np\n",
        "my_array = np.array([[1.,3.,5.,7.],\n",
        "                     [-2.,0.,7.,6.],\n",
        "                     [-6.,-1.,0.,3.]])\n",
        "my_array"
      ],
      "execution_count": null,
      "outputs": [
        {
          "output_type": "execute_result",
          "data": {
            "text/plain": [
              "array([[ 1.,  3.,  5.,  7.],\n",
              "       [-2.,  0.,  7.,  6.],\n",
              "       [-6., -1.,  0.,  3.]])"
            ]
          },
          "metadata": {
            "tags": []
          },
          "execution_count": 5
        }
      ]
    },
    {
      "cell_type": "code",
      "metadata": {
        "id": "FvgbwHq3mbJv",
        "colab": {
          "base_uri": "https://localhost:8080/",
          "height": 136
        },
        "outputId": "ddc57e5e-028a-4d5e-e554-1a19575b21f6"
      },
      "source": [
        "x_vals = np.array([my_array, my_array+1])\n",
        "x_vals"
      ],
      "execution_count": null,
      "outputs": [
        {
          "output_type": "execute_result",
          "data": {
            "text/plain": [
              "array([[[ 1.,  3.,  5.,  7.],\n",
              "        [-2.,  0.,  7.,  6.],\n",
              "        [-6., -1.,  0.,  3.]],\n",
              "\n",
              "       [[ 2.,  4.,  6.,  8.],\n",
              "        [-1.,  1.,  8.,  7.],\n",
              "        [-5.,  0.,  1.,  4.]]])"
            ]
          },
          "metadata": {
            "tags": []
          },
          "execution_count": 6
        }
      ]
    },
    {
      "cell_type": "code",
      "metadata": {
        "id": "OkJtEI9hEuu0"
      },
      "source": [
        "x_data = tf.placeholder(tf.float32, shape=(3,4))"
      ],
      "execution_count": null,
      "outputs": []
    },
    {
      "cell_type": "markdown",
      "metadata": {
        "id": "ddbagqFdBqw3"
      },
      "source": [
        "- $m_1 \\in \\mathbb R^4$\n",
        "- $m_2, a_1\\in \\mathbb R$"
      ]
    },
    {
      "cell_type": "code",
      "metadata": {
        "id": "JSVevVFAmoue"
      },
      "source": [
        "m1 = tf.constant([[1.], [0.], [-2.],[5.]])\n",
        "m2 = tf.constant([[7.]])\n",
        "a1 = tf.constant([[15.]])"
      ],
      "execution_count": null,
      "outputs": []
    },
    {
      "cell_type": "markdown",
      "metadata": {
        "id": "k4_hTZjCByiC"
      },
      "source": [
        "$$[(X\\cdot m_1)\\cdot m_2]+a_1$$"
      ]
    },
    {
      "cell_type": "code",
      "metadata": {
        "id": "5lF0KuqRB0Cw"
      },
      "source": [
        "prod1 = tf.matmul(x_data, m1)\n",
        "prod2 = tf.matmul(prod1, m2)\n",
        "add1 = tf.add(prod2, a1)"
      ],
      "execution_count": null,
      "outputs": []
    },
    {
      "cell_type": "code",
      "metadata": {
        "id": "onQN1h1qB11F",
        "colab": {
          "base_uri": "https://localhost:8080/",
          "height": 119
        },
        "outputId": "19e20ecf-33c1-4d3f-d64d-683163dcefb3"
      },
      "source": [
        "for x_val in x_vals:\n",
        "    print(session.run(add1, feed_dict={x_data: x_val}))"
      ],
      "execution_count": null,
      "outputs": [
        {
          "output_type": "stream",
          "text": [
            "[[197.]\n",
            " [113.]\n",
            " [ 78.]]\n",
            "[[225.]\n",
            " [141.]\n",
            " [106.]]\n"
          ],
          "name": "stdout"
        }
      ]
    }
  ]
}