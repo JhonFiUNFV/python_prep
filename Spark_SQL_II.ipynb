{
  "nbformat": 4,
  "nbformat_minor": 0,
  "metadata": {
    "colab": {
      "name": "Spark_SQL_II.ipynb",
      "provenance": [],
      "collapsed_sections": [],
      "include_colab_link": true
    },
    "kernelspec": {
      "name": "python3",
      "display_name": "Python 3"
    }
  },
  "cells": [
    {
      "cell_type": "markdown",
      "metadata": {
        "id": "view-in-github",
        "colab_type": "text"
      },
      "source": [
        "<a href=\"https://colab.research.google.com/github/JhonFiUNFV/python_prep/blob/master/Spark_SQL_II.ipynb\" target=\"_parent\"><img src=\"https://colab.research.google.com/assets/colab-badge.svg\" alt=\"Open In Colab\"/></a>"
      ]
    },
    {
      "cell_type": "markdown",
      "metadata": {
        "id": "-5C-xm_SJxYf"
      },
      "source": [
        "# 1.- Configuracion Entorno Spark"
      ]
    },
    {
      "cell_type": "code",
      "metadata": {
        "id": "dhh9wd0vJwmW",
        "colab": {
          "base_uri": "https://localhost:8080/"
        },
        "outputId": "6ae2f534-a667-44e9-bdc9-114227d0881d"
      },
      "source": [
        "# Descargamos spark con hadoop y Java\n",
        "!apt-get update # Actualizar el gestor de paquetes de Linux\n",
        "!apt-get install openjdk-8-jdk-headless -qq > /dev/null # Descargar Java\n",
        "!wget -q https://dlcdn.apache.org/spark/spark-2.4.8/spark-2.4.8-bin-hadoop2.7.tgz # Descargar Apache Spark\n",
        "!tar xf spark-2.4.8-bin-hadoop2.7.tgz #Descomprimir Spark\n",
        "!pip install -q findspark # Para Utilizar Spark"
      ],
      "execution_count": null,
      "outputs": [
        {
          "output_type": "stream",
          "text": [
            "\r0% [Working]\r            \rGet:1 http://security.ubuntu.com/ubuntu bionic-security InRelease [88.7 kB]\n",
            "\r0% [Connecting to archive.ubuntu.com (91.189.88.142)] [1 InRelease 14.2 kB/88.7\r                                                                               \rHit:2 https://cloud.r-project.org/bin/linux/ubuntu bionic-cran40/ InRelease\n",
            "\r0% [Connecting to archive.ubuntu.com (91.189.88.142)] [1 InRelease 14.2 kB/88.7\r                                                                               \rIgn:3 https://developer.download.nvidia.com/compute/cuda/repos/ubuntu1804/x86_64  InRelease\n",
            "\r0% [Connecting to archive.ubuntu.com (91.189.88.142)] [1 InRelease 14.2 kB/88.7\r0% [2 InRelease gpgv 3,626 B] [Connecting to archive.ubuntu.com (91.189.88.142)\r                                                                               \rIgn:4 https://developer.download.nvidia.com/compute/machine-learning/repos/ubuntu1804/x86_64  InRelease\n",
            "\r0% [2 InRelease gpgv 3,626 B] [Connecting to archive.ubuntu.com (91.189.88.142)\r                                                                               \rHit:5 https://developer.download.nvidia.com/compute/cuda/repos/ubuntu1804/x86_64  Release\n",
            "Hit:6 https://developer.download.nvidia.com/compute/machine-learning/repos/ubuntu1804/x86_64  Release\n",
            "Hit:7 http://ppa.launchpad.net/c2d4u.team/c2d4u4.0+/ubuntu bionic InRelease\n",
            "Hit:8 http://archive.ubuntu.com/ubuntu bionic InRelease\n",
            "Get:9 http://archive.ubuntu.com/ubuntu bionic-updates InRelease [88.7 kB]\n",
            "Hit:10 http://ppa.launchpad.net/graphics-drivers/ppa/ubuntu bionic InRelease\n",
            "Get:13 http://archive.ubuntu.com/ubuntu bionic-backports InRelease [74.6 kB]\n",
            "Fetched 252 kB in 2s (141 kB/s)\n",
            "Reading package lists... Done\n"
          ],
          "name": "stdout"
        }
      ]
    },
    {
      "cell_type": "code",
      "metadata": {
        "id": "1cAFUUjSJ5mO"
      },
      "source": [
        "# Seteamos las variables de entorno\n",
        "import os\n",
        "os.environ[\"JAVA_HOME\"] = \"/usr/lib/jvm/java-8-openjdk-amd64\"\n",
        "os.environ[\"SPARK_HOME\"] = \"/content/spark-2.4.8-bin-hadoop2.7\""
      ],
      "execution_count": null,
      "outputs": []
    },
    {
      "cell_type": "code",
      "metadata": {
        "id": "396Rj7AvJ5o6"
      },
      "source": [
        "# Creamos la conexion a Spark \n",
        "import findspark\n",
        "findspark.init()\n",
        "from pyspark.sql import SparkSession\n",
        "spark = SparkSession.builder.master(\"local[*]\").getOrCreate()"
      ],
      "execution_count": null,
      "outputs": []
    },
    {
      "cell_type": "code",
      "metadata": {
        "id": "RuV1aPD2J8Wv",
        "colab": {
          "base_uri": "https://localhost:8080/",
          "height": 216
        },
        "outputId": "4a19ff20-a922-4e9f-b896-0582b335676c"
      },
      "source": [
        "spark"
      ],
      "execution_count": null,
      "outputs": [
        {
          "output_type": "execute_result",
          "data": {
            "text/html": [
              "\n",
              "            <div>\n",
              "                <p><b>SparkSession - in-memory</b></p>\n",
              "                \n",
              "        <div>\n",
              "            <p><b>SparkContext</b></p>\n",
              "\n",
              "            <p><a href=\"http://05f5b70c10f6:4040\">Spark UI</a></p>\n",
              "\n",
              "            <dl>\n",
              "              <dt>Version</dt>\n",
              "                <dd><code>v2.4.7</code></dd>\n",
              "              <dt>Master</dt>\n",
              "                <dd><code>local[*]</code></dd>\n",
              "              <dt>AppName</dt>\n",
              "                <dd><code>pyspark-shell</code></dd>\n",
              "            </dl>\n",
              "        </div>\n",
              "        \n",
              "            </div>\n",
              "        "
            ],
            "text/plain": [
              "<pyspark.sql.session.SparkSession at 0x7fd862454e80>"
            ]
          },
          "metadata": {
            "tags": []
          },
          "execution_count": 76
        }
      ]
    },
    {
      "cell_type": "markdown",
      "metadata": {
        "id": "srmJOxsBJ99f"
      },
      "source": [
        "# 2.- Importacion de Librerias"
      ]
    },
    {
      "cell_type": "code",
      "metadata": {
        "id": "zscn226iJ_mF"
      },
      "source": [
        "# Librerias Spark\n",
        "from pyspark.sql import functions as F\n",
        "\n",
        "#Librerias Python\n",
        "import pandas as pd"
      ],
      "execution_count": null,
      "outputs": []
    },
    {
      "cell_type": "markdown",
      "metadata": {
        "id": "OcJptGJ-KCCo"
      },
      "source": [
        "# 3.- Importacion de Datos"
      ]
    },
    {
      "cell_type": "code",
      "metadata": {
        "id": "zEDZBfmQKDif",
        "colab": {
          "base_uri": "https://localhost:8080/"
        },
        "outputId": "46055fcf-f7a1-4b36-ebaf-74d971b71b66"
      },
      "source": [
        "from google.colab import drive\n",
        "drive.mount('/content/drive')"
      ],
      "execution_count": null,
      "outputs": [
        {
          "output_type": "stream",
          "text": [
            "Drive already mounted at /content/drive; to attempt to forcibly remount, call drive.mount(\"/content/drive\", force_remount=True).\n"
          ],
          "name": "stdout"
        }
      ]
    },
    {
      "cell_type": "code",
      "metadata": {
        "id": "RAGJ6vfeLRqT"
      },
      "source": [
        "# Poner la direcion de la ruta aqui\n",
        "ruta = \"/content/drive/MyDrive/DATA/Data_Estudiantes/\""
      ],
      "execution_count": null,
      "outputs": []
    },
    {
      "cell_type": "markdown",
      "metadata": {
        "id": "DtNXyz81KjlQ"
      },
      "source": [
        "## 3.1.- Base de Cursos"
      ]
    },
    {
      "cell_type": "code",
      "metadata": {
        "id": "dX8l9UuHKioZ",
        "colab": {
          "base_uri": "https://localhost:8080/"
        },
        "outputId": "3d3e65ac-f9ef-40b7-d56b-83e2aef10d2e"
      },
      "source": [
        "# Importar el archivo \"Curso.csv\"\n",
        "curso = spark.read.csv(ruta + 'Curso.csv', sep = ';', header = True, inferSchema = True)\n",
        "curso.show()"
      ],
      "execution_count": null,
      "outputs": [
        {
          "output_type": "stream",
          "text": [
            "+-------+----------------+-----+--------+------------+\n",
            "|idCurso|          nombre|costo|duracion|idInstructor|\n",
            "+-------+----------------+-----+--------+------------+\n",
            "|      1|             SQL|  100|       2|           6|\n",
            "|      2|          Python|   80|       5|           3|\n",
            "|      3|               R|   70|       5|           2|\n",
            "|      4|    SPSS Modeler|   50|       4|           1|\n",
            "|      5|Machine Learning|  200|       8|           1|\n",
            "|      6|        Big Data|  150|       6|           5|\n",
            "|      7|         Tableau|   60|       2|           6|\n",
            "|      8|           Linux|   75|       4|        null|\n",
            "+-------+----------------+-----+--------+------------+\n",
            "\n"
          ],
          "name": "stdout"
        }
      ]
    },
    {
      "cell_type": "markdown",
      "metadata": {
        "id": "6thOPgdrK3C3"
      },
      "source": [
        "## 3.2.- Base de Estudiantes"
      ]
    },
    {
      "cell_type": "code",
      "metadata": {
        "id": "fP8VMTSkK3Km",
        "colab": {
          "base_uri": "https://localhost:8080/"
        },
        "outputId": "d30302e0-6be8-47de-a2e8-fcb34504cdcf"
      },
      "source": [
        "# Importar el archivo \"Estudiantes.csv\"\n",
        "estudiantes = spark.read.csv(ruta + \"Estudiantes.csv\",\n",
        "                             sep = '|', header = True, inferSchema = True)\n",
        "estudiantes.show()"
      ],
      "execution_count": null,
      "outputs": [
        {
          "output_type": "stream",
          "text": [
            "+-------------+-----------+----------+---------+\n",
            "|codEstudiante|     nombre|  apellido| telefono|\n",
            "+-------------+-----------+----------+---------+\n",
            "|            1|Jean Pierre|    Levano|987654321|\n",
            "|            2|      Sandy|  Carbajal|987654322|\n",
            "|            3|   Josselin|     Taipe|987654323|\n",
            "|            4|      James|Surichaqui|987654324|\n",
            "|            5|     Javier|      Ruiz|987654325|\n",
            "|            6|    Enrique|   Basauri|987654326|\n",
            "|            7|  Alexander|  Broncano|987654327|\n",
            "|            8|      Marco|     Marin|987654328|\n",
            "|            9|      Oscar|    Urbano|987654329|\n",
            "|           10|   Yankarlo|   Vilchez|987654330|\n",
            "|           11|  Giancarlo|  Torrejon|987654331|\n",
            "|           12|    Roberto|   Alvarez|987654332|\n",
            "|           13|      Bruno|      Diaz|987654333|\n",
            "+-------------+-----------+----------+---------+\n",
            "\n"
          ],
          "name": "stdout"
        }
      ]
    },
    {
      "cell_type": "markdown",
      "metadata": {
        "id": "MiA5hYCPK3TX"
      },
      "source": [
        "## 3.1.- Base de Instructores"
      ]
    },
    {
      "cell_type": "code",
      "metadata": {
        "id": "zms50vo5K3bP",
        "colab": {
          "base_uri": "https://localhost:8080/"
        },
        "outputId": "3ab1cb05-bcaf-4ed0-b36b-51f64b2ebb89"
      },
      "source": [
        "# Importar el archivo \"Instructor.txt\"\n",
        "instructor = spark.read.csv(ruta + \"Instructor.txt\", sep=\"\\t\", header=True,inferSchema=True)\n",
        "instructor.show()"
      ],
      "execution_count": null,
      "outputs": [
        {
          "output_type": "stream",
          "text": [
            "+------------+------+---------+---------+\n",
            "|idInstructor|nombre| apellido| telefono|\n",
            "+------------+------+---------+---------+\n",
            "|           1| Andre|   Chavez|123456789|\n",
            "|           2|  Jose| Cardenas|123456788|\n",
            "|           3| Mario|Bocanegra|123456787|\n",
            "|           4|Charli|  Gutarra|123456786|\n",
            "|           5|  Aldo|   Chavez|123456785|\n",
            "|           6| Frank|   Rivera|123456784|\n",
            "|           7|Walter|   Pinedo|123456783|\n",
            "+------------+------+---------+---------+\n",
            "\n"
          ],
          "name": "stdout"
        }
      ]
    },
    {
      "cell_type": "markdown",
      "metadata": {
        "id": "1vOvpSTPK3ji"
      },
      "source": [
        "## 3.1.- Base de Matriculas"
      ]
    },
    {
      "cell_type": "code",
      "metadata": {
        "id": "DP4bxzdWK3rK",
        "colab": {
          "base_uri": "https://localhost:8080/"
        },
        "outputId": "c32a3bf1-ebb4-490a-95b8-1de3cf2dd466"
      },
      "source": [
        "# Importar el archivo \"Matricula.txt\"\n",
        "matricula = spark.read.csv(ruta + \"Matricula.txt\",\n",
        "                           sep=\"\\t\",header=True,inferSchema=True)\n",
        "matricula.show(5)"
      ],
      "execution_count": null,
      "outputs": [
        {
          "output_type": "stream",
          "text": [
            "+-------+------------+-------+----+------------+\n",
            "|idCurso|idEstudiante|periodo|nota|idInstructor|\n",
            "+-------+------------+-------+----+------------+\n",
            "|      1|           1| 201801|   7|           6|\n",
            "|      1|           2| 201801|   8|           6|\n",
            "|      1|           3| 201801|   9|           6|\n",
            "|      1|           4| 201801|   2|           6|\n",
            "|      2|           1| 201801|   5|           3|\n",
            "+-------+------------+-------+----+------------+\n",
            "only showing top 5 rows\n",
            "\n"
          ],
          "name": "stdout"
        }
      ]
    },
    {
      "cell_type": "markdown",
      "metadata": {
        "id": "-ZAUkFFQLnrY"
      },
      "source": [
        "# 4.- Uso de Join"
      ]
    },
    {
      "cell_type": "code",
      "metadata": {
        "id": "AAikuHgHC3Sm"
      },
      "source": [
        "SELECT A.*, B.*\n",
        "FROM TABLA1 A\n",
        "[INNER|LEFT|RIGTH|FULL] JOIN TABLA2 ON A.CLAVE1 = B.CLAVE2"
      ],
      "execution_count": null,
      "outputs": []
    },
    {
      "cell_type": "markdown",
      "metadata": {
        "id": "IusykSUHL3us"
      },
      "source": [
        "## 4.1.- Inner Join\n",
        "\n",
        "    // Inner join implicito\n",
        "    Cuando las claves son iguales:\n",
        "    df1.join(df2, on=[\"clave\"])\n",
        "    Cuando las claves no son iguales:\n",
        "    df1.join(df2, df1(\"clave1\") == df2(\"clave2\"))\n",
        "    \n",
        "    // Inner join explicito\n",
        "    Cuando las claves son iguales:\n",
        "    df1.join(df2, on=[\"clave\"], how='inner')\n",
        "    Cuando las claves no son iguales:\n",
        "    df1.join(df2, df1(\"clave1\") == df2(\"clave2\"), \"inner\")"
      ]
    },
    {
      "cell_type": "code",
      "metadata": {
        "id": "3Wvovp7NL9Tu",
        "colab": {
          "base_uri": "https://localhost:8080/"
        },
        "outputId": "987ec35d-6dab-4a2b-fd9f-be3f60459ce9"
      },
      "source": [
        "# SELECT A.*, B.*\n",
        "# FROM CURSO A\n",
        "# INNER JOIN INSTRUCTOR B\n",
        "# ON A.idInstructor = B.idInstructor\n",
        "# Forma 1\n",
        "curso.join(instructor, on=[\"idInstructor\"]).show()"
      ],
      "execution_count": null,
      "outputs": [
        {
          "output_type": "stream",
          "text": [
            "+------------+-------+----------------+-----+--------+------+---------+---------+\n",
            "|idInstructor|idCurso|          nombre|costo|duracion|nombre| apellido| telefono|\n",
            "+------------+-------+----------------+-----+--------+------+---------+---------+\n",
            "|           1|      5|Machine Learning|  200|       8| Andre|   Chavez|123456789|\n",
            "|           1|      4|    SPSS Modeler|   50|       4| Andre|   Chavez|123456789|\n",
            "|           2|      3|               R|   70|       5|  Jose| Cardenas|123456788|\n",
            "|           3|      2|          Python|   80|       5| Mario|Bocanegra|123456787|\n",
            "|           5|      6|        Big Data|  150|       6|  Aldo|   Chavez|123456785|\n",
            "|           6|      7|         Tableau|   60|       2| Frank|   Rivera|123456784|\n",
            "|           6|      1|             SQL|  100|       2| Frank|   Rivera|123456784|\n",
            "+------------+-------+----------------+-----+--------+------+---------+---------+\n",
            "\n"
          ],
          "name": "stdout"
        }
      ]
    },
    {
      "cell_type": "code",
      "metadata": {
        "id": "yDY0PId2G1AS",
        "colab": {
          "base_uri": "https://localhost:8080/"
        },
        "outputId": "cfdd01d4-598e-41e7-e316-88f351a712d4"
      },
      "source": [
        "# Forma 2\n",
        "curso.join(instructor, curso[\"idInstructor\"] == instructor[\"idInstructor\"]).show()"
      ],
      "execution_count": null,
      "outputs": [
        {
          "output_type": "stream",
          "text": [
            "+-------+----------------+-----+--------+------------+------------+------+---------+---------+\n",
            "|idCurso|          nombre|costo|duracion|idInstructor|idInstructor|nombre| apellido| telefono|\n",
            "+-------+----------------+-----+--------+------------+------------+------+---------+---------+\n",
            "|      5|Machine Learning|  200|       8|           1|           1| Andre|   Chavez|123456789|\n",
            "|      4|    SPSS Modeler|   50|       4|           1|           1| Andre|   Chavez|123456789|\n",
            "|      3|               R|   70|       5|           2|           2|  Jose| Cardenas|123456788|\n",
            "|      2|          Python|   80|       5|           3|           3| Mario|Bocanegra|123456787|\n",
            "|      6|        Big Data|  150|       6|           5|           5|  Aldo|   Chavez|123456785|\n",
            "|      7|         Tableau|   60|       2|           6|           6| Frank|   Rivera|123456784|\n",
            "|      1|             SQL|  100|       2|           6|           6| Frank|   Rivera|123456784|\n",
            "+-------+----------------+-----+--------+------------+------------+------+---------+---------+\n",
            "\n"
          ],
          "name": "stdout"
        }
      ]
    },
    {
      "cell_type": "code",
      "metadata": {
        "id": "Hm2MBCuwGU0M",
        "colab": {
          "base_uri": "https://localhost:8080/"
        },
        "outputId": "c5c23657-7f80-442a-a5e6-ac59e64132f4"
      },
      "source": [
        "# SELECT A.*, B.NOMBRE as NOMBRE_PROFESOR, B.apellido as APELLIDO_PROFESOR\n",
        "# FROM curso A\n",
        "# inner join instructor B\n",
        "# on A.idInstructor = B.idInstructor\n",
        "curso.alias('A').join(instructor.alias('B'), on=[\"idInstructor\"])\\\n",
        "  .select(F.col('A.*'),\n",
        "           F.col('B.nombre').alias('NOMBREPROFESOR'),\n",
        "          F.col('B.apellido').alias('APELLIDO_PROFESOR') ).show()"
      ],
      "execution_count": null,
      "outputs": [
        {
          "output_type": "stream",
          "text": [
            "+------------+-------+----------------+-----+--------+--------------+-----------------+\n",
            "|idInstructor|idCurso|          nombre|costo|duracion|NOMBREPROFESOR|APELLIDO_PROFESOR|\n",
            "+------------+-------+----------------+-----+--------+--------------+-----------------+\n",
            "|           1|      5|Machine Learning|  200|       8|         Andre|           Chavez|\n",
            "|           1|      4|    SPSS Modeler|   50|       4|         Andre|           Chavez|\n",
            "|           2|      3|               R|   70|       5|          Jose|         Cardenas|\n",
            "|           3|      2|          Python|   80|       5|         Mario|        Bocanegra|\n",
            "|           5|      6|        Big Data|  150|       6|          Aldo|           Chavez|\n",
            "|           6|      7|         Tableau|   60|       2|         Frank|           Rivera|\n",
            "|           6|      1|             SQL|  100|       2|         Frank|           Rivera|\n",
            "+------------+-------+----------------+-----+--------+--------------+-----------------+\n",
            "\n"
          ],
          "name": "stdout"
        }
      ]
    },
    {
      "cell_type": "code",
      "metadata": {
        "id": "UovefwrWFw60",
        "colab": {
          "base_uri": "https://localhost:8080/"
        },
        "outputId": "4374869f-5320-4482-dc50-d68fbdd66b05"
      },
      "source": [
        "# SELECT A.nombre as NOMBRE_CURSO, B.NOMBRE as NOMBRE_PROFESOR\n",
        "# FROM curso A\n",
        "# inner join instructor B\n",
        "# on A.idInstructor = B.idInstructor\n",
        "curso.alias('A').join(instructor.alias('B'), F.col('A.idInstructor') == F.col('B.idInstructor') )\\\n",
        "  .select(F.col('A.nombre').alias('NOMBRE_CURSO'),\n",
        "          F.col('B.nombre').alias('NOMBRE_PROFESOR') ).show()"
      ],
      "execution_count": null,
      "outputs": [
        {
          "output_type": "stream",
          "text": [
            "+----------------+---------------+\n",
            "|    NOMBRE_CURSO|NOMBRE_PROFESOR|\n",
            "+----------------+---------------+\n",
            "|             SQL|          Frank|\n",
            "|          Python|          Mario|\n",
            "|               R|           Jose|\n",
            "|    SPSS Modeler|          Andre|\n",
            "|Machine Learning|          Andre|\n",
            "|        Big Data|           Aldo|\n",
            "|         Tableau|          Frank|\n",
            "+----------------+---------------+\n",
            "\n"
          ],
          "name": "stdout"
        }
      ]
    },
    {
      "cell_type": "markdown",
      "metadata": {
        "id": "RsDuTaIj5rcC"
      },
      "source": [
        "**Ejercicio 1: Mostrar el nombre del curso, el costo y el nombre y apellido del instructor que lo dicta**"
      ]
    },
    {
      "cell_type": "code",
      "metadata": {
        "id": "SP9rrqfIJYRH",
        "colab": {
          "base_uri": "https://localhost:8080/"
        },
        "outputId": "ca63c660-71a1-479e-a944-fc76b0ddb1b6"
      },
      "source": [
        "# Resolver Aqui\n",
        "curso.alias('A').join(instructor.alias('B'), on=[\"idInstructor\"])\\\n",
        "  .select(F.col('A.nombre'),F.col('A.costo'),\n",
        "           F.col('B.nombre').alias('Nombre_Instructor'),\n",
        "          F.col('B.apellido').alias('Apellido_Instructor') ).show()"
      ],
      "execution_count": null,
      "outputs": [
        {
          "output_type": "stream",
          "text": [
            "+----------------+-----+-----------------+-------------------+\n",
            "|          nombre|costo|Nombre_Instructor|Apellido_Instructor|\n",
            "+----------------+-----+-----------------+-------------------+\n",
            "|Machine Learning|  200|            Andre|             Chavez|\n",
            "|    SPSS Modeler|   50|            Andre|             Chavez|\n",
            "|               R|   70|             Jose|           Cardenas|\n",
            "|          Python|   80|            Mario|          Bocanegra|\n",
            "|        Big Data|  150|             Aldo|             Chavez|\n",
            "|         Tableau|   60|            Frank|             Rivera|\n",
            "|             SQL|  100|            Frank|             Rivera|\n",
            "+----------------+-----+-----------------+-------------------+\n",
            "\n"
          ],
          "name": "stdout"
        }
      ]
    },
    {
      "cell_type": "code",
      "metadata": {
        "colab": {
          "base_uri": "https://localhost:8080/"
        },
        "id": "4jpJg1ZaJqfP",
        "outputId": "b39d4e7f-7a92-4afd-e41a-67de9075cc7c"
      },
      "source": [
        "curso.alias('A').join(instructor.alias('B'), F.col('A.idInstructor') == F.col('B.idInstructor') )\\\n",
        "  .select(F.col('A.nombre').alias('NOMBRE_CURSO'),\n",
        "          F.col('A.costo').alias('COSTO'),\n",
        "          F.col('B.nombre').alias('NOMBRE_PROFESOR'),\n",
        "          F.col('B.apellido').alias('APELLIDO_PROFESOR'), ).show()"
      ],
      "execution_count": null,
      "outputs": [
        {
          "output_type": "stream",
          "text": [
            "+----------------+-----+---------------+-----------------+\n",
            "|    NOMBRE_CURSO|COSTO|NOMBRE_PROFESOR|APELLIDO_PROFESOR|\n",
            "+----------------+-----+---------------+-----------------+\n",
            "|Machine Learning|  200|          Andre|           Chavez|\n",
            "|    SPSS Modeler|   50|          Andre|           Chavez|\n",
            "|               R|   70|           Jose|         Cardenas|\n",
            "|          Python|   80|          Mario|        Bocanegra|\n",
            "|        Big Data|  150|           Aldo|           Chavez|\n",
            "|         Tableau|   60|          Frank|           Rivera|\n",
            "|             SQL|  100|          Frank|           Rivera|\n",
            "+----------------+-----+---------------+-----------------+\n",
            "\n"
          ],
          "name": "stdout"
        }
      ]
    },
    {
      "cell_type": "code",
      "metadata": {
        "colab": {
          "base_uri": "https://localhost:8080/"
        },
        "id": "F0HtufEgJ_Cd",
        "outputId": "4f2a4993-95e2-43fc-96d1-62d6f94ad978"
      },
      "source": [
        "curso.alias('A').join(instructor.alias('B'), on=[\"idInstructor\"])\\\n",
        "  .select(F.col('A.nombre').alias('NOMBRE_CURSO'),\n",
        "          F.col('A.costo').alias('COSTO_CURSO'),\n",
        "           F.col('B.nombre').alias('NOMBRE_INSTRUCTOR'),\n",
        "          F.col('B.apellido').alias('APELLIDO_INSTRUCTOR') ).show()"
      ],
      "execution_count": null,
      "outputs": [
        {
          "output_type": "stream",
          "text": [
            "+----------------+-----------+-----------------+-------------------+\n",
            "|    NOMBRE_CURSO|COSTO_CURSO|NOMBRE_INSTRUCTOR|APELLIDO_INSTRUCTOR|\n",
            "+----------------+-----------+-----------------+-------------------+\n",
            "|Machine Learning|        200|            Andre|             Chavez|\n",
            "|    SPSS Modeler|         50|            Andre|             Chavez|\n",
            "|               R|         70|             Jose|           Cardenas|\n",
            "|          Python|         80|            Mario|          Bocanegra|\n",
            "|        Big Data|        150|             Aldo|             Chavez|\n",
            "|         Tableau|         60|            Frank|             Rivera|\n",
            "|             SQL|        100|            Frank|             Rivera|\n",
            "+----------------+-----------+-----------------+-------------------+\n",
            "\n"
          ],
          "name": "stdout"
        }
      ]
    },
    {
      "cell_type": "code",
      "metadata": {
        "colab": {
          "base_uri": "https://localhost:8080/"
        },
        "id": "9WA4Na6PKLiZ",
        "outputId": "9385370b-5e76-40ae-d1f6-86fd9f9f4956"
      },
      "source": [
        "curso.alias('A').join(instructor.alias('B'), F.col('A.idInstructor') == F.col('B.idInstructor') )\\\n",
        "  .select(F.col('A.nombre').alias('NOMBRE_CURSO'),\n",
        "          F.col('A.costo').alias('COSTO_CURSO'),\n",
        "          F.col('B.nombre').alias('NOMBRE_PROFESOR'),\n",
        "          F.col('B.apellido').alias('APELLIDO_PROFESOR')).show()"
      ],
      "execution_count": null,
      "outputs": [
        {
          "output_type": "stream",
          "text": [
            "+----------------+-----------+---------------+-----------------+\n",
            "|    NOMBRE_CURSO|COSTO_CURSO|NOMBRE_PROFESOR|APELLIDO_PROFESOR|\n",
            "+----------------+-----------+---------------+-----------------+\n",
            "|Machine Learning|        200|          Andre|           Chavez|\n",
            "|    SPSS Modeler|         50|          Andre|           Chavez|\n",
            "|               R|         70|           Jose|         Cardenas|\n",
            "|          Python|         80|          Mario|        Bocanegra|\n",
            "|        Big Data|        150|           Aldo|           Chavez|\n",
            "|         Tableau|         60|          Frank|           Rivera|\n",
            "|             SQL|        100|          Frank|           Rivera|\n",
            "+----------------+-----------+---------------+-----------------+\n",
            "\n"
          ],
          "name": "stdout"
        }
      ]
    },
    {
      "cell_type": "markdown",
      "metadata": {
        "id": "OiDCs2PVL_g8"
      },
      "source": [
        "## 4.2.- Left Join\n",
        "\n",
        "    Cuando las claves son iguales:\n",
        "    df1.join(df2, on=[\"clave\"], how='left')\n",
        "    Cuando las claves no son iguales:\n",
        "    df1.join(df2, df1(\"clave1\") == df2(\"clave2\"), \"left\")"
      ]
    },
    {
      "cell_type": "code",
      "metadata": {
        "id": "KDppXIjtL_w_",
        "colab": {
          "base_uri": "https://localhost:8080/"
        },
        "outputId": "71866042-8687-4db8-86d7-f03da45ebe6b"
      },
      "source": [
        "# SELECT A.*, B.*\n",
        "# FROM CURSO A\n",
        "# LEFT JOIN INSTRUCTOR B\n",
        "# ON A.idInstructor = B.idInstructor\n",
        "# Forma 1\n",
        "curso.join(instructor, on=[\"idInstructor\"], how = 'left').show()"
      ],
      "execution_count": null,
      "outputs": [
        {
          "output_type": "stream",
          "text": [
            "+------------+-------+----------------+-----+--------+------+---------+---------+\n",
            "|idInstructor|idCurso|          nombre|costo|duracion|nombre| apellido| telefono|\n",
            "+------------+-------+----------------+-----+--------+------+---------+---------+\n",
            "|           6|      1|             SQL|  100|       2| Frank|   Rivera|123456784|\n",
            "|           3|      2|          Python|   80|       5| Mario|Bocanegra|123456787|\n",
            "|           2|      3|               R|   70|       5|  Jose| Cardenas|123456788|\n",
            "|           1|      4|    SPSS Modeler|   50|       4| Andre|   Chavez|123456789|\n",
            "|           1|      5|Machine Learning|  200|       8| Andre|   Chavez|123456789|\n",
            "|           5|      6|        Big Data|  150|       6|  Aldo|   Chavez|123456785|\n",
            "|           6|      7|         Tableau|   60|       2| Frank|   Rivera|123456784|\n",
            "|        null|      8|           Linux|   75|       4|  null|     null|     null|\n",
            "+------------+-------+----------------+-----+--------+------+---------+---------+\n",
            "\n"
          ],
          "name": "stdout"
        }
      ]
    },
    {
      "cell_type": "code",
      "metadata": {
        "id": "VMaQsrxRKumZ",
        "colab": {
          "base_uri": "https://localhost:8080/"
        },
        "outputId": "93ee10bf-3048-4ab9-b37a-160f5479546d"
      },
      "source": [
        "# Forma 2\n",
        "curso.join(instructor, curso[\"idInstructor\"] == instructor[\"idInstructor\"], how = 'left').show()"
      ],
      "execution_count": null,
      "outputs": [
        {
          "output_type": "stream",
          "text": [
            "+-------+----------------+-----+--------+------------+------------+------+---------+---------+\n",
            "|idCurso|          nombre|costo|duracion|idInstructor|idInstructor|nombre| apellido| telefono|\n",
            "+-------+----------------+-----+--------+------------+------------+------+---------+---------+\n",
            "|      1|             SQL|  100|       2|           6|           6| Frank|   Rivera|123456784|\n",
            "|      2|          Python|   80|       5|           3|           3| Mario|Bocanegra|123456787|\n",
            "|      3|               R|   70|       5|           2|           2|  Jose| Cardenas|123456788|\n",
            "|      4|    SPSS Modeler|   50|       4|           1|           1| Andre|   Chavez|123456789|\n",
            "|      5|Machine Learning|  200|       8|           1|           1| Andre|   Chavez|123456789|\n",
            "|      6|        Big Data|  150|       6|           5|           5|  Aldo|   Chavez|123456785|\n",
            "|      7|         Tableau|   60|       2|           6|           6| Frank|   Rivera|123456784|\n",
            "|      8|           Linux|   75|       4|        null|        null|  null|     null|     null|\n",
            "+-------+----------------+-----+--------+------------+------------+------+---------+---------+\n",
            "\n"
          ],
          "name": "stdout"
        }
      ]
    },
    {
      "cell_type": "code",
      "metadata": {
        "id": "bQmWbaOmL1Sy",
        "colab": {
          "base_uri": "https://localhost:8080/"
        },
        "outputId": "f4a8a28f-afda-4c52-d374-7a61d6811cce"
      },
      "source": [
        "# SELECT A.*, B.NOMBRE as NOMBRE_PROFESOR, B.apellido as APELLIDO_PROFESOR\n",
        "# FROM curso A\n",
        "# LEFT JOIN instructor B\n",
        "# ON A.idInstructor = B.idInstructor\n",
        "curso.alias('A').join(instructor.alias('B'), on=[\"idInstructor\"], how = 'left')\\\n",
        "  .select(F.col('A.*'),\n",
        "           F.col('B.nombre').alias('NOMBREPROFESOR'),\n",
        "          F.col('B.apellido').alias('APELLIDO_PROFESOR') ).show()"
      ],
      "execution_count": null,
      "outputs": [
        {
          "output_type": "stream",
          "text": [
            "+------------+-------+----------------+-----+--------+--------------+-----------------+\n",
            "|idInstructor|idCurso|          nombre|costo|duracion|NOMBREPROFESOR|APELLIDO_PROFESOR|\n",
            "+------------+-------+----------------+-----+--------+--------------+-----------------+\n",
            "|           6|      1|             SQL|  100|       2|         Frank|           Rivera|\n",
            "|           3|      2|          Python|   80|       5|         Mario|        Bocanegra|\n",
            "|           2|      3|               R|   70|       5|          Jose|         Cardenas|\n",
            "|           1|      4|    SPSS Modeler|   50|       4|         Andre|           Chavez|\n",
            "|           1|      5|Machine Learning|  200|       8|         Andre|           Chavez|\n",
            "|           5|      6|        Big Data|  150|       6|          Aldo|           Chavez|\n",
            "|           6|      7|         Tableau|   60|       2|         Frank|           Rivera|\n",
            "|        null|      8|           Linux|   75|       4|          null|             null|\n",
            "+------------+-------+----------------+-----+--------+--------------+-----------------+\n",
            "\n"
          ],
          "name": "stdout"
        }
      ]
    },
    {
      "cell_type": "code",
      "metadata": {
        "id": "IbnjtYm9MNwT",
        "colab": {
          "base_uri": "https://localhost:8080/"
        },
        "outputId": "d3915bf4-2ec4-4b89-ca76-e93b26eaf1d7"
      },
      "source": [
        "# SELECT A.nombre as NOMBRE_CURSO, B.NOMBRE as NOMBRE_PROFESOR\n",
        "# FROM curso A\n",
        "# LEFT join instructor B\n",
        "# ON A.idInstructor = B.idInstructor\n",
        "curso.alias('A').join(instructor.alias('B'), F.col('A.idInstructor') == F.col('B.idInstructor'), how = 'left')\\\n",
        "  .select(F.col('A.nombre').alias('NOMBRE_CURSO'),\n",
        "          F.col('B.nombre').alias('NOMBRE_PROFESOR') ).show()"
      ],
      "execution_count": null,
      "outputs": [
        {
          "output_type": "stream",
          "text": [
            "+----------------+---------------+\n",
            "|    NOMBRE_CURSO|NOMBRE_PROFESOR|\n",
            "+----------------+---------------+\n",
            "|             SQL|          Frank|\n",
            "|          Python|          Mario|\n",
            "|               R|           Jose|\n",
            "|    SPSS Modeler|          Andre|\n",
            "|Machine Learning|          Andre|\n",
            "|        Big Data|           Aldo|\n",
            "|         Tableau|          Frank|\n",
            "|           Linux|           null|\n",
            "+----------------+---------------+\n",
            "\n"
          ],
          "name": "stdout"
        }
      ]
    },
    {
      "cell_type": "markdown",
      "metadata": {
        "id": "EY1UYo6v61sG"
      },
      "source": [
        "**Pegar a la matricula el nombre de los cursos y el costo y mostrar cuantos matriculados hay por curso y el costo total**"
      ]
    },
    {
      "cell_type": "code",
      "metadata": {
        "id": "grlsFnFbK-JR",
        "colab": {
          "base_uri": "https://localhost:8080/"
        },
        "outputId": "dca6d2e9-c905-44d4-df1f-dc3760459da4"
      },
      "source": [
        "# Resolver Aqui\n",
        "matricula.alias('A').join(curso.alias('B'), F.col('A.idCurso') == F.col('B.idCurso'), how = 'left')\\\n",
        "  .select(F.col('A.*'), \n",
        "          F.col('B.nombre').alias('NOMBRE_CURSO'), F.col('B.costo') )\\\n",
        "  .groupby('NOMBRE_CURSO').agg( F.count('*').alias('Alumnos_Matriculados'), F.sum('costo').alias('Costo_Total') ).show()"
      ],
      "execution_count": null,
      "outputs": [
        {
          "output_type": "stream",
          "text": [
            "+----------------+--------------------+-----------+\n",
            "|    NOMBRE_CURSO|Alumnos_Matriculados|Costo_Total|\n",
            "+----------------+--------------------+-----------+\n",
            "|Machine Learning|                  12|       2400|\n",
            "|    SPSS Modeler|                   4|        200|\n",
            "|               R|                   4|        280|\n",
            "|        Big Data|                  12|       1800|\n",
            "|             SQL|                  16|       1600|\n",
            "|          Python|                   4|        320|\n",
            "|         Tableau|                   4|        240|\n",
            "+----------------+--------------------+-----------+\n",
            "\n"
          ],
          "name": "stdout"
        }
      ]
    },
    {
      "cell_type": "markdown",
      "metadata": {
        "id": "X_LhSzj6L_5v"
      },
      "source": [
        "## 4.3.- Rigth Join\n",
        "\n",
        "    Cuando las claves son iguales:\n",
        "    df1.join(df2, on=[\"clave\"], how='right')\n",
        "    Cuando las claves no son iguales:\n",
        "    df1.join(df2, df1(\"clave1\") == df2(\"clave2\"), \"right_outer\")"
      ]
    },
    {
      "cell_type": "code",
      "metadata": {
        "id": "fjEMZYLoMAA7",
        "colab": {
          "base_uri": "https://localhost:8080/"
        },
        "outputId": "632db2a9-e3b5-443b-897e-3d10574ff27f"
      },
      "source": [
        "# SELECT A.*, B.*\n",
        "# FROM CURSO A\n",
        "# LEFT JOIN INSTRUCTOR B\n",
        "# ON A.idInstructor = B.idInstructor\n",
        "# Forma 1\n",
        "curso.join(instructor, on=[\"idInstructor\"], how = 'right').show()"
      ],
      "execution_count": null,
      "outputs": [
        {
          "output_type": "stream",
          "text": [
            "+------------+-------+----------------+-----+--------+------+---------+---------+\n",
            "|idInstructor|idCurso|          nombre|costo|duracion|nombre| apellido| telefono|\n",
            "+------------+-------+----------------+-----+--------+------+---------+---------+\n",
            "|           1|      5|Machine Learning|  200|       8| Andre|   Chavez|123456789|\n",
            "|           1|      4|    SPSS Modeler|   50|       4| Andre|   Chavez|123456789|\n",
            "|           2|      3|               R|   70|       5|  Jose| Cardenas|123456788|\n",
            "|           3|      2|          Python|   80|       5| Mario|Bocanegra|123456787|\n",
            "|           4|   null|            null| null|    null|Charli|  Gutarra|123456786|\n",
            "|           5|      6|        Big Data|  150|       6|  Aldo|   Chavez|123456785|\n",
            "|           6|      7|         Tableau|   60|       2| Frank|   Rivera|123456784|\n",
            "|           6|      1|             SQL|  100|       2| Frank|   Rivera|123456784|\n",
            "|           7|   null|            null| null|    null|Walter|   Pinedo|123456783|\n",
            "+------------+-------+----------------+-----+--------+------+---------+---------+\n",
            "\n"
          ],
          "name": "stdout"
        }
      ]
    },
    {
      "cell_type": "code",
      "metadata": {
        "colab": {
          "base_uri": "https://localhost:8080/"
        },
        "id": "GUYwNPZ3PgE0",
        "outputId": "5304e87e-5ba8-4c7d-e2dd-41cc4c1afde5"
      },
      "source": [
        "instructor.join(curso, on=[\"idInstructor\"], how = 'left').show()"
      ],
      "execution_count": null,
      "outputs": [
        {
          "output_type": "stream",
          "text": [
            "+------------+------+---------+---------+-------+----------------+-----+--------+\n",
            "|idInstructor|nombre| apellido| telefono|idCurso|          nombre|costo|duracion|\n",
            "+------------+------+---------+---------+-------+----------------+-----+--------+\n",
            "|           1| Andre|   Chavez|123456789|      5|Machine Learning|  200|       8|\n",
            "|           1| Andre|   Chavez|123456789|      4|    SPSS Modeler|   50|       4|\n",
            "|           2|  Jose| Cardenas|123456788|      3|               R|   70|       5|\n",
            "|           3| Mario|Bocanegra|123456787|      2|          Python|   80|       5|\n",
            "|           4|Charli|  Gutarra|123456786|   null|            null| null|    null|\n",
            "|           5|  Aldo|   Chavez|123456785|      6|        Big Data|  150|       6|\n",
            "|           6| Frank|   Rivera|123456784|      7|         Tableau|   60|       2|\n",
            "|           6| Frank|   Rivera|123456784|      1|             SQL|  100|       2|\n",
            "|           7|Walter|   Pinedo|123456783|   null|            null| null|    null|\n",
            "+------------+------+---------+---------+-------+----------------+-----+--------+\n",
            "\n"
          ],
          "name": "stdout"
        }
      ]
    },
    {
      "cell_type": "code",
      "metadata": {
        "id": "2zNYgdhyM9rt",
        "colab": {
          "base_uri": "https://localhost:8080/"
        },
        "outputId": "7eb0330b-48d2-42d5-d5d7-a4ba5817a981"
      },
      "source": [
        "# Forma 2\n",
        "curso.join(instructor, curso[\"idInstructor\"] == instructor[\"idInstructor\"], how = 'right').show()"
      ],
      "execution_count": null,
      "outputs": [
        {
          "output_type": "stream",
          "text": [
            "+-------+----------------+-----+--------+------------+------------+------+---------+---------+\n",
            "|idCurso|          nombre|costo|duracion|idInstructor|idInstructor|nombre| apellido| telefono|\n",
            "+-------+----------------+-----+--------+------------+------------+------+---------+---------+\n",
            "|      5|Machine Learning|  200|       8|           1|           1| Andre|   Chavez|123456789|\n",
            "|      4|    SPSS Modeler|   50|       4|           1|           1| Andre|   Chavez|123456789|\n",
            "|      3|               R|   70|       5|           2|           2|  Jose| Cardenas|123456788|\n",
            "|      2|          Python|   80|       5|           3|           3| Mario|Bocanegra|123456787|\n",
            "|   null|            null| null|    null|        null|           4|Charli|  Gutarra|123456786|\n",
            "|      6|        Big Data|  150|       6|           5|           5|  Aldo|   Chavez|123456785|\n",
            "|      7|         Tableau|   60|       2|           6|           6| Frank|   Rivera|123456784|\n",
            "|      1|             SQL|  100|       2|           6|           6| Frank|   Rivera|123456784|\n",
            "|   null|            null| null|    null|        null|           7|Walter|   Pinedo|123456783|\n",
            "+-------+----------------+-----+--------+------------+------------+------+---------+---------+\n",
            "\n"
          ],
          "name": "stdout"
        }
      ]
    },
    {
      "cell_type": "markdown",
      "metadata": {
        "id": "qq5z-qhyMLVh"
      },
      "source": [
        "## 4.4.- Full Join\n",
        "\n",
        "    Cuando las claves son iguales:\n",
        "    df1.join(df2, on=[\"clave\"], how='full_outer')\n",
        "    Cuando las claves no son iguales:\n",
        "    df1.join(df2, df1(\"clave1\") == df2(\"clave2\"), \"full\")"
      ]
    },
    {
      "cell_type": "code",
      "metadata": {
        "id": "jO5PCL56NWPP",
        "colab": {
          "base_uri": "https://localhost:8080/"
        },
        "outputId": "30d060ef-ed13-4c41-8597-74a0d22d3951"
      },
      "source": [
        "# SELECT A.*, B.*\n",
        "# FROM CURSO A\n",
        "# LEFT JOIN INSTRUCTOR B\n",
        "# ON A.idInstructor = B.idInstructor\n",
        "# Forma 1\n",
        "curso.join(instructor, on=[\"idInstructor\"], how = 'full').show()"
      ],
      "execution_count": null,
      "outputs": [
        {
          "output_type": "stream",
          "text": [
            "+------------+-------+----------------+-----+--------+------+---------+---------+\n",
            "|idInstructor|idCurso|          nombre|costo|duracion|nombre| apellido| telefono|\n",
            "+------------+-------+----------------+-----+--------+------+---------+---------+\n",
            "|        null|      8|           Linux|   75|       4|  null|     null|     null|\n",
            "|           1|      4|    SPSS Modeler|   50|       4| Andre|   Chavez|123456789|\n",
            "|           1|      5|Machine Learning|  200|       8| Andre|   Chavez|123456789|\n",
            "|           6|      1|             SQL|  100|       2| Frank|   Rivera|123456784|\n",
            "|           6|      7|         Tableau|   60|       2| Frank|   Rivera|123456784|\n",
            "|           3|      2|          Python|   80|       5| Mario|Bocanegra|123456787|\n",
            "|           5|      6|        Big Data|  150|       6|  Aldo|   Chavez|123456785|\n",
            "|           4|   null|            null| null|    null|Charli|  Gutarra|123456786|\n",
            "|           7|   null|            null| null|    null|Walter|   Pinedo|123456783|\n",
            "|           2|      3|               R|   70|       5|  Jose| Cardenas|123456788|\n",
            "+------------+-------+----------------+-----+--------+------+---------+---------+\n",
            "\n"
          ],
          "name": "stdout"
        }
      ]
    },
    {
      "cell_type": "code",
      "metadata": {
        "id": "J7k9VvCXNWYW",
        "colab": {
          "base_uri": "https://localhost:8080/"
        },
        "outputId": "dd6994cc-cbd4-430d-bd27-e8cf7d715c6c"
      },
      "source": [
        "# Forma 2\n",
        "curso.join(instructor, curso[\"idInstructor\"] == instructor[\"idInstructor\"], how = 'full').show()"
      ],
      "execution_count": null,
      "outputs": [
        {
          "output_type": "stream",
          "text": [
            "+-------+----------------+-----+--------+------------+------------+------+---------+---------+\n",
            "|idCurso|          nombre|costo|duracion|idInstructor|idInstructor|nombre| apellido| telefono|\n",
            "+-------+----------------+-----+--------+------------+------------+------+---------+---------+\n",
            "|      8|           Linux|   75|       4|        null|        null|  null|     null|     null|\n",
            "|      4|    SPSS Modeler|   50|       4|           1|           1| Andre|   Chavez|123456789|\n",
            "|      5|Machine Learning|  200|       8|           1|           1| Andre|   Chavez|123456789|\n",
            "|      1|             SQL|  100|       2|           6|           6| Frank|   Rivera|123456784|\n",
            "|      7|         Tableau|   60|       2|           6|           6| Frank|   Rivera|123456784|\n",
            "|      2|          Python|   80|       5|           3|           3| Mario|Bocanegra|123456787|\n",
            "|      6|        Big Data|  150|       6|           5|           5|  Aldo|   Chavez|123456785|\n",
            "|   null|            null| null|    null|        null|           4|Charli|  Gutarra|123456786|\n",
            "|   null|            null| null|    null|        null|           7|Walter|   Pinedo|123456783|\n",
            "|      3|               R|   70|       5|           2|           2|  Jose| Cardenas|123456788|\n",
            "+-------+----------------+-----+--------+------------+------------+------+---------+---------+\n",
            "\n"
          ],
          "name": "stdout"
        }
      ]
    },
    {
      "cell_type": "code",
      "metadata": {
        "id": "wxaHyd_g7N8E",
        "colab": {
          "base_uri": "https://localhost:8080/"
        },
        "outputId": "83c3e49a-c7e2-4b6b-d7cc-7ac05ebed42d"
      },
      "source": [
        "# SELECT A.*, B.NOMBRE as NOMBRE_PROFESOR, B.apellido as APELLIDO_PROFESOR\n",
        "# FROM curso A\n",
        "# LEFT JOIN instructor B\n",
        "# ON A.idInstructor = B.idInstructor\n",
        "curso.alias('A').join(instructor.alias('B'), on=[\"idInstructor\"], how = 'full')\\\n",
        "  .select(F.col('A.*'),\n",
        "           F.col('B.nombre').alias('NOMBREPROFESOR'),\n",
        "          F.col('B.apellido').alias('APELLIDO_PROFESOR') ).show()"
      ],
      "execution_count": null,
      "outputs": [
        {
          "output_type": "stream",
          "text": [
            "+-------+----------------+-----+--------+--------------+-----------------+\n",
            "|idCurso|          nombre|costo|duracion|NOMBREPROFESOR|APELLIDO_PROFESOR|\n",
            "+-------+----------------+-----+--------+--------------+-----------------+\n",
            "|      8|           Linux|   75|       4|          null|             null|\n",
            "|      4|    SPSS Modeler|   50|       4|         Andre|           Chavez|\n",
            "|      5|Machine Learning|  200|       8|         Andre|           Chavez|\n",
            "|      1|             SQL|  100|       2|         Frank|           Rivera|\n",
            "|      7|         Tableau|   60|       2|         Frank|           Rivera|\n",
            "|      2|          Python|   80|       5|         Mario|        Bocanegra|\n",
            "|      6|        Big Data|  150|       6|          Aldo|           Chavez|\n",
            "|   null|            null| null|    null|        Charli|          Gutarra|\n",
            "|   null|            null| null|    null|        Walter|           Pinedo|\n",
            "|      3|               R|   70|       5|          Jose|         Cardenas|\n",
            "+-------+----------------+-----+--------+--------------+-----------------+\n",
            "\n"
          ],
          "name": "stdout"
        }
      ]
    },
    {
      "cell_type": "markdown",
      "metadata": {
        "id": "rmDWuB4r7VA1"
      },
      "source": [
        "**Pegar a las matriculas los datos de los instructores, los estudiantes y despues sacar un reporte por curso y periodo para saber la nota promedio, la cantidad de alumnos y la suma de costos**"
      ]
    },
    {
      "cell_type": "code",
      "metadata": {
        "colab": {
          "base_uri": "https://localhost:8080/"
        },
        "id": "C_rnq3pySJfy",
        "outputId": "5ccbd2fc-f27c-40e4-b850-e8b9c97f8f5d"
      },
      "source": [
        "matricula.show()"
      ],
      "execution_count": null,
      "outputs": [
        {
          "output_type": "stream",
          "text": [
            "+-------+------------+-------+----+------------+\n",
            "|idCurso|idEstudiante|periodo|nota|idInstructor|\n",
            "+-------+------------+-------+----+------------+\n",
            "|      1|           1| 201801|   7|           6|\n",
            "|      1|           2| 201801|   8|           6|\n",
            "|      1|           3| 201801|   9|           6|\n",
            "|      1|           4| 201801|   2|           6|\n",
            "|      2|           1| 201801|   5|           3|\n",
            "|      2|           2| 201801|  17|           3|\n",
            "|      2|           3| 201801|  11|           3|\n",
            "|      2|           4| 201801|  18|           3|\n",
            "|      3|           1| 201801|   3|           2|\n",
            "|      3|           2| 201801|   2|           2|\n",
            "|      3|           3| 201801|   7|           2|\n",
            "|      3|           4| 201801|  14|           2|\n",
            "|      4|           1| 201801|   0|           1|\n",
            "|      4|           2| 201801|   3|           1|\n",
            "|      4|           3| 201801|  10|           1|\n",
            "|      4|           4| 201801|  19|           1|\n",
            "|      1|           5| 201801|   0|           6|\n",
            "|      1|           6| 201801|  16|           6|\n",
            "|      1|           7| 201801|   5|           6|\n",
            "|      1|           8| 201801|  10|           6|\n",
            "+-------+------------+-------+----+------------+\n",
            "only showing top 20 rows\n",
            "\n"
          ],
          "name": "stdout"
        }
      ]
    },
    {
      "cell_type": "code",
      "metadata": {
        "id": "jYj4tLelNtIX",
        "colab": {
          "base_uri": "https://localhost:8080/"
        },
        "outputId": "7d9e966f-40e2-47a7-e649-37dbd3f59136"
      },
      "source": [
        "#Resolver Aqui\n",
        "matricula.alias('A').join(curso.alias('B'), F.col('A.idCurso') == F.col('B.idCurso'), how = 'left')\\\n",
        "  .join(estudiantes.alias('C'), F.col('A.idEstudiante') == F.col('C.codEstudiante'), how = 'left')\\\n",
        "  .join(instructor.alias('D'), F.col('A.idInstructor') == F.col('D.idInstructor'), how = 'left')\\\n",
        "  .select(F.col('*'))\\\n",
        "  .groupby('B.nombre','periodo').agg( F.avg('nota').alias('Nota_Promedio'),\n",
        "                                     F.count('*').alias('Cantidad_Alumnos'),\n",
        "                                     F.sum('costo').alias('Suma_Costos') ).show()"
      ],
      "execution_count": null,
      "outputs": [
        {
          "output_type": "stream",
          "text": [
            "+----------------+-------+-------------+----------------+-----------+\n",
            "|          nombre|periodo|Nota_Promedio|Cantidad_Alumnos|Suma_Costos|\n",
            "+----------------+-------+-------------+----------------+-----------+\n",
            "|        Big Data| 201901|          8.5|               8|       1200|\n",
            "|    SPSS Modeler| 201801|          8.0|               4|        200|\n",
            "|             SQL| 201801|        7.125|               8|        800|\n",
            "|Machine Learning| 201801|         4.75|               4|        800|\n",
            "|        Big Data| 201801|        10.25|               4|        600|\n",
            "|         Tableau| 201901|        12.75|               4|        240|\n",
            "|          Python| 201801|        12.75|               4|        320|\n",
            "|             SQL| 201901|       10.625|               8|        800|\n",
            "|               R| 201801|          6.5|               4|        280|\n",
            "|Machine Learning| 201901|       12.375|               8|       1600|\n",
            "+----------------+-------+-------------+----------------+-----------+\n",
            "\n"
          ],
          "name": "stdout"
        }
      ]
    },
    {
      "cell_type": "code",
      "metadata": {
        "colab": {
          "base_uri": "https://localhost:8080/"
        },
        "id": "h9sXUvdGTkjQ",
        "outputId": "12cad20b-39fa-440d-979c-8678aa921573"
      },
      "source": [
        "matricula.alias('A').join(curso.alias('B'), F.col('A.idCurso') == F.col('B.idCurso'), how = 'left')\\\n",
        "  .join(estudiantes.alias('C'), F.col('A.idEstudiante') == F.col('C.codEstudiante'), how = 'left')\\\n",
        "  .join(instructor.alias('D'), F.col('A.idInstructor') == F.col('D.idInstructor'), how = 'left')\\\n",
        "  .select(F.col('*'))\\\n",
        "  .groupby('B.nombre','periodo').agg( F.avg('nota').alias('Nota_matriculados'),F.count('*').alias('Alumnos_Matriculados'), F.sum('costo').alias('Costo_Total') ).show()"
      ],
      "execution_count": null,
      "outputs": [
        {
          "output_type": "stream",
          "text": [
            "+----------------+-------+-----------------+--------------------+-----------+\n",
            "|          nombre|periodo|Nota_matriculados|Alumnos_Matriculados|Costo_Total|\n",
            "+----------------+-------+-----------------+--------------------+-----------+\n",
            "|        Big Data| 201901|              8.5|                   8|       1200|\n",
            "|    SPSS Modeler| 201801|              8.0|                   4|        200|\n",
            "|             SQL| 201801|            7.125|                   8|        800|\n",
            "|Machine Learning| 201801|             4.75|                   4|        800|\n",
            "|        Big Data| 201801|            10.25|                   4|        600|\n",
            "|         Tableau| 201901|            12.75|                   4|        240|\n",
            "|          Python| 201801|            12.75|                   4|        320|\n",
            "|             SQL| 201901|           10.625|                   8|        800|\n",
            "|               R| 201801|              6.5|                   4|        280|\n",
            "|Machine Learning| 201901|           12.375|                   8|       1600|\n",
            "+----------------+-------+-----------------+--------------------+-----------+\n",
            "\n"
          ],
          "name": "stdout"
        }
      ]
    },
    {
      "cell_type": "markdown",
      "metadata": {
        "id": "2CoWnA-oMUfL"
      },
      "source": [
        "## 4.5.- Trabajando un dataframe como Tabla de SQL"
      ]
    },
    {
      "cell_type": "code",
      "metadata": {
        "id": "XAKQf4llMLdJ"
      },
      "source": [
        "instructor.createOrReplaceTempView(\"Tabla1\")"
      ],
      "execution_count": null,
      "outputs": []
    },
    {
      "cell_type": "code",
      "metadata": {
        "id": "x6sOLwEJMesP",
        "colab": {
          "base_uri": "https://localhost:8080/"
        },
        "outputId": "87a91bbc-6ccb-4b01-9ea3-089972b62348"
      },
      "source": [
        "spark.sql(\"Select * from Tabla1 where nombre = 'Andre'\").show()"
      ],
      "execution_count": null,
      "outputs": [
        {
          "output_type": "stream",
          "text": [
            "+------------+------+--------+---------+\n",
            "|idInstructor|nombre|apellido| telefono|\n",
            "+------------+------+--------+---------+\n",
            "|           1| Andre|  Chavez|123456789|\n",
            "+------------+------+--------+---------+\n",
            "\n"
          ],
          "name": "stdout"
        }
      ]
    }
  ]
}