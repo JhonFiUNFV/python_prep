{
  "nbformat": 4,
  "nbformat_minor": 0,
  "metadata": {
    "colab": {
      "name": "02_iris_colab.ipynb",
      "provenance": [],
      "collapsed_sections": [],
      "include_colab_link": true
    },
    "kernelspec": {
      "display_name": "Python 3",
      "language": "python",
      "name": "python3"
    },
    "language_info": {
      "codemirror_mode": {
        "name": "ipython",
        "version": 3
      },
      "file_extension": ".py",
      "mimetype": "text/x-python",
      "name": "python",
      "nbconvert_exporter": "python",
      "pygments_lexer": "ipython3",
      "version": "3.8.3"
    },
    "accelerator": "GPU"
  },
  "cells": [
    {
      "cell_type": "markdown",
      "metadata": {
        "id": "view-in-github",
        "colab_type": "text"
      },
      "source": [
        "<a href=\"https://colab.research.google.com/github/JhonFiUNFV/python_prep/blob/master/02_iris_colab.ipynb\" target=\"_parent\"><img src=\"https://colab.research.google.com/assets/colab-badge.svg\" alt=\"Open In Colab\"/></a>"
      ]
    },
    {
      "cell_type": "markdown",
      "metadata": {
        "id": "KdUFcDsdzRyw"
      },
      "source": [
        "# Clonamos el repositorio para obtener los dataSet"
      ]
    },
    {
      "cell_type": "code",
      "metadata": {
        "id": "mHReFf3_y9ms",
        "colab": {
          "base_uri": "https://localhost:8080/"
        },
        "outputId": "3763c649-ba4d-4619-b966-3e58b12dc492"
      },
      "source": [
        "!git clone https://github.com/joanby/tensorflow.git"
      ],
      "execution_count": 1,
      "outputs": [
        {
          "output_type": "stream",
          "name": "stdout",
          "text": [
            "Cloning into 'tensorflow'...\n",
            "remote: Enumerating objects: 60398, done.\u001b[K\n",
            "remote: Total 60398 (delta 0), reused 0 (delta 0), pack-reused 60398\u001b[K\n",
            "Receiving objects: 100% (60398/60398), 443.85 MiB | 24.56 MiB/s, done.\n",
            "Resolving deltas: 100% (131/131), done.\n",
            "Checking out files: 100% (60276/60276), done.\n"
          ]
        }
      ]
    },
    {
      "cell_type": "markdown",
      "metadata": {
        "id": "vNKZXgtKzU2x"
      },
      "source": [
        "# Damos acceso a nuestro Drive"
      ]
    },
    {
      "cell_type": "code",
      "metadata": {
        "id": "5gu7KWnzzUQ0",
        "colab": {
          "base_uri": "https://localhost:8080/"
        },
        "outputId": "7f407a6c-04ee-48c7-f1a2-7e9daecea3ec"
      },
      "source": [
        "from google.colab import drive\n",
        "drive.mount('/content/drive')"
      ],
      "execution_count": 2,
      "outputs": [
        {
          "output_type": "stream",
          "name": "stdout",
          "text": [
            "Mounted at /content/drive\n"
          ]
        }
      ]
    },
    {
      "cell_type": "markdown",
      "metadata": {
        "id": "1gUxIkHWzfHV"
      },
      "source": [
        "# Test it"
      ]
    },
    {
      "cell_type": "code",
      "metadata": {
        "id": "mIQt3jBMzYRE",
        "colab": {
          "base_uri": "https://localhost:8080/"
        },
        "outputId": "7673be49-fd3c-4a6e-cdfe-9a4a66976ff0"
      },
      "source": [
        "!ls '/content/drive/My Drive' "
      ],
      "execution_count": 3,
      "outputs": [
        {
          "output_type": "stream",
          "name": "stdout",
          "text": [
            "'2. Intermedio'\n",
            " Canva\n",
            "'CFA - LEVEL II - TANDEM FINANCE'\n",
            " Classroom\n",
            "'Colab Notebooks'\n",
            " constancia_empleo3.pdf\n",
            " Curso_Proyectos_InviertePE\n",
            " Data\n",
            "'Data (1).xlsx'\n",
            " Data.gsheet\n",
            " Data.xlsx\n",
            " GRUPOS_PY.gsheet\n",
            "'informe5 (1).gsheet'\n",
            " informe5.gsheet\n",
            "'Investigación UX - JHON VIDAL FIGUEROA CÉSPEDES.gsheet'\n",
            "'JHON VIDAL FIGUEROA CÉSPEDES.pdf'\n",
            " LeWagon\n",
            " Master.xlsx\n",
            " ModuloII_FundamentosdeMachineLearning\n",
            " ModuloIV_ManejodeBasedeDatos\n",
            " ProgramadeEspecializacionenDataScience\n",
            " PROYECTO_CONSTRUCCION.docx\n",
            "'PROYECTO GRUPO 01.pptx'\n",
            " python-ml\n",
            "'QUANT 2021'\n",
            " rar\n",
            "'SEMINARIO DE ADM DE RIESGO EN BANCA'\n",
            "'Sesión 2-20220320T150758Z-001.zip'\n",
            " tensorflow\n",
            "'Teoria Económica y Finanzas'\n",
            "'TESIS JHON FIGUEROA'\n",
            " Worksheet.xlsx\n"
          ]
        }
      ]
    },
    {
      "cell_type": "markdown",
      "metadata": {
        "id": "mHsK36uN0XB-"
      },
      "source": [
        "# Google colab tools"
      ]
    },
    {
      "cell_type": "code",
      "metadata": {
        "id": "kTzwfUPWzrm4"
      },
      "source": [
        "from google.colab import files # Para manejar los archivos y, por ejemplo, exportar a su navegador\n",
        "import glob # Para manejar los archivos y, por ejemplo, exportar a su navegador\n",
        "from google.colab import drive # Montar tu Google drive"
      ],
      "execution_count": 4,
      "outputs": []
    },
    {
      "cell_type": "markdown",
      "metadata": {
        "id": "yQQ8nLiMY6wM"
      },
      "source": [
        "##Especificando la versión de TensorFlow\n",
        "\n",
        "Ejecutando \"importar tensorflow\" importará la versión por defecto (actualmente 2.x). Puedes usar la 1.x ejecutando una celda con la \"versión mágica de tensorflow\" **antes de ejecutar \"importar tensorflow\".\n",
        "\n",
        "### Si no funciona hacer el pip install\n"
      ]
    },
    {
      "cell_type": "code",
      "metadata": {
        "id": "1j---G3ZY6wN",
        "colab": {
          "base_uri": "https://localhost:8080/"
        },
        "outputId": "2adbe864-d37e-4e99-df50-480134774e4f"
      },
      "source": [
        "#!pip install tensorflow==1.14\n",
        "%tensorflow_version 1.x"
      ],
      "execution_count": 5,
      "outputs": [
        {
          "output_type": "stream",
          "name": "stdout",
          "text": [
            "TensorFlow 1.x selected.\n"
          ]
        }
      ]
    },
    {
      "cell_type": "markdown",
      "metadata": {
        "id": "S-OIfuWLujbt"
      },
      "source": [
        "# Importar Tensorflow"
      ]
    },
    {
      "cell_type": "code",
      "metadata": {
        "id": "OPSus73fumtP",
        "colab": {
          "base_uri": "https://localhost:8080/"
        },
        "outputId": "9855dfad-975f-4f4d-d247-c74c5cff94f1"
      },
      "source": [
        "import tensorflow as tf\n",
        "print(tf.__version__)\n",
        "import matplotlib.pyplot as plt"
      ],
      "execution_count": 6,
      "outputs": [
        {
          "output_type": "stream",
          "name": "stdout",
          "text": [
            "1.15.2\n"
          ]
        }
      ]
    },
    {
      "cell_type": "code",
      "metadata": {
        "id": "VQheSGsEBdD3"
      },
      "source": [
        "session = tf.Session()"
      ],
      "execution_count": 7,
      "outputs": []
    },
    {
      "cell_type": "markdown",
      "metadata": {
        "id": "qzlBylUEmQJ0"
      },
      "source": [
        "# Predicción de la longitud del sépalo en función de la anchura del pétalo "
      ]
    },
    {
      "cell_type": "code",
      "metadata": {
        "id": "AwPNJepKmJAJ"
      },
      "source": [
        "import matplotlib.pyplot as plt\n",
        "import numpy as np\n",
        "from sklearn import datasets"
      ],
      "execution_count": 8,
      "outputs": []
    },
    {
      "cell_type": "code",
      "metadata": {
        "id": "FvgbwHq3mbJv"
      },
      "source": [
        "iris = datasets.load_iris()"
      ],
      "execution_count": 9,
      "outputs": []
    },
    {
      "cell_type": "code",
      "metadata": {
        "id": "OkJtEI9hEuu0"
      },
      "source": [
        "x_vals = np.array([x[3] for x in iris.data])\n",
        "y_vals = np.array([x[0] for x in iris.data])"
      ],
      "execution_count": 10,
      "outputs": []
    },
    {
      "cell_type": "code",
      "metadata": {
        "id": "Aqfzx5TPPKBT",
        "colab": {
          "base_uri": "https://localhost:8080/",
          "height": 282
        },
        "outputId": "32e8ebb3-aab9-4aa1-dd60-9ef1c6b79ab5"
      },
      "source": [
        "plt.plot(x_vals, y_vals, 'o', label = \"Datos\")"
      ],
      "execution_count": 11,
      "outputs": [
        {
          "output_type": "execute_result",
          "data": {
            "text/plain": [
              "[<matplotlib.lines.Line2D at 0x7f4eb92b5e50>]"
            ]
          },
          "metadata": {},
          "execution_count": 11
        },
        {
          "output_type": "display_data",
          "data": {
            "text/plain": [
              "<Figure size 432x288 with 1 Axes>"
            ],
            "image/png": "[encoded data removed]"
          },
          "metadata": {
            "needs_background": "light"
          }
        }
      ]
    },
    {
      "cell_type": "code",
      "metadata": {
        "id": "KaWS5fKCPMTy"
      },
      "source": [
        "learning_rate = 0.05\n",
        "batch_size = 25\n",
        "x_data = tf.placeholder(shape=[None, 1], dtype=tf.float32)\n",
        "y_target = tf.placeholder(shape=[None, 1], dtype = tf.float32)\n",
        "A = tf.Variable(tf.random_normal(shape=[1,1]))\n",
        "b = tf.Variable(tf.random_normal(shape=[1,1]))"
      ],
      "execution_count": 12,
      "outputs": []
    },
    {
      "cell_type": "markdown",
      "metadata": {
        "id": "QY1eEgaW9-H1"
      },
      "source": [
        "$$y = Ax+b$$"
      ]
    },
    {
      "cell_type": "code",
      "metadata": {
        "id": "JSVevVFAmoue"
      },
      "source": [
        "y_predict = tf.add(tf.matmul(x_data, A), b)"
      ],
      "execution_count": 13,
      "outputs": []
    },
    {
      "cell_type": "code",
      "metadata": {
        "id": "onQN1h1qB11F"
      },
      "source": [
        "loss_l2 = tf.reduce_mean(tf.square(y_target-y_predict))\n",
        "my_optim = tf.train.GradientDescentOptimizer(learning_rate=learning_rate)\n",
        "train_step = my_optim.minimize(loss_l2)\n",
        "init = tf.global_variables_initializer()\n",
        "session.run(init)"
      ],
      "execution_count": 14,
      "outputs": []
    },
    {
      "cell_type": "code",
      "metadata": {
        "id": "Q9V3JA_4AYq7",
        "colab": {
          "base_uri": "https://localhost:8080/"
        },
        "outputId": "80264524-262b-4ee7-b2b1-4d260df41c55"
      },
      "source": [
        "loss_vect_l2 = []\n",
        "for i in range(100):\n",
        "    rand_idx = np.random.choice(len(x_vals), size = batch_size)\n",
        "    rand_x = np.transpose([x_vals[rand_idx]])\n",
        "    rand_y = np.transpose([y_vals[rand_idx]])\n",
        "\n",
        "    session.run(train_step, feed_dict={x_data: rand_x, y_target: rand_y})\n",
        "    temp_loss = session.run(loss_l2, feed_dict={x_data:rand_x, y_target: rand_y})\n",
        "    loss_vect_l2.append(temp_loss)\n",
        "    if(i+1)%10==0:\n",
        "        print(\"Paso #\"+str(i+1)+\", A=\"+str(session.run(A))+\", b=\"+str(session.run(b))+\n",
        "             \", Loss = \"+str(temp_loss))"
      ],
      "execution_count": 15,
      "outputs": [
        {
          "output_type": "stream",
          "name": "stdout",
          "text": [
            "Paso #10, A=[[2.6413567]], b=[[1.9635711]], Loss = 3.193585\n",
            "Paso #20, A=[[2.394074]], b=[[2.5048738]], Loss = 1.787186\n",
            "Paso #30, A=[[2.1344104]], b=[[2.9941478]], Loss = 1.4137013\n",
            "Paso #40, A=[[1.8486663]], b=[[3.2916203]], Loss = 0.7756731\n",
            "Paso #50, A=[[1.7213215]], b=[[3.5701632]], Loss = 0.7455941\n",
            "Paso #60, A=[[1.5339679]], b=[[3.744278]], Loss = 0.43505052\n",
            "Paso #70, A=[[1.405172]], b=[[3.9519033]], Loss = 0.39858234\n",
            "Paso #80, A=[[1.3295344]], b=[[4.128238]], Loss = 0.21660064\n",
            "Paso #90, A=[[1.2405101]], b=[[4.2659016]], Loss = 0.23770007\n",
            "Paso #100, A=[[1.1508253]], b=[[4.355208]], Loss = 0.3662684\n"
          ]
        }
      ]
    },
    {
      "cell_type": "code",
      "metadata": {
        "id": "7L3w47a13T0N"
      },
      "source": [
        "[[slope]] = session.run(A)\n",
        "[[intercept]] = session.run(b)"
      ],
      "execution_count": 16,
      "outputs": []
    },
    {
      "cell_type": "code",
      "metadata": {
        "id": "0i7Vcc083U7X",
        "colab": {
          "base_uri": "https://localhost:8080/"
        },
        "outputId": "990a7366-82e1-4cdc-b7a3-7c1a86525cae"
      },
      "source": [
        "print(str(slope)+\"x+\"+str(intercept))"
      ],
      "execution_count": 17,
      "outputs": [
        {
          "output_type": "stream",
          "name": "stdout",
          "text": [
            "1.1508253x+4.355208\n"
          ]
        }
      ]
    },
    {
      "cell_type": "code",
      "metadata": {
        "id": "VxrVnxRU3XPL"
      },
      "source": [
        "best_fit = []\n",
        "for i in x_vals:\n",
        "    best_fit.append(slope*i+intercept)"
      ],
      "execution_count": 18,
      "outputs": []
    },
    {
      "cell_type": "code",
      "metadata": {
        "id": "HLH3ctU4AmV4",
        "colab": {
          "base_uri": "https://localhost:8080/",
          "height": 295
        },
        "outputId": "ddcced6d-462b-4b13-c93a-eaa777eb63e1"
      },
      "source": [
        "plt.plot(x_vals, y_vals, 'o', label = \"Datos\")\n",
        "plt.plot(x_vals, best_fit, 'r-', label=\"Recta de regresión con TF\", linewidth=3)\n",
        "plt.legend(loc = \"upper left\")\n",
        "plt.title(\"Longitud de sépalos vs Anchura de Pétalos\")\n",
        "plt.xlabel(\"Anchura del Pétalo\")\n",
        "plt.ylabel(\"Longitud del Sépalo\")\n",
        "plt.show()"
      ],
      "execution_count": 20,
      "outputs": [
        {
          "output_type": "display_data",
          "data": {
            "text/plain": [
              "<Figure size 432x288 with 1 Axes>"
            ],
            "image/png": "[encoded data removed]"
          },
          "metadata": {
            "needs_background": "light"
          }
        }
      ]
    },
    {
      "cell_type": "code",
      "metadata": {
        "id": "K0wQBE9rAnWw",
        "colab": {
          "base_uri": "https://localhost:8080/",
          "height": 296
        },
        "outputId": "8b23ac60-1dfb-46ba-a9f9-1139b0d2e507"
      },
      "source": [
        "plt.plot(loss_vect_l2, \"k-\")\n",
        "plt.title(\"Función de pérdidas con L2\")\n",
        "plt.xlabel(\"Iteración del algoritmo\")\n",
        "plt.ylabel(\"Medida de L2\")\n",
        "plt.show()"
      ],
      "execution_count": 21,
      "outputs": [
        {
          "output_type": "display_data",
          "data": {
            "text/plain": [
              "<Figure size 432x288 with 1 Axes>"
            ],
            "image/png": "[encoded data removed]"
          },
          "metadata": {
            "needs_background": "light"
          }
        }
      ]
    },
    {
      "cell_type": "code",
      "metadata": {
        "id": "tUs90_oMAoR0"
      },
      "source": [
        "from tensorflow.python.framework import ops\n",
        "ops.reset_default_graph()\n",
        "session = tf.Session()"
      ],
      "execution_count": 22,
      "outputs": []
    },
    {
      "cell_type": "code",
      "metadata": {
        "id": "N8B5rVT7ApsH"
      },
      "source": [
        "x_data = tf.placeholder(shape=[None, 1], dtype=tf.float32)\n",
        "y_target = tf.placeholder(shape=[None, 1], dtype = tf.float32)\n",
        "A = tf.Variable(tf.random_normal(shape=[1,1]))\n",
        "b = tf.Variable(tf.random_normal(shape=[1,1]))"
      ],
      "execution_count": 23,
      "outputs": []
    },
    {
      "cell_type": "code",
      "metadata": {
        "id": "4LdooxiUAq3I"
      },
      "source": [
        "y_predict = tf.add(tf.matmul(x_data, A), b)"
      ],
      "execution_count": 24,
      "outputs": []
    },
    {
      "cell_type": "code",
      "metadata": {
        "id": "LWHbsPX6K8bW"
      },
      "source": [
        "loss_l1 = tf.reduce_mean(tf.abs(y_target-y_predict))\n",
        "my_optim = tf.train.GradientDescentOptimizer(learning_rate=learning_rate)\n",
        "train_step = my_optim.minimize(loss_l1)\n",
        "init = tf.global_variables_initializer()\n",
        "session.run(init)"
      ],
      "execution_count": 25,
      "outputs": []
    },
    {
      "cell_type": "code",
      "metadata": {
        "id": "9MVwfYmx-dcs",
        "colab": {
          "base_uri": "https://localhost:8080/"
        },
        "outputId": "54ae8e14-0713-4a64-f8a2-f185f9749645"
      },
      "source": [
        "loss_vect_l1 = []\n",
        "for i in range(100):\n",
        "    rand_idx = np.random.choice(len(x_vals), size = batch_size)\n",
        "    rand_x = np.transpose([x_vals[rand_idx]])\n",
        "    rand_y = np.transpose([y_vals[rand_idx]])\n",
        "\n",
        "    session.run(train_step, feed_dict={x_data: rand_x, y_target: rand_y})\n",
        "    temp_loss = session.run(loss_l1, feed_dict={x_data:rand_x, y_target: rand_y})\n",
        "    loss_vect_l1.append(temp_loss)\n",
        "    if(i+1)%10==0:\n",
        "        print(\"Paso #\"+str(i+1)+\", A=\"+str(session.run(A))+\", b=\"+str(session.run(b))+\n",
        "             \", Loss = \"+str(temp_loss))"
      ],
      "execution_count": 32,
      "outputs": [
        {
          "output_type": "stream",
          "name": "stdout",
          "text": [
            "Paso #10, A=[[0.87430316]], b=[[4.819737]], Loss = 0.30755353\n",
            "Paso #20, A=[[0.8547031]], b=[[4.7997365]], Loss = 0.49460107\n",
            "Paso #30, A=[[0.8753031]], b=[[4.8077354]], Loss = 0.36790353\n",
            "Paso #40, A=[[0.8693031]], b=[[4.7797356]], Loss = 0.42619666\n",
            "Paso #50, A=[[0.85570306]], b=[[4.763736]], Loss = 0.4633055\n",
            "Paso #60, A=[[0.9153031]], b=[[4.815736]], Loss = 0.32529163\n",
            "Paso #70, A=[[0.82530314]], b=[[4.7557364]], Loss = 0.3582975\n",
            "Paso #80, A=[[0.85210323]], b=[[4.755737]], Loss = 0.33614537\n",
            "Paso #90, A=[[0.84510314]], b=[[4.779737]], Loss = 0.3706147\n",
            "Paso #100, A=[[0.8561032]], b=[[4.7757373]], Loss = 0.34890023\n"
          ]
        }
      ]
    },
    {
      "cell_type": "code",
      "metadata": {
        "id": "z0ycZ6GT-elJ"
      },
      "source": [
        "[[slope]] = session.run(A)\n",
        "[[intercept]] = session.run(b)"
      ],
      "execution_count": 33,
      "outputs": []
    },
    {
      "cell_type": "code",
      "metadata": {
        "id": "_7wIUbQg-fyS",
        "colab": {
          "base_uri": "https://localhost:8080/"
        },
        "outputId": "05fe4aaa-2aaa-494e-e002-676e3fda8d1d"
      },
      "source": [
        "print(str(slope)+\"x+\"+str(intercept))"
      ],
      "execution_count": 34,
      "outputs": [
        {
          "output_type": "stream",
          "name": "stdout",
          "text": [
            "0.8561032x+4.7757373\n"
          ]
        }
      ]
    },
    {
      "cell_type": "code",
      "metadata": {
        "id": "RMITOHvK-gy0"
      },
      "source": [
        "best_fit = []\n",
        "for i in x_vals:\n",
        "    best_fit.append(slope*i+intercept)"
      ],
      "execution_count": 35,
      "outputs": []
    },
    {
      "cell_type": "code",
      "metadata": {
        "id": "lM4E0oAa-h7v",
        "colab": {
          "base_uri": "https://localhost:8080/",
          "height": 295
        },
        "outputId": "831f6e58-71d8-48dd-9fdb-582d695dc4a8"
      },
      "source": [
        "plt.plot(x_vals, y_vals, 'o', label = \"Datos\")\n",
        "plt.plot(x_vals, best_fit, 'r-', label=\"Recta de regresión con TF\", linewidth=3)\n",
        "plt.legend(loc = \"upper left\")\n",
        "plt.title(\"Longitud de sépalos vs Anchura de Pétalos\")\n",
        "plt.xlabel(\"Anchura del Pétalo\")\n",
        "plt.ylabel(\"Longitud del Sépalo\")\n",
        "plt.show()"
      ],
      "execution_count": 36,
      "outputs": [
        {
          "output_type": "display_data",
          "data": {
            "text/plain": [
              "<Figure size 432x288 with 1 Axes>"
            ],
            "image/png": "[encoded data removed]"
          },
          "metadata": {
            "needs_background": "light"
          }
        }
      ]
    },
    {
      "cell_type": "code",
      "metadata": {
        "id": "vkf9ublw-jOx",
        "colab": {
          "base_uri": "https://localhost:8080/",
          "height": 295
        },
        "outputId": "5b05b038-ca64-4d5a-f935-ed787a9775f8"
      },
      "source": [
        "plt.plot(loss_vect_l1, 'r-', label = \"L1\")\n",
        "plt.plot(loss_vect_l2, 'g--', label = \"L2\")\n",
        "plt.title(\"Funciones de pérdida para regresión lineal\")\n",
        "plt.xlabel(\"Iteraciones\")\n",
        "plt.ylabel(\"Pérdida\")\n",
        "plt.legend(loc = \"upper right\")\n",
        "plt.show()"
      ],
      "execution_count": 37,
      "outputs": [
        {
          "output_type": "display_data",
          "data": {
            "text/plain": [
              "<Figure size 432x288 with 1 Axes>"
            ],
            "image/png": "[encoded data removed]"
          },
          "metadata": {
            "needs_background": "light"
          }
        }
      ]
    },
    {
      "cell_type": "code",
      "metadata": {
        "id": "9L-SxPdQ-kly",
        "colab": {
          "base_uri": "https://localhost:8080/"
        },
        "outputId": "0b860806-468b-46f9-eea5-021d6b0d73d0"
      },
      "source": [
        "slope*np.mean(x_vals)+intercept"
      ],
      "execution_count": 38,
      "outputs": [
        {
          "output_type": "execute_result",
          "data": {
            "text/plain": [
              "5.802490368366241"
            ]
          },
          "metadata": {},
          "execution_count": 38
        }
      ]
    },
    {
      "cell_type": "code",
      "metadata": {
        "id": "7MoLkg5R-ljV",
        "colab": {
          "base_uri": "https://localhost:8080/"
        },
        "outputId": "27df93b4-d6dc-44f4-b525-4c391a3ac446"
      },
      "source": [
        "intercept"
      ],
      "execution_count": 39,
      "outputs": [
        {
          "output_type": "execute_result",
          "data": {
            "text/plain": [
              "4.7757373"
            ]
          },
          "metadata": {},
          "execution_count": 39
        }
      ]
    },
    {
      "cell_type": "code",
      "metadata": {
        "id": "aQLX5NL--mnR",
        "colab": {
          "base_uri": "https://localhost:8080/"
        },
        "outputId": "a01e498d-7a44-4930-ea90-88d8ea42ebf2"
      },
      "source": [
        "np.mean(y_vals)"
      ],
      "execution_count": 40,
      "outputs": [
        {
          "output_type": "execute_result",
          "data": {
            "text/plain": [
              "5.843333333333334"
            ]
          },
          "metadata": {},
          "execution_count": 40
        }
      ]
    },
    {
      "cell_type": "code",
      "metadata": {
        "id": "3dWiXMPk-oUW"
      },
      "source": [
        ""
      ],
      "execution_count": null,
      "outputs": []
    }
  ]
}