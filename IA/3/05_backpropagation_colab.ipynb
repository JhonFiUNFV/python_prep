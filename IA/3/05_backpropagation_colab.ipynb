{
  "nbformat": 4,
  "nbformat_minor": 0,
  "metadata": {
    "colab": {
      "name": "05_backpropagation_colab.ipynb",
      "provenance": [],
      "collapsed_sections": [],
      "include_colab_link": true
    },
    "kernelspec": {
      "display_name": "Python 3",
      "language": "python",
      "name": "python3"
    },
    "language_info": {
      "codemirror_mode": {
        "name": "ipython",
        "version": 3
      },
      "file_extension": ".py",
      "mimetype": "text/x-python",
      "name": "python",
      "nbconvert_exporter": "python",
      "pygments_lexer": "ipython3",
      "version": "3.8.3"
    },
    "accelerator": "GPU"
  },
  "cells": [
    {
      "cell_type": "markdown",
      "metadata": {
        "id": "view-in-github",
        "colab_type": "text"
      },
      "source": [
        "<a href=\"https://colab.research.google.com/github/JhonFiUNFV/python_prep/blob/master/05_backpropagation_colab.ipynb\" target=\"_parent\"><img src=\"https://colab.research.google.com/assets/colab-badge.svg\" alt=\"Open In Colab\"/></a>"
      ]
    },
    {
      "cell_type": "markdown",
      "metadata": {
        "id": "KdUFcDsdzRyw"
      },
      "source": [
        "# Clonamos el repositorio para obtener los dataSet"
      ]
    },
    {
      "cell_type": "code",
      "metadata": {
        "id": "mHReFf3_y9ms",
        "colab": {
          "base_uri": "https://localhost:8080/",
          "height": 153
        },
        "outputId": "8edcd72a-5898-4548-c7a9-5565b65237a0"
      },
      "source": [
        "!git clone https://github.com/joanby/tensorflow.git"
      ],
      "execution_count": null,
      "outputs": [
        {
          "output_type": "stream",
          "text": [
            "Cloning into 'tensorflow'...\n",
            "remote: Enumerating objects: 51, done.\u001b[K\n",
            "remote: Counting objects: 100% (51/51), done.\u001b[K\n",
            "remote: Compressing objects: 100% (28/28), done.\u001b[K\n",
            "remote: Total 60311 (delta 32), reused 37 (delta 23), pack-reused 60260\u001b[K\n",
            "Receiving objects: 100% (60311/60311), 442.46 MiB | 36.15 MiB/s, done.\n",
            "Resolving deltas: 100% (82/82), done.\n",
            "Checking out files: 100% (60225/60225), done.\n"
          ],
          "name": "stdout"
        }
      ]
    },
    {
      "cell_type": "markdown",
      "metadata": {
        "id": "vNKZXgtKzU2x"
      },
      "source": [
        "# Damos acceso a nuestro Drive"
      ]
    },
    {
      "cell_type": "code",
      "metadata": {
        "id": "5gu7KWnzzUQ0"
      },
      "source": [
        "from google.colab import drive\n",
        "drive.mount('/content/drive')"
      ],
      "execution_count": null,
      "outputs": []
    },
    {
      "cell_type": "markdown",
      "metadata": {
        "id": "1gUxIkHWzfHV"
      },
      "source": [
        "# Test it"
      ]
    },
    {
      "cell_type": "code",
      "metadata": {
        "id": "mIQt3jBMzYRE"
      },
      "source": [
        "!ls '/content/drive/My Drive' "
      ],
      "execution_count": null,
      "outputs": []
    },
    {
      "cell_type": "markdown",
      "metadata": {
        "id": "mHsK36uN0XB-"
      },
      "source": [
        "# Google colab tools"
      ]
    },
    {
      "cell_type": "code",
      "metadata": {
        "id": "kTzwfUPWzrm4"
      },
      "source": [
        "from google.colab import files # Para manejar los archivos y, por ejemplo, exportar a su navegador\n",
        "import glob # Para manejar los archivos y, por ejemplo, exportar a su navegador\n",
        "from google.colab import drive # Montar tu Google drive"
      ],
      "execution_count": null,
      "outputs": []
    },
    {
      "cell_type": "markdown",
      "metadata": {
        "id": "yQQ8nLiMY6wM"
      },
      "source": [
        "##Especificando la versión de TensorFlow\n",
        "\n",
        "Ejecutando \"importar tensorflow\" importará la versión por defecto (actualmente 2.x). Puedes usar la 1.x ejecutando una celda con la \"versión mágica de tensorflow\" **antes de ejecutar \"importar tensorflow\".\n",
        "\n",
        "### Si no funciona hacer el pip install\n"
      ]
    },
    {
      "cell_type": "code",
      "metadata": {
        "id": "1j---G3ZY6wN",
        "colab": {
          "base_uri": "https://localhost:8080/",
          "height": 34
        },
        "outputId": "614d04ed-b0a2-46cf-fd6b-0d10a50306f2"
      },
      "source": [
        "#!pip install tensorflow==1.14\n",
        "%tensorflow_version 1.x"
      ],
      "execution_count": null,
      "outputs": [
        {
          "output_type": "stream",
          "text": [
            "TensorFlow 1.x selected.\n"
          ],
          "name": "stdout"
        }
      ]
    },
    {
      "cell_type": "markdown",
      "metadata": {
        "id": "S-OIfuWLujbt"
      },
      "source": [
        "# Importar Tensorflow"
      ]
    },
    {
      "cell_type": "code",
      "metadata": {
        "id": "OPSus73fumtP",
        "colab": {
          "base_uri": "https://localhost:8080/",
          "height": 34
        },
        "outputId": "d163ed72-f9b2-4c68-ec41-6981c9fb0ae4"
      },
      "source": [
        "import tensorflow as tf\n",
        "print(tf.__version__)\n",
        "import matplotlib.pyplot as plt"
      ],
      "execution_count": null,
      "outputs": [
        {
          "output_type": "stream",
          "text": [
            "1.15.2\n"
          ],
          "name": "stdout"
        }
      ]
    },
    {
      "cell_type": "code",
      "metadata": {
        "id": "VQheSGsEBdD3"
      },
      "source": [
        "session = tf.Session()"
      ],
      "execution_count": null,
      "outputs": []
    },
    {
      "cell_type": "markdown",
      "metadata": {
        "id": "qzlBylUEmQJ0"
      },
      "source": [
        "# Propagación hacia atrás"
      ]
    },
    {
      "cell_type": "markdown",
      "metadata": {
        "id": "KHaaSJ4zO_d-"
      },
      "source": [
        "### Ejemplo de Regresión\n",
        "- $X \\sim N(1.0, 0.1)$\n",
        "- $y = Ax, A = 10$\n",
        "- target = 10\n",
        "- $L2$ función de pérdidas"
      ]
    },
    {
      "cell_type": "code",
      "metadata": {
        "id": "AwPNJepKmJAJ"
      },
      "source": [
        "import numpy as np\n",
        "x_vals = np.random.normal(loc=1, scale=0.1, size=200)\n",
        "y_vals = np.repeat(10., 200)"
      ],
      "execution_count": null,
      "outputs": []
    },
    {
      "cell_type": "code",
      "metadata": {
        "id": "FvgbwHq3mbJv"
      },
      "source": [
        "x_data = tf.placeholder(shape = [1], dtype=tf.float32)\n",
        "y_target = tf.placeholder(shape = [1], dtype=tf.float32)\n",
        "A = tf.Variable(tf.random_normal(shape=[1]))"
      ],
      "execution_count": null,
      "outputs": []
    },
    {
      "cell_type": "code",
      "metadata": {
        "id": "OkJtEI9hEuu0"
      },
      "source": [
        "my_pred = tf.multiply(A, x_data)"
      ],
      "execution_count": null,
      "outputs": []
    },
    {
      "cell_type": "code",
      "metadata": {
        "id": "Aqfzx5TPPKBT"
      },
      "source": [
        "loss = tf.square(my_pred - y_target)"
      ],
      "execution_count": null,
      "outputs": []
    },
    {
      "cell_type": "code",
      "metadata": {
        "id": "KaWS5fKCPMTy"
      },
      "source": [
        "my_optim = tf.train.GradientDescentOptimizer(learning_rate=0.025)\n",
        "train_step = my_optim.minimize(loss)"
      ],
      "execution_count": null,
      "outputs": []
    },
    {
      "cell_type": "code",
      "metadata": {
        "id": "JSVevVFAmoue"
      },
      "source": [
        "init = tf.global_variables_initializer()\n",
        "session.run(init)"
      ],
      "execution_count": null,
      "outputs": []
    },
    {
      "cell_type": "code",
      "metadata": {
        "id": "5lF0KuqRB0Cw",
        "colab": {
          "base_uri": "https://localhost:8080/",
          "height": 187
        },
        "outputId": "ab412901-f681-4163-9893-207725370bad"
      },
      "source": [
        "for i in range(200):\n",
        "    rand_index = np.random.choice(200)\n",
        "    rand_x = [x_vals[rand_index]]\n",
        "    rand_y = [y_vals[rand_index]]\n",
        "    session.run(train_step, feed_dict={x_data : rand_x, y_target : rand_y})\n",
        "    if (i+1)%20==0:\n",
        "        print(\"Paso #\"+str(i+1)+\" A = \"+str(session.run(A)) + \n",
        "              \" Loss: \"+str(session.run(loss, feed_dict={x_data:rand_x, y_target: rand_y})))"
      ],
      "execution_count": null,
      "outputs": [
        {
          "output_type": "stream",
          "text": [
            "Paso #20 A = [6.2592483] Loss: [6.3893924]\n",
            "Paso #40 A = [8.640756] Loss: [1.5384533]\n",
            "Paso #60 A = [9.115492] Loss: [2.637954]\n",
            "Paso #80 A = [9.528063] Loss: [1.5413789]\n",
            "Paso #100 A = [9.979744] Loss: [1.167261]\n",
            "Paso #120 A = [9.956358] Loss: [0.7251246]\n",
            "Paso #140 A = [9.992054] Loss: [0.15124306]\n",
            "Paso #160 A = [9.962452] Loss: [0.540453]\n",
            "Paso #180 A = [9.793145] Loss: [0.02940218]\n",
            "Paso #200 A = [9.694743] Loss: [0.5770091]\n"
          ],
          "name": "stdout"
        }
      ]
    },
    {
      "cell_type": "markdown",
      "metadata": {
        "id": "4gkAq43K3KX9"
      },
      "source": [
        "### Ejemplo de clasificación binaria\n",
        "- $X_1\\sim N(-2, 1), X_2 \\sim N(2,1)$\n",
        "- $target(X_1) = 0, target(X_2) = 1$\n",
        "- sigmoid(x+A) = $\\frac{1}{1+e^{-(x+A)}}$\n",
        "- Determinar el valor de $A$\n",
        "- Teóricamente $A\\simeq \\frac{m_1+m_2}{2}, m_1 = -2, m_2 = 2$"
      ]
    },
    {
      "cell_type": "code",
      "metadata": {
        "id": "onQN1h1qB11F"
      },
      "source": [
        "from tensorflow.python.framework import ops\n",
        "ops.reset_default_graph()\n",
        "session = tf.Session()"
      ],
      "execution_count": null,
      "outputs": []
    },
    {
      "cell_type": "code",
      "metadata": {
        "id": "7L3w47a13T0N"
      },
      "source": [
        "x_vals = np.concatenate((np.random.normal(-2,1,100), np.random.normal(2,1,100)))\n",
        "y_vals = np.concatenate((np.repeat(0., 100), np.repeat(1., 100)))"
      ],
      "execution_count": null,
      "outputs": []
    },
    {
      "cell_type": "code",
      "metadata": {
        "id": "0i7Vcc083U7X"
      },
      "source": [
        "x_data = tf.placeholder(shape = [1], dtype = tf.float32)\n",
        "y_target = tf.placeholder(shape = [1], dtype = tf.float32)\n",
        "A = tf.Variable(tf.random_normal(mean = 10, shape=[1]))"
      ],
      "execution_count": null,
      "outputs": []
    },
    {
      "cell_type": "code",
      "metadata": {
        "id": "VxrVnxRU3XPL"
      },
      "source": [
        "my_prediction = tf.add(x_data, A)"
      ],
      "execution_count": null,
      "outputs": []
    },
    {
      "cell_type": "code",
      "metadata": {
        "id": "2VumqxxV3Yk_"
      },
      "source": [
        "my_prediction_expanded = tf.expand_dims(my_prediction, 0)\n",
        "y_target_expanded = tf.expand_dims(y_target,0 )"
      ],
      "execution_count": null,
      "outputs": []
    },
    {
      "cell_type": "code",
      "metadata": {
        "id": "MxVhUzZ53ZxV",
        "colab": {
          "base_uri": "https://localhost:8080/",
          "height": 105
        },
        "outputId": "f6c4365e-051d-4eb8-f801-0adf40935a94"
      },
      "source": [
        "init = tf.initialize_all_variables()\n",
        "session.run(init)\n",
        "print(session.run(A))"
      ],
      "execution_count": null,
      "outputs": [
        {
          "output_type": "stream",
          "text": [
            "WARNING:tensorflow:From /tensorflow-1.15.2/python3.6/tensorflow_core/python/util/tf_should_use.py:198: initialize_all_variables (from tensorflow.python.ops.variables) is deprecated and will be removed after 2017-03-02.\n",
            "Instructions for updating:\n",
            "Use `tf.global_variables_initializer` instead.\n",
            "[8.743118]\n"
          ],
          "name": "stdout"
        }
      ]
    },
    {
      "cell_type": "code",
      "metadata": {
        "id": "T4gZ2IAt3bK5",
        "colab": {
          "base_uri": "https://localhost:8080/",
          "height": 88
        },
        "outputId": "07d867ab-c3a0-40ae-b8e4-74b8cefabd27"
      },
      "source": [
        "xentr = tf.nn.sigmoid_cross_entropy_with_logits(logits=my_prediction_expanded, labels=y_target_expanded)"
      ],
      "execution_count": null,
      "outputs": [
        {
          "output_type": "stream",
          "text": [
            "WARNING:tensorflow:From /tensorflow-1.15.2/python3.6/tensorflow_core/python/ops/nn_impl.py:183: where (from tensorflow.python.ops.array_ops) is deprecated and will be removed in a future version.\n",
            "Instructions for updating:\n",
            "Use tf.where in 2.0, which has the same broadcast rule as np.where\n"
          ],
          "name": "stdout"
        }
      ]
    },
    {
      "cell_type": "code",
      "metadata": {
        "id": "wI10eu9p3con"
      },
      "source": [
        "my_optim = tf.train.GradientDescentOptimizer(learning_rate=0.04)\n",
        "train_step = my_optim.minimize(xentr)"
      ],
      "execution_count": null,
      "outputs": []
    },
    {
      "cell_type": "code",
      "metadata": {
        "id": "eqc6Lwsb3eDW",
        "colab": {
          "base_uri": "https://localhost:8080/",
          "height": 357
        },
        "outputId": "71c2c493-8be4-4a2f-d094-a7abb2eab6ab"
      },
      "source": [
        "for i in range(2000):\n",
        "    rand_idx = np.random.choice(200)\n",
        "    rand_x = [x_vals[rand_idx]]\n",
        "    rand_y = [y_vals[rand_idx]]\n",
        "    session.run(train_step, feed_dict={x_data : rand_x, y_target : rand_y})\n",
        "    if (i+1)%100==0:\n",
        "        print(\"Paso #\"+str(i+1)+\", A = \"+str(session.run(A))+\", Loss = \"+\n",
        "             str(session.run(xentr, feed_dict={x_data : rand_x, y_target: rand_y})))"
      ],
      "execution_count": null,
      "outputs": [
        {
          "output_type": "stream",
          "text": [
            "Paso #100, A = [6.913806], Loss = [[5.2362423]]\n",
            "Paso #200, A = [5.21407], Loss = [[0.00050641]]\n",
            "Paso #300, A = [3.6885629], Loss = [[0.00386316]]\n",
            "Paso #400, A = [2.4036148], Loss = [[0.9942923]]\n",
            "Paso #500, A = [1.4065174], Loss = [[0.36287558]]\n",
            "Paso #600, A = [0.97767586], Loss = [[0.15852872]]\n",
            "Paso #700, A = [0.714153], Loss = [[0.47719264]]\n",
            "Paso #800, A = [0.55385613], Loss = [[0.11512167]]\n",
            "Paso #900, A = [0.44637236], Loss = [[0.24630712]]\n",
            "Paso #1000, A = [0.39098334], Loss = [[0.14625303]]\n",
            "Paso #1100, A = [0.24433221], Loss = [[0.10257504]]\n",
            "Paso #1200, A = [0.20848513], Loss = [[0.05749148]]\n",
            "Paso #1300, A = [0.2223705], Loss = [[0.17041756]]\n",
            "Paso #1400, A = [0.22274321], Loss = [[0.3280766]]\n",
            "Paso #1500, A = [0.23481074], Loss = [[0.08052165]]\n",
            "Paso #1600, A = [0.29480335], Loss = [[0.01330733]]\n",
            "Paso #1700, A = [0.19204144], Loss = [[0.12708126]]\n",
            "Paso #1800, A = [0.20460548], Loss = [[0.16925547]]\n",
            "Paso #1900, A = [0.22687757], Loss = [[0.4639144]]\n",
            "Paso #2000, A = [0.03422413], Loss = [[0.16873719]]\n"
          ],
          "name": "stdout"
        }
      ]
    }
  ]
}