{
  "nbformat": 4,
  "nbformat_minor": 0,
  "metadata": {
    "colab": {
      "name": "04_matrices_colab.ipynb",
      "provenance": [],
      "collapsed_sections": [],
      "include_colab_link": true
    },
    "kernelspec": {
      "display_name": "Python 3",
      "language": "python",
      "name": "python3"
    },
    "language_info": {
      "codemirror_mode": {
        "name": "ipython",
        "version": 3
      },
      "file_extension": ".py",
      "mimetype": "text/x-python",
      "name": "python",
      "nbconvert_exporter": "python",
      "pygments_lexer": "ipython3",
      "version": "3.8.3"
    },
    "accelerator": "GPU"
  },
  "cells": [
    {
      "cell_type": "markdown",
      "metadata": {
        "id": "view-in-github",
        "colab_type": "text"
      },
      "source": [
        "<a href=\"https://colab.research.google.com/github/JhonFiUNFV/python_prep/blob/master/04_matrices_colab.ipynb\" target=\"_parent\"><img src=\"https://colab.research.google.com/assets/colab-badge.svg\" alt=\"Open In Colab\"/></a>"
      ]
    },
    {
      "cell_type": "markdown",
      "metadata": {
        "id": "KdUFcDsdzRyw"
      },
      "source": [
        "# Clonamos el repositorio para obtener los dataSet"
      ]
    },
    {
      "cell_type": "code",
      "metadata": {
        "id": "mHReFf3_y9ms"
      },
      "source": [
        "!git clone https://github.com/joanby/tensorflow.git"
      ],
      "execution_count": null,
      "outputs": []
    },
    {
      "cell_type": "markdown",
      "metadata": {
        "id": "vNKZXgtKzU2x"
      },
      "source": [
        "# Damos acceso a nuestro Drive"
      ]
    },
    {
      "cell_type": "code",
      "metadata": {
        "id": "5gu7KWnzzUQ0"
      },
      "source": [
        "from google.colab import drive\n",
        "drive.mount('/content/drive')"
      ],
      "execution_count": null,
      "outputs": []
    },
    {
      "cell_type": "markdown",
      "metadata": {
        "id": "1gUxIkHWzfHV"
      },
      "source": [
        "# Test it"
      ]
    },
    {
      "cell_type": "code",
      "metadata": {
        "id": "mIQt3jBMzYRE"
      },
      "source": [
        "!ls '/content/drive/My Drive' "
      ],
      "execution_count": null,
      "outputs": []
    },
    {
      "cell_type": "markdown",
      "metadata": {
        "id": "mHsK36uN0XB-"
      },
      "source": [
        "# Google colab tools"
      ]
    },
    {
      "cell_type": "code",
      "metadata": {
        "id": "kTzwfUPWzrm4"
      },
      "source": [
        "from google.colab import files # Para manejar los archivos y, por ejemplo, exportar a su navegador\n",
        "import glob # Para manejar los archivos y, por ejemplo, exportar a su navegador\n",
        "from google.colab import drive # Montar tu Google drive"
      ],
      "execution_count": null,
      "outputs": []
    },
    {
      "cell_type": "markdown",
      "metadata": {
        "id": "yQQ8nLiMY6wM"
      },
      "source": [
        "##Especificando la versión de TensorFlow\n",
        "\n",
        "Ejecutando \"importar tensorflow\" importará la versión por defecto (actualmente 2.x). Puedes usar la 1.x ejecutando una celda con la \"versión mágica de tensorflow\" **antes de ejecutar \"importar tensorflow\".\n",
        "\n",
        "### Si no funciona hacer el pip install\n"
      ]
    },
    {
      "cell_type": "code",
      "metadata": {
        "id": "1j---G3ZY6wN"
      },
      "source": [
        "#!pip install tensorflow==1.14\n",
        "%tensorflow_version 1.x"
      ],
      "execution_count": null,
      "outputs": []
    },
    {
      "cell_type": "markdown",
      "metadata": {
        "id": "S-OIfuWLujbt"
      },
      "source": [
        "# Importar Tensorflow"
      ]
    },
    {
      "cell_type": "code",
      "metadata": {
        "id": "OPSus73fumtP"
      },
      "source": [
        "import tensorflow as tf\n",
        "print(tf.__version__)"
      ],
      "execution_count": null,
      "outputs": []
    },
    {
      "cell_type": "markdown",
      "metadata": {
        "id": "Z9ZTNKptt8dA"
      },
      "source": [
        "# Cómo trabajar con matrices"
      ]
    },
    {
      "cell_type": "code",
      "metadata": {
        "id": "C-XGg6ZD26c0"
      },
      "source": [
        "session = tf.Session()"
      ],
      "execution_count": null,
      "outputs": []
    },
    {
      "cell_type": "markdown",
      "metadata": {
        "id": "IC_M6LlGuAp-"
      },
      "source": [
        "### 1. Cómo crear matrices"
      ]
    },
    {
      "cell_type": "code",
      "metadata": {
        "id": "1MJDA3Tx2RHw"
      },
      "source": [
        "identity = tf.diag([1.,1.,1.,1.])\n",
        "print(session.run(identity))"
      ],
      "execution_count": null,
      "outputs": []
    },
    {
      "cell_type": "code",
      "metadata": {
        "id": "_yZv8SMF3BvM"
      },
      "source": [
        "A = tf.truncated_normal([3,4])\n",
        "print(session.run(A))"
      ],
      "execution_count": null,
      "outputs": []
    },
    {
      "cell_type": "code",
      "metadata": {
        "id": "p0DhKKw13DIS"
      },
      "source": [
        "B = tf.fill([3,4], 1988.)\n",
        "print(session.run(B))"
      ],
      "execution_count": null,
      "outputs": []
    },
    {
      "cell_type": "code",
      "metadata": {
        "id": "nWW13ED43ENc"
      },
      "source": [
        "C = tf.random_uniform([4,3])\n",
        "print(session.run(C))"
      ],
      "execution_count": null,
      "outputs": []
    },
    {
      "cell_type": "code",
      "metadata": {
        "id": "0eNG2PcB3FPN"
      },
      "source": [
        "import numpy as np\n",
        "data = np.array([[1.,2.,3.],[4.,5.,6.],[7.,8.,9.]])\n",
        "D = tf.convert_to_tensor(data)\n",
        "print(session.run(D))"
      ],
      "execution_count": null,
      "outputs": []
    },
    {
      "cell_type": "markdown",
      "metadata": {
        "id": "XtW9axgo0O0g"
      },
      "source": [
        "## 2. Operar con matrices"
      ]
    },
    {
      "cell_type": "code",
      "metadata": {
        "id": "cEPZ1cIm2VB5"
      },
      "source": [
        "print(session.run(A+B))"
      ],
      "execution_count": null,
      "outputs": []
    },
    {
      "cell_type": "code",
      "metadata": {
        "id": "q6ktsEQG3S45"
      },
      "source": [
        "print(session.run(B-B))"
      ],
      "execution_count": null,
      "outputs": []
    },
    {
      "cell_type": "code",
      "metadata": {
        "id": "QUmVTVON3ULZ"
      },
      "source": [
        "print(session.run(tf.matmul(A,C)))"
      ],
      "execution_count": null,
      "outputs": []
    },
    {
      "cell_type": "code",
      "metadata": {
        "id": "MVAtwfxM3WhZ"
      },
      "source": [
        "print(session.run(tf.matmul(A, identity)))"
      ],
      "execution_count": null,
      "outputs": []
    },
    {
      "cell_type": "markdown",
      "metadata": {
        "id": "KwtggCHB3Yqd"
      },
      "source": [
        "## 3. Tranpuesta, determinante, inversa"
      ]
    },
    {
      "cell_type": "code",
      "metadata": {
        "id": "-cIi9f033cNK"
      },
      "source": [
        "print(session.run(tf.transpose(D)))"
      ],
      "execution_count": null,
      "outputs": []
    },
    {
      "cell_type": "code",
      "metadata": {
        "id": "wYCooTQU3c6T"
      },
      "source": [
        "print(session.run(tf.transpose(A)))"
      ],
      "execution_count": null,
      "outputs": []
    },
    {
      "cell_type": "code",
      "metadata": {
        "id": "vi_HXjc-3euB"
      },
      "source": [
        "print(session.run(tf.matrix_determinant(D)))"
      ],
      "execution_count": null,
      "outputs": []
    },
    {
      "cell_type": "code",
      "metadata": {
        "id": "u3S5yBGN3gHF"
      },
      "source": [
        "E = tf.convert_to_tensor(np.array([[1.,2.,3.], [-3., -6., -1], [0., 5, -3]]))\n",
        "print(session.run(tf.matrix_determinant(E)))"
      ],
      "execution_count": null,
      "outputs": []
    },
    {
      "cell_type": "code",
      "metadata": {
        "id": "aeUvG8NV3hkC"
      },
      "source": [
        "print(session.run(tf.matrix_inverse(E)))"
      ],
      "execution_count": null,
      "outputs": []
    },
    {
      "cell_type": "markdown",
      "metadata": {
        "id": "GFvgblhb2a2V"
      },
      "source": [
        "## 4. Descomposición"
      ]
    },
    {
      "cell_type": "code",
      "metadata": {
        "id": "-HiZVwvU2Y8i"
      },
      "source": [
        "print(session.run(tf.cholesky(identity)))"
      ],
      "execution_count": null,
      "outputs": []
    },
    {
      "cell_type": "markdown",
      "metadata": {
        "id": "iYS8TxlH3mD1"
      },
      "source": [
        "## 5. Valores y vectores propios"
      ]
    },
    {
      "cell_type": "code",
      "metadata": {
        "id": "oke5Vv0n2cPo"
      },
      "source": [
        "print(session.run(tf.self_adjoint_eigvals(E)))"
      ],
      "execution_count": null,
      "outputs": []
    },
    {
      "cell_type": "code",
      "metadata": {
        "id": "p15oxBUR3psD"
      },
      "source": [
        "print(session.run(tf.self_adjoint_eig(E)))"
      ],
      "execution_count": null,
      "outputs": []
    }
  ]
}