{
  "nbformat": 4,
  "nbformat_minor": 0,
  "metadata": {
    "colab": {
      "name": "02_tensors_colab.ipynb",
      "provenance": [],
      "collapsed_sections": [],
      "include_colab_link": true
    },
    "kernelspec": {
      "display_name": "Python 3",
      "language": "python",
      "name": "python3"
    },
    "language_info": {
      "codemirror_mode": {
        "name": "ipython",
        "version": 3
      },
      "file_extension": ".py",
      "mimetype": "text/x-python",
      "name": "python",
      "nbconvert_exporter": "python",
      "pygments_lexer": "ipython3",
      "version": "3.8.3"
    },
    "accelerator": "GPU"
  },
  "cells": [
    {
      "cell_type": "markdown",
      "metadata": {
        "id": "view-in-github",
        "colab_type": "text"
      },
      "source": [
        "<a href=\"https://colab.research.google.com/github/JhonFiUNFV/python_prep/blob/master/02_tensors_colab.ipynb\" target=\"_parent\"><img src=\"https://colab.research.google.com/assets/colab-badge.svg\" alt=\"Open In Colab\"/></a>"
      ]
    },
    {
      "cell_type": "markdown",
      "metadata": {
        "id": "KdUFcDsdzRyw"
      },
      "source": [
        "# Clonamos el repositorio para obtener los dataSet"
      ]
    },
    {
      "cell_type": "code",
      "metadata": {
        "id": "mHReFf3_y9ms"
      },
      "source": [
        "!git clone https://github.com/joanby/tensorflow.git"
      ],
      "execution_count": null,
      "outputs": []
    },
    {
      "cell_type": "markdown",
      "metadata": {
        "id": "vNKZXgtKzU2x"
      },
      "source": [
        "# Damos acceso a nuestro Drive"
      ]
    },
    {
      "cell_type": "code",
      "metadata": {
        "id": "5gu7KWnzzUQ0"
      },
      "source": [
        "from google.colab import drive\n",
        "drive.mount('/content/drive')"
      ],
      "execution_count": null,
      "outputs": []
    },
    {
      "cell_type": "markdown",
      "metadata": {
        "id": "1gUxIkHWzfHV"
      },
      "source": [
        "# Test it"
      ]
    },
    {
      "cell_type": "code",
      "metadata": {
        "id": "mIQt3jBMzYRE"
      },
      "source": [
        "!ls '/content/drive/My Drive' "
      ],
      "execution_count": null,
      "outputs": []
    },
    {
      "cell_type": "markdown",
      "metadata": {
        "id": "mHsK36uN0XB-"
      },
      "source": [
        "# Google colab tools"
      ]
    },
    {
      "cell_type": "code",
      "metadata": {
        "id": "kTzwfUPWzrm4"
      },
      "source": [
        "from google.colab import files # Para manejar los archivos y, por ejemplo, exportar a su navegador\n",
        "import glob # Para manejar los archivos y, por ejemplo, exportar a su navegador\n",
        "from google.colab import drive # Montar tu Google drive"
      ],
      "execution_count": null,
      "outputs": []
    },
    {
      "cell_type": "markdown",
      "metadata": {
        "id": "yQQ8nLiMY6wM"
      },
      "source": [
        "##Especificando la versión de TensorFlow\n",
        "\n",
        "Ejecutando \"importar tensorflow\" importará la versión por defecto (actualmente 2.x). Puedes usar la 1.x ejecutando una celda con la \"versión mágica de tensorflow\" **antes de ejecutar \"importar tensorflow\".\n",
        "\n",
        "### Si no funciona hacer el pip install\n"
      ]
    },
    {
      "cell_type": "code",
      "metadata": {
        "id": "1j---G3ZY6wN",
        "colab": {
          "base_uri": "https://localhost:8080/",
          "height": 34
        },
        "outputId": "601238d1-5aa7-4b3a-fa68-4af66678920c"
      },
      "source": [
        "#!pip install tensorflow==1.14\n",
        "%tensorflow_version 1.x"
      ],
      "execution_count": null,
      "outputs": [
        {
          "output_type": "stream",
          "text": [
            "TensorFlow 1.x selected.\n"
          ],
          "name": "stdout"
        }
      ]
    },
    {
      "cell_type": "markdown",
      "metadata": {
        "id": "S-OIfuWLujbt"
      },
      "source": [
        "# Importar Tensorflow"
      ]
    },
    {
      "cell_type": "code",
      "metadata": {
        "id": "OPSus73fumtP",
        "colab": {
          "base_uri": "https://localhost:8080/",
          "height": 34
        },
        "outputId": "dcde13ee-4f0b-4d5f-a7f4-aad8a6e33a67"
      },
      "source": [
        "import tensorflow as tf\n",
        "print(tf.__version__)"
      ],
      "execution_count": null,
      "outputs": [
        {
          "output_type": "stream",
          "text": [
            "1.15.2\n"
          ],
          "name": "stdout"
        }
      ]
    },
    {
      "cell_type": "markdown",
      "metadata": {
        "id": "Z9ZTNKptt8dA"
      },
      "source": [
        "$\\vec{v} = (v_1, v_2, v_3,\\cdots, v_n)\\in \\mathbb R^n$ es un tensor unidimensional (vector)"
      ]
    },
    {
      "cell_type": "markdown",
      "metadata": {
        "id": "IC_M6LlGuAp-"
      },
      "source": [
        "$ M = \\begin{pmatrix} \n",
        "    1 & 2 & 3\\\\\n",
        "    4 & 5 & 6\n",
        "    \\end{pmatrix} \\in \\mathbb R_{2\\times 3}$ es un tensor bidimensional (matriz)"
      ]
    },
    {
      "cell_type": "markdown",
      "metadata": {
        "id": "XtW9axgo0O0g"
      },
      "source": [
        "$ T \\in \\mathbb R_{n_1\\times n_2\\times \\cdots \\times n_k}$ es un tensor $k$-dimesional"
      ]
    },
    {
      "cell_type": "markdown",
      "metadata": {
        "id": "fluc-Axl0SaS"
      },
      "source": [
        "##  Tensores fijos"
      ]
    },
    {
      "cell_type": "code",
      "metadata": {
        "id": "2-V4YdfJsCL5",
        "colab": {
          "base_uri": "https://localhost:8080/",
          "height": 34
        },
        "outputId": "d6175e17-24a2-4937-cea8-121cc3be22b1"
      },
      "source": [
        "zero_t = tf.zeros([3, 4, 6]) #tensor lleno de zeros, 3 filas, 4 columnas, 6 profundidad\n",
        "zero_t"
      ],
      "execution_count": null,
      "outputs": [
        {
          "output_type": "execute_result",
          "data": {
            "text/plain": [
              "<tf.Tensor 'zeros:0' shape=(3, 4, 6) dtype=float32>"
            ]
          },
          "metadata": {
            "tags": []
          },
          "execution_count": 4
        }
      ]
    },
    {
      "cell_type": "code",
      "metadata": {
        "id": "6L_G-Z560V-U",
        "colab": {
          "base_uri": "https://localhost:8080/",
          "height": 34
        },
        "outputId": "7b038840-6930-48d1-b66a-2cf1f1f0f317"
      },
      "source": [
        "ones_t = tf.ones([3, 4]) #tensor lleno de unos, 3 filas, 4 columnas\n",
        "ones_t"
      ],
      "execution_count": null,
      "outputs": [
        {
          "output_type": "execute_result",
          "data": {
            "text/plain": [
              "<tf.Tensor 'ones:0' shape=(3, 4) dtype=float32>"
            ]
          },
          "metadata": {
            "tags": []
          },
          "execution_count": 5
        }
      ]
    },
    {
      "cell_type": "code",
      "metadata": {
        "id": "M-Qjb_730X32"
      },
      "source": [
        "filled_t = tf.fill([4,5,2], 1988) #rellenar el tensor\n",
        "filled_t"
      ],
      "execution_count": null,
      "outputs": []
    },
    {
      "cell_type": "code",
      "metadata": {
        "id": "TmqTKD5z0aOQ"
      },
      "source": [
        "cte_t = tf.constant([1,2,3,4,5]) #5 constantes\n",
        "cte_t"
      ],
      "execution_count": null,
      "outputs": []
    },
    {
      "cell_type": "markdown",
      "metadata": {
        "id": "7v5UxcIMuINd"
      },
      "source": [
        "## Tensores por tamaño"
      ]
    },
    {
      "cell_type": "code",
      "metadata": {
        "id": "AbgaGmAFuen3"
      },
      "source": [
        "zero_sim = tf.zeros_like(cte_t) #tensor con tantos 0 como la cte\n",
        "zero_sim"
      ],
      "execution_count": null,
      "outputs": []
    },
    {
      "cell_type": "code",
      "metadata": {
        "id": "_mJXUn3E0n8g"
      },
      "source": [
        "ones_sim = tf.ones_like(cte_t) #tensor con tantos 1 como la cte\n",
        "ones_sim"
      ],
      "execution_count": null,
      "outputs": []
    },
    {
      "cell_type": "markdown",
      "metadata": {
        "id": "E6fR1pKJuLaZ"
      },
      "source": [
        "## Tensor en forma de secuencia\n",
        "- linspace()\n",
        "- range()"
      ]
    },
    {
      "cell_type": "code",
      "metadata": {
        "id": "t0sPANbqu909",
        "colab": {
          "base_uri": "https://localhost:8080/",
          "height": 34
        },
        "outputId": "f31619c8-6b10-447c-a300-014d4879fb81"
      },
      "source": [
        "sec_t = tf.linspace(start=0.0, stop = 1.0, num = 5) #generar 5 numeros entre 0 y 1\n",
        "sec_t "
      ],
      "execution_count": null,
      "outputs": [
        {
          "output_type": "execute_result",
          "data": {
            "text/plain": [
              "<tf.Tensor 'LinSpace_1:0' shape=(5,) dtype=float32>"
            ]
          },
          "metadata": {
            "tags": []
          },
          "execution_count": 7
        }
      ]
    },
    {
      "cell_type": "markdown",
      "metadata": {
        "id": "1wrcpp_PuSEL"
      },
      "source": [
        "El resultado anterior sería el tensor $[0.0, 0.25, 0.5, 0.75, 1.0]$."
      ]
    },
    {
      "cell_type": "code",
      "metadata": {
        "id": "PMRrdFr8vAA4",
        "colab": {
          "base_uri": "https://localhost:8080/",
          "height": 34
        },
        "outputId": "77130150-48d6-403b-e6f2-ccb562f8f78d"
      },
      "source": [
        "range_seq = tf.range(start=5.0, limit = 15.0, delta = 4.0) #empezar en 5 y sumar de 4 en 4,no incluye el limite\n",
        "range_seq"
      ],
      "execution_count": null,
      "outputs": [
        {
          "output_type": "execute_result",
          "data": {
            "text/plain": [
              "<tf.Tensor 'range_1:0' shape=(3,) dtype=float32>"
            ]
          },
          "metadata": {
            "tags": []
          },
          "execution_count": 9
        }
      ]
    },
    {
      "cell_type": "markdown",
      "metadata": {
        "id": "FF8ovbE4uUHB"
      },
      "source": [
        "El resultado anterior sería el tensor $[5, 9, 13]$."
      ]
    },
    {
      "cell_type": "markdown",
      "metadata": {
        "id": "4J-lP3TY00H3"
      },
      "source": [
        "## Tensores aleatorios"
      ]
    },
    {
      "cell_type": "code",
      "metadata": {
        "id": "8sv0a7czvClk",
        "colab": {
          "base_uri": "https://localhost:8080/",
          "height": 34
        },
        "outputId": "b19e1987-de83-4460-f616-ed237731eb00"
      },
      "source": [
        "rand_unif_t = tf.random_uniform([3,4], minval=0, maxval=1) #distribuciones uniforme, min 1 max 1\n",
        "rand_unif_t"
      ],
      "execution_count": null,
      "outputs": [
        {
          "output_type": "execute_result",
          "data": {
            "text/plain": [
              "<tf.Tensor 'random_uniform_1:0' shape=(3, 4) dtype=float32>"
            ]
          },
          "metadata": {
            "tags": []
          },
          "execution_count": 11
        }
      ]
    },
    {
      "cell_type": "code",
      "metadata": {
        "id": "wgpFhDMpvEkn",
        "colab": {
          "base_uri": "https://localhost:8080/",
          "height": 34
        },
        "outputId": "14868b87-55bc-47f9-b767-d403cc30c539"
      },
      "source": [
        "rand_norm_t = tf.random_normal([3, 4], mean=0.0, stddev= 1.0) #distribuciones normal, media 0, desviacion estandard 1\n",
        "rand_norm_t"
      ],
      "execution_count": null,
      "outputs": [
        {
          "output_type": "execute_result",
          "data": {
            "text/plain": [
              "<tf.Tensor 'random_normal:0' shape=(3, 4) dtype=float32>"
            ]
          },
          "metadata": {
            "tags": []
          },
          "execution_count": 12
        }
      ]
    },
    {
      "cell_type": "code",
      "metadata": {
        "id": "Thviq39c04Ou",
        "colab": {
          "base_uri": "https://localhost:8080/",
          "height": 34
        },
        "outputId": "8067abed-07f9-4a01-df99-ba8a36bdcb41"
      },
      "source": [
        "rand_trunc_normal_t = tf.truncated_normal([3,4], mean=0.0, stddev=1.0) #Truncar para no tener exceso de valores infinitos\n",
        "rand_trunc_normal_t"
      ],
      "execution_count": null,
      "outputs": [
        {
          "output_type": "execute_result",
          "data": {
            "text/plain": [
              "<tf.Tensor 'truncated_normal:0' shape=(3, 4) dtype=float32>"
            ]
          },
          "metadata": {
            "tags": []
          },
          "execution_count": 13
        }
      ]
    },
    {
      "cell_type": "code",
      "metadata": {
        "id": "iHvxdvrf06rN",
        "colab": {
          "base_uri": "https://localhost:8080/",
          "height": 34
        },
        "outputId": "b6a5946b-f975-427e-d7f0-9776548fefbb"
      },
      "source": [
        "tf.random_shuffle(rand_unif_t) #barajar"
      ],
      "execution_count": null,
      "outputs": [
        {
          "output_type": "execute_result",
          "data": {
            "text/plain": [
              "<tf.Tensor 'RandomShuffle:0' shape=(3, 4) dtype=float32>"
            ]
          },
          "metadata": {
            "tags": []
          },
          "execution_count": 14
        }
      ]
    },
    {
      "cell_type": "code",
      "metadata": {
        "id": "gAPn3fOS08P3",
        "colab": {
          "base_uri": "https://localhost:8080/",
          "height": 34
        },
        "outputId": "1f6ad5eb-c958-4c27-8307-be7d7c4a4791"
      },
      "source": [
        "tf.random_crop(rand_norm_t, [2,6]) #limitar/cortar los valores"
      ],
      "execution_count": null,
      "outputs": [
        {
          "output_type": "execute_result",
          "data": {
            "text/plain": [
              "<tf.Tensor 'random_crop:0' shape=(2, 6) dtype=float32>"
            ]
          },
          "metadata": {
            "tags": []
          },
          "execution_count": 15
        }
      ]
    },
    {
      "cell_type": "markdown",
      "metadata": {
        "id": "rFYN2Z4yuV79"
      },
      "source": [
        "# Variables"
      ]
    },
    {
      "cell_type": "code",
      "metadata": {
        "id": "6kZQKTaN0_Mo",
        "colab": {
          "base_uri": "https://localhost:8080/",
          "height": 34
        },
        "outputId": "d9b1dcf5-705c-48bc-cf53-2e9277db01e3"
      },
      "source": [
        "tf.Variable(rand_norm_t) #guardar un tensor"
      ],
      "execution_count": null,
      "outputs": [
        {
          "output_type": "execute_result",
          "data": {
            "text/plain": [
              "<tf.Variable 'Variable:0' shape=(3, 4) dtype=float32_ref>"
            ]
          },
          "metadata": {
            "tags": []
          },
          "execution_count": 16
        }
      ]
    },
    {
      "cell_type": "code",
      "metadata": {
        "id": "vxBvT2Ec1AqE"
      },
      "source": [
        "tf.convert_to_tensor(1988)"
      ],
      "execution_count": null,
      "outputs": []
    },
    {
      "cell_type": "code",
      "metadata": {
        "id": "NaW-qs5n1Cip"
      },
      "source": [
        "tf.convert_to_tensor([1,2,3,4,5])"
      ],
      "execution_count": null,
      "outputs": []
    }
  ]
}