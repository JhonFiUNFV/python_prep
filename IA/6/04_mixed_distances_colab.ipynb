{
  "nbformat": 4,
  "nbformat_minor": 0,
  "metadata": {
    "colab": {
      "name": "04_mixed_distances_colab.ipynb",
      "provenance": [],
      "collapsed_sections": [],
      "include_colab_link": true
    },
    "kernelspec": {
      "display_name": "Python 3",
      "language": "python",
      "name": "python3"
    },
    "language_info": {
      "codemirror_mode": {
        "name": "ipython",
        "version": 3
      },
      "file_extension": ".py",
      "mimetype": "text/x-python",
      "name": "python",
      "nbconvert_exporter": "python",
      "pygments_lexer": "ipython3",
      "version": "3.8.3"
    },
    "accelerator": "GPU"
  },
  "cells": [
    {
      "cell_type": "markdown",
      "metadata": {
        "id": "view-in-github",
        "colab_type": "text"
      },
      "source": [
        "<a href=\"https://colab.research.google.com/github/JhonFiUNFV/python_prep/blob/master/04_mixed_distances_colab.ipynb\" target=\"_parent\"><img src=\"https://colab.research.google.com/assets/colab-badge.svg\" alt=\"Open In Colab\"/></a>"
      ]
    },
    {
      "cell_type": "markdown",
      "metadata": {
        "id": "KdUFcDsdzRyw"
      },
      "source": [
        "# Clonamos el repositorio para obtener los dataSet"
      ]
    },
    {
      "cell_type": "code",
      "metadata": {
        "id": "mHReFf3_y9ms",
        "colab": {
          "base_uri": "https://localhost:8080/"
        },
        "outputId": "20760710-628d-4450-df06-454845e980e5"
      },
      "source": [
        "!git clone https://github.com/joanby/tensorflow.git"
      ],
      "execution_count": 1,
      "outputs": [
        {
          "output_type": "stream",
          "name": "stdout",
          "text": [
            "Cloning into 'tensorflow'...\n",
            "remote: Enumerating objects: 60398, done.\u001b[K\n",
            "remote: Total 60398 (delta 0), reused 0 (delta 0), pack-reused 60398\u001b[K\n",
            "Receiving objects: 100% (60398/60398), 443.85 MiB | 16.57 MiB/s, done.\n",
            "Resolving deltas: 100% (131/131), done.\n",
            "Checking out files: 100% (60276/60276), done.\n"
          ]
        }
      ]
    },
    {
      "cell_type": "markdown",
      "metadata": {
        "id": "vNKZXgtKzU2x"
      },
      "source": [
        "# Damos acceso a nuestro Drive"
      ]
    },
    {
      "cell_type": "code",
      "metadata": {
        "id": "5gu7KWnzzUQ0",
        "colab": {
          "base_uri": "https://localhost:8080/"
        },
        "outputId": "756e4302-ee12-429e-b49d-787aa45ba91b"
      },
      "source": [
        "from google.colab import drive\n",
        "drive.mount('/content/drive')"
      ],
      "execution_count": 3,
      "outputs": [
        {
          "output_type": "stream",
          "name": "stdout",
          "text": [
            "Mounted at /content/drive\n"
          ]
        }
      ]
    },
    {
      "cell_type": "markdown",
      "metadata": {
        "id": "1gUxIkHWzfHV"
      },
      "source": [
        "# Test it"
      ]
    },
    {
      "cell_type": "code",
      "metadata": {
        "id": "mIQt3jBMzYRE",
        "colab": {
          "base_uri": "https://localhost:8080/"
        },
        "outputId": "b1b9e2f1-5ab3-49f6-8a45-3b2ea1958220"
      },
      "source": [
        "!ls '/content/drive/My Drive' "
      ],
      "execution_count": 4,
      "outputs": [
        {
          "output_type": "stream",
          "name": "stdout",
          "text": [
            "'2. Intermedio'\n",
            " Canva\n",
            "'CFA - LEVEL II - TANDEM FINANCE'\n",
            " Classroom\n",
            "'Colab Notebooks'\n",
            " constancia_empleo3.pdf\n",
            " Curso_Proyectos_InviertePE\n",
            " Data\n",
            "'Data (1).xlsx'\n",
            " Data.gsheet\n",
            " Data.xlsx\n",
            " GRUPOS_PY.gsheet\n",
            "'informe5 (1).gsheet'\n",
            " informe5.gsheet\n",
            "'Investigación UX - JHON VIDAL FIGUEROA CÉSPEDES.gsheet'\n",
            "'JHON VIDAL FIGUEROA CÉSPEDES.pdf'\n",
            " LeWagon\n",
            " Master.xlsx\n",
            " ModuloII_FundamentosdeMachineLearning\n",
            " ModuloIV_ManejodeBasedeDatos\n",
            " ProgramadeEspecializacionenDataScience\n",
            " PROYECTO_CONSTRUCCION.docx\n",
            "'PROYECTO GRUPO 01.pptx'\n",
            " python-ml\n",
            "'QUANT 2021'\n",
            " rar\n",
            "'SEMINARIO DE ADM DE RIESGO EN BANCA'\n",
            "'Sesión 2-20220320T150758Z-001.zip'\n",
            " tensorflow\n",
            "'Teoria Económica y Finanzas'\n",
            "'TESIS JHON FIGUEROA'\n",
            " Worksheet.xlsx\n"
          ]
        }
      ]
    },
    {
      "cell_type": "markdown",
      "metadata": {
        "id": "mHsK36uN0XB-"
      },
      "source": [
        "# Google colab tools"
      ]
    },
    {
      "cell_type": "code",
      "metadata": {
        "id": "kTzwfUPWzrm4"
      },
      "source": [
        "from google.colab import files # Para manejar los archivos y, por ejemplo, exportar a su navegador\n",
        "import glob # Para manejar los archivos y, por ejemplo, exportar a su navegador\n",
        "from google.colab import drive # Montar tu Google drive"
      ],
      "execution_count": 5,
      "outputs": []
    },
    {
      "cell_type": "markdown",
      "metadata": {
        "id": "yQQ8nLiMY6wM"
      },
      "source": [
        "##Especificando la versión de TensorFlow\n",
        "\n",
        "Ejecutando \"importar tensorflow\" importará la versión por defecto (actualmente 2.x). Puedes usar la 1.x ejecutando una celda con la \"versión mágica de tensorflow\" **antes de ejecutar \"importar tensorflow\".\n",
        "\n",
        "### Si no funciona hacer el pip install\n"
      ]
    },
    {
      "cell_type": "code",
      "metadata": {
        "id": "1j---G3ZY6wN",
        "colab": {
          "base_uri": "https://localhost:8080/"
        },
        "outputId": "b26765d8-0ed2-40e3-ac47-b73652afe592"
      },
      "source": [
        "#!pip install tensorflow==1.14\n",
        "%tensorflow_version 1.x"
      ],
      "execution_count": 6,
      "outputs": [
        {
          "output_type": "stream",
          "name": "stdout",
          "text": [
            "TensorFlow 1.x selected.\n"
          ]
        }
      ]
    },
    {
      "cell_type": "markdown",
      "metadata": {
        "id": "S-OIfuWLujbt"
      },
      "source": [
        "# Importar Tensorflow"
      ]
    },
    {
      "cell_type": "code",
      "metadata": {
        "id": "OPSus73fumtP",
        "colab": {
          "base_uri": "https://localhost:8080/"
        },
        "outputId": "4dd34b7a-aebf-4120-d68c-3a71c39ca4af"
      },
      "source": [
        "import tensorflow as tf\n",
        "print(tf.__version__)\n",
        "import matplotlib.pyplot as plt"
      ],
      "execution_count": 7,
      "outputs": [
        {
          "output_type": "stream",
          "name": "stdout",
          "text": [
            "1.15.2\n"
          ]
        }
      ]
    },
    {
      "cell_type": "code",
      "metadata": {
        "id": "VQheSGsEBdD3"
      },
      "source": [
        "session = tf.Session()"
      ],
      "execution_count": 8,
      "outputs": []
    },
    {
      "cell_type": "markdown",
      "metadata": {
        "id": "qzlBylUEmQJ0"
      },
      "source": [
        "# Distancias ponderadas para cada variable"
      ]
    },
    {
      "cell_type": "markdown",
      "metadata": {
        "id": "cDX1L5E56ssX"
      },
      "source": [
        "$$D(x,y) = \\sqrt{(x-y)^T\\cdot A\\cdot(x-y)}$$"
      ]
    },
    {
      "cell_type": "code",
      "metadata": {
        "id": "IpjDgYSa5-j8"
      },
      "source": [
        "import matplotlib.pyplot as plt\n",
        "import numpy as np\n",
        "import requests"
      ],
      "execution_count": 9,
      "outputs": []
    },
    {
      "cell_type": "code",
      "metadata": {
        "id": "rQ41NQPv6AGg"
      },
      "source": [
        "url = \"https://archive.ics.uci.edu/ml/machine-learning-databases/housing/housing.data\"\n",
        "housing_header = [\"CRIM\", #      per capita crime rate by town\n",
        "                  \"ZN\", #        proportion of residential land zoned for lots over 25,000 sq.ft.\n",
        "                  \"INDUS\", #     proportion of non-retail business acres per town\n",
        "                  \"CHAS\", #      Charles River dummy variable (= 1 if tract bounds  river; 0 otherwise)\n",
        "                  \"NOX\", #       nitric oxides concentration (parts per 10 million)\n",
        "                  \"RM\", #        average number of rooms per dwelling\n",
        "                  \"AGE\",#        proportion of owner-occupied units built prior to 1940\n",
        "                  \"DIS\", #       weighted distances to five Boston employment centres\n",
        "                  \"RAD\", #       index of accessibility to radial highways\n",
        "                  \"TAX\", #       full-value property-tax rate per $10,000\n",
        "                  \"PTRATIO\",#    pupil-teacher ratio by town\n",
        "                  \"B\", #         1000(Bk - 0.63)^2 where Bk is the proportion of blacks by town\n",
        "                  \"LSTAT\", #     % lower status of the population\n",
        "                  \"MEDV\" #       Median value of owner-occupied homes in $1000's\n",
        "                 ]\n",
        "cols_used = [\"CRIM\", \"INDUS\", \"NOX\", \"RM\", \"AGE\", \"DIS\", \"TAX\", \"PTRATIO\", \"B\", \"LSTAT\"]\n",
        "num_features = len(cols_used)\n",
        "housing_file = requests.get(url)\n",
        "housing_data =[[float(x) for x in y.split(' ') if len(x)>=1] for y in housing_file.text.split('\\n') if len(y)>=1]\n",
        "y_vals = np.transpose([np.array([y[13] for y in housing_data])])\n",
        "x_vals = np.array([[x for i,x in enumerate(y) if housing_header[i] in cols_used] for y in housing_data])\n",
        "x_vals = (x_vals - x_vals.min(0))/x_vals.ptp(0)"
      ],
      "execution_count": 10,
      "outputs": []
    },
    {
      "cell_type": "code",
      "metadata": {
        "id": "c4hGsOTe6Bjk",
        "colab": {
          "base_uri": "https://localhost:8080/"
        },
        "outputId": "3c5d780a-634e-4430-969f-cdb3cbee41ac"
      },
      "source": [
        "weight_diag = x_vals.std(0)\n",
        "weight_diag"
      ],
      "execution_count": 11,
      "outputs": [
        {
          "output_type": "execute_result",
          "data": {
            "text/plain": [
              "array([0.09658371, 0.25123059, 0.23819571, 0.13449368, 0.28960899,\n",
              "       0.19129285, 0.32131774, 0.23008566, 0.22997783, 0.19685435])"
            ]
          },
          "metadata": {},
          "execution_count": 11
        }
      ]
    },
    {
      "cell_type": "code",
      "metadata": {
        "id": "87y7oBlz6DAD"
      },
      "source": [
        "weight_matrix = tf.cast(tf.diag(weight_diag), dtype=tf.float32)"
      ],
      "execution_count": 12,
      "outputs": []
    },
    {
      "cell_type": "code",
      "metadata": {
        "id": "mgblvoIy6EOL",
        "colab": {
          "base_uri": "https://localhost:8080/"
        },
        "outputId": "38d62645-f5f3-460b-c95e-d60038567962"
      },
      "source": [
        "session.run(weight_matrix)"
      ],
      "execution_count": 13,
      "outputs": [
        {
          "output_type": "execute_result",
          "data": {
            "text/plain": [
              "array([[0.09658372, 0.        , 0.        , 0.        , 0.        ,\n",
              "        0.        , 0.        , 0.        , 0.        , 0.        ],\n",
              "       [0.        , 0.2512306 , 0.        , 0.        , 0.        ,\n",
              "        0.        , 0.        , 0.        , 0.        , 0.        ],\n",
              "       [0.        , 0.        , 0.23819572, 0.        , 0.        ,\n",
              "        0.        , 0.        , 0.        , 0.        , 0.        ],\n",
              "       [0.        , 0.        , 0.        , 0.13449368, 0.        ,\n",
              "        0.        , 0.        , 0.        , 0.        , 0.        ],\n",
              "       [0.        , 0.        , 0.        , 0.        , 0.289609  ,\n",
              "        0.        , 0.        , 0.        , 0.        , 0.        ],\n",
              "       [0.        , 0.        , 0.        , 0.        , 0.        ,\n",
              "        0.19129285, 0.        , 0.        , 0.        , 0.        ],\n",
              "       [0.        , 0.        , 0.        , 0.        , 0.        ,\n",
              "        0.        , 0.32131773, 0.        , 0.        , 0.        ],\n",
              "       [0.        , 0.        , 0.        , 0.        , 0.        ,\n",
              "        0.        , 0.        , 0.23008566, 0.        , 0.        ],\n",
              "       [0.        , 0.        , 0.        , 0.        , 0.        ,\n",
              "        0.        , 0.        , 0.        , 0.22997783, 0.        ],\n",
              "       [0.        , 0.        , 0.        , 0.        , 0.        ,\n",
              "        0.        , 0.        , 0.        , 0.        , 0.19685435]],\n",
              "      dtype=float32)"
            ]
          },
          "metadata": {},
          "execution_count": 13
        }
      ]
    },
    {
      "cell_type": "code",
      "metadata": {
        "id": "zXhujYPP7yxy"
      },
      "source": [
        "train_idx = np.random.choice(len(x_vals), round(len(x_vals)*0.8), replace=False)\n",
        "test_idx = np.array(list(set(range(len(x_vals)))-set(train_idx)))\n",
        "\n",
        "x_vals_train = x_vals[train_idx]\n",
        "x_vals_test = x_vals[test_idx]\n",
        "\n",
        "y_vals_train = y_vals[train_idx]\n",
        "y_vals_test = y_vals[test_idx]"
      ],
      "execution_count": 14,
      "outputs": []
    },
    {
      "cell_type": "code",
      "metadata": {
        "id": "6Ckkam_d70QO"
      },
      "source": [
        "k = 4\n",
        "batch_size = len(x_vals_test)"
      ],
      "execution_count": 15,
      "outputs": []
    },
    {
      "cell_type": "code",
      "metadata": {
        "id": "mLoL-wsS71j2"
      },
      "source": [
        "x_data_train = tf.placeholder(shape=[None, num_features], dtype=tf.float32)\n",
        "x_data_test = tf.placeholder(shape=[None, num_features], dtype=tf.float32)\n",
        "\n",
        "y_target_train = tf.placeholder(shape = [None, 1], dtype=tf.float32)\n",
        "y_target_test = tf.placeholder(shape=[None, 1], dtype=tf.float32)"
      ],
      "execution_count": 16,
      "outputs": []
    },
    {
      "cell_type": "code",
      "metadata": {
        "id": "VTnSQ_Ox72tI"
      },
      "source": [
        "subs_term = tf.subtract(x_data_train, tf.expand_dims(x_data_test, 1))\n",
        "first_prod = tf.matmul(subs_term, tf.tile(tf.expand_dims(weight_matrix,0), [batch_size, 1, 1]))\n",
        "second_prod = tf.matmul(first_prod, tf.transpose(subs_term, perm=[0,2,1]))"
      ],
      "execution_count": 17,
      "outputs": []
    },
    {
      "cell_type": "code",
      "metadata": {
        "id": "hD5iw08U74Ap"
      },
      "source": [
        "distance = tf.sqrt(tf.matrix_diag_part(second_prod))"
      ],
      "execution_count": 18,
      "outputs": []
    },
    {
      "cell_type": "code",
      "metadata": {
        "id": "X0S03c_775Ee"
      },
      "source": [
        "top_k_xvals, top_k_idx = tf.nn.top_k(tf.negative(distance), k = k)\n",
        "x_sums = tf.expand_dims(tf.reduce_sum(top_k_xvals,1),1)\n",
        "x_sums_rep = tf.matmul(x_sums, tf.ones([1,k], tf.float32))\n",
        "x_vals_w = tf.expand_dims(tf.divide(top_k_xvals, x_sums_rep),1) # -> wi = di / \\sum(dj)\n",
        "top_k_yvals = tf.gather(y_target_train, top_k_idx)\n",
        "prediction = tf.squeeze(tf.matmul(x_vals_w, top_k_yvals),axis=[1]) ## \\sum w_i y_i"
      ],
      "execution_count": 19,
      "outputs": []
    },
    {
      "cell_type": "code",
      "metadata": {
        "id": "ZWebmOrB76LT",
        "colab": {
          "base_uri": "https://localhost:8080/"
        },
        "outputId": "da663616-0783-4a8e-d108-2809d437d5b7"
      },
      "source": [
        "mse = tf.div(tf.reduce_sum(tf.square(tf.subtract(prediction, y_target_test))), batch_size)"
      ],
      "execution_count": 20,
      "outputs": [
        {
          "output_type": "stream",
          "name": "stdout",
          "text": [
            "WARNING:tensorflow:From <ipython-input-20-c60c649b86ec>:1: div (from tensorflow.python.ops.math_ops) is deprecated and will be removed in a future version.\n",
            "Instructions for updating:\n",
            "Deprecated in favor of operator or tf.math.divide.\n"
          ]
        }
      ]
    },
    {
      "cell_type": "code",
      "metadata": {
        "id": "WonToF5K77pQ",
        "colab": {
          "base_uri": "https://localhost:8080/"
        },
        "outputId": "89ac73d3-a3a9-48e7-dcb6-e6493ceb1fd0"
      },
      "source": [
        "num_loops = int(np.ceil(len(x_vals_test)/batch_size))\n",
        "\n",
        "for i in range(num_loops):\n",
        "    min_idx = i*batch_size\n",
        "    max_idx = min((i+1)*batch_size, len(x_vals_train))\n",
        "    x_batch = x_vals_test[min_idx:max_idx]\n",
        "    y_batch = y_vals_test[min_idx:max_idx]\n",
        "    \n",
        "    predictions = session.run(prediction, feed_dict={x_data_train: x_vals_train, x_data_test: x_batch,\n",
        "                                         y_target_train: y_vals_train, y_target_test: y_batch})\n",
        "    batch_mse = session.run(mse, feed_dict={x_data_train: x_vals_train, x_data_test: x_batch,\n",
        "                                         y_target_train: y_vals_train, y_target_test: y_batch})\n",
        "    \n",
        "    print(\"MSE = \"+str(np.round(batch_mse, 3)))"
      ],
      "execution_count": 21,
      "outputs": [
        {
          "output_type": "stream",
          "name": "stdout",
          "text": [
            "MSE = 21.231\n"
          ]
        }
      ]
    },
    {
      "cell_type": "code",
      "metadata": {
        "id": "wq9g9AKP78m1",
        "colab": {
          "base_uri": "https://localhost:8080/",
          "height": 295
        },
        "outputId": "abe958b1-1973-4c03-d61a-7cc8eef9dffd"
      },
      "source": [
        "bins = np.linspace(5, 50, 45)\n",
        "plt.hist(predictions, bins, alpha = 0.5, label = \"Predicción\")\n",
        "plt.hist(y_batch, bins, alpha = 0.5, label = \"Dato Real\")\n",
        "plt.title(\"Histograma de valor de la casa real vs predicción\")\n",
        "plt.xlabel(\"Valor mediano de la casa en 1.000$\")\n",
        "plt.ylabel(\"Frecuencia\")\n",
        "plt.legend(loc=\"upper right\")\n",
        "plt.show()"
      ],
      "execution_count": 22,
      "outputs": [
        {
          "output_type": "display_data",
          "data": {
            "text/plain": [
              "<Figure size 432x288 with 1 Axes>"
            ],
            "image/png": "[encoded data removed]"
          },
          "metadata": {
            "needs_background": "light"
          }
        }
      ]
    },
    {
      "cell_type": "code",
      "metadata": {
        "id": "khDwiaCa79s0"
      },
      "source": [
        "def knn(k):\n",
        "    batch_size = len(x_vals_test)\n",
        "\n",
        "    top_k_xvals, top_k_idx = tf.nn.top_k(tf.negative(distance), k = k)\n",
        "    x_sums = tf.expand_dims(tf.reduce_sum(top_k_xvals,1),1)\n",
        "    x_sums_rep = tf.matmul(x_sums, tf.ones([1,k], tf.float32))\n",
        "    x_vals_w = tf.expand_dims(tf.divide(top_k_xvals, x_sums_rep),1) # -> wi = di / \\sum(dj)\n",
        "    \n",
        "    top_k_yvals = tf.gather(y_target_train, top_k_idx)\n",
        "    prediction = tf.squeeze(tf.matmul(x_vals_w, top_k_yvals),axis=[1]) ## \\sum w_i y_i\n",
        "    \n",
        "    mse = tf.div(tf.reduce_sum(tf.square(tf.subtract(prediction, y_target_test))), batch_size)\n",
        "    \n",
        "    min_idx = i*batch_size\n",
        "    max_idx = min((i+1)*batch_size, len(x_vals_train))\n",
        "    x_batch = x_vals_test[min_idx:max_idx]\n",
        "    y_batch = y_vals_test[min_idx:max_idx]\n",
        "    \n",
        "    predictions = session.run(prediction, feed_dict={x_data_train: x_vals_train, x_data_test: x_batch,\n",
        "                                         y_target_train: y_vals_train, y_target_test: y_batch})\n",
        "    batch_mse = session.run(mse, feed_dict={x_data_train: x_vals_train, x_data_test: x_batch,\n",
        "                                         y_target_train: y_vals_train, y_target_test: y_batch})\n",
        "    \n",
        "    return batch_mse"
      ],
      "execution_count": 23,
      "outputs": []
    },
    {
      "cell_type": "code",
      "metadata": {
        "id": "pa50C7Fk7_Pi",
        "colab": {
          "base_uri": "https://localhost:8080/"
        },
        "outputId": "0a36fbc2-ca75-4175-eb9f-0e22b18c5f72"
      },
      "source": [
        "mse_k = []\n",
        "for k in range(2,30):\n",
        "    mse_t = knn(k)\n",
        "    mse_k.append(mse_t)\n",
        "    print(str(k)+\", MSE=\"+str(mse_t))"
      ],
      "execution_count": 24,
      "outputs": [
        {
          "output_type": "stream",
          "name": "stdout",
          "text": [
            "2, MSE=18.904413\n",
            "3, MSE=18.986612\n",
            "4, MSE=21.231129\n",
            "5, MSE=21.47311\n",
            "6, MSE=24.384277\n",
            "7, MSE=29.00618\n",
            "8, MSE=34.57378\n",
            "9, MSE=36.14216\n",
            "10, MSE=38.227936\n",
            "11, MSE=40.39037\n",
            "12, MSE=41.355503\n",
            "13, MSE=42.44951\n",
            "14, MSE=43.72734\n",
            "15, MSE=43.52848\n",
            "16, MSE=44.907005\n",
            "17, MSE=46.07063\n",
            "18, MSE=46.455624\n",
            "19, MSE=46.06379\n",
            "20, MSE=45.94891\n",
            "21, MSE=46.760056\n",
            "22, MSE=47.17797\n",
            "23, MSE=47.709583\n",
            "24, MSE=48.596016\n",
            "25, MSE=50.166042\n",
            "26, MSE=50.33375\n",
            "27, MSE=50.196224\n",
            "28, MSE=50.09043\n",
            "29, MSE=50.715843\n"
          ]
        }
      ]
    },
    {
      "cell_type": "code",
      "metadata": {
        "id": "uQUVeqZp8Adj",
        "colab": {
          "base_uri": "https://localhost:8080/",
          "height": 279
        },
        "outputId": "717ab530-d98a-48ec-fdca-595b4a8323ce"
      },
      "source": [
        "plt.plot(range(2,30), mse_k, 'k-', label=\"MSE\")\n",
        "plt.xlabel(\"k\")\n",
        "plt.ylabel(\"MSE\")\n",
        "plt.show()"
      ],
      "execution_count": 25,
      "outputs": [
        {
          "output_type": "display_data",
          "data": {
            "text/plain": [
              "<Figure size 432x288 with 1 Axes>"
            ],
            "image/png": "[encoded data removed]"
          },
          "metadata": {
            "needs_background": "light"
          }
        }
      ]
    }
  ]
}