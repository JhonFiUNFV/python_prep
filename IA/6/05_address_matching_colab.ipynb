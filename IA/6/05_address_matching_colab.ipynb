{
  "nbformat": 4,
  "nbformat_minor": 0,
  "metadata": {
    "colab": {
      "name": "05_address_matching_colab.ipynb",
      "provenance": [],
      "collapsed_sections": [],
      "include_colab_link": true
    },
    "kernelspec": {
      "display_name": "Python 3",
      "language": "python",
      "name": "python3"
    },
    "language_info": {
      "codemirror_mode": {
        "name": "ipython",
        "version": 3
      },
      "file_extension": ".py",
      "mimetype": "text/x-python",
      "name": "python",
      "nbconvert_exporter": "python",
      "pygments_lexer": "ipython3",
      "version": "3.8.3"
    },
    "accelerator": "GPU"
  },
  "cells": [
    {
      "cell_type": "markdown",
      "metadata": {
        "id": "view-in-github",
        "colab_type": "text"
      },
      "source": [
        "<a href=\"https://colab.research.google.com/github/JhonFiUNFV/python_prep/blob/master/05_address_matching_colab.ipynb\" target=\"_parent\"><img src=\"https://colab.research.google.com/assets/colab-badge.svg\" alt=\"Open In Colab\"/></a>"
      ]
    },
    {
      "cell_type": "markdown",
      "metadata": {
        "id": "KdUFcDsdzRyw"
      },
      "source": [
        "# Clonamos el repositorio para obtener los dataSet"
      ]
    },
    {
      "cell_type": "code",
      "metadata": {
        "id": "mHReFf3_y9ms",
        "colab": {
          "base_uri": "https://localhost:8080/"
        },
        "outputId": "432f74e1-3574-4e1a-cc32-0637af343941"
      },
      "source": [
        "!git clone https://github.com/joanby/tensorflow.git"
      ],
      "execution_count": 1,
      "outputs": [
        {
          "output_type": "stream",
          "name": "stdout",
          "text": [
            "Cloning into 'tensorflow'...\n",
            "remote: Enumerating objects: 60398, done.\u001b[K\n",
            "remote: Total 60398 (delta 0), reused 0 (delta 0), pack-reused 60398\u001b[K\n",
            "Receiving objects: 100% (60398/60398), 443.85 MiB | 23.07 MiB/s, done.\n",
            "Resolving deltas: 100% (131/131), done.\n",
            "Checking out files: 100% (60276/60276), done.\n"
          ]
        }
      ]
    },
    {
      "cell_type": "markdown",
      "metadata": {
        "id": "vNKZXgtKzU2x"
      },
      "source": [
        "# Damos acceso a nuestro Drive"
      ]
    },
    {
      "cell_type": "code",
      "metadata": {
        "id": "5gu7KWnzzUQ0",
        "colab": {
          "base_uri": "https://localhost:8080/"
        },
        "outputId": "9e347e6a-82be-43f3-acf8-bee46ad39f7f"
      },
      "source": [
        "from google.colab import drive\n",
        "drive.mount('/content/drive')"
      ],
      "execution_count": 2,
      "outputs": [
        {
          "output_type": "stream",
          "name": "stdout",
          "text": [
            "Mounted at /content/drive\n"
          ]
        }
      ]
    },
    {
      "cell_type": "markdown",
      "metadata": {
        "id": "1gUxIkHWzfHV"
      },
      "source": [
        "# Test it"
      ]
    },
    {
      "cell_type": "code",
      "metadata": {
        "id": "mIQt3jBMzYRE",
        "colab": {
          "base_uri": "https://localhost:8080/"
        },
        "outputId": "2677074d-a3a9-4a5f-bc00-42a26df3a515"
      },
      "source": [
        "!ls '/content/drive/My Drive' "
      ],
      "execution_count": 3,
      "outputs": [
        {
          "output_type": "stream",
          "name": "stdout",
          "text": [
            "'2. Intermedio'\n",
            " Canva\n",
            "'CFA - LEVEL II - TANDEM FINANCE'\n",
            " Classroom\n",
            "'Colab Notebooks'\n",
            " constancia_empleo3.pdf\n",
            " Curso_Proyectos_InviertePE\n",
            " Data\n",
            "'Data (1).xlsx'\n",
            " Data.gsheet\n",
            " Data.xlsx\n",
            " GRUPOS_PY.gsheet\n",
            "'informe5 (1).gsheet'\n",
            " informe5.gsheet\n",
            "'Investigación UX - JHON VIDAL FIGUEROA CÉSPEDES.gsheet'\n",
            "'JHON VIDAL FIGUEROA CÉSPEDES.pdf'\n",
            " LeWagon\n",
            " Master.xlsx\n",
            " ModuloII_FundamentosdeMachineLearning\n",
            " ModuloIV_ManejodeBasedeDatos\n",
            " ProgramadeEspecializacionenDataScience\n",
            " PROYECTO_CONSTRUCCION.docx\n",
            "'PROYECTO GRUPO 01.pptx'\n",
            " python-ml\n",
            "'QUANT 2021'\n",
            " rar\n",
            "'SEMINARIO DE ADM DE RIESGO EN BANCA'\n",
            "'Sesión 2-20220320T150758Z-001.zip'\n",
            " tensorflow\n",
            "'Teoria Económica y Finanzas'\n",
            "'TESIS JHON FIGUEROA'\n",
            " Worksheet.xlsx\n"
          ]
        }
      ]
    },
    {
      "cell_type": "markdown",
      "metadata": {
        "id": "mHsK36uN0XB-"
      },
      "source": [
        "# Google colab tools"
      ]
    },
    {
      "cell_type": "code",
      "metadata": {
        "id": "kTzwfUPWzrm4"
      },
      "source": [
        "from google.colab import files # Para manejar los archivos y, por ejemplo, exportar a su navegador\n",
        "import glob # Para manejar los archivos y, por ejemplo, exportar a su navegador\n",
        "from google.colab import drive # Montar tu Google drive"
      ],
      "execution_count": 4,
      "outputs": []
    },
    {
      "cell_type": "markdown",
      "metadata": {
        "id": "yQQ8nLiMY6wM"
      },
      "source": [
        "##Especificando la versión de TensorFlow\n",
        "\n",
        "Ejecutando \"importar tensorflow\" importará la versión por defecto (actualmente 2.x). Puedes usar la 1.x ejecutando una celda con la \"versión mágica de tensorflow\" **antes de ejecutar \"importar tensorflow\".\n",
        "\n",
        "### Si no funciona hacer el pip install\n"
      ]
    },
    {
      "cell_type": "code",
      "metadata": {
        "id": "1j---G3ZY6wN",
        "colab": {
          "base_uri": "https://localhost:8080/"
        },
        "outputId": "3bdaa98b-4260-47db-b951-1f02b997b155"
      },
      "source": [
        "#!pip install tensorflow==1.14\n",
        "%tensorflow_version 1.x"
      ],
      "execution_count": 5,
      "outputs": [
        {
          "output_type": "stream",
          "name": "stdout",
          "text": [
            "TensorFlow 1.x selected.\n"
          ]
        }
      ]
    },
    {
      "cell_type": "markdown",
      "metadata": {
        "id": "S-OIfuWLujbt"
      },
      "source": [
        "# Importar Tensorflow"
      ]
    },
    {
      "cell_type": "code",
      "metadata": {
        "id": "OPSus73fumtP",
        "colab": {
          "base_uri": "https://localhost:8080/"
        },
        "outputId": "ed97d417-e932-42f9-b7da-874b5c0e9683"
      },
      "source": [
        "import tensorflow as tf\n",
        "print(tf.__version__)\n",
        "import matplotlib.pyplot as plt"
      ],
      "execution_count": 6,
      "outputs": [
        {
          "output_type": "stream",
          "name": "stdout",
          "text": [
            "1.15.2\n"
          ]
        }
      ]
    },
    {
      "cell_type": "code",
      "metadata": {
        "id": "VQheSGsEBdD3"
      },
      "source": [
        "session = tf.Session()"
      ],
      "execution_count": 7,
      "outputs": []
    },
    {
      "cell_type": "markdown",
      "metadata": {
        "id": "qzlBylUEmQJ0"
      },
      "source": [
        "# Correspondencia en direcciones postales"
      ]
    },
    {
      "cell_type": "code",
      "metadata": {
        "id": "IpjDgYSa5-j8"
      },
      "source": [
        "import random\n",
        "import string\n",
        "import numpy as np"
      ],
      "execution_count": 8,
      "outputs": []
    },
    {
      "cell_type": "code",
      "metadata": {
        "id": "rQ41NQPv6AGg"
      },
      "source": [
        "n = 10\n",
        "street_names = [\"diagon\", \"elm\", \"abbey\", \"gran\", \"python\"]\n",
        "street_type = [\"callejon\", \"calle\", \"carrera\", \"via\", \"avenida\"]\n",
        "street_zips = [random.randint(20000, 29999) for i in range(5)]\n",
        "numbers = [random.randint(1,999) for i in range(n)]"
      ],
      "execution_count": 9,
      "outputs": []
    },
    {
      "cell_type": "code",
      "metadata": {
        "id": "c4hGsOTe6Bjk"
      },
      "source": [
        "streets = [random.choice(street_names) for i in range(n)]\n",
        "street_prefs = [random.choice(street_type) for i in range(n)]\n",
        "zips = [random.choice(street_zips) for i in range(n)]\n",
        "full_streets = [x + \" \" + y + \" \" + str(z) for x,y,z in zip(street_prefs, streets, numbers)]\n",
        "reference_data = [list(x) for x in zip(full_streets, zips)]"
      ],
      "execution_count": 10,
      "outputs": []
    },
    {
      "cell_type": "code",
      "metadata": {
        "id": "87y7oBlz6DAD",
        "colab": {
          "base_uri": "https://localhost:8080/"
        },
        "outputId": "e18bab69-5990-48b5-b0f1-8cd62f7eae12"
      },
      "source": [
        "reference_data"
      ],
      "execution_count": 11,
      "outputs": [
        {
          "output_type": "execute_result",
          "data": {
            "text/plain": [
              "[['avenida elm 798', 22833],\n",
              " ['avenida python 501', 28436],\n",
              " ['callejon python 784', 26803],\n",
              " ['callejon diagon 470', 20507],\n",
              " ['calle python 477', 20507],\n",
              " ['carrera elm 560', 23633],\n",
              " ['callejon python 225', 20507],\n",
              " ['avenida diagon 408', 23633],\n",
              " ['callejon diagon 948', 20507],\n",
              " ['carrera elm 122', 26803]]"
            ]
          },
          "metadata": {},
          "execution_count": 11
        }
      ]
    },
    {
      "cell_type": "code",
      "metadata": {
        "id": "mgblvoIy6EOL"
      },
      "source": [
        "def create_typo(s, prob=0.75):\n",
        "    if random.uniform(0,1)<0.75:\n",
        "        rand_idx = random.choice(range(len(s)))\n",
        "        s_list = list(s)\n",
        "        s_list[rand_idx] = random.choice(string.ascii_lowercase)\n",
        "        s = ''.join(s_list)\n",
        "    return s"
      ],
      "execution_count": 12,
      "outputs": []
    },
    {
      "cell_type": "code",
      "metadata": {
        "id": "zXhujYPP7yxy"
      },
      "source": [
        "typo_streets = [create_typo(x) for x in streets]"
      ],
      "execution_count": 13,
      "outputs": []
    },
    {
      "cell_type": "code",
      "metadata": {
        "id": "6Ckkam_d70QO"
      },
      "source": [
        "typo_full_streets = [x+\" \"+y+\" \"+str(z) for x,y,z in zip(street_prefs, typo_streets, numbers)]\n",
        "test_data = [list(x) for x in zip(typo_full_streets, zips)]"
      ],
      "execution_count": 14,
      "outputs": []
    },
    {
      "cell_type": "code",
      "metadata": {
        "id": "mLoL-wsS71j2",
        "colab": {
          "base_uri": "https://localhost:8080/"
        },
        "outputId": "82582db4-1406-4838-97fb-f24c7e954f21"
      },
      "source": [
        "test_data"
      ],
      "execution_count": 15,
      "outputs": [
        {
          "output_type": "execute_result",
          "data": {
            "text/plain": [
              "[['avenida glm 798', 22833],\n",
              " ['avenida python 501', 28436],\n",
              " ['callejon yython 784', 26803],\n",
              " ['callejon dlagon 470', 20507],\n",
              " ['calle vython 477', 20507],\n",
              " ['carrera evm 560', 23633],\n",
              " ['callejon pytlon 225', 20507],\n",
              " ['avenida diagof 408', 23633],\n",
              " ['callejon xiagon 948', 20507],\n",
              " ['carrera elj 122', 26803]]"
            ]
          },
          "metadata": {},
          "execution_count": 15
        }
      ]
    },
    {
      "cell_type": "code",
      "metadata": {
        "id": "VTnSQ_Ox72tI"
      },
      "source": [
        "session = tf.Session()"
      ],
      "execution_count": 16,
      "outputs": []
    },
    {
      "cell_type": "code",
      "metadata": {
        "id": "hD5iw08U74Ap"
      },
      "source": [
        "test_address = tf.sparse_placeholder(dtype = tf.string)\n",
        "test_zip = tf.placeholder(shape = [None, 1], dtype=tf.float32)\n",
        "\n",
        "ref_address = tf.sparse_placeholder(dtype = tf.string)\n",
        "ref_zip = tf.placeholder(shape=[None, n], dtype=tf.float32 )"
      ],
      "execution_count": 17,
      "outputs": []
    },
    {
      "cell_type": "code",
      "metadata": {
        "id": "X0S03c_775Ee"
      },
      "source": [
        "zip_dist = tf.square(tf.subtract(ref_zip, test_zip))\n",
        "address_dist = tf.edit_distance(test_address, ref_address, normalize=True)"
      ],
      "execution_count": 18,
      "outputs": []
    },
    {
      "cell_type": "markdown",
      "metadata": {
        "id": "uDWCOkDP8dK9"
      },
      "source": [
        "- $S(x,y) = 0$ si $x$ e $y$ son totalmente diferentes (no se parecen en nada)\n",
        "- $S(x,x) = 1$, ya que todo objeto es similar (si no igual) a si mismo.\n",
        "- $S(x,y) = \\frac{D - d(x,y)}{D-d}$ donde $D$ es la mayor distancia entre dos objetos posibles, y $d$ es la menor."
      ]
    },
    {
      "cell_type": "code",
      "metadata": {
        "id": "ZWebmOrB76LT"
      },
      "source": [
        "zip_max = tf.gather(tf.squeeze(zip_dist), tf.argmax(zip_dist, 1))\n",
        "zip_min = tf.gather(tf.squeeze(zip_dist), tf.argmin(zip_dist, 1))\n",
        "zip_sim = tf.divide(tf.subtract(zip_max, zip_dist), tf.subtract(zip_max, zip_min))"
      ],
      "execution_count": 19,
      "outputs": []
    },
    {
      "cell_type": "code",
      "metadata": {
        "id": "WonToF5K77pQ"
      },
      "source": [
        "address_sim = tf.subtract(1.0, address_dist)"
      ],
      "execution_count": 20,
      "outputs": []
    },
    {
      "cell_type": "markdown",
      "metadata": {
        "id": "RW9D6AIS8kan"
      },
      "source": [
        "$$S(x,y) = \\sum_{i=1}^k w_iS_k(x,y):\\quad \\sum_{i=1}^kw_i = 1$$"
      ]
    },
    {
      "cell_type": "code",
      "metadata": {
        "id": "wq9g9AKP78m1"
      },
      "source": [
        "address_wi = 0.5\n",
        "zip_wi = 1.0 -address_wi"
      ],
      "execution_count": 21,
      "outputs": []
    },
    {
      "cell_type": "code",
      "metadata": {
        "id": "khDwiaCa79s0"
      },
      "source": [
        "weighted_sim = tf.add(tf.transpose(tf.multiply(address_wi, address_sim)),tf.multiply(zip_wi, zip_sim))"
      ],
      "execution_count": 22,
      "outputs": []
    },
    {
      "cell_type": "code",
      "metadata": {
        "id": "pa50C7Fk7_Pi"
      },
      "source": [
        "top_match_idx = tf.argmax(weighted_sim, 1)"
      ],
      "execution_count": 23,
      "outputs": []
    },
    {
      "cell_type": "code",
      "metadata": {
        "id": "uQUVeqZp8Adj"
      },
      "source": [
        "def sparse_from_word_vector(word_vector):\n",
        "    num_words = len(word_vector)\n",
        "    idx = [[xi, 0, yi] for xi, x in enumerate(word_vector) for yi, y in enumerate(x)]\n",
        "    chars = list(''.join(word_vector))\n",
        "    return tf.SparseTensorValue(idx, chars, [num_words,1,1])"
      ],
      "execution_count": 24,
      "outputs": []
    },
    {
      "cell_type": "code",
      "metadata": {
        "id": "cKwq3uRt8p2Z"
      },
      "source": [
        "reference_address = [x[0] for x in reference_data]\n",
        "reference_zips = np.array([[x[1] for x in reference_data]])"
      ],
      "execution_count": 25,
      "outputs": []
    },
    {
      "cell_type": "code",
      "metadata": {
        "id": "j-S9g_Ww8rLC"
      },
      "source": [
        "sparse_ref_set = sparse_from_word_vector(reference_address)"
      ],
      "execution_count": 26,
      "outputs": []
    },
    {
      "cell_type": "code",
      "metadata": {
        "id": "MB_VdQ5L8sQM",
        "colab": {
          "base_uri": "https://localhost:8080/"
        },
        "outputId": "35f66edc-db5b-4841-b81d-ae23fc388c6a"
      },
      "source": [
        "for i in range(n):\n",
        "    test_address_entry = test_data[i][0]\n",
        "    test_zip_entry = [[test_data[i][1]]]\n",
        "    \n",
        "    test_address_rep = [test_address_entry]*n\n",
        "    sparse_test_set = sparse_from_word_vector(test_address_rep)\n",
        "    \n",
        "    feed_dict = {test_address: sparse_test_set,\n",
        "                test_zip: test_zip_entry,\n",
        "                ref_address: sparse_ref_set,\n",
        "                ref_zip: reference_zips}\n",
        "    \n",
        "    best_match = session.run(top_match_idx, feed_dict=feed_dict)\n",
        "    best_address = reference_address[best_match[0]]\n",
        "    [best_zip] = reference_zips[0][best_match]\n",
        "    [[test_zip_aux]] = test_zip_entry\n",
        "    \n",
        "    print(\"Dirección original: \"+str(test_address_entry)+ \", \"+str(test_zip_aux))\n",
        "    print(\"Dirección corregida: \"+str(best_address)+\", \"+str(best_zip)+\"\\n\")"
      ],
      "execution_count": 27,
      "outputs": [
        {
          "output_type": "stream",
          "name": "stdout",
          "text": [
            "Dirección original: avenida glm 798, 22833\n",
            "Dirección corregida: avenida elm 798, 22833\n",
            "\n",
            "Dirección original: avenida python 501, 28436\n",
            "Dirección corregida: avenida python 501, 28436\n",
            "\n",
            "Dirección original: callejon yython 784, 26803\n",
            "Dirección corregida: callejon python 784, 26803\n",
            "\n",
            "Dirección original: callejon dlagon 470, 20507\n",
            "Dirección corregida: callejon diagon 470, 20507\n",
            "\n",
            "Dirección original: calle vython 477, 20507\n",
            "Dirección corregida: calle python 477, 20507\n",
            "\n",
            "Dirección original: carrera evm 560, 23633\n",
            "Dirección corregida: carrera elm 560, 23633\n",
            "\n",
            "Dirección original: callejon pytlon 225, 20507\n",
            "Dirección corregida: callejon python 225, 20507\n",
            "\n",
            "Dirección original: avenida diagof 408, 23633\n",
            "Dirección corregida: avenida diagon 408, 23633\n",
            "\n",
            "Dirección original: callejon xiagon 948, 20507\n",
            "Dirección corregida: callejon diagon 948, 20507\n",
            "\n",
            "Dirección original: carrera elj 122, 26803\n",
            "Dirección corregida: carrera elm 122, 26803\n",
            "\n"
          ]
        }
      ]
    }
  ]
}