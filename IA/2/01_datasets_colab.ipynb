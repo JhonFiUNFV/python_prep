{
  "nbformat": 4,
  "nbformat_minor": 0,
  "metadata": {
    "colab": {
      "name": "01-datasets_colab.ipynb",
      "provenance": [],
      "collapsed_sections": [],
      "include_colab_link": true
    },
    "kernelspec": {
      "display_name": "Python 3",
      "language": "python",
      "name": "python3"
    },
    "language_info": {
      "codemirror_mode": {
        "name": "ipython",
        "version": 3
      },
      "file_extension": ".py",
      "mimetype": "text/x-python",
      "name": "python",
      "nbconvert_exporter": "python",
      "pygments_lexer": "ipython3",
      "version": "3.8.3"
    },
    "accelerator": "GPU"
  },
  "cells": [
    {
      "cell_type": "markdown",
      "metadata": {
        "id": "view-in-github",
        "colab_type": "text"
      },
      "source": [
        "<a href=\"https://colab.research.google.com/github/JhonFiUNFV/python_prep/blob/master/01_datasets_colab.ipynb\" target=\"_parent\"><img src=\"https://colab.research.google.com/assets/colab-badge.svg\" alt=\"Open In Colab\"/></a>"
      ]
    },
    {
      "cell_type": "markdown",
      "metadata": {
        "id": "KdUFcDsdzRyw"
      },
      "source": [
        "# Clonamos el repositorio para obtener los dataSet"
      ]
    },
    {
      "cell_type": "code",
      "metadata": {
        "id": "mHReFf3_y9ms"
      },
      "source": [
        "!git clone https://github.com/joanby/tensorflow.git"
      ],
      "execution_count": null,
      "outputs": []
    },
    {
      "cell_type": "markdown",
      "metadata": {
        "id": "vNKZXgtKzU2x"
      },
      "source": [
        "# Damos acceso a nuestro Drive"
      ]
    },
    {
      "cell_type": "code",
      "metadata": {
        "id": "5gu7KWnzzUQ0"
      },
      "source": [
        "from google.colab import drive\n",
        "drive.mount('/content/drive')"
      ],
      "execution_count": null,
      "outputs": []
    },
    {
      "cell_type": "markdown",
      "metadata": {
        "id": "1gUxIkHWzfHV"
      },
      "source": [
        "# Test it"
      ]
    },
    {
      "cell_type": "code",
      "metadata": {
        "id": "mIQt3jBMzYRE"
      },
      "source": [
        "!ls '/content/drive/My Drive' "
      ],
      "execution_count": null,
      "outputs": []
    },
    {
      "cell_type": "markdown",
      "metadata": {
        "id": "mHsK36uN0XB-"
      },
      "source": [
        "# Google colab tools"
      ]
    },
    {
      "cell_type": "code",
      "metadata": {
        "id": "kTzwfUPWzrm4"
      },
      "source": [
        "from google.colab import files # Para manejar los archivos y, por ejemplo, exportar a su navegador\n",
        "import glob # Para manejar los archivos y, por ejemplo, exportar a su navegador\n",
        "from google.colab import drive # Montar tu Google drive"
      ],
      "execution_count": null,
      "outputs": []
    },
    {
      "cell_type": "markdown",
      "metadata": {
        "id": "yQQ8nLiMY6wM"
      },
      "source": [
        "##Especificando la versión de TensorFlow\n",
        "\n",
        "Ejecutando \"importar tensorflow\" importará la versión por defecto (actualmente 2.x). Puedes usar la 1.x ejecutando una celda con la \"versión mágica de tensorflow\" **antes de ejecutar \"importar tensorflow\".\n",
        "\n",
        "### Si no funciona hacer el pip install\n"
      ]
    },
    {
      "cell_type": "code",
      "metadata": {
        "id": "1j---G3ZY6wN"
      },
      "source": [
        "#!pip install tensorflow==1.14\n",
        "%tensorflow_version 1.x"
      ],
      "execution_count": null,
      "outputs": []
    },
    {
      "cell_type": "markdown",
      "metadata": {
        "id": "S-OIfuWLujbt"
      },
      "source": [
        "# Importar Tensorflow"
      ]
    },
    {
      "cell_type": "code",
      "metadata": {
        "id": "OPSus73fumtP"
      },
      "source": [
        "import tensorflow as tf\n",
        "print(tf.__version__)"
      ],
      "execution_count": null,
      "outputs": []
    },
    {
      "cell_type": "markdown",
      "metadata": {
        "id": "MlTxxrEEc1A-"
      },
      "source": [
        "# Flores de Iris"
      ]
    },
    {
      "cell_type": "code",
      "metadata": {
        "id": "BCVIFgZWc1TP"
      },
      "source": [
        "from sklearn import datasets\n",
        "iris = datasets.load_iris()"
      ],
      "execution_count": null,
      "outputs": []
    },
    {
      "cell_type": "code",
      "metadata": {
        "id": "5iKuOJNAc3wZ"
      },
      "source": [
        "len(iris.data)"
      ],
      "execution_count": null,
      "outputs": []
    },
    {
      "cell_type": "code",
      "metadata": {
        "id": "KTiBdRDqc6aB"
      },
      "source": [
        "len(iris.target)"
      ],
      "execution_count": null,
      "outputs": []
    },
    {
      "cell_type": "code",
      "metadata": {
        "id": "DmunX45-c7xN"
      },
      "source": [
        "iris.data[0]"
      ],
      "execution_count": null,
      "outputs": []
    },
    {
      "cell_type": "code",
      "metadata": {
        "id": "6Wg8te4Lc81H"
      },
      "source": [
        "set(iris.target)"
      ],
      "execution_count": null,
      "outputs": []
    },
    {
      "cell_type": "markdown",
      "metadata": {
        "id": "GTKqXlzXdEaz"
      },
      "source": [
        "# Nacimientos y datos médicos"
      ]
    },
    {
      "cell_type": "code",
      "metadata": {
        "id": "8bE_qlsbc93I"
      },
      "source": [
        "import requests\n",
        "url = \"https://raw.githubusercontent.com/joanby/tensorflow/master/datasets/birthweight.dat?token=AMRAeMNwZBLC86UzdMdxEuhlGPMufKa5ks5cVIdzwA%3D%3D\"\n",
        "birth_file = requests.get(url)\n",
        "birth_data = birth_file.text.split('\\r\\n')"
      ],
      "execution_count": null,
      "outputs": []
    },
    {
      "cell_type": "code",
      "metadata": {
        "id": "jDIAPQxNdAk7"
      },
      "source": [
        "birth_data"
      ],
      "execution_count": null,
      "outputs": []
    },
    {
      "cell_type": "code",
      "metadata": {
        "id": "NHDTEoPAdI5J"
      },
      "source": [
        "birth_header = birth_data[0].split('\\t')\n",
        "birth_header"
      ],
      "execution_count": null,
      "outputs": []
    },
    {
      "cell_type": "code",
      "metadata": {
        "id": "0uT_utzXdKvf"
      },
      "source": [
        "birth_data = [[float(x) for x in y.split('\\t') if len(x)>=1] for y in birth_data[1:] if len(y)>=1]"
      ],
      "execution_count": null,
      "outputs": []
    },
    {
      "cell_type": "code",
      "metadata": {
        "id": "8KjZxUk2dMRs"
      },
      "source": [
        "birth_data"
      ],
      "execution_count": null,
      "outputs": []
    },
    {
      "cell_type": "code",
      "metadata": {
        "id": "MjWLfKpddNrA"
      },
      "source": [
        "len(birth_data)"
      ],
      "execution_count": null,
      "outputs": []
    },
    {
      "cell_type": "code",
      "metadata": {
        "id": "7cjJJrKBdO6V"
      },
      "source": [
        "birth_data[0]"
      ],
      "execution_count": null,
      "outputs": []
    },
    {
      "cell_type": "markdown",
      "metadata": {
        "id": "v3M2uJrCdSC_"
      },
      "source": [
        "# Las casas de Boston\n",
        "The Boston data frame has 506 rows and 14 columns. This data frame contains the following columns:\n",
        "\n",
        "- crim: per capita crime rate by town.\n",
        "- zn: proportion of residential land zoned for lots over 25,000 sq.ft.\n",
        "- indus: proportion of non-retail business acres per town.\n",
        "- chas: Charles River dummy variable (= 1 if tract bounds river; 0 otherwise).\n",
        "- nox: nitrogen oxides concentration (parts per 10 million).\n",
        "- rm: average number of rooms per dwelling.\n",
        "- age: proportion of owner-occupied units built prior to 1940.\n",
        "- dis: weighted mean of distances to five Boston employment centres.\n",
        "- rad: index of accessibility to radial highways.\n",
        "- tax: full-value property-tax rate per 10,000USD.\n",
        "- ptratio: pupil-teacher ratio by town.\n",
        "- black: $1000(B_k - 0.63)^2$ where $B_k$ is the proportion of blacks by town.\n",
        "- lstat: lower status of the population (percent).\n",
        "- medv: median value of owner-occupied homes in 1000s USD."
      ]
    },
    {
      "cell_type": "code",
      "metadata": {
        "id": "rqedZDyodQCg"
      },
      "source": [
        "from keras.datasets import boston_housing"
      ],
      "execution_count": null,
      "outputs": []
    },
    {
      "cell_type": "code",
      "metadata": {
        "id": "aiBQf1vPdUML"
      },
      "source": [
        "(x_train, y_train), (x_test, y_test) = boston_housing.load_data()"
      ],
      "execution_count": null,
      "outputs": []
    },
    {
      "cell_type": "code",
      "metadata": {
        "id": "yioy-9VxdVxE"
      },
      "source": [
        "x_train.shape"
      ],
      "execution_count": null,
      "outputs": []
    },
    {
      "cell_type": "code",
      "metadata": {
        "id": "NjXut3w9dW3c"
      },
      "source": [
        "y_train.shape"
      ],
      "execution_count": null,
      "outputs": []
    },
    {
      "cell_type": "code",
      "metadata": {
        "id": "392oleYhdX1K"
      },
      "source": [
        "x_test.shape"
      ],
      "execution_count": null,
      "outputs": []
    },
    {
      "cell_type": "code",
      "metadata": {
        "id": "l9xujXoydZD4"
      },
      "source": [
        "y_test.shape"
      ],
      "execution_count": null,
      "outputs": []
    },
    {
      "cell_type": "code",
      "metadata": {
        "id": "ra9ZP6yzdaUB"
      },
      "source": [
        "x_train[0]"
      ],
      "execution_count": null,
      "outputs": []
    },
    {
      "cell_type": "code",
      "metadata": {
        "id": "pq3jc5oodbgk"
      },
      "source": [
        "housing_header = ['CRIM', 'ZN', 'INDUS', 'CHAS', 'NOX', 'RM', 'AGE', 'DIS', 'RAD', 'TAX', \n",
        "                  'PTRATIO', 'BLACK', 'LSTAT', 'MEDV']"
      ],
      "execution_count": null,
      "outputs": []
    },
    {
      "cell_type": "markdown",
      "metadata": {
        "id": "xpzOWl19df_K"
      },
      "source": [
        "# Dataset del MNIST"
      ]
    },
    {
      "cell_type": "code",
      "metadata": {
        "id": "K8qczoA0dfaP"
      },
      "source": [
        "from tensorflow.examples.tutorials.mnist import input_data"
      ],
      "execution_count": null,
      "outputs": []
    },
    {
      "cell_type": "code",
      "metadata": {
        "id": "cZonywjkdcf1"
      },
      "source": [
        "mnist = input_data.read_data_sets(\"../../datasets/MNIST_data\",one_hot=True)"
      ],
      "execution_count": null,
      "outputs": []
    },
    {
      "cell_type": "code",
      "metadata": {
        "id": "izG6we3wdi6X"
      },
      "source": [
        "len(mnist.train.images)"
      ],
      "execution_count": null,
      "outputs": []
    },
    {
      "cell_type": "code",
      "metadata": {
        "id": "ZQ6maEx4d59n"
      },
      "source": [
        "len(mnist.test.images)"
      ],
      "execution_count": null,
      "outputs": []
    },
    {
      "cell_type": "code",
      "metadata": {
        "id": "eyfYcp5Kd7J8"
      },
      "source": [
        "len(mnist.validation.images)"
      ],
      "execution_count": null,
      "outputs": []
    },
    {
      "cell_type": "code",
      "metadata": {
        "id": "hy1GXCKwd8LR"
      },
      "source": [
        "mnist.train.labels[8,:]"
      ],
      "execution_count": null,
      "outputs": []
    },
    {
      "cell_type": "code",
      "metadata": {
        "id": "XyaJjmIbd9RQ"
      },
      "source": [
        "import matplotlib.pyplot as plt\n",
        "plt.imshow(mnist.train.images[8].reshape([28,28]))"
      ],
      "execution_count": null,
      "outputs": []
    },
    {
      "cell_type": "markdown",
      "metadata": {
        "id": "ogpn0prrd_tJ"
      },
      "source": [
        "# Spam Hat Text Data"
      ]
    },
    {
      "cell_type": "code",
      "metadata": {
        "id": "0TuwY1lnd-sr"
      },
      "source": [
        "import requests\n",
        "import io\n",
        "from zipfile import ZipFile"
      ],
      "execution_count": null,
      "outputs": []
    },
    {
      "cell_type": "code",
      "metadata": {
        "id": "MzlT68cdeCO7"
      },
      "source": [
        "url = \"https://archive.ics.uci.edu/ml/machine-learning-databases/00228/smsspamcollection.zip\"\n",
        "req = requests.get(url)"
      ],
      "execution_count": null,
      "outputs": []
    },
    {
      "cell_type": "code",
      "metadata": {
        "id": "1Ca70cQHeDrQ"
      },
      "source": [
        "z = ZipFile(io.BytesIO(req.content))"
      ],
      "execution_count": null,
      "outputs": []
    },
    {
      "cell_type": "code",
      "metadata": {
        "id": "w71070YteE9F"
      },
      "source": [
        "file = z.read('SMSSpamCollection')"
      ],
      "execution_count": null,
      "outputs": []
    },
    {
      "cell_type": "code",
      "metadata": {
        "id": "MXCzrCK0eGlQ"
      },
      "source": [
        "text_data = file.decode()"
      ],
      "execution_count": null,
      "outputs": []
    },
    {
      "cell_type": "code",
      "metadata": {
        "id": "SQhsfkZteHrq"
      },
      "source": [
        "text_data = text_data.encode('ascii', errors='ignore')"
      ],
      "execution_count": null,
      "outputs": []
    },
    {
      "cell_type": "code",
      "metadata": {
        "id": "7HXfcS13eJDq"
      },
      "source": [
        "text_data = text_data.decode().split('\\n')"
      ],
      "execution_count": null,
      "outputs": []
    },
    {
      "cell_type": "code",
      "metadata": {
        "id": "15p-x4s5eLfc"
      },
      "source": [
        "text_data"
      ],
      "execution_count": null,
      "outputs": []
    },
    {
      "cell_type": "code",
      "metadata": {
        "id": "0WxjX8HoeMo1"
      },
      "source": [
        "text_data = [x.split('\\t') for x in text_data if len(x)>=1]"
      ],
      "execution_count": null,
      "outputs": []
    },
    {
      "cell_type": "code",
      "metadata": {
        "id": "Q4_Sa3W9eOY9"
      },
      "source": [
        "[text_data_target, text_data_train] = [list(x) for x in zip(*text_data)]"
      ],
      "execution_count": null,
      "outputs": []
    },
    {
      "cell_type": "code",
      "metadata": {
        "id": "0uFRaDkUePe0"
      },
      "source": [
        "len(text_data_train)"
      ],
      "execution_count": null,
      "outputs": []
    },
    {
      "cell_type": "code",
      "metadata": {
        "id": "I85Eigd8eQXT"
      },
      "source": [
        "text_data_train[0]"
      ],
      "execution_count": null,
      "outputs": []
    },
    {
      "cell_type": "code",
      "metadata": {
        "id": "wX2pgqmLeRO3"
      },
      "source": [
        "set(text_data_target)"
      ],
      "execution_count": null,
      "outputs": []
    },
    {
      "cell_type": "markdown",
      "metadata": {
        "id": "HS5My44neTJ4"
      },
      "source": [
        "# Valoraciones de las películas"
      ]
    },
    {
      "cell_type": "code",
      "metadata": {
        "id": "tohAeXT8eSMr"
      },
      "source": [
        "import requests\n",
        "import io\n",
        "import tarfile"
      ],
      "execution_count": null,
      "outputs": []
    },
    {
      "cell_type": "code",
      "metadata": {
        "id": "MPTbkG1JeWfO"
      },
      "source": [
        "url = \"http://www.cs.cornell.edu/people/pabo/movie-review-data/rt-polaritydata.tar.gz\"\n",
        "req = requests.get(url)"
      ],
      "execution_count": null,
      "outputs": []
    },
    {
      "cell_type": "code",
      "metadata": {
        "id": "XTaf56QseXjy"
      },
      "source": [
        "stream_data = io.BytesIO(req.content)"
      ],
      "execution_count": null,
      "outputs": []
    },
    {
      "cell_type": "code",
      "metadata": {
        "id": "p-CBIncIeYh-"
      },
      "source": [
        "tmp = io.BytesIO()"
      ],
      "execution_count": null,
      "outputs": []
    },
    {
      "cell_type": "code",
      "metadata": {
        "id": "E6ECM1m-eZuv"
      },
      "source": [
        "while True:\n",
        "    s = stream_data.read(16384)\n",
        "    if not s:\n",
        "        break\n",
        "    tmp.write(s)\n",
        "stream_data.close()"
      ],
      "execution_count": null,
      "outputs": []
    },
    {
      "cell_type": "code",
      "metadata": {
        "id": "RKGDW3yneatQ"
      },
      "source": [
        "tmp.seek(0)"
      ],
      "execution_count": null,
      "outputs": []
    },
    {
      "cell_type": "code",
      "metadata": {
        "id": "aEX20NgxebzJ"
      },
      "source": [
        "tar_file = tarfile.open(fileobj=tmp, mode='r:gz')"
      ],
      "execution_count": null,
      "outputs": []
    },
    {
      "cell_type": "code",
      "metadata": {
        "id": "SfT-91-zecva"
      },
      "source": [
        "pos = tar_file.extractfile('rt-polaritydata/rt-polarity.pos')\n",
        "neg = tar_file.extractfile('rt-polaritydata/rt-polarity.neg')"
      ],
      "execution_count": null,
      "outputs": []
    },
    {
      "cell_type": "code",
      "metadata": {
        "id": "75c4yEg2edqs"
      },
      "source": [
        "pos_data = []\n",
        "for line in pos:\n",
        "    pos_data.append(line.decode('ISO-8859-1').encode('ascii', errors='ignore').decode())"
      ],
      "execution_count": null,
      "outputs": []
    },
    {
      "cell_type": "code",
      "metadata": {
        "id": "cMuCAryMeejK"
      },
      "source": [
        "len(pos_data)"
      ],
      "execution_count": null,
      "outputs": []
    },
    {
      "cell_type": "code",
      "metadata": {
        "id": "C7NykZbFefkU"
      },
      "source": [
        "pos_data[0]"
      ],
      "execution_count": null,
      "outputs": []
    },
    {
      "cell_type": "code",
      "metadata": {
        "id": "l4KJlzKeeg0L"
      },
      "source": [
        "neg_data = []\n",
        "for line in neg:\n",
        "    neg_data.append(line.decode('ISO-8859-1').encode('ascii', errors='ignore').decode())"
      ],
      "execution_count": null,
      "outputs": []
    },
    {
      "cell_type": "code",
      "metadata": {
        "id": "M_iGqMzWehsR"
      },
      "source": [
        "len(neg_data)"
      ],
      "execution_count": null,
      "outputs": []
    },
    {
      "cell_type": "code",
      "metadata": {
        "id": "6OnrvrXAeiwE"
      },
      "source": [
        "neg_data[0]"
      ],
      "execution_count": null,
      "outputs": []
    },
    {
      "cell_type": "markdown",
      "metadata": {
        "id": "o5qeg78GelpF"
      },
      "source": [
        "# CIFAR-10\n",
        "- Descargar directamente desde 'https://www.cs.toronto.edu/~kriz/cifar.html'\n",
        "- Ver el vídeo Is a Hot Dog 'https://www.youtube.com/watch?v=pqTntG1RXSY'"
      ]
    },
    {
      "cell_type": "markdown",
      "metadata": {
        "id": "jHX80iw_ensM"
      },
      "source": [
        "# Shakespeare en texto"
      ]
    },
    {
      "cell_type": "code",
      "metadata": {
        "id": "IOLIIkXJejs1"
      },
      "source": [
        "import requests\n",
        "url = \"http://www.gutenberg.org/cache/epub/100/pg100.txt\""
      ],
      "execution_count": null,
      "outputs": []
    },
    {
      "cell_type": "code",
      "metadata": {
        "id": "5fCyVLM6eo_9"
      },
      "source": [
        "req = requests.get(url)\n",
        "shak_file = req.content"
      ],
      "execution_count": null,
      "outputs": []
    },
    {
      "cell_type": "code",
      "metadata": {
        "id": "sl-l4hBgep-X"
      },
      "source": [
        "shak_text = shak_file.decode('utf-8')"
      ],
      "execution_count": null,
      "outputs": []
    },
    {
      "cell_type": "code",
      "metadata": {
        "id": "eWiJDuJresnV"
      },
      "source": [
        "shak_text = shak_text[7675:]"
      ],
      "execution_count": null,
      "outputs": []
    },
    {
      "cell_type": "code",
      "metadata": {
        "id": "S4fgUSh0etj6"
      },
      "source": [
        "len(shak_text)"
      ],
      "execution_count": null,
      "outputs": []
    },
    {
      "cell_type": "markdown",
      "metadata": {
        "id": "QAsDioQtevfY"
      },
      "source": [
        "# Traducción entre idiomas"
      ]
    },
    {
      "cell_type": "code",
      "metadata": {
        "id": "peOPql7HeumL"
      },
      "source": [
        "import requests\n",
        "import io\n",
        "from zipfile import ZipFile"
      ],
      "execution_count": null,
      "outputs": []
    },
    {
      "cell_type": "code",
      "metadata": {
        "id": "PHrSFPioeyu6"
      },
      "source": [
        "req = requests.get(url,stream=True)\n",
        "z = ZipFile(io.BytesIO(req.content))\n",
        "file = z.read('spa.txt')"
      ],
      "execution_count": null,
      "outputs": []
    },
    {
      "cell_type": "code",
      "metadata": {
        "id": "PAAKIa2Ze0al"
      },
      "source": [
        "data = file.decode()\n",
        "data = data.encode('utf-8', errors = 'ignore')\n",
        "data = data.decode().split('\\n')"
      ],
      "execution_count": null,
      "outputs": []
    },
    {
      "cell_type": "code",
      "metadata": {
        "id": "E3DHlCX6e1nG"
      },
      "source": [
        "data = [x.split('\\t') for x in data if len(x)>=1]"
      ],
      "execution_count": null,
      "outputs": []
    },
    {
      "cell_type": "code",
      "metadata": {
        "id": "Iri4ZvcUe8XV"
      },
      "source": [
        "[eng_data, spa_data] = [list(x) for x in zip(*data)] "
      ],
      "execution_count": null,
      "outputs": []
    },
    {
      "cell_type": "code",
      "metadata": {
        "id": "IbPa-uhLe9Uj"
      },
      "source": [
        "len(eng_data)"
      ],
      "execution_count": null,
      "outputs": []
    },
    {
      "cell_type": "code",
      "metadata": {
        "id": "m62mQhBle-KN"
      },
      "source": [
        "len(spa_data)"
      ],
      "execution_count": null,
      "outputs": []
    },
    {
      "cell_type": "code",
      "metadata": {
        "id": "WAg4P8b4e_d4"
      },
      "source": [
        "eng_data[1988]"
      ],
      "execution_count": null,
      "outputs": []
    },
    {
      "cell_type": "code",
      "metadata": {
        "id": "0UllRxNKfAb5"
      },
      "source": [
        "spa_data[1988]"
      ],
      "execution_count": null,
      "outputs": []
    }
  ]
}