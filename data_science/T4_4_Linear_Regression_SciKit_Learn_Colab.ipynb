{
  "cells": [
    {
      "cell_type": "markdown",
      "metadata": {
        "id": "view-in-github",
        "colab_type": "text"
      },
      "source": [
        "<a href=\"https://colab.research.google.com/github/JhonFiUNFV/python_prep/blob/master/T4_4_Linear_Regression_SciKit_Learn_Colab.ipynb\" target=\"_parent\"><img src=\"https://colab.research.google.com/assets/colab-badge.svg\" alt=\"Open In Colab\"/></a>"
      ]
    },
    {
      "cell_type": "markdown",
      "metadata": {
        "id": "m_a2zh2C8cbj"
      },
      "source": [
        "<a href=\"https://colab.research.google.com/github/joanby/python-ml-course/blob/master/notebooks/T4%20-%204%20-%20Linear%20Regression%20-%20SciKit-Learn-Colab.ipynb\" target=\"_parent\"><img src=\"https://colab.research.google.com/assets/colab-badge.svg\" alt=\"Open In Colab\"/></a>"
      ]
    },
    {
      "cell_type": "markdown",
      "metadata": {
        "id": "zNKen-cU8cbr"
      },
      "source": [
        "# Clonamos el repositorio para obtener los dataSet"
      ]
    },
    {
      "cell_type": "code",
      "execution_count": null,
      "metadata": {
        "id": "kerokU1z8cbr"
      },
      "outputs": [],
      "source": [
        "!git clone https://github.com/joanby/python-ml-course.git"
      ]
    },
    {
      "cell_type": "markdown",
      "metadata": {
        "id": "LoGCwKTI8cbt"
      },
      "source": [
        "# Damos acceso a nuestro Drive"
      ]
    },
    {
      "cell_type": "code",
      "execution_count": null,
      "metadata": {
        "id": "dlXeF5Jf8cbt"
      },
      "outputs": [],
      "source": [
        "from google.colab import drive\n",
        "drive.mount('/content/drive')\n",
        "# Test it\n",
        "!ls '/content/drive/My Drive' "
      ]
    },
    {
      "cell_type": "code",
      "execution_count": null,
      "metadata": {
        "id": "2mWTHjAL8cbu"
      },
      "outputs": [],
      "source": [
        "from google.colab import files # Para manejar los archivos y, por ejemplo, exportar a su navegador\n",
        "import glob # Para manejar los archivos y, por ejemplo, exportar a su navegador\n",
        "from google.colab import drive # Montar tu Google drive"
      ]
    },
    {
      "cell_type": "markdown",
      "metadata": {
        "id": "dE1asnAt8cbv"
      },
      "source": [
        "# Regresión lineal en Python\n",
        "## El paquete scikit-learn para regresión lineal y la selección de rasgos"
      ]
    },
    {
      "cell_type": "code",
      "execution_count": null,
      "metadata": {
        "id": "XyxGmCr78cbv"
      },
      "outputs": [],
      "source": [
        "from sklearn.feature_selection import RFE\n",
        "from sklearn.svm import SVR\n",
        "import pandas as pd\n",
        "import numpy as np"
      ]
    },
    {
      "cell_type": "code",
      "execution_count": null,
      "metadata": {
        "id": "3VPtGKEa8cbw"
      },
      "outputs": [],
      "source": [
        "data = pd.read_csv(\"/content/python-ml-course/datasets/ads/Advertising.csv\")"
      ]
    },
    {
      "cell_type": "code",
      "execution_count": null,
      "metadata": {
        "id": "4pV2RRKY8cbx"
      },
      "outputs": [],
      "source": [
        "feature_cols = [\"TV\", \"Radio\", \"Newspaper\"]"
      ]
    },
    {
      "cell_type": "code",
      "execution_count": null,
      "metadata": {
        "id": "WZfwaP_C8cbx"
      },
      "outputs": [],
      "source": [
        "X = data[feature_cols]\n",
        "Y = data[\"Sales\"]"
      ]
    },
    {
      "cell_type": "code",
      "execution_count": null,
      "metadata": {
        "id": "CtITsxtV8cby"
      },
      "outputs": [],
      "source": [
        "estimator = SVR(kernel=\"linear\")\n",
        "selector = RFE(estimator, n_features_to_select=2, step=1)\n",
        "selector = selector.fit(X,Y)"
      ]
    },
    {
      "cell_type": "code",
      "execution_count": null,
      "metadata": {
        "id": "5_3GY4CG8cbz",
        "outputId": "e0ea18a5-8296-4b19-eaeb-907c46fb271f"
      },
      "outputs": [
        {
          "data": {
            "text/plain": [
              "array([ True,  True, False])"
            ]
          },
          "execution_count": 15,
          "metadata": {},
          "output_type": "execute_result"
        }
      ],
      "source": [
        "selector.support_"
      ]
    },
    {
      "cell_type": "code",
      "execution_count": null,
      "metadata": {
        "id": "dmjZhdwz8cb0",
        "outputId": "fbaac127-002f-47a3-f1aa-f8c64e28ed6b"
      },
      "outputs": [
        {
          "data": {
            "text/plain": [
              "array([1, 1, 2])"
            ]
          },
          "execution_count": 16,
          "metadata": {},
          "output_type": "execute_result"
        }
      ],
      "source": [
        "selector.ranking_"
      ]
    },
    {
      "cell_type": "code",
      "execution_count": null,
      "metadata": {
        "id": "vW_04Gd58cb0"
      },
      "outputs": [],
      "source": [
        "from sklearn.linear_model import LinearRegression"
      ]
    },
    {
      "cell_type": "code",
      "execution_count": null,
      "metadata": {
        "id": "ZNpYIgUi8cb1"
      },
      "outputs": [],
      "source": [
        "X_pred = X[[\"TV\", \"Radio\"]]"
      ]
    },
    {
      "cell_type": "code",
      "execution_count": null,
      "metadata": {
        "id": "ns8MAjbc8cb1",
        "outputId": "f5ab501c-3f51-4d30-f04a-675bb14abf87"
      },
      "outputs": [
        {
          "data": {
            "text/plain": [
              "LinearRegression()"
            ]
          },
          "execution_count": 19,
          "metadata": {},
          "output_type": "execute_result"
        }
      ],
      "source": [
        "lm = LinearRegression()\n",
        "lm.fit(X_pred, Y)"
      ]
    },
    {
      "cell_type": "code",
      "execution_count": null,
      "metadata": {
        "id": "bA0H2e5q8cb2",
        "outputId": "6ac90a9b-52cc-4c74-8166-9977d09cc040"
      },
      "outputs": [
        {
          "data": {
            "text/plain": [
              "2.921099912405138"
            ]
          },
          "execution_count": 20,
          "metadata": {},
          "output_type": "execute_result"
        }
      ],
      "source": [
        "lm.intercept_"
      ]
    },
    {
      "cell_type": "code",
      "execution_count": null,
      "metadata": {
        "id": "NMQ-wf5t8cb2",
        "outputId": "04702493-0011-4612-8ac0-2db29ad083e9"
      },
      "outputs": [
        {
          "data": {
            "text/plain": [
              "array([0.04575482, 0.18799423])"
            ]
          },
          "execution_count": 21,
          "metadata": {},
          "output_type": "execute_result"
        }
      ],
      "source": [
        "lm.coef_"
      ]
    },
    {
      "cell_type": "code",
      "execution_count": null,
      "metadata": {
        "id": "5pzq2jOq8cb2",
        "outputId": "5ddf3323-ee1c-4290-d724-6496923f8fff"
      },
      "outputs": [
        {
          "data": {
            "text/plain": [
              "0.8971942610828956"
            ]
          },
          "execution_count": 22,
          "metadata": {},
          "output_type": "execute_result"
        }
      ],
      "source": [
        "lm.score(X_pred, Y)"
      ]
    }
  ],
  "metadata": {
    "kernelspec": {
      "display_name": "Python 3",
      "language": "python",
      "name": "python3"
    },
    "language_info": {
      "codemirror_mode": {
        "name": "ipython",
        "version": 3
      },
      "file_extension": ".py",
      "mimetype": "text/x-python",
      "name": "python",
      "nbconvert_exporter": "python",
      "pygments_lexer": "ipython3",
      "version": "3.8.5"
    },
    "colab": {
      "name": "T4 - 4 - Linear Regression - SciKit-Learn-Colab.ipynb",
      "provenance": [],
      "include_colab_link": true
    }
  },
  "nbformat": 4,
  "nbformat_minor": 0
}