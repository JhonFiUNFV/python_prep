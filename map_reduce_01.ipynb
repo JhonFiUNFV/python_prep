{
  "cells": [
    {
      "cell_type": "markdown",
      "metadata": {
        "id": "view-in-github",
        "colab_type": "text"
      },
      "source": [
        "<a href=\"https://colab.research.google.com/github/JhonFiUNFV/python_prep/blob/master/map_reduce_01.ipynb\" target=\"_parent\"><img src=\"https://colab.research.google.com/assets/colab-badge.svg\" alt=\"Open In Colab\"/></a>"
      ]
    },
    {
      "cell_type": "markdown",
      "metadata": {
        "id": "4xH9qBIq98pF"
      },
      "source": [
        "# Importación de la data"
      ]
    },
    {
      "cell_type": "code",
      "execution_count": null,
      "metadata": {
        "id": "M00ONS6E98pH",
        "outputId": "e44725c9-e50c-4a0c-ab66-93d6f95b1056"
      },
      "outputs": [
        {
          "name": "stdout",
          "output_type": "stream",
          "text": [
            "Deer Bear River\n",
            "\n",
            "Car Car River\n",
            "\n",
            "Deer Car Bear\n"
          ]
        }
      ],
      "source": [
        "# Leyendo la data linea por linea\n",
        "data = []\n",
        "with open(\"Ejemplo01_MR.txt\",\"r\") as archivo:\n",
        "    \n",
        "    for linea in archivo:\n",
        "        print(linea)\n",
        "        data.append(linea)"
      ]
    },
    {
      "cell_type": "code",
      "execution_count": null,
      "metadata": {
        "id": "B55R8xx-98pI",
        "outputId": "a819a01d-fd49-4b6e-e01d-b8635836a2b2"
      },
      "outputs": [
        {
          "name": "stdout",
          "output_type": "stream",
          "text": [
            "['Deer Bear River\\n', 'Car Car River\\n', 'Deer Car Bear']\n"
          ]
        }
      ],
      "source": [
        "# Mostrando la data\n",
        "print(data)"
      ]
    },
    {
      "cell_type": "code",
      "execution_count": null,
      "metadata": {
        "id": "lK5uEbKw98pJ",
        "outputId": "a520746b-fca7-415b-b26d-6621ede1bafe"
      },
      "outputs": [
        {
          "data": {
            "text/plain": [
              "['Deer Bear River', 'Car Car River', 'Deer Car Bear']"
            ]
          },
          "execution_count": 3,
          "metadata": {},
          "output_type": "execute_result"
        }
      ],
      "source": [
        "# Limpiando la data\n",
        "data = [linea.strip('') for linea in data]\n",
        "data"
      ]
    },
    {
      "cell_type": "code",
      "execution_count": null,
      "metadata": {
        "id": "MRnjXIZ798pK",
        "outputId": "ee7f7fb3-b0ce-4734-a1b5-391d08c37a93"
      },
      "outputs": [
        {
          "data": {
            "text/plain": [
              "[['Deer', 'Bear', 'River'], ['Car', 'Car', 'River'], ['Deer', 'Car', 'Bear']]"
            ]
          },
          "execution_count": 4,
          "metadata": {},
          "output_type": "execute_result"
        }
      ],
      "source": [
        "# Quedandome con las palabras\n",
        "data = [linea.split() for linea in data]\n",
        "data"
      ]
    },
    {
      "cell_type": "code",
      "execution_count": null,
      "metadata": {
        "id": "-wFV9dFd98pL",
        "outputId": "3bc78e7e-adc5-4f10-8cf9-788bd1aa3f06"
      },
      "outputs": [
        {
          "name": "stdout",
          "output_type": "stream",
          "text": [
            "['Deer', 'Bear', 'River']\n",
            "Deer\n",
            "Bear\n",
            "River\n",
            "['Car', 'Car', 'River']\n",
            "Car\n",
            "Car\n",
            "River\n",
            "['Deer', 'Car', 'Bear']\n",
            "Deer\n",
            "Car\n",
            "Bear\n"
          ]
        }
      ],
      "source": [
        "# Mostrando la data\n",
        "for linea in data:\n",
        "    print(linea)\n",
        "    for palabra in linea:\n",
        "        print(palabra)"
      ]
    },
    {
      "cell_type": "code",
      "execution_count": null,
      "metadata": {
        "id": "vt1L2DXB98pL",
        "outputId": "cf307a13-2b69-433a-9157-2033d8545c66"
      },
      "outputs": [
        {
          "data": {
            "text/plain": [
              "['Deer,1',\n",
              " 'Bear,1',\n",
              " 'River,1',\n",
              " 'Car,1',\n",
              " 'Car,1',\n",
              " 'River,1',\n",
              " 'Deer,1',\n",
              " 'Car,1',\n",
              " 'Bear,1']"
            ]
          },
          "execution_count": 6,
          "metadata": {},
          "output_type": "execute_result"
        }
      ],
      "source": [
        "# Generando nuestros pares de clave - valor (map)\n",
        "dataMap = []\n",
        "for linea in data:\n",
        "    for palabra in linea:\n",
        "        dataMap.append(palabra + ',' + '1')\n",
        "dataMap"
      ]
    },
    {
      "cell_type": "code",
      "execution_count": null,
      "metadata": {
        "id": "k9v1fryG98pM",
        "outputId": "427052a5-62b7-4027-b9f4-7af703e7816d"
      },
      "outputs": [
        {
          "data": {
            "text/plain": [
              "['Bear,1',\n",
              " 'Bear,1',\n",
              " 'Car,1',\n",
              " 'Car,1',\n",
              " 'Car,1',\n",
              " 'Deer,1',\n",
              " 'Deer,1',\n",
              " 'River,1',\n",
              " 'River,1']"
            ]
          },
          "execution_count": 7,
          "metadata": {},
          "output_type": "execute_result"
        }
      ],
      "source": [
        "# Ordenando la data (shuffle)\n",
        "dataMap.sort()\n",
        "dataMap"
      ]
    },
    {
      "cell_type": "code",
      "execution_count": null,
      "metadata": {
        "id": "kl-BhH1v98pM",
        "outputId": "f48b533a-54b9-4b00-9be2-989f6eca8c8d"
      },
      "outputs": [
        {
          "name": "stdout",
          "output_type": "stream",
          "text": [
            "Bear,1\n",
            "Bear,1\n",
            "Car,1\n",
            "Car,1\n",
            "Car,1\n",
            "Deer,1\n",
            "Deer,1\n",
            "River,1\n",
            "River,1\n"
          ]
        }
      ],
      "source": [
        "# Mostrando los pares de clave - valor\n",
        "for par in dataMap:\n",
        "    print(par)"
      ]
    },
    {
      "cell_type": "code",
      "execution_count": null,
      "metadata": {
        "id": "Zn1OE4eX98pN",
        "outputId": "4534527b-0326-41f8-bd3b-64df5834fb7b"
      },
      "outputs": [
        {
          "name": "stdout",
          "output_type": "stream",
          "text": [
            "Bear 1\n",
            "Bear 1\n",
            "Car 1\n",
            "Car 1\n",
            "Car 1\n",
            "Deer 1\n",
            "Deer 1\n",
            "River 1\n",
            "River 1\n"
          ]
        }
      ],
      "source": [
        "# Reduciendo los pares de clave valor (reduce)\n",
        "dictResultado = {}\n",
        "for par in dataMap:\n",
        "    llave, valor = par.split(',')\n",
        "    print(llave, valor)\n",
        "    dictResultado[llave] = dictResultado.get(llave, 0) + int(valor)"
      ]
    },
    {
      "cell_type": "code",
      "execution_count": null,
      "metadata": {
        "id": "GsxIM22x98pO",
        "outputId": "9ce99cd3-d610-46dc-f520-463d56259ce4"
      },
      "outputs": [
        {
          "data": {
            "text/plain": [
              "{'Bear': 2, 'Car': 3, 'Deer': 2, 'River': 2}"
            ]
          },
          "execution_count": 10,
          "metadata": {},
          "output_type": "execute_result"
        }
      ],
      "source": [
        "# Mostrando el resultado\n",
        "dictResultado"
      ]
    }
  ],
  "metadata": {
    "interpreter": {
      "hash": "6c68c24c9f6dc6214c1cb1fe145e14906af977bf87c30f07fe886d1925d8ed5f"
    },
    "kernelspec": {
      "display_name": "Python 3.8.3 64-bit",
      "language": "python",
      "name": "python3"
    },
    "language_info": {
      "codemirror_mode": {
        "name": "ipython",
        "version": 3
      },
      "file_extension": ".py",
      "mimetype": "text/x-python",
      "name": "python",
      "nbconvert_exporter": "python",
      "pygments_lexer": "ipython3",
      "version": "3.8.3"
    },
    "orig_nbformat": 4,
    "colab": {
      "name": "map_reduce_01.ipynb",
      "provenance": [],
      "include_colab_link": true
    }
  },
  "nbformat": 4,
  "nbformat_minor": 0
}