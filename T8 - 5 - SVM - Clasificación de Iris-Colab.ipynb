{
  "cells": [
    {
      "cell_type": "markdown",
      "metadata": {
        "id": "mz3aT9UvFoJ4"
      },
      "source": [
        "<a href=\"https://colab.research.google.com/github/joanby/python-ml-course/blob/master/notebooks/T8%20-%205%20-%20SVM%20-%20Clasificación%20de%20Iris-Colab.ipynb\" target=\"_parent\"><img src=\"https://colab.research.google.com/assets/colab-badge.svg\" alt=\"Open In Colab\"/></a>"
      ]
    },
    {
      "cell_type": "markdown",
      "metadata": {
        "id": "OOirJUaVFoKF"
      },
      "source": [
        "# Clonamos el repositorio para obtener los dataSet"
      ]
    },
    {
      "cell_type": "code",
      "execution_count": 1,
      "metadata": {
        "colab": {
          "base_uri": "https://localhost:8080/"
        },
        "id": "98FTnYfbFoKI",
        "outputId": "451cb203-360c-4903-fa46-9fdf6b360efa"
      },
      "outputs": [
        {
          "output_type": "stream",
          "name": "stdout",
          "text": [
            "Cloning into 'python-ml-course'...\n",
            "remote: Enumerating objects: 17706, done.\u001b[K\n",
            "remote: Total 17706 (delta 0), reused 0 (delta 0), pack-reused 17706\u001b[K\n",
            "Receiving objects: 100% (17706/17706), 523.15 MiB | 17.34 MiB/s, done.\n",
            "Resolving deltas: 100% (333/333), done.\n",
            "Checking out files: 100% (16940/16940), done.\n"
          ]
        }
      ],
      "source": [
        "!git clone https://github.com/joanby/python-ml-course.git"
      ]
    },
    {
      "cell_type": "markdown",
      "metadata": {
        "id": "wsf95CpDFoKO"
      },
      "source": [
        "# Damos acceso a nuestro Drive"
      ]
    },
    {
      "cell_type": "code",
      "execution_count": 2,
      "metadata": {
        "colab": {
          "base_uri": "https://localhost:8080/"
        },
        "id": "dtBJ5HWeFoKQ",
        "outputId": "548b84d7-68db-423f-f032-f48a5b0a2e7b"
      },
      "outputs": [
        {
          "output_type": "stream",
          "name": "stdout",
          "text": [
            "Mounted at /content/drive\n",
            "'2. Intermedio'\n",
            " Canva\n",
            "'CFA - LEVEL II - TANDEM FINANCE'\n",
            " Classroom\n",
            "'Colab Notebooks'\n",
            " Curso_Proyectos_InviertePE\n",
            "'CV_JHON VIDAL FIGUEROA CÉSPEDES .pdf'\n",
            " Data\n",
            "'Data (1).xlsx'\n",
            " Data.gsheet\n",
            " Data.xlsx\n",
            " GRUPOS_PY.gsheet\n",
            "'informe5 (1).gsheet'\n",
            " informe5.gsheet\n",
            "'Investigación UX - JHON VIDAL FIGUEROA CÉSPEDES.gsheet'\n",
            " LeWagon\n",
            " Master.xlsx\n",
            " ModuloII_FundamentosdeMachineLearning\n",
            " ModuloIV_ManejodeBasedeDatos\n",
            " ProgramadeEspecializacionenDataScience\n",
            " PROYECTO_CONSTRUCCION.docx\n",
            "'PROYECTO GRUPO 01.pptx'\n",
            " python-ml\n",
            "'QUANT 2021'\n",
            "'SEMINARIO DE ADM DE RIESGO EN BANCA'\n",
            "'Sesión 2-20220320T150758Z-001.zip'\n",
            "'Teoria Económica y Finanzas'\n",
            " Worksheet.xlsx\n"
          ]
        }
      ],
      "source": [
        "from google.colab import drive\n",
        "drive.mount('/content/drive')\n",
        "# Test it\n",
        "!ls '/content/drive/My Drive' "
      ]
    },
    {
      "cell_type": "code",
      "execution_count": 3,
      "metadata": {
        "id": "zZO-qj-iFoKU"
      },
      "outputs": [],
      "source": [
        "from google.colab import files # Para manejar los archivos y, por ejemplo, exportar a su navegador\n",
        "import glob # Para manejar los archivos y, por ejemplo, exportar a su navegador\n",
        "from google.colab import drive # Montar tu Google drive"
      ]
    },
    {
      "cell_type": "markdown",
      "metadata": {
        "id": "XOuIPHMjFoKa"
      },
      "source": [
        "# Clasificación de flores Iris"
      ]
    },
    {
      "cell_type": "code",
      "execution_count": 4,
      "metadata": {
        "id": "j2UzljpvFoKg"
      },
      "outputs": [],
      "source": [
        "import pandas as pd\n",
        "import numpy as np\n",
        "from sklearn import svm, datasets\n",
        "import matplotlib.pyplot as plt\n",
        "%matplotlib inline"
      ]
    },
    {
      "cell_type": "code",
      "execution_count": 5,
      "metadata": {
        "colab": {
          "base_uri": "https://localhost:8080/"
        },
        "id": "4o2hDXKQFoKk",
        "outputId": "06e1d85d-8ee8-4552-e908-a4e042742bf2"
      },
      "outputs": [
        {
          "output_type": "stream",
          "name": "stdout",
          "text": [
            "{'data': array([[5.1, 3.5, 1.4, 0.2],\n",
            "       [4.9, 3. , 1.4, 0.2],\n",
            "       [4.7, 3.2, 1.3, 0.2],\n",
            "       [4.6, 3.1, 1.5, 0.2],\n",
            "       [5. , 3.6, 1.4, 0.2],\n",
            "       [5.4, 3.9, 1.7, 0.4],\n",
            "       [4.6, 3.4, 1.4, 0.3],\n",
            "       [5. , 3.4, 1.5, 0.2],\n",
            "       [4.4, 2.9, 1.4, 0.2],\n",
            "       [4.9, 3.1, 1.5, 0.1],\n",
            "       [5.4, 3.7, 1.5, 0.2],\n",
            "       [4.8, 3.4, 1.6, 0.2],\n",
            "       [4.8, 3. , 1.4, 0.1],\n",
            "       [4.3, 3. , 1.1, 0.1],\n",
            "       [5.8, 4. , 1.2, 0.2],\n",
            "       [5.7, 4.4, 1.5, 0.4],\n",
            "       [5.4, 3.9, 1.3, 0.4],\n",
            "       [5.1, 3.5, 1.4, 0.3],\n",
            "       [5.7, 3.8, 1.7, 0.3],\n",
            "       [5.1, 3.8, 1.5, 0.3],\n",
            "       [5.4, 3.4, 1.7, 0.2],\n",
            "       [5.1, 3.7, 1.5, 0.4],\n",
            "       [4.6, 3.6, 1. , 0.2],\n",
            "       [5.1, 3.3, 1.7, 0.5],\n",
            "       [4.8, 3.4, 1.9, 0.2],\n",
            "       [5. , 3. , 1.6, 0.2],\n",
            "       [5. , 3.4, 1.6, 0.4],\n",
            "       [5.2, 3.5, 1.5, 0.2],\n",
            "       [5.2, 3.4, 1.4, 0.2],\n",
            "       [4.7, 3.2, 1.6, 0.2],\n",
            "       [4.8, 3.1, 1.6, 0.2],\n",
            "       [5.4, 3.4, 1.5, 0.4],\n",
            "       [5.2, 4.1, 1.5, 0.1],\n",
            "       [5.5, 4.2, 1.4, 0.2],\n",
            "       [4.9, 3.1, 1.5, 0.2],\n",
            "       [5. , 3.2, 1.2, 0.2],\n",
            "       [5.5, 3.5, 1.3, 0.2],\n",
            "       [4.9, 3.6, 1.4, 0.1],\n",
            "       [4.4, 3. , 1.3, 0.2],\n",
            "       [5.1, 3.4, 1.5, 0.2],\n",
            "       [5. , 3.5, 1.3, 0.3],\n",
            "       [4.5, 2.3, 1.3, 0.3],\n",
            "       [4.4, 3.2, 1.3, 0.2],\n",
            "       [5. , 3.5, 1.6, 0.6],\n",
            "       [5.1, 3.8, 1.9, 0.4],\n",
            "       [4.8, 3. , 1.4, 0.3],\n",
            "       [5.1, 3.8, 1.6, 0.2],\n",
            "       [4.6, 3.2, 1.4, 0.2],\n",
            "       [5.3, 3.7, 1.5, 0.2],\n",
            "       [5. , 3.3, 1.4, 0.2],\n",
            "       [7. , 3.2, 4.7, 1.4],\n",
            "       [6.4, 3.2, 4.5, 1.5],\n",
            "       [6.9, 3.1, 4.9, 1.5],\n",
            "       [5.5, 2.3, 4. , 1.3],\n",
            "       [6.5, 2.8, 4.6, 1.5],\n",
            "       [5.7, 2.8, 4.5, 1.3],\n",
            "       [6.3, 3.3, 4.7, 1.6],\n",
            "       [4.9, 2.4, 3.3, 1. ],\n",
            "       [6.6, 2.9, 4.6, 1.3],\n",
            "       [5.2, 2.7, 3.9, 1.4],\n",
            "       [5. , 2. , 3.5, 1. ],\n",
            "       [5.9, 3. , 4.2, 1.5],\n",
            "       [6. , 2.2, 4. , 1. ],\n",
            "       [6.1, 2.9, 4.7, 1.4],\n",
            "       [5.6, 2.9, 3.6, 1.3],\n",
            "       [6.7, 3.1, 4.4, 1.4],\n",
            "       [5.6, 3. , 4.5, 1.5],\n",
            "       [5.8, 2.7, 4.1, 1. ],\n",
            "       [6.2, 2.2, 4.5, 1.5],\n",
            "       [5.6, 2.5, 3.9, 1.1],\n",
            "       [5.9, 3.2, 4.8, 1.8],\n",
            "       [6.1, 2.8, 4. , 1.3],\n",
            "       [6.3, 2.5, 4.9, 1.5],\n",
            "       [6.1, 2.8, 4.7, 1.2],\n",
            "       [6.4, 2.9, 4.3, 1.3],\n",
            "       [6.6, 3. , 4.4, 1.4],\n",
            "       [6.8, 2.8, 4.8, 1.4],\n",
            "       [6.7, 3. , 5. , 1.7],\n",
            "       [6. , 2.9, 4.5, 1.5],\n",
            "       [5.7, 2.6, 3.5, 1. ],\n",
            "       [5.5, 2.4, 3.8, 1.1],\n",
            "       [5.5, 2.4, 3.7, 1. ],\n",
            "       [5.8, 2.7, 3.9, 1.2],\n",
            "       [6. , 2.7, 5.1, 1.6],\n",
            "       [5.4, 3. , 4.5, 1.5],\n",
            "       [6. , 3.4, 4.5, 1.6],\n",
            "       [6.7, 3.1, 4.7, 1.5],\n",
            "       [6.3, 2.3, 4.4, 1.3],\n",
            "       [5.6, 3. , 4.1, 1.3],\n",
            "       [5.5, 2.5, 4. , 1.3],\n",
            "       [5.5, 2.6, 4.4, 1.2],\n",
            "       [6.1, 3. , 4.6, 1.4],\n",
            "       [5.8, 2.6, 4. , 1.2],\n",
            "       [5. , 2.3, 3.3, 1. ],\n",
            "       [5.6, 2.7, 4.2, 1.3],\n",
            "       [5.7, 3. , 4.2, 1.2],\n",
            "       [5.7, 2.9, 4.2, 1.3],\n",
            "       [6.2, 2.9, 4.3, 1.3],\n",
            "       [5.1, 2.5, 3. , 1.1],\n",
            "       [5.7, 2.8, 4.1, 1.3],\n",
            "       [6.3, 3.3, 6. , 2.5],\n",
            "       [5.8, 2.7, 5.1, 1.9],\n",
            "       [7.1, 3. , 5.9, 2.1],\n",
            "       [6.3, 2.9, 5.6, 1.8],\n",
            "       [6.5, 3. , 5.8, 2.2],\n",
            "       [7.6, 3. , 6.6, 2.1],\n",
            "       [4.9, 2.5, 4.5, 1.7],\n",
            "       [7.3, 2.9, 6.3, 1.8],\n",
            "       [6.7, 2.5, 5.8, 1.8],\n",
            "       [7.2, 3.6, 6.1, 2.5],\n",
            "       [6.5, 3.2, 5.1, 2. ],\n",
            "       [6.4, 2.7, 5.3, 1.9],\n",
            "       [6.8, 3. , 5.5, 2.1],\n",
            "       [5.7, 2.5, 5. , 2. ],\n",
            "       [5.8, 2.8, 5.1, 2.4],\n",
            "       [6.4, 3.2, 5.3, 2.3],\n",
            "       [6.5, 3. , 5.5, 1.8],\n",
            "       [7.7, 3.8, 6.7, 2.2],\n",
            "       [7.7, 2.6, 6.9, 2.3],\n",
            "       [6. , 2.2, 5. , 1.5],\n",
            "       [6.9, 3.2, 5.7, 2.3],\n",
            "       [5.6, 2.8, 4.9, 2. ],\n",
            "       [7.7, 2.8, 6.7, 2. ],\n",
            "       [6.3, 2.7, 4.9, 1.8],\n",
            "       [6.7, 3.3, 5.7, 2.1],\n",
            "       [7.2, 3.2, 6. , 1.8],\n",
            "       [6.2, 2.8, 4.8, 1.8],\n",
            "       [6.1, 3. , 4.9, 1.8],\n",
            "       [6.4, 2.8, 5.6, 2.1],\n",
            "       [7.2, 3. , 5.8, 1.6],\n",
            "       [7.4, 2.8, 6.1, 1.9],\n",
            "       [7.9, 3.8, 6.4, 2. ],\n",
            "       [6.4, 2.8, 5.6, 2.2],\n",
            "       [6.3, 2.8, 5.1, 1.5],\n",
            "       [6.1, 2.6, 5.6, 1.4],\n",
            "       [7.7, 3. , 6.1, 2.3],\n",
            "       [6.3, 3.4, 5.6, 2.4],\n",
            "       [6.4, 3.1, 5.5, 1.8],\n",
            "       [6. , 3. , 4.8, 1.8],\n",
            "       [6.9, 3.1, 5.4, 2.1],\n",
            "       [6.7, 3.1, 5.6, 2.4],\n",
            "       [6.9, 3.1, 5.1, 2.3],\n",
            "       [5.8, 2.7, 5.1, 1.9],\n",
            "       [6.8, 3.2, 5.9, 2.3],\n",
            "       [6.7, 3.3, 5.7, 2.5],\n",
            "       [6.7, 3. , 5.2, 2.3],\n",
            "       [6.3, 2.5, 5. , 1.9],\n",
            "       [6.5, 3. , 5.2, 2. ],\n",
            "       [6.2, 3.4, 5.4, 2.3],\n",
            "       [5.9, 3. , 5.1, 1.8]]), 'target': array([0, 0, 0, 0, 0, 0, 0, 0, 0, 0, 0, 0, 0, 0, 0, 0, 0, 0, 0, 0, 0, 0,\n",
            "       0, 0, 0, 0, 0, 0, 0, 0, 0, 0, 0, 0, 0, 0, 0, 0, 0, 0, 0, 0, 0, 0,\n",
            "       0, 0, 0, 0, 0, 0, 1, 1, 1, 1, 1, 1, 1, 1, 1, 1, 1, 1, 1, 1, 1, 1,\n",
            "       1, 1, 1, 1, 1, 1, 1, 1, 1, 1, 1, 1, 1, 1, 1, 1, 1, 1, 1, 1, 1, 1,\n",
            "       1, 1, 1, 1, 1, 1, 1, 1, 1, 1, 1, 1, 2, 2, 2, 2, 2, 2, 2, 2, 2, 2,\n",
            "       2, 2, 2, 2, 2, 2, 2, 2, 2, 2, 2, 2, 2, 2, 2, 2, 2, 2, 2, 2, 2, 2,\n",
            "       2, 2, 2, 2, 2, 2, 2, 2, 2, 2, 2, 2, 2, 2, 2, 2, 2, 2]), 'frame': None, 'target_names': array(['setosa', 'versicolor', 'virginica'], dtype='<U10'), 'DESCR': '.. _iris_dataset:\\n\\nIris plants dataset\\n--------------------\\n\\n**Data Set Characteristics:**\\n\\n    :Number of Instances: 150 (50 in each of three classes)\\n    :Number of Attributes: 4 numeric, predictive attributes and the class\\n    :Attribute Information:\\n        - sepal length in cm\\n        - sepal width in cm\\n        - petal length in cm\\n        - petal width in cm\\n        - class:\\n                - Iris-Setosa\\n                - Iris-Versicolour\\n                - Iris-Virginica\\n                \\n    :Summary Statistics:\\n\\n    ============== ==== ==== ======= ===== ====================\\n                    Min  Max   Mean    SD   Class Correlation\\n    ============== ==== ==== ======= ===== ====================\\n    sepal length:   4.3  7.9   5.84   0.83    0.7826\\n    sepal width:    2.0  4.4   3.05   0.43   -0.4194\\n    petal length:   1.0  6.9   3.76   1.76    0.9490  (high!)\\n    petal width:    0.1  2.5   1.20   0.76    0.9565  (high!)\\n    ============== ==== ==== ======= ===== ====================\\n\\n    :Missing Attribute Values: None\\n    :Class Distribution: 33.3% for each of 3 classes.\\n    :Creator: R.A. Fisher\\n    :Donor: Michael Marshall (MARSHALL%PLU@io.arc.nasa.gov)\\n    :Date: July, 1988\\n\\nThe famous Iris database, first used by Sir R.A. Fisher. The dataset is taken\\nfrom Fisher\\'s paper. Note that it\\'s the same as in R, but not as in the UCI\\nMachine Learning Repository, which has two wrong data points.\\n\\nThis is perhaps the best known database to be found in the\\npattern recognition literature.  Fisher\\'s paper is a classic in the field and\\nis referenced frequently to this day.  (See Duda & Hart, for example.)  The\\ndata set contains 3 classes of 50 instances each, where each class refers to a\\ntype of iris plant.  One class is linearly separable from the other 2; the\\nlatter are NOT linearly separable from each other.\\n\\n.. topic:: References\\n\\n   - Fisher, R.A. \"The use of multiple measurements in taxonomic problems\"\\n     Annual Eugenics, 7, Part II, 179-188 (1936); also in \"Contributions to\\n     Mathematical Statistics\" (John Wiley, NY, 1950).\\n   - Duda, R.O., & Hart, P.E. (1973) Pattern Classification and Scene Analysis.\\n     (Q327.D83) John Wiley & Sons.  ISBN 0-471-22361-1.  See page 218.\\n   - Dasarathy, B.V. (1980) \"Nosing Around the Neighborhood: A New System\\n     Structure and Classification Rule for Recognition in Partially Exposed\\n     Environments\".  IEEE Transactions on Pattern Analysis and Machine\\n     Intelligence, Vol. PAMI-2, No. 1, 67-71.\\n   - Gates, G.W. (1972) \"The Reduced Nearest Neighbor Rule\".  IEEE Transactions\\n     on Information Theory, May 1972, 431-433.\\n   - See also: 1988 MLC Proceedings, 54-64.  Cheeseman et al\"s AUTOCLASS II\\n     conceptual clustering system finds 3 classes in the data.\\n   - Many, many more ...', 'feature_names': ['sepal length (cm)', 'sepal width (cm)', 'petal length (cm)', 'petal width (cm)'], 'filename': 'iris.csv', 'data_module': 'sklearn.datasets.data'}\n"
          ]
        }
      ],
      "source": [
        "iris = datasets.load_iris()\n",
        "print(iris)"
      ]
    },
    {
      "cell_type": "code",
      "execution_count": 6,
      "metadata": {
        "id": "WMZVe67WFoKp"
      },
      "outputs": [],
      "source": [
        "X = iris.data[:, :2]\n",
        "Y = iris.target"
      ]
    },
    {
      "cell_type": "code",
      "execution_count": 7,
      "metadata": {
        "id": "OXuxwbZNFoKt"
      },
      "outputs": [],
      "source": [
        "x_min, x_max = X[:,0].min()-1, X[:,0].max()+1\n",
        "y_min, y_max = X[:,1].min()-1, X[:,1].max()+1\n",
        "h = (x_max - x_min)/100\n",
        "\n",
        "xx, yy = np.meshgrid(np.arange(x_min, x_max, h), np.arange(y_min, y_max, h))\n",
        "\n",
        "X_plot = np.c_[xx.ravel(), yy.ravel()]"
      ]
    },
    {
      "cell_type": "code",
      "execution_count": 8,
      "metadata": {
        "id": "Hc_-wZbjFoKw"
      },
      "outputs": [],
      "source": [
        "C = 1.0\n",
        "svc = svm.SVC(kernel=\"linear\", C=C, decision_function_shape=\"ovr\").fit(X,Y)\n",
        "Ypred = svc.predict(X_plot)\n",
        "Ypred = Ypred.reshape(xx.shape)"
      ]
    },
    {
      "cell_type": "code",
      "execution_count": 9,
      "metadata": {
        "colab": {
          "base_uri": "https://localhost:8080/",
          "height": 585
        },
        "id": "1_1WZKSKFoKy",
        "outputId": "5843a2c3-7ff2-4795-a0ba-00dd7fc51ff9"
      },
      "outputs": [
        {
          "output_type": "execute_result",
          "data": {
            "text/plain": [
              "Text(0.5, 1.0, 'SVC para las flores de Iris con Kernel Lineal')"
            ]
          },
          "metadata": {},
          "execution_count": 9
        },
        {
          "output_type": "display_data",
          "data": {
            "text/plain": [
              "<Figure size 1152x648 with 1 Axes>"
            ],
            "image/png": "[encoded data removed]"
          },
          "metadata": {
            "needs_background": "light"
          }
        }
      ],
      "source": [
        "plt.figure(figsize=(16,9))\n",
        "plt.contourf(xx,yy,Ypred, cmap=plt.cm.tab10, alpha = 0.3)\n",
        "plt.scatter(X[:,0], X[:,1], c=Y, cmap=plt.cm.tab10)\n",
        "plt.xlabel(\"Longitud de los pétalos\")\n",
        "plt.ylabel(\"Anchura de los pétalos\")\n",
        "plt.xlim(xx.min(), xx.max())\n",
        "plt.title(\"SVC para las flores de Iris con Kernel Lineal\")"
      ]
    },
    {
      "cell_type": "code",
      "execution_count": 10,
      "metadata": {
        "id": "QGeVkUxLFoK1"
      },
      "outputs": [],
      "source": [
        "C = 1.0\n",
        "svc = svm.SVC(kernel=\"rbf\", C=C, decision_function_shape=\"ovr\").fit(X,Y)\n",
        "Ypred = svc.predict(X_plot)\n",
        "Ypred = Ypred.reshape(xx.shape)"
      ]
    },
    {
      "cell_type": "code",
      "execution_count": 11,
      "metadata": {
        "colab": {
          "base_uri": "https://localhost:8080/",
          "height": 585
        },
        "id": "cwTgxbHiFoK2",
        "outputId": "8cba53c9-e0f5-450f-c767-b4ecde4d0b1d"
      },
      "outputs": [
        {
          "output_type": "execute_result",
          "data": {
            "text/plain": [
              "Text(0.5, 1.0, 'SVC para las flores de Iris con Kernel Radial')"
            ]
          },
          "metadata": {},
          "execution_count": 11
        },
        {
          "output_type": "display_data",
          "data": {
            "text/plain": [
              "<Figure size 1152x648 with 1 Axes>"
            ],
            "image/png": "[encoded data removed]"
          },
          "metadata": {
            "needs_background": "light"
          }
        }
      ],
      "source": [
        "plt.figure(figsize=(16,9))\n",
        "plt.contourf(xx,yy,Ypred, cmap=plt.cm.tab10, alpha = 0.3)\n",
        "plt.scatter(X[:,0], X[:,1], c=Y, cmap=plt.cm.tab10)\n",
        "plt.xlabel(\"Longitud de los pétalos\")\n",
        "plt.ylabel(\"Anchura de los pétalos\")\n",
        "plt.xlim(xx.min(), xx.max())\n",
        "plt.title(\"SVC para las flores de Iris con Kernel Radial\")"
      ]
    },
    {
      "cell_type": "code",
      "execution_count": 12,
      "metadata": {
        "colab": {
          "base_uri": "https://localhost:8080/",
          "height": 585
        },
        "id": "0grkQuMqFoK4",
        "outputId": "11936c08-45b7-411d-bfcb-0b2affc1a795"
      },
      "outputs": [
        {
          "output_type": "execute_result",
          "data": {
            "text/plain": [
              "Text(0.5, 1.0, 'SVC para las flores de Iris con Kernel Sigmoide')"
            ]
          },
          "metadata": {},
          "execution_count": 12
        },
        {
          "output_type": "display_data",
          "data": {
            "text/plain": [
              "<Figure size 1152x648 with 1 Axes>"
            ],
            "image/png": "[encoded data removed]"
          },
          "metadata": {
            "needs_background": "light"
          }
        }
      ],
      "source": [
        "C = 1.0\n",
        "svc = svm.SVC(kernel=\"poly\", C=C, decision_function_shape=\"ovr\").fit(X,Y)\n",
        "Ypred = svc.predict(X_plot)\n",
        "Ypred = Ypred.reshape(xx.shape)\n",
        "plt.figure(figsize=(16,9))\n",
        "plt.contourf(xx,yy,Ypred, cmap=plt.cm.tab10, alpha = 0.3)\n",
        "plt.scatter(X[:,0], X[:,1], c=Y, cmap=plt.cm.tab10)\n",
        "plt.xlabel(\"Longitud de los pétalos\")\n",
        "plt.ylabel(\"Anchura de los pétalos\")\n",
        "plt.xlim(xx.min(), xx.max())\n",
        "plt.title(\"SVC para las flores de Iris con Kernel Sigmoide\")"
      ]
    },
    {
      "cell_type": "code",
      "execution_count": 13,
      "metadata": {
        "id": "7l7ZtU82FoK8"
      },
      "outputs": [],
      "source": [
        "from sklearn.model_selection import train_test_split, GridSearchCV\n",
        "from sklearn.metrics import classification_report\n",
        "from sklearn.utils import shuffle"
      ]
    },
    {
      "cell_type": "code",
      "execution_count": 14,
      "metadata": {
        "id": "XwxBE-Y0FoK9"
      },
      "outputs": [],
      "source": [
        "X, Y = shuffle(X,Y, random_state = 0)"
      ]
    },
    {
      "cell_type": "code",
      "execution_count": 16,
      "metadata": {
        "id": "BWrB-fZJFoK-"
      },
      "outputs": [],
      "source": [
        "X_train, X_test, Y_train, Y_test = train_test_split(X, Y, test_size = 0.25, random_state=0)"
      ]
    },
    {
      "cell_type": "code",
      "execution_count": 17,
      "metadata": {
        "id": "xCh9CrsZFoLA"
      },
      "outputs": [],
      "source": [
        "parameters = [\n",
        "    {\n",
        "        'kernel': ['rbf'],\n",
        "        'gamma' : [1e-4,1e-3,1e-2, 0.1, 0.2, 0.5],\n",
        "        'C': [1,10,100,1000]\n",
        "    },\n",
        "    {\n",
        "        'kernel':[\"linear\"],\n",
        "        'C':[1,10,100,1000]\n",
        "    }\n",
        "]"
      ]
    },
    {
      "cell_type": "code",
      "execution_count": 18,
      "metadata": {
        "colab": {
          "base_uri": "https://localhost:8080/"
        },
        "id": "sh6kaY0nFoLD",
        "outputId": "a025409d-c72c-49d0-d717-1bcdb43f9502"
      },
      "outputs": [
        {
          "output_type": "execute_result",
          "data": {
            "text/plain": [
              "GridSearchCV(cv=5, estimator=SVC(),\n",
              "             param_grid=[{'C': [1, 10, 100, 1000],\n",
              "                          'gamma': [0.0001, 0.001, 0.01, 0.1, 0.2, 0.5],\n",
              "                          'kernel': ['rbf']},\n",
              "                         {'C': [1, 10, 100, 1000], 'kernel': ['linear']}])"
            ]
          },
          "metadata": {},
          "execution_count": 18
        }
      ],
      "source": [
        "clf = GridSearchCV(svm.SVC(decision_function_shape='ovr'), param_grid=parameters, cv=5)\n",
        "clf.fit(X,Y)"
      ]
    },
    {
      "cell_type": "code",
      "execution_count": 19,
      "metadata": {
        "colab": {
          "base_uri": "https://localhost:8080/"
        },
        "id": "hr8Et_YcFoLF",
        "outputId": "c4c80599-c8c4-47c8-bac1-67d33c2c2a59"
      },
      "outputs": [
        {
          "output_type": "execute_result",
          "data": {
            "text/plain": [
              "{'C': 10, 'gamma': 0.01, 'kernel': 'rbf'}"
            ]
          },
          "metadata": {},
          "execution_count": 19
        }
      ],
      "source": [
        "clf.best_params_"
      ]
    },
    {
      "cell_type": "code",
      "execution_count": 20,
      "metadata": {
        "colab": {
          "base_uri": "https://localhost:8080/"
        },
        "id": "kpP8Py5DFoLG",
        "outputId": "9a2a278b-5a94-4c69-dae7-713226677357"
      },
      "outputs": [
        {
          "output_type": "execute_result",
          "data": {
            "text/plain": [
              "{'mean_fit_time': array([0.00166316, 0.00144672, 0.00148306, 0.00112624, 0.0011806 ,\n",
              "        0.00101213, 0.00155845, 0.00140848, 0.00104628, 0.00092721,\n",
              "        0.00100102, 0.0010787 , 0.00153408, 0.00112901, 0.00100489,\n",
              "        0.00126686, 0.00120173, 0.0013917 , 0.00105243, 0.00098505,\n",
              "        0.00169125, 0.00239053, 0.00265226, 0.00296683, 0.00092134,\n",
              "        0.00095053, 0.00150032, 0.0063055 ]),\n",
              " 'mean_score_time': array([0.00064178, 0.00055251, 0.00065894, 0.00053997, 0.00054173,\n",
              "        0.00052347, 0.00058618, 0.00055823, 0.00049577, 0.00044932,\n",
              "        0.00048218, 0.00047421, 0.00061169, 0.00055161, 0.00052633,\n",
              "        0.00046849, 0.00045428, 0.00049157, 0.0004899 , 0.00043983,\n",
              "        0.00078921, 0.00069132, 0.00055542, 0.00058656, 0.00042567,\n",
              "        0.00040741, 0.00044446, 0.00064344]),\n",
              " 'mean_test_score': array([0.74666667, 0.74666667, 0.74666667, 0.80666667, 0.78666667,\n",
              "        0.78      , 0.74666667, 0.74666667, 0.81333333, 0.77333333,\n",
              "        0.78      , 0.76666667, 0.74666667, 0.81333333, 0.76      ,\n",
              "        0.78      , 0.77333333, 0.76666667, 0.81333333, 0.76      ,\n",
              "        0.76666667, 0.78      , 0.76666667, 0.75333333, 0.77333333,\n",
              "        0.76666667, 0.76666667, 0.76666667]),\n",
              " 'param_C': masked_array(data=[1, 1, 1, 1, 1, 1, 10, 10, 10, 10, 10, 10, 100, 100,\n",
              "                    100, 100, 100, 100, 1000, 1000, 1000, 1000, 1000, 1000,\n",
              "                    1, 10, 100, 1000],\n",
              "              mask=[False, False, False, False, False, False, False, False,\n",
              "                    False, False, False, False, False, False, False, False,\n",
              "                    False, False, False, False, False, False, False, False,\n",
              "                    False, False, False, False],\n",
              "        fill_value='?',\n",
              "             dtype=object),\n",
              " 'param_gamma': masked_array(data=[0.0001, 0.001, 0.01, 0.1, 0.2, 0.5, 0.0001, 0.001,\n",
              "                    0.01, 0.1, 0.2, 0.5, 0.0001, 0.001, 0.01, 0.1, 0.2,\n",
              "                    0.5, 0.0001, 0.001, 0.01, 0.1, 0.2, 0.5, --, --, --,\n",
              "                    --],\n",
              "              mask=[False, False, False, False, False, False, False, False,\n",
              "                    False, False, False, False, False, False, False, False,\n",
              "                    False, False, False, False, False, False, False, False,\n",
              "                     True,  True,  True,  True],\n",
              "        fill_value='?',\n",
              "             dtype=object),\n",
              " 'param_kernel': masked_array(data=['rbf', 'rbf', 'rbf', 'rbf', 'rbf', 'rbf', 'rbf', 'rbf',\n",
              "                    'rbf', 'rbf', 'rbf', 'rbf', 'rbf', 'rbf', 'rbf', 'rbf',\n",
              "                    'rbf', 'rbf', 'rbf', 'rbf', 'rbf', 'rbf', 'rbf', 'rbf',\n",
              "                    'linear', 'linear', 'linear', 'linear'],\n",
              "              mask=[False, False, False, False, False, False, False, False,\n",
              "                    False, False, False, False, False, False, False, False,\n",
              "                    False, False, False, False, False, False, False, False,\n",
              "                    False, False, False, False],\n",
              "        fill_value='?',\n",
              "             dtype=object),\n",
              " 'params': [{'C': 1, 'gamma': 0.0001, 'kernel': 'rbf'},\n",
              "  {'C': 1, 'gamma': 0.001, 'kernel': 'rbf'},\n",
              "  {'C': 1, 'gamma': 0.01, 'kernel': 'rbf'},\n",
              "  {'C': 1, 'gamma': 0.1, 'kernel': 'rbf'},\n",
              "  {'C': 1, 'gamma': 0.2, 'kernel': 'rbf'},\n",
              "  {'C': 1, 'gamma': 0.5, 'kernel': 'rbf'},\n",
              "  {'C': 10, 'gamma': 0.0001, 'kernel': 'rbf'},\n",
              "  {'C': 10, 'gamma': 0.001, 'kernel': 'rbf'},\n",
              "  {'C': 10, 'gamma': 0.01, 'kernel': 'rbf'},\n",
              "  {'C': 10, 'gamma': 0.1, 'kernel': 'rbf'},\n",
              "  {'C': 10, 'gamma': 0.2, 'kernel': 'rbf'},\n",
              "  {'C': 10, 'gamma': 0.5, 'kernel': 'rbf'},\n",
              "  {'C': 100, 'gamma': 0.0001, 'kernel': 'rbf'},\n",
              "  {'C': 100, 'gamma': 0.001, 'kernel': 'rbf'},\n",
              "  {'C': 100, 'gamma': 0.01, 'kernel': 'rbf'},\n",
              "  {'C': 100, 'gamma': 0.1, 'kernel': 'rbf'},\n",
              "  {'C': 100, 'gamma': 0.2, 'kernel': 'rbf'},\n",
              "  {'C': 100, 'gamma': 0.5, 'kernel': 'rbf'},\n",
              "  {'C': 1000, 'gamma': 0.0001, 'kernel': 'rbf'},\n",
              "  {'C': 1000, 'gamma': 0.001, 'kernel': 'rbf'},\n",
              "  {'C': 1000, 'gamma': 0.01, 'kernel': 'rbf'},\n",
              "  {'C': 1000, 'gamma': 0.1, 'kernel': 'rbf'},\n",
              "  {'C': 1000, 'gamma': 0.2, 'kernel': 'rbf'},\n",
              "  {'C': 1000, 'gamma': 0.5, 'kernel': 'rbf'},\n",
              "  {'C': 1, 'kernel': 'linear'},\n",
              "  {'C': 10, 'kernel': 'linear'},\n",
              "  {'C': 100, 'kernel': 'linear'},\n",
              "  {'C': 1000, 'kernel': 'linear'}],\n",
              " 'rank_test_score': array([23, 23, 23,  4,  5,  6, 23, 23,  1, 10,  6, 13, 23,  1, 20,  6, 10,\n",
              "        18,  1, 20, 14,  6, 18, 22, 10, 14, 14, 14], dtype=int32),\n",
              " 'split0_test_score': array([0.63333333, 0.63333333, 0.63333333, 0.7       , 0.7       ,\n",
              "        0.7       , 0.63333333, 0.63333333, 0.7       , 0.7       ,\n",
              "        0.73333333, 0.7       , 0.63333333, 0.7       , 0.7       ,\n",
              "        0.73333333, 0.73333333, 0.7       , 0.7       , 0.7       ,\n",
              "        0.7       , 0.73333333, 0.7       , 0.66666667, 0.7       ,\n",
              "        0.7       , 0.7       , 0.7       ]),\n",
              " 'split1_test_score': array([0.73333333, 0.73333333, 0.73333333, 0.83333333, 0.83333333,\n",
              "        0.8       , 0.73333333, 0.73333333, 0.83333333, 0.8       ,\n",
              "        0.8       , 0.76666667, 0.73333333, 0.83333333, 0.8       ,\n",
              "        0.8       , 0.76666667, 0.8       , 0.83333333, 0.8       ,\n",
              "        0.8       , 0.8       , 0.8       , 0.76666667, 0.8       ,\n",
              "        0.8       , 0.8       , 0.8       ]),\n",
              " 'split2_test_score': array([0.8       , 0.8       , 0.8       , 0.76666667, 0.73333333,\n",
              "        0.73333333, 0.8       , 0.8       , 0.8       , 0.73333333,\n",
              "        0.7       , 0.7       , 0.8       , 0.8       , 0.7       ,\n",
              "        0.73333333, 0.73333333, 0.73333333, 0.8       , 0.7       ,\n",
              "        0.73333333, 0.73333333, 0.73333333, 0.7       , 0.73333333,\n",
              "        0.73333333, 0.73333333, 0.73333333]),\n",
              " 'split3_test_score': array([0.76666667, 0.76666667, 0.76666667, 0.86666667, 0.86666667,\n",
              "        0.86666667, 0.76666667, 0.76666667, 0.86666667, 0.83333333,\n",
              "        0.86666667, 0.86666667, 0.76666667, 0.86666667, 0.83333333,\n",
              "        0.83333333, 0.83333333, 0.8       , 0.86666667, 0.83333333,\n",
              "        0.83333333, 0.83333333, 0.8       , 0.83333333, 0.83333333,\n",
              "        0.83333333, 0.83333333, 0.83333333]),\n",
              " 'split4_test_score': array([0.8       , 0.8       , 0.8       , 0.86666667, 0.8       ,\n",
              "        0.8       , 0.8       , 0.8       , 0.86666667, 0.8       ,\n",
              "        0.8       , 0.8       , 0.8       , 0.86666667, 0.76666667,\n",
              "        0.8       , 0.8       , 0.8       , 0.86666667, 0.76666667,\n",
              "        0.76666667, 0.8       , 0.8       , 0.8       , 0.8       ,\n",
              "        0.76666667, 0.76666667, 0.76666667]),\n",
              " 'std_fit_time': array([2.56300988e-04, 1.85807478e-05, 2.17119704e-04, 1.16840809e-04,\n",
              "        1.21172701e-04, 3.57355650e-05, 1.01682279e-04, 1.38583350e-05,\n",
              "        1.76330487e-05, 2.57919980e-05, 6.10955878e-05, 5.88942344e-05,\n",
              "        7.28217303e-05, 7.42415089e-05, 3.44269824e-05, 2.50477825e-04,\n",
              "        8.87357438e-05, 1.83043581e-04, 3.52364270e-05, 9.54579401e-05,\n",
              "        1.19412592e-04, 5.26955581e-04, 7.47978637e-04, 7.53106400e-04,\n",
              "        4.20614162e-05, 1.78291192e-05, 3.84906233e-04, 3.09754883e-03]),\n",
              " 'std_score_time': array([1.23388412e-04, 1.46114608e-05, 2.25052611e-04, 9.52169184e-05,\n",
              "        7.10758375e-05, 5.86623282e-05, 2.41533907e-05, 1.15524566e-05,\n",
              "        1.14952375e-05, 1.90601302e-05, 3.87726377e-05, 2.17946403e-05,\n",
              "        4.05299243e-05, 8.11748005e-05, 1.12341114e-04, 4.64763372e-06,\n",
              "        1.05838516e-05, 3.13414440e-05, 2.84346118e-05, 1.77914583e-05,\n",
              "        2.70868690e-05, 2.43494064e-04, 5.46476187e-05, 5.03169180e-05,\n",
              "        3.81052266e-06, 5.46680857e-06, 3.87499950e-05, 1.68790750e-04]),\n",
              " 'std_test_score': array([0.06182412, 0.06182412, 0.06182412, 0.06463573, 0.06182412,\n",
              "        0.05811865, 0.06182412, 0.06182412, 0.06182412, 0.04898979,\n",
              "        0.05811865, 0.06324555, 0.06182412, 0.06182412, 0.05333333,\n",
              "        0.04      , 0.03887301, 0.0421637 , 0.06182412, 0.05333333,\n",
              "        0.04714045, 0.04      , 0.0421637 , 0.06182412, 0.04898979,\n",
              "        0.04714045, 0.04714045, 0.04714045])}"
            ]
          },
          "metadata": {},
          "execution_count": 20
        }
      ],
      "source": [
        "clf.cv_results_"
      ]
    },
    {
      "cell_type": "code",
      "execution_count": 21,
      "metadata": {
        "colab": {
          "base_uri": "https://localhost:8080/"
        },
        "id": "e4U8MfuwFoLN",
        "outputId": "951459fa-d894-4399-ac15-545835f08348"
      },
      "outputs": [
        {
          "output_type": "stream",
          "name": "stdout",
          "text": [
            "0.747 (+/-0.124) para {'C': 1, 'gamma': 0.0001, 'kernel': 'rbf'}\n",
            "0.747 (+/-0.124) para {'C': 1, 'gamma': 0.001, 'kernel': 'rbf'}\n",
            "0.747 (+/-0.124) para {'C': 1, 'gamma': 0.01, 'kernel': 'rbf'}\n",
            "0.807 (+/-0.129) para {'C': 1, 'gamma': 0.1, 'kernel': 'rbf'}\n",
            "0.787 (+/-0.124) para {'C': 1, 'gamma': 0.2, 'kernel': 'rbf'}\n",
            "0.780 (+/-0.116) para {'C': 1, 'gamma': 0.5, 'kernel': 'rbf'}\n",
            "0.747 (+/-0.124) para {'C': 10, 'gamma': 0.0001, 'kernel': 'rbf'}\n",
            "0.747 (+/-0.124) para {'C': 10, 'gamma': 0.001, 'kernel': 'rbf'}\n",
            "0.813 (+/-0.124) para {'C': 10, 'gamma': 0.01, 'kernel': 'rbf'}\n",
            "0.773 (+/-0.098) para {'C': 10, 'gamma': 0.1, 'kernel': 'rbf'}\n",
            "0.780 (+/-0.116) para {'C': 10, 'gamma': 0.2, 'kernel': 'rbf'}\n",
            "0.767 (+/-0.126) para {'C': 10, 'gamma': 0.5, 'kernel': 'rbf'}\n",
            "0.747 (+/-0.124) para {'C': 100, 'gamma': 0.0001, 'kernel': 'rbf'}\n",
            "0.813 (+/-0.124) para {'C': 100, 'gamma': 0.001, 'kernel': 'rbf'}\n",
            "0.760 (+/-0.107) para {'C': 100, 'gamma': 0.01, 'kernel': 'rbf'}\n",
            "0.780 (+/-0.080) para {'C': 100, 'gamma': 0.1, 'kernel': 'rbf'}\n",
            "0.773 (+/-0.078) para {'C': 100, 'gamma': 0.2, 'kernel': 'rbf'}\n",
            "0.767 (+/-0.084) para {'C': 100, 'gamma': 0.5, 'kernel': 'rbf'}\n",
            "0.813 (+/-0.124) para {'C': 1000, 'gamma': 0.0001, 'kernel': 'rbf'}\n",
            "0.760 (+/-0.107) para {'C': 1000, 'gamma': 0.001, 'kernel': 'rbf'}\n",
            "0.767 (+/-0.094) para {'C': 1000, 'gamma': 0.01, 'kernel': 'rbf'}\n",
            "0.780 (+/-0.080) para {'C': 1000, 'gamma': 0.1, 'kernel': 'rbf'}\n",
            "0.767 (+/-0.084) para {'C': 1000, 'gamma': 0.2, 'kernel': 'rbf'}\n",
            "0.753 (+/-0.124) para {'C': 1000, 'gamma': 0.5, 'kernel': 'rbf'}\n",
            "0.773 (+/-0.098) para {'C': 1, 'kernel': 'linear'}\n",
            "0.767 (+/-0.094) para {'C': 10, 'kernel': 'linear'}\n",
            "0.767 (+/-0.094) para {'C': 100, 'kernel': 'linear'}\n",
            "0.767 (+/-0.094) para {'C': 1000, 'kernel': 'linear'}\n"
          ]
        }
      ],
      "source": [
        "means = clf.cv_results_['mean_test_score']\n",
        "stds = clf.cv_results_['std_test_score']\n",
        "params = clf.cv_results_['params']\n",
        "for m, s, p in zip(means, stds, params):\n",
        "    print(\"%0.3f (+/-%0.3f) para %r\"%(m, 2*s, p))"
      ]
    },
    {
      "cell_type": "code",
      "execution_count": 22,
      "metadata": {
        "id": "ImFznlH1FoLR"
      },
      "outputs": [],
      "source": [
        "y_pred = clf.predict(X_test)"
      ]
    },
    {
      "cell_type": "code",
      "execution_count": 23,
      "metadata": {
        "colab": {
          "base_uri": "https://localhost:8080/"
        },
        "id": "ePF_EO93FoLT",
        "outputId": "3e04c814-eb27-4681-9238-fbde6c26445b"
      },
      "outputs": [
        {
          "output_type": "stream",
          "name": "stdout",
          "text": [
            "              precision    recall  f1-score   support\n",
            "\n",
            "      setosa       1.00      1.00      1.00        11\n",
            "  versicolor       0.60      0.82      0.69        11\n",
            "   virginica       0.83      0.62      0.71        16\n",
            "\n",
            "    accuracy                           0.79        38\n",
            "   macro avg       0.81      0.81      0.80        38\n",
            "weighted avg       0.81      0.79      0.79        38\n",
            "\n"
          ]
        }
      ],
      "source": [
        "print(classification_report(Y_test, y_pred, target_names=[\"setosa\", \"versicolor\",\"virginica\"]))"
      ]
    },
    {
      "cell_type": "markdown",
      "metadata": {
        "id": "teeY5r2HFoLW"
      },
      "source": [
        "# Resumen final de la clasificación de Iris"
      ]
    },
    {
      "cell_type": "code",
      "execution_count": 24,
      "metadata": {
        "id": "hqN-IT64FoLY"
      },
      "outputs": [],
      "source": [
        "def svm_iris(C=1.0, gamma = 0.01, kernel = \"rbf\"):\n",
        "    import pandas as pd\n",
        "    import numpy as np\n",
        "    from sklearn import svm, datasets\n",
        "    import matplotlib.pyplot as plt\n",
        "\n",
        "    iris = datasets.load_iris()\n",
        "    \n",
        "    \n",
        "    X = iris.data[:, :2]\n",
        "    Y = iris.target\n",
        "\n",
        "    x_min, x_max = X[:,0].min()-1, X[:,0].max()+1\n",
        "    y_min, y_max = X[:,1].min()-1, X[:,1].max()+1\n",
        "    h = (x_max - x_min)/100\n",
        "\n",
        "    xx, yy = np.meshgrid(np.arange(x_min, x_max, h), np.arange(y_min, y_max, h))\n",
        "\n",
        "    X_plot = np.c_[xx.ravel(), yy.ravel()]\n",
        "\n",
        "    svc = svm.SVC(kernel=kernel, C=C, gamma=gamma, decision_function_shape=\"ovr\").fit(X,Y)\n",
        "    Ypred = svc.predict(X_plot)\n",
        "    Ypred = Ypred.reshape(xx.shape)\n",
        "    plt.figure(figsize=(16,9))\n",
        "    plt.contourf(xx,yy,Ypred, cmap=plt.cm.tab10, alpha = 0.3)\n",
        "    plt.scatter(X[:,0], X[:,1], c=Y, cmap=plt.cm.tab10)\n",
        "    plt.xlabel(\"Longitud de los pétalos\")\n",
        "    plt.ylabel(\"Anchura de los pétalos\")\n",
        "    plt.xlim(xx.min(), xx.max())\n",
        "    plt.title(\"SVC para las flores de Iris con Kernel \"+kernel)"
      ]
    },
    {
      "cell_type": "code",
      "execution_count": 25,
      "metadata": {
        "id": "sDxn_D8-FoLc"
      },
      "outputs": [],
      "source": [
        "from ipywidgets import interact, fixed"
      ]
    },
    {
      "cell_type": "code",
      "execution_count": 26,
      "metadata": {
        "colab": {
          "base_uri": "https://localhost:8080/",
          "height": 681,
          "referenced_widgets": [
            "733ad4d93a47468ab5cde7d8be76668a",
            "033bbe471638404cb9f477906bee9372",
            "6de15002fc794f7486fa30b8a3807be4",
            "ff28b0c949c545668bd7dd758d6e7d10",
            "ad23c2d592d14877a6f78b6afd106645",
            "21be3ec69f424d2b9ec981fcb8326d5e",
            "1eca557347744047ab508794bab10746",
            "3c6eb78fba5246a9835fb3c457b8f459",
            "99d54dfd838245329116a760c686282a",
            "518bd41cd567400b832273ecd84c37cd",
            "38534ffb6b7142cb9cbbd4039581085e",
            "784386d596ce4ce3ab95bf8aeb64f020",
            "925cdea08e164e0f907b60ae3c9e5368"
          ]
        },
        "id": "MlQ1nvmWFoLf",
        "outputId": "518dc0e6-7f32-4ba9-a396-fb5876e60805"
      },
      "outputs": [
        {
          "output_type": "display_data",
          "data": {
            "text/plain": [
              "interactive(children=(Dropdown(description='C', index=2, options=(0.01, 0.1, 1, 10, 100, 1000, 1000000.0, 1000…"
            ],
            "application/vnd.jupyter.widget-view+json": {
              "version_major": 2,
              "version_minor": 0,
              "model_id": "733ad4d93a47468ab5cde7d8be76668a"
            }
          },
          "metadata": {}
        },
        {
          "output_type": "execute_result",
          "data": {
            "text/plain": [
              "<function __main__.svm_iris>"
            ]
          },
          "metadata": {},
          "execution_count": 26
        }
      ],
      "source": [
        "interact(svm_iris, C=[0.01, 0.1, 1,10,100,1000, 1e6, 1e10],\n",
        "        gamma=[1e-5,1e-4,1e-3,1e-2, 0.1, 0.2, 0.5,0.99],\n",
        "        kernel=[\"rbf\",\"linear\",\"sigmoid\",\"poly\"])"
      ]
    },
    {
      "cell_type": "code",
      "execution_count": null,
      "metadata": {
        "id": "rySIgLXsFoLh"
      },
      "outputs": [],
      "source": [
        ""
      ]
    }
  ],
  "metadata": {
    "kernelspec": {
      "display_name": "Python 3",
      "language": "python",
      "name": "python3"
    },
    "language_info": {
      "codemirror_mode": {
        "name": "ipython",
        "version": 3
      },
      "file_extension": ".py",
      "mimetype": "text/x-python",
      "name": "python",
      "nbconvert_exporter": "python",
      "pygments_lexer": "ipython3",
      "version": "3.8.5"
    },
    "colab": {
      "name": "T8 - 5 - SVM - Clasificación de Iris-Colab.ipynb",
      "provenance": []
    },
    "widgets": {
      "application/vnd.jupyter.widget-state+json": {
        "733ad4d93a47468ab5cde7d8be76668a": {
          "model_module": "@jupyter-widgets/controls",
          "model_name": "VBoxModel",
          "model_module_version": "1.5.0",
          "state": {
            "_dom_classes": [
              "widget-interact"
            ],
            "_model_module": "@jupyter-widgets/controls",
            "_model_module_version": "1.5.0",
            "_model_name": "VBoxModel",
            "_view_count": null,
            "_view_module": "@jupyter-widgets/controls",
            "_view_module_version": "1.5.0",
            "_view_name": "VBoxView",
            "box_style": "",
            "children": [
              "IPY_MODEL_033bbe471638404cb9f477906bee9372",
              "IPY_MODEL_6de15002fc794f7486fa30b8a3807be4",
              "IPY_MODEL_ff28b0c949c545668bd7dd758d6e7d10",
              "IPY_MODEL_ad23c2d592d14877a6f78b6afd106645"
            ],
            "layout": "IPY_MODEL_21be3ec69f424d2b9ec981fcb8326d5e"
          }
        },
        "033bbe471638404cb9f477906bee9372": {
          "model_module": "@jupyter-widgets/controls",
          "model_name": "DropdownModel",
          "model_module_version": "1.5.0",
          "state": {
            "_dom_classes": [],
            "_model_module": "@jupyter-widgets/controls",
            "_model_module_version": "1.5.0",
            "_model_name": "DropdownModel",
            "_options_labels": [
              "0.01",
              "0.1",
              "1",
              "10",
              "100",
              "1000",
              "1000000.0",
              "10000000000.0"
            ],
            "_view_count": null,
            "_view_module": "@jupyter-widgets/controls",
            "_view_module_version": "1.5.0",
            "_view_name": "DropdownView",
            "description": "C",
            "description_tooltip": null,
            "disabled": false,
            "index": 2,
            "layout": "IPY_MODEL_1eca557347744047ab508794bab10746",
            "style": "IPY_MODEL_3c6eb78fba5246a9835fb3c457b8f459"
          }
        },
        "6de15002fc794f7486fa30b8a3807be4": {
          "model_module": "@jupyter-widgets/controls",
          "model_name": "DropdownModel",
          "model_module_version": "1.5.0",
          "state": {
            "_dom_classes": [],
            "_model_module": "@jupyter-widgets/controls",
            "_model_module_version": "1.5.0",
            "_model_name": "DropdownModel",
            "_options_labels": [
              "1e-05",
              "0.0001",
              "0.001",
              "0.01",
              "0.1",
              "0.2",
              "0.5",
              "0.99"
            ],
            "_view_count": null,
            "_view_module": "@jupyter-widgets/controls",
            "_view_module_version": "1.5.0",
            "_view_name": "DropdownView",
            "description": "gamma",
            "description_tooltip": null,
            "disabled": false,
            "index": 3,
            "layout": "IPY_MODEL_99d54dfd838245329116a760c686282a",
            "style": "IPY_MODEL_518bd41cd567400b832273ecd84c37cd"
          }
        },
        "ff28b0c949c545668bd7dd758d6e7d10": {
          "model_module": "@jupyter-widgets/controls",
          "model_name": "DropdownModel",
          "model_module_version": "1.5.0",
          "state": {
            "_dom_classes": [],
            "_model_module": "@jupyter-widgets/controls",
            "_model_module_version": "1.5.0",
            "_model_name": "DropdownModel",
            "_options_labels": [
              "rbf",
              "linear",
              "sigmoid",
              "poly"
            ],
            "_view_count": null,
            "_view_module": "@jupyter-widgets/controls",
            "_view_module_version": "1.5.0",
            "_view_name": "DropdownView",
            "description": "kernel",
            "description_tooltip": null,
            "disabled": false,
            "index": 1,
            "layout": "IPY_MODEL_38534ffb6b7142cb9cbbd4039581085e",
            "style": "IPY_MODEL_784386d596ce4ce3ab95bf8aeb64f020"
          }
        },
        "ad23c2d592d14877a6f78b6afd106645": {
          "model_module": "@jupyter-widgets/output",
          "model_name": "OutputModel",
          "model_module_version": "1.0.0",
          "state": {
            "_dom_classes": [],
            "_model_module": "@jupyter-widgets/output",
            "_model_module_version": "1.0.0",
            "_model_name": "OutputModel",
            "_view_count": null,
            "_view_module": "@jupyter-widgets/output",
            "_view_module_version": "1.0.0",
            "_view_name": "OutputView",
            "layout": "IPY_MODEL_925cdea08e164e0f907b60ae3c9e5368",
            "msg_id": "",
            "outputs": [
              {
                "output_type": "display_data",
                "data": {
                  "text/plain": "<Figure size 1152x648 with 1 Axes>",
                  "image/png": "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\n"
                },
                "metadata": {
                  "needs_background": "light"
                }
              }
            ]
          }
        },
        "21be3ec69f424d2b9ec981fcb8326d5e": {
          "model_module": "@jupyter-widgets/base",
          "model_name": "LayoutModel",
          "model_module_version": "1.2.0",
          "state": {
            "_model_module": "@jupyter-widgets/base",
            "_model_module_version": "1.2.0",
            "_model_name": "LayoutModel",
            "_view_count": null,
            "_view_module": "@jupyter-widgets/base",
            "_view_module_version": "1.2.0",
            "_view_name": "LayoutView",
            "align_content": null,
            "align_items": null,
            "align_self": null,
            "border": null,
            "bottom": null,
            "display": null,
            "flex": null,
            "flex_flow": null,
            "grid_area": null,
            "grid_auto_columns": null,
            "grid_auto_flow": null,
            "grid_auto_rows": null,
            "grid_column": null,
            "grid_gap": null,
            "grid_row": null,
            "grid_template_areas": null,
            "grid_template_columns": null,
            "grid_template_rows": null,
            "height": null,
            "justify_content": null,
            "justify_items": null,
            "left": null,
            "margin": null,
            "max_height": null,
            "max_width": null,
            "min_height": null,
            "min_width": null,
            "object_fit": null,
            "object_position": null,
            "order": null,
            "overflow": null,
            "overflow_x": null,
            "overflow_y": null,
            "padding": null,
            "right": null,
            "top": null,
            "visibility": null,
            "width": null
          }
        },
        "1eca557347744047ab508794bab10746": {
          "model_module": "@jupyter-widgets/base",
          "model_name": "LayoutModel",
          "model_module_version": "1.2.0",
          "state": {
            "_model_module": "@jupyter-widgets/base",
            "_model_module_version": "1.2.0",
            "_model_name": "LayoutModel",
            "_view_count": null,
            "_view_module": "@jupyter-widgets/base",
            "_view_module_version": "1.2.0",
            "_view_name": "LayoutView",
            "align_content": null,
            "align_items": null,
            "align_self": null,
            "border": null,
            "bottom": null,
            "display": null,
            "flex": null,
            "flex_flow": null,
            "grid_area": null,
            "grid_auto_columns": null,
            "grid_auto_flow": null,
            "grid_auto_rows": null,
            "grid_column": null,
            "grid_gap": null,
            "grid_row": null,
            "grid_template_areas": null,
            "grid_template_columns": null,
            "grid_template_rows": null,
            "height": null,
            "justify_content": null,
            "justify_items": null,
            "left": null,
            "margin": null,
            "max_height": null,
            "max_width": null,
            "min_height": null,
            "min_width": null,
            "object_fit": null,
            "object_position": null,
            "order": null,
            "overflow": null,
            "overflow_x": null,
            "overflow_y": null,
            "padding": null,
            "right": null,
            "top": null,
            "visibility": null,
            "width": null
          }
        },
        "3c6eb78fba5246a9835fb3c457b8f459": {
          "model_module": "@jupyter-widgets/controls",
          "model_name": "DescriptionStyleModel",
          "model_module_version": "1.5.0",
          "state": {
            "_model_module": "@jupyter-widgets/controls",
            "_model_module_version": "1.5.0",
            "_model_name": "DescriptionStyleModel",
            "_view_count": null,
            "_view_module": "@jupyter-widgets/base",
            "_view_module_version": "1.2.0",
            "_view_name": "StyleView",
            "description_width": ""
          }
        },
        "99d54dfd838245329116a760c686282a": {
          "model_module": "@jupyter-widgets/base",
          "model_name": "LayoutModel",
          "model_module_version": "1.2.0",
          "state": {
            "_model_module": "@jupyter-widgets/base",
            "_model_module_version": "1.2.0",
            "_model_name": "LayoutModel",
            "_view_count": null,
            "_view_module": "@jupyter-widgets/base",
            "_view_module_version": "1.2.0",
            "_view_name": "LayoutView",
            "align_content": null,
            "align_items": null,
            "align_self": null,
            "border": null,
            "bottom": null,
            "display": null,
            "flex": null,
            "flex_flow": null,
            "grid_area": null,
            "grid_auto_columns": null,
            "grid_auto_flow": null,
            "grid_auto_rows": null,
            "grid_column": null,
            "grid_gap": null,
            "grid_row": null,
            "grid_template_areas": null,
            "grid_template_columns": null,
            "grid_template_rows": null,
            "height": null,
            "justify_content": null,
            "justify_items": null,
            "left": null,
            "margin": null,
            "max_height": null,
            "max_width": null,
            "min_height": null,
            "min_width": null,
            "object_fit": null,
            "object_position": null,
            "order": null,
            "overflow": null,
            "overflow_x": null,
            "overflow_y": null,
            "padding": null,
            "right": null,
            "top": null,
            "visibility": null,
            "width": null
          }
        },
        "518bd41cd567400b832273ecd84c37cd": {
          "model_module": "@jupyter-widgets/controls",
          "model_name": "DescriptionStyleModel",
          "model_module_version": "1.5.0",
          "state": {
            "_model_module": "@jupyter-widgets/controls",
            "_model_module_version": "1.5.0",
            "_model_name": "DescriptionStyleModel",
            "_view_count": null,
            "_view_module": "@jupyter-widgets/base",
            "_view_module_version": "1.2.0",
            "_view_name": "StyleView",
            "description_width": ""
          }
        },
        "38534ffb6b7142cb9cbbd4039581085e": {
          "model_module": "@jupyter-widgets/base",
          "model_name": "LayoutModel",
          "model_module_version": "1.2.0",
          "state": {
            "_model_module": "@jupyter-widgets/base",
            "_model_module_version": "1.2.0",
            "_model_name": "LayoutModel",
            "_view_count": null,
            "_view_module": "@jupyter-widgets/base",
            "_view_module_version": "1.2.0",
            "_view_name": "LayoutView",
            "align_content": null,
            "align_items": null,
            "align_self": null,
            "border": null,
            "bottom": null,
            "display": null,
            "flex": null,
            "flex_flow": null,
            "grid_area": null,
            "grid_auto_columns": null,
            "grid_auto_flow": null,
            "grid_auto_rows": null,
            "grid_column": null,
            "grid_gap": null,
            "grid_row": null,
            "grid_template_areas": null,
            "grid_template_columns": null,
            "grid_template_rows": null,
            "height": null,
            "justify_content": null,
            "justify_items": null,
            "left": null,
            "margin": null,
            "max_height": null,
            "max_width": null,
            "min_height": null,
            "min_width": null,
            "object_fit": null,
            "object_position": null,
            "order": null,
            "overflow": null,
            "overflow_x": null,
            "overflow_y": null,
            "padding": null,
            "right": null,
            "top": null,
            "visibility": null,
            "width": null
          }
        },
        "784386d596ce4ce3ab95bf8aeb64f020": {
          "model_module": "@jupyter-widgets/controls",
          "model_name": "DescriptionStyleModel",
          "model_module_version": "1.5.0",
          "state": {
            "_model_module": "@jupyter-widgets/controls",
            "_model_module_version": "1.5.0",
            "_model_name": "DescriptionStyleModel",
            "_view_count": null,
            "_view_module": "@jupyter-widgets/base",
            "_view_module_version": "1.2.0",
            "_view_name": "StyleView",
            "description_width": ""
          }
        },
        "925cdea08e164e0f907b60ae3c9e5368": {
          "model_module": "@jupyter-widgets/base",
          "model_name": "LayoutModel",
          "model_module_version": "1.2.0",
          "state": {
            "_model_module": "@jupyter-widgets/base",
            "_model_module_version": "1.2.0",
            "_model_name": "LayoutModel",
            "_view_count": null,
            "_view_module": "@jupyter-widgets/base",
            "_view_module_version": "1.2.0",
            "_view_name": "LayoutView",
            "align_content": null,
            "align_items": null,
            "align_self": null,
            "border": null,
            "bottom": null,
            "display": null,
            "flex": null,
            "flex_flow": null,
            "grid_area": null,
            "grid_auto_columns": null,
            "grid_auto_flow": null,
            "grid_auto_rows": null,
            "grid_column": null,
            "grid_gap": null,
            "grid_row": null,
            "grid_template_areas": null,
            "grid_template_columns": null,
            "grid_template_rows": null,
            "height": null,
            "justify_content": null,
            "justify_items": null,
            "left": null,
            "margin": null,
            "max_height": null,
            "max_width": null,
            "min_height": null,
            "min_width": null,
            "object_fit": null,
            "object_position": null,
            "order": null,
            "overflow": null,
            "overflow_x": null,
            "overflow_y": null,
            "padding": null,
            "right": null,
            "top": null,
            "visibility": null,
            "width": null
          }
        }
      }
    }
  },
  "nbformat": 4,
  "nbformat_minor": 0
}