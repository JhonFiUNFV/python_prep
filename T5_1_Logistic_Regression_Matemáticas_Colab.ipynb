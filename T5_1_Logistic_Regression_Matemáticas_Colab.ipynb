{
  "cells": [
    {
      "cell_type": "markdown",
      "metadata": {
        "id": "view-in-github",
        "colab_type": "text"
      },
      "source": [
        "<a href=\"https://colab.research.google.com/github/JhonFiUNFV/python_prep/blob/master/T5_1_Logistic_Regression_Matem%C3%A1ticas_Colab.ipynb\" target=\"_parent\"><img src=\"https://colab.research.google.com/assets/colab-badge.svg\" alt=\"Open In Colab\"/></a>"
      ]
    },
    {
      "cell_type": "markdown",
      "metadata": {
        "id": "ceeSDVl1ZyUN"
      },
      "source": [
        "<a href=\"https://colab.research.google.com/github/joanby/python-ml-course/blob/master/notebooks/T5%20-%201%20-%20Logistic%20Regression%20-%20Matemáticas-Colab.ipynb\" target=\"_parent\"><img src=\"https://colab.research.google.com/assets/colab-badge.svg\" alt=\"Open In Colab\"/></a>"
      ]
    },
    {
      "cell_type": "markdown",
      "metadata": {
        "id": "LHSKmeJYZyUP"
      },
      "source": [
        "# Clonamos el repositorio para obtener los dataSet"
      ]
    },
    {
      "cell_type": "code",
      "execution_count": null,
      "metadata": {
        "id": "jLZWdIH6ZyUQ"
      },
      "outputs": [],
      "source": [
        "!git clone https://github.com/joanby/python-ml-course.git"
      ]
    },
    {
      "cell_type": "markdown",
      "metadata": {
        "id": "ePwoTOwlZyUR"
      },
      "source": [
        "# Damos acceso a nuestro Drive"
      ]
    },
    {
      "cell_type": "code",
      "execution_count": null,
      "metadata": {
        "id": "655l86Z_ZyUR"
      },
      "outputs": [],
      "source": [
        "from google.colab import drive\n",
        "drive.mount('/content/drive')\n",
        "# Test it\n",
        "!ls '/content/drive/My Drive' "
      ]
    },
    {
      "cell_type": "code",
      "execution_count": null,
      "metadata": {
        "id": "Rh9IkoxMZyUS"
      },
      "outputs": [],
      "source": [
        "from google.colab import files # Para manejar los archivos y, por ejemplo, exportar a su navegador\n",
        "import glob # Para manejar los archivos y, por ejemplo, exportar a su navegador\n",
        "from google.colab import drive # Montar tu Google drive"
      ]
    },
    {
      "cell_type": "markdown",
      "metadata": {
        "id": "Ngf1A4T0ZyUT"
      },
      "source": [
        "# Las matemáticas tras la regresión logística"
      ]
    },
    {
      "cell_type": "markdown",
      "metadata": {
        "id": "oPdHGqwtZyUT"
      },
      "source": [
        "### Las tablas de contingencia"
      ]
    },
    {
      "cell_type": "code",
      "execution_count": null,
      "metadata": {
        "id": "gi4nwe6sZyUU"
      },
      "outputs": [],
      "source": [
        "import pandas as pd"
      ]
    },
    {
      "cell_type": "code",
      "execution_count": null,
      "metadata": {
        "id": "3I8QGEt2ZyUW",
        "outputId": "f5d0d687-f92c-4595-cc9e-1bac63f8a25f"
      },
      "outputs": [
        {
          "data": {
            "text/html": [
              "<div>\n",
              "<style scoped>\n",
              "    .dataframe tbody tr th:only-of-type {\n",
              "        vertical-align: middle;\n",
              "    }\n",
              "\n",
              "    .dataframe tbody tr th {\n",
              "        vertical-align: top;\n",
              "    }\n",
              "\n",
              "    .dataframe thead th {\n",
              "        text-align: right;\n",
              "    }\n",
              "</style>\n",
              "<table border=\"1\" class=\"dataframe\">\n",
              "  <thead>\n",
              "    <tr style=\"text-align: right;\">\n",
              "      <th></th>\n",
              "      <th>Gender</th>\n",
              "      <th>Purchase</th>\n",
              "    </tr>\n",
              "  </thead>\n",
              "  <tbody>\n",
              "    <tr>\n",
              "      <th>0</th>\n",
              "      <td>Female</td>\n",
              "      <td>Yes</td>\n",
              "    </tr>\n",
              "    <tr>\n",
              "      <th>1</th>\n",
              "      <td>Female</td>\n",
              "      <td>Yes</td>\n",
              "    </tr>\n",
              "    <tr>\n",
              "      <th>2</th>\n",
              "      <td>Female</td>\n",
              "      <td>No</td>\n",
              "    </tr>\n",
              "    <tr>\n",
              "      <th>3</th>\n",
              "      <td>Male</td>\n",
              "      <td>No</td>\n",
              "    </tr>\n",
              "    <tr>\n",
              "      <th>4</th>\n",
              "      <td>Male</td>\n",
              "      <td>Yes</td>\n",
              "    </tr>\n",
              "  </tbody>\n",
              "</table>\n",
              "</div>"
            ],
            "text/plain": [
              "   Gender Purchase\n",
              "0  Female      Yes\n",
              "1  Female      Yes\n",
              "2  Female       No\n",
              "3    Male       No\n",
              "4    Male      Yes"
            ]
          },
          "execution_count": 2,
          "metadata": {},
          "output_type": "execute_result"
        }
      ],
      "source": [
        "df = pd.read_csv(\"/content/python-ml-course/datasets/gender-purchase/Gender Purchase.csv\")\n",
        "df.head()"
      ]
    },
    {
      "cell_type": "code",
      "execution_count": null,
      "metadata": {
        "id": "rPtJ7Nt5ZyUW",
        "outputId": "0184415b-2ad6-4533-9cad-be4fadd162c6"
      },
      "outputs": [
        {
          "data": {
            "text/plain": [
              "(511, 2)"
            ]
          },
          "execution_count": 3,
          "metadata": {},
          "output_type": "execute_result"
        }
      ],
      "source": [
        "df.shape"
      ]
    },
    {
      "cell_type": "code",
      "execution_count": null,
      "metadata": {
        "id": "0k_C2aPlZyUW",
        "outputId": "d03e1d5d-dbe0-453f-b0d6-0f993ea02191"
      },
      "outputs": [
        {
          "data": {
            "text/html": [
              "<div>\n",
              "<style scoped>\n",
              "    .dataframe tbody tr th:only-of-type {\n",
              "        vertical-align: middle;\n",
              "    }\n",
              "\n",
              "    .dataframe tbody tr th {\n",
              "        vertical-align: top;\n",
              "    }\n",
              "\n",
              "    .dataframe thead th {\n",
              "        text-align: right;\n",
              "    }\n",
              "</style>\n",
              "<table border=\"1\" class=\"dataframe\">\n",
              "  <thead>\n",
              "    <tr style=\"text-align: right;\">\n",
              "      <th>Purchase</th>\n",
              "      <th>No</th>\n",
              "      <th>Yes</th>\n",
              "    </tr>\n",
              "    <tr>\n",
              "      <th>Gender</th>\n",
              "      <th></th>\n",
              "      <th></th>\n",
              "    </tr>\n",
              "  </thead>\n",
              "  <tbody>\n",
              "    <tr>\n",
              "      <th>Female</th>\n",
              "      <td>106</td>\n",
              "      <td>159</td>\n",
              "    </tr>\n",
              "    <tr>\n",
              "      <th>Male</th>\n",
              "      <td>125</td>\n",
              "      <td>121</td>\n",
              "    </tr>\n",
              "  </tbody>\n",
              "</table>\n",
              "</div>"
            ],
            "text/plain": [
              "Purchase   No  Yes\n",
              "Gender            \n",
              "Female    106  159\n",
              "Male      125  121"
            ]
          },
          "execution_count": 4,
          "metadata": {},
          "output_type": "execute_result"
        }
      ],
      "source": [
        "contingency_table = pd.crosstab(df[\"Gender\"], df[\"Purchase\"])\n",
        "contingency_table"
      ]
    },
    {
      "cell_type": "code",
      "execution_count": null,
      "metadata": {
        "id": "gl4XOyfFZyUX",
        "outputId": "78e5b135-a28b-433c-997f-c91ba74ffa08"
      },
      "outputs": [
        {
          "data": {
            "text/plain": [
              "Gender\n",
              "Female    265\n",
              "Male      246\n",
              "dtype: int64"
            ]
          },
          "execution_count": 5,
          "metadata": {},
          "output_type": "execute_result"
        }
      ],
      "source": [
        "contingency_table.sum(axis = 1)"
      ]
    },
    {
      "cell_type": "code",
      "execution_count": null,
      "metadata": {
        "id": "9ZrZPLf8ZyUX",
        "outputId": "a14ff62a-5457-4f8c-9353-deb24e568cab"
      },
      "outputs": [
        {
          "data": {
            "text/plain": [
              "Purchase\n",
              "No     231\n",
              "Yes    280\n",
              "dtype: int64"
            ]
          },
          "execution_count": 6,
          "metadata": {},
          "output_type": "execute_result"
        }
      ],
      "source": [
        "contingency_table.sum(axis = 0)"
      ]
    },
    {
      "cell_type": "code",
      "execution_count": null,
      "metadata": {
        "id": "ScWUu6_PZyUY",
        "outputId": "f30c79f6-f94c-43f6-9044-c3ce9a4c4fb0"
      },
      "outputs": [
        {
          "data": {
            "text/html": [
              "<div>\n",
              "<style scoped>\n",
              "    .dataframe tbody tr th:only-of-type {\n",
              "        vertical-align: middle;\n",
              "    }\n",
              "\n",
              "    .dataframe tbody tr th {\n",
              "        vertical-align: top;\n",
              "    }\n",
              "\n",
              "    .dataframe thead th {\n",
              "        text-align: right;\n",
              "    }\n",
              "</style>\n",
              "<table border=\"1\" class=\"dataframe\">\n",
              "  <thead>\n",
              "    <tr style=\"text-align: right;\">\n",
              "      <th>Purchase</th>\n",
              "      <th>No</th>\n",
              "      <th>Yes</th>\n",
              "    </tr>\n",
              "    <tr>\n",
              "      <th>Gender</th>\n",
              "      <th></th>\n",
              "      <th></th>\n",
              "    </tr>\n",
              "  </thead>\n",
              "  <tbody>\n",
              "    <tr>\n",
              "      <th>Female</th>\n",
              "      <td>0.40000</td>\n",
              "      <td>0.60000</td>\n",
              "    </tr>\n",
              "    <tr>\n",
              "      <th>Male</th>\n",
              "      <td>0.50813</td>\n",
              "      <td>0.49187</td>\n",
              "    </tr>\n",
              "  </tbody>\n",
              "</table>\n",
              "</div>"
            ],
            "text/plain": [
              "Purchase       No      Yes\n",
              "Gender                    \n",
              "Female    0.40000  0.60000\n",
              "Male      0.50813  0.49187"
            ]
          },
          "execution_count": 7,
          "metadata": {},
          "output_type": "execute_result"
        }
      ],
      "source": [
        "contingency_table.astype(\"float\").div(contingency_table.sum(axis=1), axis = 0)"
      ]
    },
    {
      "cell_type": "markdown",
      "metadata": {
        "id": "bibJ5Bt1ZyUY"
      },
      "source": [
        "### La probabilidad condicional"
      ]
    },
    {
      "cell_type": "code",
      "execution_count": null,
      "metadata": {
        "id": "KwBHAf8fZyUa"
      },
      "outputs": [],
      "source": [
        "from IPython.display import display, Math, Latex"
      ]
    },
    {
      "cell_type": "markdown",
      "metadata": {
        "id": "ffLlKhPxZyUa"
      },
      "source": [
        "* ¿Cuál es la probabilidad de que un cliente compre un producto sabiendo que es un hombre?\n",
        "* ¿Cuál es la probabilidad de que sabiendo que un cliente compra un producto sea mujer?"
      ]
    },
    {
      "cell_type": "code",
      "execution_count": null,
      "metadata": {
        "id": "NruNeVh2ZyUb",
        "outputId": "a71c3d35-a669-4b28-90bd-65bf394c1f90"
      },
      "outputs": [
        {
          "data": {
            "text/latex": [
              "$\\displaystyle P(Purchase|Male) = \\frac{Numero\\ total\\ de\\ compras\\ hechas\\ por\\ hombres}{Numero\\ total\\ de\\ hombres\\ del\\ grupo} = \\frac{Purchase\\cap Male}{Male}$"
            ],
            "text/plain": [
              "<IPython.core.display.Math object>"
            ]
          },
          "metadata": {},
          "output_type": "display_data"
        },
        {
          "data": {
            "text/plain": [
              "0.491869918699187"
            ]
          },
          "execution_count": 9,
          "metadata": {},
          "output_type": "execute_result"
        }
      ],
      "source": [
        "display(Math(r'P(Purchase|Male) = \\frac{Numero\\ total\\ de\\ compras\\ hechas\\ por\\ hombres}{Numero\\ total\\ de\\ hombres\\ del\\ grupo} = \\frac{Purchase\\cap Male}{Male}'))\n",
        "121/246"
      ]
    },
    {
      "cell_type": "code",
      "execution_count": null,
      "metadata": {
        "id": "51riv2imZyUb",
        "outputId": "9bd974f4-8c0e-4c86-b540-6b86536cd38a"
      },
      "outputs": [
        {
          "data": {
            "text/latex": [
              "$\\displaystyle P(No\\ Purchase|Male) = 1-P(Purchase|Male)$"
            ],
            "text/plain": [
              "<IPython.core.display.Math object>"
            ]
          },
          "metadata": {},
          "output_type": "display_data"
        },
        {
          "data": {
            "text/plain": [
              "0.508130081300813"
            ]
          },
          "execution_count": 10,
          "metadata": {},
          "output_type": "execute_result"
        }
      ],
      "source": [
        "display(Math(r'P(No\\ Purchase|Male) = 1-P(Purchase|Male)'))\n",
        "125/246"
      ]
    },
    {
      "cell_type": "code",
      "execution_count": null,
      "metadata": {
        "id": "g0_vaCysZyUb",
        "outputId": "4e9b0c90-9a41-4795-d33b-943abbea88b2"
      },
      "outputs": [
        {
          "data": {
            "text/latex": [
              "$\\displaystyle P(Female|Purchase) = \\frac{Numero\\ total\\ de\\ compras\\ hechas\\ por\\ mujeres}{Numero\\ total\\ de\\ compras} = \\frac{Female\\cap Purchase}{Purchase}$"
            ],
            "text/plain": [
              "<IPython.core.display.Math object>"
            ]
          },
          "metadata": {},
          "output_type": "display_data"
        },
        {
          "data": {
            "text/plain": [
              "0.5678571428571428"
            ]
          },
          "execution_count": 11,
          "metadata": {},
          "output_type": "execute_result"
        }
      ],
      "source": [
        "display(Math(r'P(Female|Purchase) = \\frac{Numero\\ total\\ de\\ compras\\ hechas\\ por\\ mujeres}{Numero\\ total\\ de\\ compras} = \\frac{Female\\cap Purchase}{Purchase}'))\n",
        "159/280"
      ]
    },
    {
      "cell_type": "code",
      "execution_count": null,
      "metadata": {
        "id": "zdxUr3CcZyUb",
        "outputId": "f22341c9-df3c-4241-b78f-edf10b64d20c"
      },
      "outputs": [
        {
          "data": {
            "text/latex": [
              "$\\displaystyle P(Male|Purchase)$"
            ],
            "text/plain": [
              "<IPython.core.display.Math object>"
            ]
          },
          "metadata": {},
          "output_type": "display_data"
        },
        {
          "data": {
            "text/plain": [
              "0.43214285714285716"
            ]
          },
          "execution_count": 12,
          "metadata": {},
          "output_type": "execute_result"
        }
      ],
      "source": [
        "display(Math(r'P(Male|Purchase)'))\n",
        "121/280"
      ]
    },
    {
      "cell_type": "code",
      "execution_count": null,
      "metadata": {
        "id": "cCGQxVvuZyUc",
        "outputId": "247a3d9c-2f83-4042-c737-2304aa5300d8"
      },
      "outputs": [
        {
          "data": {
            "text/latex": [
              "$\\displaystyle P(Purchase|Male)$"
            ],
            "text/plain": [
              "<IPython.core.display.Math object>"
            ]
          },
          "metadata": {},
          "output_type": "display_data"
        },
        {
          "name": "stdout",
          "output_type": "stream",
          "text": [
            "0.491869918699187\n"
          ]
        },
        {
          "data": {
            "text/latex": [
              "$\\displaystyle P(NO\\ Purchase|Male)$"
            ],
            "text/plain": [
              "<IPython.core.display.Math object>"
            ]
          },
          "metadata": {},
          "output_type": "display_data"
        },
        {
          "name": "stdout",
          "output_type": "stream",
          "text": [
            "0.508130081300813\n"
          ]
        },
        {
          "data": {
            "text/latex": [
              "$\\displaystyle P(Purchase|Female)$"
            ],
            "text/plain": [
              "<IPython.core.display.Math object>"
            ]
          },
          "metadata": {},
          "output_type": "display_data"
        },
        {
          "name": "stdout",
          "output_type": "stream",
          "text": [
            "0.6\n"
          ]
        },
        {
          "data": {
            "text/latex": [
              "$\\displaystyle P(NO\\ Purchase|Female)$"
            ],
            "text/plain": [
              "<IPython.core.display.Math object>"
            ]
          },
          "metadata": {},
          "output_type": "display_data"
        },
        {
          "name": "stdout",
          "output_type": "stream",
          "text": [
            "0.4\n"
          ]
        }
      ],
      "source": [
        "display(Math(r'P(Purchase|Male)'))\n",
        "print(121/246)\n",
        "display(Math(r'P(NO\\ Purchase|Male)'))\n",
        "print(125/246)\n",
        "display(Math(r'P(Purchase|Female)'))\n",
        "print(159/265)\n",
        "display(Math(r'P(NO\\ Purchase|Female)'))\n",
        "print(106/265)"
      ]
    },
    {
      "cell_type": "markdown",
      "metadata": {
        "id": "A8jGJCimZyUc"
      },
      "source": [
        "### Ratio de probabilidades\n",
        "Cociente entre los casos de éxito sobre los de fracaso en el suceso estudiado y para cada grupo"
      ]
    },
    {
      "cell_type": "code",
      "execution_count": null,
      "metadata": {
        "id": "UcYTa4cZZyUd",
        "outputId": "807f95d7-f5c0-4684-c901-78e796532725"
      },
      "outputs": [
        {
          "data": {
            "text/latex": [
              "$\\displaystyle P_m = \\ probabilidad\\ de\\ hacer\\ compra\\ sabiendo\\ que\\ es \\ un \\ hombre$"
            ],
            "text/plain": [
              "<IPython.core.display.Math object>"
            ]
          },
          "metadata": {},
          "output_type": "display_data"
        },
        {
          "data": {
            "text/latex": [
              "$\\displaystyle P_f = \\ probabilidad\\ de\\ hacer\\ compra\\ sabiendo\\ que\\ es \\ una\\ mujer$"
            ],
            "text/plain": [
              "<IPython.core.display.Math object>"
            ]
          },
          "metadata": {},
          "output_type": "display_data"
        },
        {
          "data": {
            "text/latex": [
              "$\\displaystyle odds\\in[0,+\\infty]$"
            ],
            "text/plain": [
              "<IPython.core.display.Math object>"
            ]
          },
          "metadata": {},
          "output_type": "display_data"
        },
        {
          "data": {
            "text/latex": [
              "$\\displaystyle odds_{purchase,male} = \\frac{P_m}{1-P_m} = \\frac{N_{p,m}}{N_{\\bar p, m}}$"
            ],
            "text/plain": [
              "<IPython.core.display.Math object>"
            ]
          },
          "metadata": {},
          "output_type": "display_data"
        },
        {
          "data": {
            "text/latex": [
              "$\\displaystyle odds_{purchase,female} = \\frac{P_F}{1-P_F} = \\frac{N_{p,f}}{N_{\\bar p, f}}$"
            ],
            "text/plain": [
              "<IPython.core.display.Math object>"
            ]
          },
          "metadata": {},
          "output_type": "display_data"
        }
      ],
      "source": [
        "display(Math(r'P_m = \\ probabilidad\\ de\\ hacer\\ compra\\ sabiendo\\ que\\ es \\ un \\ hombre'))\n",
        "\n",
        "display(Math(r'P_f = \\ probabilidad\\ de\\ hacer\\ compra\\ sabiendo\\ que\\ es \\ una\\ mujer'))\n",
        "\n",
        "display(Math(r'odds\\in[0,+\\infty]'))\n",
        "\n",
        "display(Math(r'odds_{purchase,male} = \\frac{P_m}{1-P_m} = \\frac{N_{p,m}}{N_{\\bar p, m}}'))\n",
        "\n",
        "display(Math(r'odds_{purchase,female} = \\frac{P_F}{1-P_F} = \\frac{N_{p,f}}{N_{\\bar p, f}}'))"
      ]
    },
    {
      "cell_type": "code",
      "execution_count": null,
      "metadata": {
        "id": "0kqTbWaIZyUd"
      },
      "outputs": [],
      "source": [
        "pm = 121/246\n",
        "pf = 159/265\n",
        "odds_m = pm/(1-pm)# 121/125\n",
        "odds_f = pf/(1-pf)# 159/106"
      ]
    },
    {
      "cell_type": "code",
      "execution_count": null,
      "metadata": {
        "id": "1hT2NoWeZyUd",
        "outputId": "73b9f5e2-489e-4ba9-c9b0-1c3c9c321fb2"
      },
      "outputs": [
        {
          "data": {
            "text/plain": [
              "0.9680000000000002"
            ]
          },
          "execution_count": 16,
          "metadata": {},
          "output_type": "execute_result"
        }
      ],
      "source": [
        "odds_m"
      ]
    },
    {
      "cell_type": "code",
      "execution_count": null,
      "metadata": {
        "id": "_GUapm4IZyUd",
        "outputId": "718709f6-395b-4ccd-c806-6aa3543e91ee"
      },
      "outputs": [
        {
          "data": {
            "text/plain": [
              "1.4999999999999998"
            ]
          },
          "execution_count": 17,
          "metadata": {},
          "output_type": "execute_result"
        }
      ],
      "source": [
        "odds_f"
      ]
    },
    {
      "cell_type": "markdown",
      "metadata": {
        "id": "lffm-Yd1ZyUe"
      },
      "source": [
        "* Si el ratio es superior a 1, es más probable el éxito que el fracas. Cuanto mayor es el ratio, más probabilidad de éxito en nuestro suceso.\n",
        "* Si el ratio es exactamente igual a 1, éxito y fracaso son equiprobables (p=0.5)\n",
        "* Si el ratio es menor que 1, el fracaso es más probable que el éxito. Cuanto menor es el ratio, menor es la probabilidad de éxito del suceso."
      ]
    },
    {
      "cell_type": "code",
      "execution_count": null,
      "metadata": {
        "id": "vqEOGddMZyUe",
        "outputId": "b41d6dec-de0a-4082-8a92-d5d0a5e88128"
      },
      "outputs": [
        {
          "data": {
            "text/latex": [
              "$\\displaystyle odds_{ratio} = \\frac{odds_{purchase,male}}{odds_{purchase,female}}$"
            ],
            "text/plain": [
              "<IPython.core.display.Math object>"
            ]
          },
          "metadata": {},
          "output_type": "display_data"
        }
      ],
      "source": [
        "display(Math(r'odds_{ratio} = \\frac{odds_{purchase,male}}{odds_{purchase,female}}'))"
      ]
    },
    {
      "cell_type": "code",
      "execution_count": null,
      "metadata": {
        "id": "REKvpsBmZyUe"
      },
      "outputs": [],
      "source": [
        "odds_r = odds_m/odds_f"
      ]
    },
    {
      "cell_type": "code",
      "execution_count": null,
      "metadata": {
        "id": "-N3gIW_XZyUf",
        "outputId": "5f574379-7275-4bcc-a57e-50d6eeb3b415"
      },
      "outputs": [
        {
          "data": {
            "text/plain": [
              "0.6453333333333335"
            ]
          },
          "execution_count": 20,
          "metadata": {},
          "output_type": "execute_result"
        }
      ],
      "source": [
        "odds_r"
      ]
    },
    {
      "cell_type": "code",
      "execution_count": null,
      "metadata": {
        "id": "cCJMpGyRZyUf",
        "outputId": "54ecc309-87a6-4c67-9c94-f2255f1efae6"
      },
      "outputs": [
        {
          "data": {
            "text/plain": [
              "1.5495867768595037"
            ]
          },
          "execution_count": 21,
          "metadata": {},
          "output_type": "execute_result"
        }
      ],
      "source": [
        "1/odds_r# odds_f/odds_m"
      ]
    },
    {
      "cell_type": "markdown",
      "metadata": {
        "id": "qLbFkrAPZyUf"
      },
      "source": [
        "### La regresión logística desde la regresión lineal"
      ]
    },
    {
      "cell_type": "code",
      "execution_count": null,
      "metadata": {
        "id": "0t3_XChFZyUg",
        "outputId": "80d973ec-6f7d-4f8b-d685-ab71eb21ab51"
      },
      "outputs": [
        {
          "data": {
            "text/latex": [
              "$\\displaystyle y = \\alpha + \\beta \\cdot x$"
            ],
            "text/plain": [
              "<IPython.core.display.Math object>"
            ]
          },
          "metadata": {},
          "output_type": "display_data"
        },
        {
          "data": {
            "text/latex": [
              "$\\displaystyle (x,y)\\in[-\\infty, +\\infty]^2$"
            ],
            "text/plain": [
              "<IPython.core.display.Math object>"
            ]
          },
          "metadata": {},
          "output_type": "display_data"
        }
      ],
      "source": [
        "display(Math(r'y = \\alpha + \\beta \\cdot x'))\n",
        "display(Math(r'(x,y)\\in[-\\infty, +\\infty]^2'))"
      ]
    },
    {
      "cell_type": "code",
      "execution_count": null,
      "metadata": {
        "id": "IzpSydjvZyUg",
        "outputId": "abfa69d6-574e-405a-8fba-797817084447"
      },
      "outputs": [
        {
          "data": {
            "text/latex": [
              "$\\displaystyle Y\\in\\{0,1\\}??$"
            ],
            "text/plain": [
              "<IPython.core.display.Math object>"
            ]
          },
          "metadata": {},
          "output_type": "display_data"
        },
        {
          "data": {
            "text/latex": [
              "$\\displaystyle P\\in [0,1]$"
            ],
            "text/plain": [
              "<IPython.core.display.Math object>"
            ]
          },
          "metadata": {},
          "output_type": "display_data"
        },
        {
          "data": {
            "text/latex": [
              "$\\displaystyle X\\in [-\\infty,\\infty]$"
            ],
            "text/plain": [
              "<IPython.core.display.Math object>"
            ]
          },
          "metadata": {},
          "output_type": "display_data"
        },
        {
          "data": {
            "text/latex": [
              "$\\displaystyle P = \\alpha + \\beta\\cdot X$"
            ],
            "text/plain": [
              "<IPython.core.display.Math object>"
            ]
          },
          "metadata": {},
          "output_type": "display_data"
        }
      ],
      "source": [
        "display(Math(r'Y\\in\\{0,1\\}??'))\n",
        "display(Math(r'P\\in [0,1]'))\n",
        "display(Math(r'X\\in [-\\infty,\\infty]'))\n",
        "\n",
        "display(Math(r'P = \\alpha + \\beta\\cdot X'))"
      ]
    },
    {
      "cell_type": "markdown",
      "metadata": {
        "id": "G3eKZXtLZyUg"
      },
      "source": [
        "P es la probabilidad condicionada de éxito o de fracaso condicionada a la presencia de la variable X"
      ]
    },
    {
      "cell_type": "code",
      "execution_count": null,
      "metadata": {
        "id": "hTTlSlAeZyUh",
        "outputId": "8c633be5-c602-4c6f-f509-f23347af0d88"
      },
      "outputs": [
        {
          "data": {
            "text/latex": [
              "$\\displaystyle \\frac{P}{1-P} = \\alpha + \\beta\\cdot X\\in [0,+\\infty]$"
            ],
            "text/plain": [
              "<IPython.core.display.Math object>"
            ]
          },
          "metadata": {},
          "output_type": "display_data"
        }
      ],
      "source": [
        "display(Math(r'\\frac{P}{1-P} = \\alpha + \\beta\\cdot X\\in [0,+\\infty]'))"
      ]
    },
    {
      "cell_type": "code",
      "execution_count": null,
      "metadata": {
        "id": "MEL5HTjWZyUh",
        "outputId": "0f5569cf-1915-400b-c772-7609aa21ade3"
      },
      "outputs": [
        {
          "data": {
            "text/latex": [
              "$\\displaystyle  ln(\\frac{P}{1-P}) = \\alpha + \\beta\\cdot X$"
            ],
            "text/plain": [
              "<IPython.core.display.Math object>"
            ]
          },
          "metadata": {},
          "output_type": "display_data"
        }
      ],
      "source": [
        "display(Math(r' ln(\\frac{P}{1-P}) = \\alpha + \\beta\\cdot X'))"
      ]
    },
    {
      "cell_type": "code",
      "execution_count": null,
      "metadata": {
        "id": "MI80Gt7dZyUi",
        "outputId": "ff818ce2-3e4b-493e-849d-d74243a153b0"
      },
      "outputs": [
        {
          "data": {
            "text/latex": [
              "$\\displaystyle \\begin{cases}\\frac{P}{1-P}\\in[0,1]\\Rightarrow ln(\\frac{P}{1-P})\\in[-\\infty,0]\\\\ \\frac{P}{1-P}\\in[1,+\\infty]\\Rightarrow ln(\\frac{P}{1-P})\\in[0, \\infty]\\end{cases}$"
            ],
            "text/plain": [
              "<IPython.core.display.Math object>"
            ]
          },
          "metadata": {},
          "output_type": "display_data"
        }
      ],
      "source": [
        "display(Math(r'\\begin{cases}\\frac{P}{1-P}\\in[0,1]\\Rightarrow ln(\\frac{P}{1-P})\\in[-\\infty,0]\\\\ \\frac{P}{1-P}\\in[1,+\\infty]\\Rightarrow ln(\\frac{P}{1-P})\\in[0, \\infty]\\end{cases}'))"
      ]
    },
    {
      "cell_type": "code",
      "execution_count": null,
      "metadata": {
        "id": "xEIRjotUZyUi",
        "outputId": "b70548e9-0939-47e3-c02d-7f77e88da9be"
      },
      "outputs": [
        {
          "data": {
            "text/latex": [
              "$\\displaystyle  ln(\\frac{P}{1-P}) = \\alpha + \\beta\\cdot X$"
            ],
            "text/plain": [
              "<IPython.core.display.Math object>"
            ]
          },
          "metadata": {},
          "output_type": "display_data"
        },
        {
          "data": {
            "text/latex": [
              "$\\displaystyle  \\frac{P}{1-P} = e^{\\alpha + \\beta\\cdot X}$"
            ],
            "text/plain": [
              "<IPython.core.display.Math object>"
            ]
          },
          "metadata": {},
          "output_type": "display_data"
        },
        {
          "data": {
            "text/latex": [
              "$\\displaystyle  P = \\frac{e^{\\alpha+\\beta\\cdot X}}{1+e^{\\alpha+\\beta\\cdot X}}$"
            ],
            "text/plain": [
              "<IPython.core.display.Math object>"
            ]
          },
          "metadata": {},
          "output_type": "display_data"
        },
        {
          "data": {
            "text/latex": [
              "$\\displaystyle  P = \\frac{1}{1+e^{-(\\alpha+\\beta\\cdot X)}}$"
            ],
            "text/plain": [
              "<IPython.core.display.Math object>"
            ]
          },
          "metadata": {},
          "output_type": "display_data"
        }
      ],
      "source": [
        "display(Math(r' ln(\\frac{P}{1-P}) = \\alpha + \\beta\\cdot X'))\n",
        "display(Math(r' \\frac{P}{1-P} = e^{\\alpha + \\beta\\cdot X}'))\n",
        "display(Math(r' P = \\frac{e^{\\alpha+\\beta\\cdot X}}{1+e^{\\alpha+\\beta\\cdot X}}'))\n",
        "display(Math(r' P = \\frac{1}{1+e^{-(\\alpha+\\beta\\cdot X)}}'))"
      ]
    },
    {
      "cell_type": "markdown",
      "metadata": {
        "id": "RrTrdV3vZyUj"
      },
      "source": [
        "* Si a+bX es muy pequeño (negativo), entonces P tiende a 0\n",
        "* Si a+bX = 0, P = 0.5\n",
        "* Si a+bX es muy grande (positivo), entonces P tiende a 1"
      ]
    },
    {
      "cell_type": "markdown",
      "metadata": {
        "id": "OpEwHeU_ZyUj"
      },
      "source": [
        "### Regresión logística múltiple"
      ]
    },
    {
      "cell_type": "code",
      "execution_count": null,
      "metadata": {
        "id": "y9-uV5klZyUj",
        "outputId": "49e6648b-e8e8-487d-dd0f-362270ef5e9c"
      },
      "outputs": [
        {
          "data": {
            "text/latex": [
              "$\\displaystyle  P = \\frac{1}{1+e^{-(\\alpha+\\sum_{i=1}^n\\beta_i\\cdot x_i)}}$"
            ],
            "text/plain": [
              "<IPython.core.display.Math object>"
            ]
          },
          "metadata": {},
          "output_type": "display_data"
        }
      ],
      "source": [
        "display(Math(r' P = \\frac{1}{1+e^{-(\\alpha+\\sum_{i=1}^n\\beta_i\\cdot x_i)}}'))"
      ]
    },
    {
      "cell_type": "code",
      "execution_count": null,
      "metadata": {
        "id": "YzkVYO8kZyUj",
        "outputId": "3d13da52-65b1-41cd-e20e-fcf5a6d17475"
      },
      "outputs": [
        {
          "data": {
            "text/latex": [
              "$\\displaystyle  \\vec{\\beta} = (\\beta_1,\\beta_2,\\cdots,\\beta_n)$"
            ],
            "text/plain": [
              "<IPython.core.display.Math object>"
            ]
          },
          "metadata": {},
          "output_type": "display_data"
        },
        {
          "data": {
            "text/latex": [
              "$\\displaystyle  \\vec{X} = (x_1,x_2,\\cdots,x_n)$"
            ],
            "text/plain": [
              "<IPython.core.display.Math object>"
            ]
          },
          "metadata": {},
          "output_type": "display_data"
        },
        {
          "data": {
            "text/latex": [
              "$\\displaystyle  P = \\frac{1}{1+e^{-(\\alpha+\\vec{\\beta_i}\\cdot \\vec{X})}}$"
            ],
            "text/plain": [
              "<IPython.core.display.Math object>"
            ]
          },
          "metadata": {},
          "output_type": "display_data"
        }
      ],
      "source": [
        "display(Math(r' \\vec{\\beta} = (\\beta_1,\\beta_2,\\cdots,\\beta_n)'))\n",
        "display(Math(r' \\vec{X} = (x_1,x_2,\\cdots,x_n)'))\n",
        "display(Math(r' P = \\frac{1}{1+e^{-(\\alpha+\\vec{\\beta_i}\\cdot \\vec{X})}}'))"
      ]
    }
  ],
  "metadata": {
    "kernelspec": {
      "display_name": "Python 3",
      "language": "python",
      "name": "python3"
    },
    "language_info": {
      "codemirror_mode": {
        "name": "ipython",
        "version": 3
      },
      "file_extension": ".py",
      "mimetype": "text/x-python",
      "name": "python",
      "nbconvert_exporter": "python",
      "pygments_lexer": "ipython3",
      "version": "3.8.5"
    },
    "colab": {
      "name": "T5 - 1 - Logistic Regression - Matemáticas-Colab.ipynb",
      "provenance": [],
      "include_colab_link": true
    }
  },
  "nbformat": 4,
  "nbformat_minor": 0
}