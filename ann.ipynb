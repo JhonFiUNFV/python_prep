{
  "nbformat": 4,
  "nbformat_minor": 0,
  "metadata": {
    "colab": {
      "name": "ann.ipynb",
      "provenance": [],
      "collapsed_sections": [],
      "include_colab_link": true
    },
    "kernelspec": {
      "display_name": "Python 3",
      "language": "python",
      "name": "python3"
    },
    "language_info": {
      "codemirror_mode": {
        "name": "ipython",
        "version": 3
      },
      "file_extension": ".py",
      "mimetype": "text/x-python",
      "name": "python",
      "nbconvert_exporter": "python",
      "pygments_lexer": "ipython3",
      "version": "3.8.3"
    },
    "accelerator": "GPU"
  },
  "cells": [
    {
      "cell_type": "markdown",
      "metadata": {
        "id": "view-in-github",
        "colab_type": "text"
      },
      "source": [
        "<a href=\"https://colab.research.google.com/github/JhonFiUNFV/python_prep/blob/master/ann.ipynb\" target=\"_parent\"><img src=\"https://colab.research.google.com/assets/colab-badge.svg\" alt=\"Open In Colab\"/></a>"
      ]
    },
    {
      "cell_type": "markdown",
      "metadata": {
        "id": "KdUFcDsdzRyw"
      },
      "source": [
        "# Clonamos el repositorio para obtener los dataSet"
      ]
    },
    {
      "cell_type": "code",
      "metadata": {
        "id": "mHReFf3_y9ms",
        "colab": {
          "base_uri": "https://localhost:8080/"
        },
        "outputId": "38ea55bd-28d4-4c27-be66-f20e8227674f"
      },
      "source": [
        "!git clone https://github.com/joanby/deeplearning-az.git"
      ],
      "execution_count": 1,
      "outputs": [
        {
          "output_type": "stream",
          "name": "stdout",
          "text": [
            "Cloning into 'deeplearning-az'...\n",
            "remote: Enumerating objects: 10196, done.\u001b[K\n",
            "remote: Counting objects: 100% (100/100), done.\u001b[K\n",
            "remote: Compressing objects: 100% (60/60), done.\u001b[K\n",
            "remote: Total 10196 (delta 52), reused 78 (delta 40), pack-reused 10096\u001b[K\n",
            "Receiving objects: 100% (10196/10196), 281.16 MiB | 28.84 MiB/s, done.\n",
            "Resolving deltas: 100% (77/77), done.\n",
            "Checking out files: 100% (10119/10119), done.\n"
          ]
        }
      ]
    },
    {
      "cell_type": "markdown",
      "metadata": {
        "id": "vNKZXgtKzU2x"
      },
      "source": [
        "# Damos acceso a nuestro Drive"
      ]
    },
    {
      "cell_type": "code",
      "metadata": {
        "id": "5gu7KWnzzUQ0",
        "colab": {
          "base_uri": "https://localhost:8080/"
        },
        "outputId": "1ddb20a6-43be-482b-cae8-da860057aabc"
      },
      "source": [
        "from google.colab import drive\n",
        "drive.mount('/content/drive')"
      ],
      "execution_count": 2,
      "outputs": [
        {
          "output_type": "stream",
          "name": "stdout",
          "text": [
            "Mounted at /content/drive\n"
          ]
        }
      ]
    },
    {
      "cell_type": "markdown",
      "metadata": {
        "id": "1gUxIkHWzfHV"
      },
      "source": [
        "# Test it"
      ]
    },
    {
      "cell_type": "code",
      "metadata": {
        "id": "mIQt3jBMzYRE",
        "colab": {
          "base_uri": "https://localhost:8080/"
        },
        "outputId": "97b5db0a-1a43-459d-c52c-4dc34f6315c2"
      },
      "source": [
        "!ls '/content/drive/My Drive' "
      ],
      "execution_count": 3,
      "outputs": [
        {
          "output_type": "stream",
          "name": "stdout",
          "text": [
            "'2. Intermedio'\n",
            " Canva\n",
            "'CFA - LEVEL II - TANDEM FINANCE'\n",
            " Classroom\n",
            "'Colab Notebooks'\n",
            " constancia_empleo3.pdf\n",
            " Curso_Proyectos_InviertePE\n",
            " Data\n",
            "'Data (1).xlsx'\n",
            " Data.gsheet\n",
            " Data.xlsx\n",
            " deeplearning-az\n",
            " GRUPOS_PY.gsheet\n",
            "'informe5 (1).gsheet'\n",
            " informe5.gsheet\n",
            "'Investigación UX - JHON VIDAL FIGUEROA CÉSPEDES.gsheet'\n",
            "'JHON VIDAL FIGUEROA CÉSPEDES.pdf'\n",
            " LeWagon\n",
            " machinelearning-az\n",
            " Master.xlsx\n",
            " ModuloII_FundamentosdeMachineLearning\n",
            " ModuloIV_ManejodeBasedeDatos\n",
            " Operacionalización_tesis.gsheet\n",
            " ProgramadeEspecializacionenDataScience\n",
            " PROYECTO_CONSTRUCCION.docx\n",
            "'PROYECTO GRUPO 01.pptx'\n",
            " python-ml\n",
            "'QUANT 2021'\n",
            " rar\n",
            "'SEMINARIO DE ADM DE RIESGO EN BANCA'\n",
            "'Sesión 2-20220320T150758Z-001.zip'\n",
            " tensorflow\n",
            "'Teoria Económica y Finanzas'\n",
            "'TESIS JHON FIGUEROA'\n",
            " Worksheet.xlsx\n"
          ]
        }
      ]
    },
    {
      "cell_type": "markdown",
      "metadata": {
        "id": "mHsK36uN0XB-"
      },
      "source": [
        "# Google colab tools"
      ]
    },
    {
      "cell_type": "code",
      "metadata": {
        "id": "kTzwfUPWzrm4"
      },
      "source": [
        "from google.colab import files # Para manejar los archivos y, por ejemplo, exportar a su navegador\n",
        "import glob # Para manejar los archivos y, por ejemplo, exportar a su navegador\n",
        "from google.colab import drive # Montar tu Google drive"
      ],
      "execution_count": 4,
      "outputs": []
    },
    {
      "cell_type": "markdown",
      "metadata": {
        "id": "uab9OAbV8hYN"
      },
      "source": [
        "# Instalar dependendias"
      ]
    },
    {
      "cell_type": "code",
      "metadata": {
        "id": "qukjDgj98kE4",
        "colab": {
          "base_uri": "https://localhost:8080/"
        },
        "outputId": "c9c8d460-cc57-4001-8b9e-9e9891f98c17"
      },
      "source": [
        "!pip install sklearn"
      ],
      "execution_count": 5,
      "outputs": [
        {
          "output_type": "stream",
          "name": "stdout",
          "text": [
            "Looking in indexes: https://pypi.org/simple, https://us-python.pkg.dev/colab-wheels/public/simple/\n",
            "Requirement already satisfied: sklearn in /usr/local/lib/python3.7/dist-packages (0.0)\n",
            "Requirement already satisfied: scikit-learn in /usr/local/lib/python3.7/dist-packages (from sklearn) (1.0.2)\n",
            "Requirement already satisfied: joblib>=0.11 in /usr/local/lib/python3.7/dist-packages (from scikit-learn->sklearn) (1.1.0)\n",
            "Requirement already satisfied: numpy>=1.14.6 in /usr/local/lib/python3.7/dist-packages (from scikit-learn->sklearn) (1.21.6)\n",
            "Requirement already satisfied: threadpoolctl>=2.0.0 in /usr/local/lib/python3.7/dist-packages (from scikit-learn->sklearn) (3.1.0)\n",
            "Requirement already satisfied: scipy>=1.1.0 in /usr/local/lib/python3.7/dist-packages (from scikit-learn->sklearn) (1.4.1)\n"
          ]
        }
      ]
    },
    {
      "cell_type": "markdown",
      "metadata": {
        "id": "4_lCXxqObOEc"
      },
      "source": [
        "# Instalar Theano"
      ]
    },
    {
      "cell_type": "code",
      "metadata": {
        "id": "ZuKBi9yzbOEd",
        "colab": {
          "base_uri": "https://localhost:8080/"
        },
        "outputId": "c16c049b-e602-437a-ced8-d3755f5adc2e"
      },
      "source": [
        "!pip install --upgrade --no-deps git+git://github.com/Theano/Theano.git"
      ],
      "execution_count": 6,
      "outputs": [
        {
          "output_type": "stream",
          "name": "stdout",
          "text": [
            "Looking in indexes: https://pypi.org/simple, https://us-python.pkg.dev/colab-wheels/public/simple/\n",
            "Collecting git+git://github.com/Theano/Theano.git\n",
            "  Cloning git://github.com/Theano/Theano.git to /tmp/pip-req-build-06cu4601\n",
            "  Running command git clone -q git://github.com/Theano/Theano.git /tmp/pip-req-build-06cu4601\n",
            "  fatal: unable to connect to github.com:\n",
            "  github.com[0: 140.82.113.3]: errno=Connection timed out\n",
            "\n",
            "\u001b[33mWARNING: Discarding git+git://github.com/Theano/Theano.git. Command errored out with exit status 128: git clone -q git://github.com/Theano/Theano.git /tmp/pip-req-build-06cu4601 Check the logs for full command output.\u001b[0m\n",
            "\u001b[31mERROR: Command errored out with exit status 128: git clone -q git://github.com/Theano/Theano.git /tmp/pip-req-build-06cu4601 Check the logs for full command output.\u001b[0m\n"
          ]
        }
      ]
    },
    {
      "cell_type": "markdown",
      "metadata": {
        "id": "JQVWgYPgbOEg"
      },
      "source": [
        "# Instalar Tensorflow y Keras\n"
      ]
    },
    {
      "cell_type": "code",
      "metadata": {
        "id": "lQlELtH5bOEg",
        "colab": {
          "base_uri": "https://localhost:8080/"
        },
        "outputId": "578521f8-fed0-4892-8799-604d2437d91b"
      },
      "source": [
        "!pip install keras\n",
        "!pip install tensorflow"
      ],
      "execution_count": 7,
      "outputs": [
        {
          "output_type": "stream",
          "name": "stdout",
          "text": [
            "Looking in indexes: https://pypi.org/simple, https://us-python.pkg.dev/colab-wheels/public/simple/\n",
            "Requirement already satisfied: keras in /usr/local/lib/python3.7/dist-packages (2.8.0)\n",
            "Looking in indexes: https://pypi.org/simple, https://us-python.pkg.dev/colab-wheels/public/simple/\n",
            "Requirement already satisfied: tensorflow in /usr/local/lib/python3.7/dist-packages (2.8.2+zzzcolab20220527125636)\n",
            "Requirement already satisfied: opt-einsum>=2.3.2 in /usr/local/lib/python3.7/dist-packages (from tensorflow) (3.3.0)\n",
            "Requirement already satisfied: wrapt>=1.11.0 in /usr/local/lib/python3.7/dist-packages (from tensorflow) (1.14.1)\n",
            "Requirement already satisfied: tensorflow-io-gcs-filesystem>=0.23.1 in /usr/local/lib/python3.7/dist-packages (from tensorflow) (0.26.0)\n",
            "Requirement already satisfied: protobuf<3.20,>=3.9.2 in /usr/local/lib/python3.7/dist-packages (from tensorflow) (3.17.3)\n",
            "Requirement already satisfied: google-pasta>=0.1.1 in /usr/local/lib/python3.7/dist-packages (from tensorflow) (0.2.0)\n",
            "Requirement already satisfied: setuptools in /usr/local/lib/python3.7/dist-packages (from tensorflow) (57.4.0)\n",
            "Requirement already satisfied: six>=1.12.0 in /usr/local/lib/python3.7/dist-packages (from tensorflow) (1.15.0)\n",
            "Requirement already satisfied: absl-py>=0.4.0 in /usr/local/lib/python3.7/dist-packages (from tensorflow) (1.1.0)\n",
            "Requirement already satisfied: termcolor>=1.1.0 in /usr/local/lib/python3.7/dist-packages (from tensorflow) (1.1.0)\n",
            "Requirement already satisfied: h5py>=2.9.0 in /usr/local/lib/python3.7/dist-packages (from tensorflow) (3.1.0)\n",
            "Requirement already satisfied: numpy>=1.20 in /usr/local/lib/python3.7/dist-packages (from tensorflow) (1.21.6)\n",
            "Requirement already satisfied: keras-preprocessing>=1.1.1 in /usr/local/lib/python3.7/dist-packages (from tensorflow) (1.1.2)\n",
            "Requirement already satisfied: grpcio<2.0,>=1.24.3 in /usr/local/lib/python3.7/dist-packages (from tensorflow) (1.46.3)\n",
            "Requirement already satisfied: tensorflow-estimator<2.9,>=2.8 in /usr/local/lib/python3.7/dist-packages (from tensorflow) (2.8.0)\n",
            "Requirement already satisfied: gast>=0.2.1 in /usr/local/lib/python3.7/dist-packages (from tensorflow) (0.5.3)\n",
            "Requirement already satisfied: tensorboard<2.9,>=2.8 in /usr/local/lib/python3.7/dist-packages (from tensorflow) (2.8.0)\n",
            "Requirement already satisfied: keras<2.9,>=2.8.0rc0 in /usr/local/lib/python3.7/dist-packages (from tensorflow) (2.8.0)\n",
            "Requirement already satisfied: astunparse>=1.6.0 in /usr/local/lib/python3.7/dist-packages (from tensorflow) (1.6.3)\n",
            "Requirement already satisfied: libclang>=9.0.1 in /usr/local/lib/python3.7/dist-packages (from tensorflow) (14.0.1)\n",
            "Requirement already satisfied: typing-extensions>=3.6.6 in /usr/local/lib/python3.7/dist-packages (from tensorflow) (4.1.1)\n",
            "Requirement already satisfied: flatbuffers>=1.12 in /usr/local/lib/python3.7/dist-packages (from tensorflow) (2.0)\n",
            "Requirement already satisfied: wheel<1.0,>=0.23.0 in /usr/local/lib/python3.7/dist-packages (from astunparse>=1.6.0->tensorflow) (0.37.1)\n",
            "Requirement already satisfied: cached-property in /usr/local/lib/python3.7/dist-packages (from h5py>=2.9.0->tensorflow) (1.5.2)\n",
            "Requirement already satisfied: werkzeug>=0.11.15 in /usr/local/lib/python3.7/dist-packages (from tensorboard<2.9,>=2.8->tensorflow) (1.0.1)\n",
            "Requirement already satisfied: requests<3,>=2.21.0 in /usr/local/lib/python3.7/dist-packages (from tensorboard<2.9,>=2.8->tensorflow) (2.23.0)\n",
            "Requirement already satisfied: google-auth<3,>=1.6.3 in /usr/local/lib/python3.7/dist-packages (from tensorboard<2.9,>=2.8->tensorflow) (1.35.0)\n",
            "Requirement already satisfied: tensorboard-data-server<0.7.0,>=0.6.0 in /usr/local/lib/python3.7/dist-packages (from tensorboard<2.9,>=2.8->tensorflow) (0.6.1)\n",
            "Requirement already satisfied: tensorboard-plugin-wit>=1.6.0 in /usr/local/lib/python3.7/dist-packages (from tensorboard<2.9,>=2.8->tensorflow) (1.8.1)\n",
            "Requirement already satisfied: markdown>=2.6.8 in /usr/local/lib/python3.7/dist-packages (from tensorboard<2.9,>=2.8->tensorflow) (3.3.7)\n",
            "Requirement already satisfied: google-auth-oauthlib<0.5,>=0.4.1 in /usr/local/lib/python3.7/dist-packages (from tensorboard<2.9,>=2.8->tensorflow) (0.4.6)\n",
            "Requirement already satisfied: rsa<5,>=3.1.4 in /usr/local/lib/python3.7/dist-packages (from google-auth<3,>=1.6.3->tensorboard<2.9,>=2.8->tensorflow) (4.8)\n",
            "Requirement already satisfied: pyasn1-modules>=0.2.1 in /usr/local/lib/python3.7/dist-packages (from google-auth<3,>=1.6.3->tensorboard<2.9,>=2.8->tensorflow) (0.2.8)\n",
            "Requirement already satisfied: cachetools<5.0,>=2.0.0 in /usr/local/lib/python3.7/dist-packages (from google-auth<3,>=1.6.3->tensorboard<2.9,>=2.8->tensorflow) (4.2.4)\n",
            "Requirement already satisfied: requests-oauthlib>=0.7.0 in /usr/local/lib/python3.7/dist-packages (from google-auth-oauthlib<0.5,>=0.4.1->tensorboard<2.9,>=2.8->tensorflow) (1.3.1)\n",
            "Requirement already satisfied: importlib-metadata>=4.4 in /usr/local/lib/python3.7/dist-packages (from markdown>=2.6.8->tensorboard<2.9,>=2.8->tensorflow) (4.11.4)\n",
            "Requirement already satisfied: zipp>=0.5 in /usr/local/lib/python3.7/dist-packages (from importlib-metadata>=4.4->markdown>=2.6.8->tensorboard<2.9,>=2.8->tensorflow) (3.8.0)\n",
            "Requirement already satisfied: pyasn1<0.5.0,>=0.4.6 in /usr/local/lib/python3.7/dist-packages (from pyasn1-modules>=0.2.1->google-auth<3,>=1.6.3->tensorboard<2.9,>=2.8->tensorflow) (0.4.8)\n",
            "Requirement already satisfied: idna<3,>=2.5 in /usr/local/lib/python3.7/dist-packages (from requests<3,>=2.21.0->tensorboard<2.9,>=2.8->tensorflow) (2.10)\n",
            "Requirement already satisfied: certifi>=2017.4.17 in /usr/local/lib/python3.7/dist-packages (from requests<3,>=2.21.0->tensorboard<2.9,>=2.8->tensorflow) (2022.6.15)\n",
            "Requirement already satisfied: chardet<4,>=3.0.2 in /usr/local/lib/python3.7/dist-packages (from requests<3,>=2.21.0->tensorboard<2.9,>=2.8->tensorflow) (3.0.4)\n",
            "Requirement already satisfied: urllib3!=1.25.0,!=1.25.1,<1.26,>=1.21.1 in /usr/local/lib/python3.7/dist-packages (from requests<3,>=2.21.0->tensorboard<2.9,>=2.8->tensorflow) (1.24.3)\n",
            "Requirement already satisfied: oauthlib>=3.0.0 in /usr/local/lib/python3.7/dist-packages (from requests-oauthlib>=0.7.0->google-auth-oauthlib<0.5,>=0.4.1->tensorboard<2.9,>=2.8->tensorflow) (3.2.0)\n"
          ]
        }
      ]
    },
    {
      "cell_type": "markdown",
      "metadata": {
        "id": "3yFpBwmNz70v"
      },
      "source": [
        "# Redes Neuronales Artificales"
      ]
    },
    {
      "cell_type": "markdown",
      "metadata": {
        "id": "v8OxSXXSz-OP"
      },
      "source": [
        "# Cómo importar las librerías\n"
      ]
    },
    {
      "cell_type": "code",
      "metadata": {
        "id": "edZX51YLzs59"
      },
      "source": [
        "import numpy as np\n",
        "import matplotlib.pyplot as plt\n",
        "import pandas as pd"
      ],
      "execution_count": 8,
      "outputs": []
    },
    {
      "cell_type": "markdown",
      "metadata": {
        "id": "8XfXlqtF0B58"
      },
      "source": [
        "# Importar el data set\n"
      ]
    },
    {
      "cell_type": "code",
      "metadata": {
        "id": "-nnozsHsz_-N"
      },
      "source": [
        "dataset = pd.read_csv('/content/deeplearning-az/datasets/Part 1 - Artificial Neural Networks (ANN)/Churn_Modelling.csv')\n",
        "X = dataset.iloc[:, 3:13].values\n",
        "y = dataset.iloc[:, 13].values"
      ],
      "execution_count": 9,
      "outputs": []
    },
    {
      "cell_type": "markdown",
      "metadata": {
        "id": "xtzD5VD4bOEn"
      },
      "source": [
        "# Parte 1 - Pre procesado de datos"
      ]
    },
    {
      "cell_type": "markdown",
      "metadata": {
        "id": "SsVEdPzf4XmV"
      },
      "source": [
        "# Codificar datos categóricos"
      ]
    },
    {
      "cell_type": "code",
      "metadata": {
        "id": "v9CtwK834bjy"
      },
      "source": [
        "from sklearn.preprocessing import LabelEncoder, OneHotEncoder\n",
        "from sklearn.compose import ColumnTransformer\n",
        "\n",
        "labelencoder_X_1 = LabelEncoder()\n",
        "X[:, 1] = labelencoder_X_1.fit_transform(X[:, 1])\n",
        "labelencoder_X_2 = LabelEncoder()\n",
        "X[:, 2] = labelencoder_X_2.fit_transform(X[:, 2])\n",
        "onehotencoder = ColumnTransformer(\n",
        "    [('one_hot_encoder', OneHotEncoder(categories='auto'), [1])],   \n",
        "    remainder='passthrough'                        \n",
        ")\n",
        "X = onehotencoder.fit_transform(X)\n",
        "X = X[:, 1:]"
      ],
      "execution_count": 10,
      "outputs": []
    },
    {
      "cell_type": "code",
      "source": [
        "X"
      ],
      "metadata": {
        "colab": {
          "base_uri": "https://localhost:8080/"
        },
        "id": "h9HpBrCpJK_c",
        "outputId": "9f7b9144-de45-4727-f886-2ae3754b3619"
      },
      "execution_count": 11,
      "outputs": [
        {
          "output_type": "execute_result",
          "data": {
            "text/plain": [
              "array([[0.0, 0.0, 619, ..., 1, 1, 101348.88],\n",
              "       [0.0, 1.0, 608, ..., 0, 1, 112542.58],\n",
              "       [0.0, 0.0, 502, ..., 1, 0, 113931.57],\n",
              "       ...,\n",
              "       [0.0, 0.0, 709, ..., 0, 1, 42085.58],\n",
              "       [1.0, 0.0, 772, ..., 1, 0, 92888.52],\n",
              "       [0.0, 0.0, 792, ..., 1, 0, 38190.78]], dtype=object)"
            ]
          },
          "metadata": {},
          "execution_count": 11
        }
      ]
    },
    {
      "cell_type": "markdown",
      "metadata": {
        "id": "5AH_uCEz68rb"
      },
      "source": [
        "# Dividir el data set en conjunto de entrenamiento y conjunto de testing"
      ]
    },
    {
      "cell_type": "code",
      "metadata": {
        "id": "oeuAy8LI69vi"
      },
      "source": [
        "from sklearn.model_selection import train_test_split\n",
        "X_train, X_test, y_train, y_test = train_test_split(X, y, test_size = 0.2, random_state = 0)"
      ],
      "execution_count": 12,
      "outputs": []
    },
    {
      "cell_type": "markdown",
      "metadata": {
        "id": "sfzLXHPwbOEt"
      },
      "source": [
        "# Escalado de variables"
      ]
    },
    {
      "cell_type": "code",
      "metadata": {
        "id": "8m2LCgz8bOEt"
      },
      "source": [
        "from sklearn.preprocessing import StandardScaler\n",
        "sc_X = StandardScaler()\n",
        "X_train = sc_X.fit_transform(X_train)\n",
        "X_test = sc_X.transform(X_test)"
      ],
      "execution_count": 13,
      "outputs": []
    },
    {
      "cell_type": "markdown",
      "metadata": {
        "id": "cgweTaJ67BOB"
      },
      "source": [
        "# Parte 2 - Construir la RNA"
      ]
    },
    {
      "cell_type": "markdown",
      "metadata": {
        "id": "tm4Hg995bOEw"
      },
      "source": [
        "# Importar Keras y librerías adicionales\n"
      ]
    },
    {
      "cell_type": "code",
      "metadata": {
        "id": "HLEt5ni_bOEw"
      },
      "source": [
        "import keras\n",
        "from keras.models import Sequential\n",
        "from keras.layers import Dense\n",
        "from keras.layers import Dropout"
      ],
      "execution_count": 33,
      "outputs": []
    },
    {
      "cell_type": "markdown",
      "metadata": {
        "id": "ezfPlyegbOEy"
      },
      "source": [
        "# Inicializar la RNA"
      ]
    },
    {
      "cell_type": "code",
      "metadata": {
        "id": "zRmQjNVzbOEz"
      },
      "source": [
        "classifier = Sequential()"
      ],
      "execution_count": 15,
      "outputs": []
    },
    {
      "cell_type": "markdown",
      "metadata": {
        "id": "ML7H-iqsbOE1"
      },
      "source": [
        "# Añadir las capas de entrada y primera capa oculta\n"
      ]
    },
    {
      "cell_type": "code",
      "metadata": {
        "id": "amkkZxnebOE1",
        "outputId": "d7b7ff79-1324-4825-99cf-d8bb01ac39b9",
        "colab": {
          "base_uri": "https://localhost:8080/",
          "height": 205
        }
      },
      "source": [
        "classifier.add(Dense(units = 6, kernel_initializer = \"uniform\",  \n",
        "                     activation = \"relu\", input_dim = 11))\n",
        "#classifier.add(Dropout(p = 0.1)) # Quitar el sobreajuste a 0.5"
      ],
      "execution_count": 35,
      "outputs": [
        {
          "output_type": "error",
          "ename": "AttributeError",
          "evalue": "ignored",
          "traceback": [
            "\u001b[0;31m---------------------------------------------------------------------------\u001b[0m",
            "\u001b[0;31mAttributeError\u001b[0m                            Traceback (most recent call last)",
            "\u001b[0;32m<ipython-input-35-bab5d27e8c88>\u001b[0m in \u001b[0;36m<module>\u001b[0;34m()\u001b[0m\n\u001b[0;32m----> 1\u001b[0;31m classifier.add(Dense(units = 6, kernel_initializer = \"uniform\",  \n\u001b[0m\u001b[1;32m      2\u001b[0m                      activation = \"relu\", input_dim = 11))\n\u001b[1;32m      3\u001b[0m \u001b[0;31m#classifier.add(Dropout(p = 0.1)) # Quitar el sobreajuste a 0.5\u001b[0m\u001b[0;34m\u001b[0m\u001b[0;34m\u001b[0m\u001b[0;34m\u001b[0m\u001b[0m\n",
            "\u001b[0;31mAttributeError\u001b[0m: 'KerasClassifier' object has no attribute 'add'"
          ]
        }
      ]
    },
    {
      "cell_type": "markdown",
      "metadata": {
        "id": "xKoC5UOwbOE3"
      },
      "source": [
        "# Añadir la segunda capa oculta"
      ]
    },
    {
      "cell_type": "code",
      "metadata": {
        "id": "ZTDhh_JibOE3"
      },
      "source": [
        "classifier.add(Dense(units = 6, kernel_initializer = \"uniform\",  activation = \"relu\"))"
      ],
      "execution_count": 17,
      "outputs": []
    },
    {
      "cell_type": "markdown",
      "metadata": {
        "id": "wvUfptEtbOE5"
      },
      "source": [
        "# Añadir la capa de salida"
      ]
    },
    {
      "cell_type": "code",
      "metadata": {
        "id": "6C2x9RUGbOE5"
      },
      "source": [
        "classifier.add(Dense(units = 1, kernel_initializer = \"uniform\",  activation = \"sigmoid\"))"
      ],
      "execution_count": 18,
      "outputs": []
    },
    {
      "cell_type": "markdown",
      "metadata": {
        "id": "_Je4JFqsbOE7"
      },
      "source": [
        "# Compilar la RNA"
      ]
    },
    {
      "cell_type": "code",
      "metadata": {
        "id": "f89xXBswbOE7"
      },
      "source": [
        "classifier.compile(optimizer = \"adam\", loss = \"binary_crossentropy\", metrics = [\"accuracy\"])"
      ],
      "execution_count": 19,
      "outputs": []
    },
    {
      "cell_type": "markdown",
      "metadata": {
        "id": "Dr34zpQrbOE9"
      },
      "source": [
        "# Ajustamos la RNA al Conjunto de Entrenamiento"
      ]
    },
    {
      "cell_type": "code",
      "metadata": {
        "id": "bwNUtZp7bOE9",
        "colab": {
          "base_uri": "https://localhost:8080/"
        },
        "outputId": "9ccc09b2-7398-415e-b3fd-dfb9c7f08ad6"
      },
      "source": [
        "classifier.fit(X_train, y_train,  batch_size = 10, epochs = 100)"
      ],
      "execution_count": 20,
      "outputs": [
        {
          "output_type": "stream",
          "name": "stdout",
          "text": [
            "Epoch 1/100\n",
            "800/800 [==============================] - 9s 4ms/step - loss: 0.4768 - accuracy: 0.7960\n",
            "Epoch 2/100\n",
            "800/800 [==============================] - 3s 4ms/step - loss: 0.4274 - accuracy: 0.7960\n",
            "Epoch 3/100\n",
            "800/800 [==============================] - 3s 4ms/step - loss: 0.4220 - accuracy: 0.7997\n",
            "Epoch 4/100\n",
            "800/800 [==============================] - 2s 2ms/step - loss: 0.4184 - accuracy: 0.8207\n",
            "Epoch 5/100\n",
            "800/800 [==============================] - 2s 2ms/step - loss: 0.4162 - accuracy: 0.8265\n",
            "Epoch 6/100\n",
            "800/800 [==============================] - 2s 2ms/step - loss: 0.4142 - accuracy: 0.8296\n",
            "Epoch 7/100\n",
            "800/800 [==============================] - 2s 2ms/step - loss: 0.4125 - accuracy: 0.8311\n",
            "Epoch 8/100\n",
            "800/800 [==============================] - 2s 2ms/step - loss: 0.4116 - accuracy: 0.8310\n",
            "Epoch 9/100\n",
            "800/800 [==============================] - 2s 2ms/step - loss: 0.4107 - accuracy: 0.8328\n",
            "Epoch 10/100\n",
            "800/800 [==============================] - 2s 2ms/step - loss: 0.4096 - accuracy: 0.8342\n",
            "Epoch 11/100\n",
            "800/800 [==============================] - 2s 2ms/step - loss: 0.4090 - accuracy: 0.8342\n",
            "Epoch 12/100\n",
            "800/800 [==============================] - 2s 2ms/step - loss: 0.4084 - accuracy: 0.8338\n",
            "Epoch 13/100\n",
            "800/800 [==============================] - 2s 2ms/step - loss: 0.4077 - accuracy: 0.8347\n",
            "Epoch 14/100\n",
            "800/800 [==============================] - 2s 2ms/step - loss: 0.4070 - accuracy: 0.8347\n",
            "Epoch 15/100\n",
            "800/800 [==============================] - 2s 2ms/step - loss: 0.4066 - accuracy: 0.8347\n",
            "Epoch 16/100\n",
            "800/800 [==============================] - 2s 2ms/step - loss: 0.4061 - accuracy: 0.8340\n",
            "Epoch 17/100\n",
            "800/800 [==============================] - 2s 2ms/step - loss: 0.4059 - accuracy: 0.8363\n",
            "Epoch 18/100\n",
            "800/800 [==============================] - 2s 2ms/step - loss: 0.4053 - accuracy: 0.8354\n",
            "Epoch 19/100\n",
            "800/800 [==============================] - 2s 2ms/step - loss: 0.4051 - accuracy: 0.8334\n",
            "Epoch 20/100\n",
            "800/800 [==============================] - 2s 2ms/step - loss: 0.4050 - accuracy: 0.8347\n",
            "Epoch 21/100\n",
            "800/800 [==============================] - 2s 2ms/step - loss: 0.4044 - accuracy: 0.8339\n",
            "Epoch 22/100\n",
            "800/800 [==============================] - 2s 2ms/step - loss: 0.4047 - accuracy: 0.8345\n",
            "Epoch 23/100\n",
            "800/800 [==============================] - 2s 2ms/step - loss: 0.4040 - accuracy: 0.8364\n",
            "Epoch 24/100\n",
            "800/800 [==============================] - 2s 2ms/step - loss: 0.4044 - accuracy: 0.8350\n",
            "Epoch 25/100\n",
            "800/800 [==============================] - 2s 2ms/step - loss: 0.4040 - accuracy: 0.8354\n",
            "Epoch 26/100\n",
            "800/800 [==============================] - 2s 2ms/step - loss: 0.4041 - accuracy: 0.8347\n",
            "Epoch 27/100\n",
            "800/800 [==============================] - 2s 2ms/step - loss: 0.4036 - accuracy: 0.8353\n",
            "Epoch 28/100\n",
            "800/800 [==============================] - 2s 2ms/step - loss: 0.4033 - accuracy: 0.8351\n",
            "Epoch 29/100\n",
            "800/800 [==============================] - 2s 2ms/step - loss: 0.4034 - accuracy: 0.8341\n",
            "Epoch 30/100\n",
            "800/800 [==============================] - 2s 2ms/step - loss: 0.4034 - accuracy: 0.8356\n",
            "Epoch 31/100\n",
            "800/800 [==============================] - 2s 2ms/step - loss: 0.4031 - accuracy: 0.8356\n",
            "Epoch 32/100\n",
            "800/800 [==============================] - 2s 2ms/step - loss: 0.4029 - accuracy: 0.8328\n",
            "Epoch 33/100\n",
            "800/800 [==============================] - 2s 2ms/step - loss: 0.4033 - accuracy: 0.8355\n",
            "Epoch 34/100\n",
            "800/800 [==============================] - 2s 2ms/step - loss: 0.4027 - accuracy: 0.8357\n",
            "Epoch 35/100\n",
            "800/800 [==============================] - 2s 2ms/step - loss: 0.4032 - accuracy: 0.8351\n",
            "Epoch 36/100\n",
            "800/800 [==============================] - 2s 2ms/step - loss: 0.4030 - accuracy: 0.8356\n",
            "Epoch 37/100\n",
            "800/800 [==============================] - 2s 2ms/step - loss: 0.4028 - accuracy: 0.8363\n",
            "Epoch 38/100\n",
            "800/800 [==============================] - 2s 2ms/step - loss: 0.4026 - accuracy: 0.8359\n",
            "Epoch 39/100\n",
            "800/800 [==============================] - 2s 2ms/step - loss: 0.4031 - accuracy: 0.8347\n",
            "Epoch 40/100\n",
            "800/800 [==============================] - 2s 2ms/step - loss: 0.4024 - accuracy: 0.8357\n",
            "Epoch 41/100\n",
            "800/800 [==============================] - 2s 2ms/step - loss: 0.4020 - accuracy: 0.8359\n",
            "Epoch 42/100\n",
            "800/800 [==============================] - 3s 3ms/step - loss: 0.4020 - accuracy: 0.8357\n",
            "Epoch 43/100\n",
            "800/800 [==============================] - 2s 3ms/step - loss: 0.4020 - accuracy: 0.8346\n",
            "Epoch 44/100\n",
            "800/800 [==============================] - 2s 2ms/step - loss: 0.4024 - accuracy: 0.8350\n",
            "Epoch 45/100\n",
            "800/800 [==============================] - 2s 2ms/step - loss: 0.4023 - accuracy: 0.8354\n",
            "Epoch 46/100\n",
            "800/800 [==============================] - 2s 2ms/step - loss: 0.4022 - accuracy: 0.8339\n",
            "Epoch 47/100\n",
            "800/800 [==============================] - 2s 2ms/step - loss: 0.4021 - accuracy: 0.8350\n",
            "Epoch 48/100\n",
            "800/800 [==============================] - 2s 2ms/step - loss: 0.4023 - accuracy: 0.8344\n",
            "Epoch 49/100\n",
            "800/800 [==============================] - 2s 2ms/step - loss: 0.4020 - accuracy: 0.8356\n",
            "Epoch 50/100\n",
            "800/800 [==============================] - 2s 2ms/step - loss: 0.4018 - accuracy: 0.8330\n",
            "Epoch 51/100\n",
            "800/800 [==============================] - 2s 2ms/step - loss: 0.4017 - accuracy: 0.8357\n",
            "Epoch 52/100\n",
            "800/800 [==============================] - 2s 2ms/step - loss: 0.4015 - accuracy: 0.8342\n",
            "Epoch 53/100\n",
            "800/800 [==============================] - 2s 2ms/step - loss: 0.4020 - accuracy: 0.8355\n",
            "Epoch 54/100\n",
            "800/800 [==============================] - 2s 2ms/step - loss: 0.4018 - accuracy: 0.8360\n",
            "Epoch 55/100\n",
            "800/800 [==============================] - 2s 2ms/step - loss: 0.4016 - accuracy: 0.8339\n",
            "Epoch 56/100\n",
            "800/800 [==============================] - 2s 2ms/step - loss: 0.4015 - accuracy: 0.8356\n",
            "Epoch 57/100\n",
            "800/800 [==============================] - 2s 2ms/step - loss: 0.4008 - accuracy: 0.8369\n",
            "Epoch 58/100\n",
            "800/800 [==============================] - 2s 2ms/step - loss: 0.4008 - accuracy: 0.8342\n",
            "Epoch 59/100\n",
            "800/800 [==============================] - 2s 2ms/step - loss: 0.4015 - accuracy: 0.8347\n",
            "Epoch 60/100\n",
            "800/800 [==============================] - 2s 2ms/step - loss: 0.4005 - accuracy: 0.8353\n",
            "Epoch 61/100\n",
            "800/800 [==============================] - 2s 2ms/step - loss: 0.4011 - accuracy: 0.8345\n",
            "Epoch 62/100\n",
            "800/800 [==============================] - 2s 2ms/step - loss: 0.4010 - accuracy: 0.8347\n",
            "Epoch 63/100\n",
            "800/800 [==============================] - 2s 2ms/step - loss: 0.4011 - accuracy: 0.8349\n",
            "Epoch 64/100\n",
            "800/800 [==============================] - 2s 2ms/step - loss: 0.4007 - accuracy: 0.8355\n",
            "Epoch 65/100\n",
            "800/800 [==============================] - 2s 2ms/step - loss: 0.4004 - accuracy: 0.8353\n",
            "Epoch 66/100\n",
            "800/800 [==============================] - 2s 2ms/step - loss: 0.4005 - accuracy: 0.8357\n",
            "Epoch 67/100\n",
            "800/800 [==============================] - 2s 2ms/step - loss: 0.4003 - accuracy: 0.8366\n",
            "Epoch 68/100\n",
            "800/800 [==============================] - 2s 2ms/step - loss: 0.4004 - accuracy: 0.8340\n",
            "Epoch 69/100\n",
            "800/800 [==============================] - 2s 2ms/step - loss: 0.4006 - accuracy: 0.8339\n",
            "Epoch 70/100\n",
            "800/800 [==============================] - 2s 2ms/step - loss: 0.4005 - accuracy: 0.8331\n",
            "Epoch 71/100\n",
            "800/800 [==============================] - 2s 2ms/step - loss: 0.4005 - accuracy: 0.8335\n",
            "Epoch 72/100\n",
            "800/800 [==============================] - 2s 2ms/step - loss: 0.4007 - accuracy: 0.8342\n",
            "Epoch 73/100\n",
            "800/800 [==============================] - 2s 2ms/step - loss: 0.4003 - accuracy: 0.8334\n",
            "Epoch 74/100\n",
            "800/800 [==============================] - 2s 2ms/step - loss: 0.4008 - accuracy: 0.8342\n",
            "Epoch 75/100\n",
            "800/800 [==============================] - 2s 2ms/step - loss: 0.4003 - accuracy: 0.8338\n",
            "Epoch 76/100\n",
            "800/800 [==============================] - 2s 2ms/step - loss: 0.4001 - accuracy: 0.8341\n",
            "Epoch 77/100\n",
            "800/800 [==============================] - 2s 2ms/step - loss: 0.4000 - accuracy: 0.8355\n",
            "Epoch 78/100\n",
            "800/800 [==============================] - 2s 2ms/step - loss: 0.4002 - accuracy: 0.8357\n",
            "Epoch 79/100\n",
            "800/800 [==============================] - 2s 2ms/step - loss: 0.4000 - accuracy: 0.8356\n",
            "Epoch 80/100\n",
            "800/800 [==============================] - 2s 2ms/step - loss: 0.3998 - accuracy: 0.8346\n",
            "Epoch 81/100\n",
            "800/800 [==============================] - 2s 2ms/step - loss: 0.4000 - accuracy: 0.8346\n",
            "Epoch 82/100\n",
            "800/800 [==============================] - 2s 2ms/step - loss: 0.4003 - accuracy: 0.8346\n",
            "Epoch 83/100\n",
            "800/800 [==============================] - 2s 2ms/step - loss: 0.3998 - accuracy: 0.8349\n",
            "Epoch 84/100\n",
            "800/800 [==============================] - 2s 2ms/step - loss: 0.4004 - accuracy: 0.8344\n",
            "Epoch 85/100\n",
            "800/800 [==============================] - 2s 2ms/step - loss: 0.3998 - accuracy: 0.8363\n",
            "Epoch 86/100\n",
            "800/800 [==============================] - 2s 2ms/step - loss: 0.3997 - accuracy: 0.8351\n",
            "Epoch 87/100\n",
            "800/800 [==============================] - 2s 2ms/step - loss: 0.3992 - accuracy: 0.8350\n",
            "Epoch 88/100\n",
            "800/800 [==============================] - 2s 2ms/step - loss: 0.4000 - accuracy: 0.8341\n",
            "Epoch 89/100\n",
            "800/800 [==============================] - 2s 2ms/step - loss: 0.3999 - accuracy: 0.8353\n",
            "Epoch 90/100\n",
            "800/800 [==============================] - 2s 2ms/step - loss: 0.3998 - accuracy: 0.8354\n",
            "Epoch 91/100\n",
            "800/800 [==============================] - 2s 2ms/step - loss: 0.3993 - accuracy: 0.8364\n",
            "Epoch 92/100\n",
            "800/800 [==============================] - 2s 2ms/step - loss: 0.3994 - accuracy: 0.8359\n",
            "Epoch 93/100\n",
            "800/800 [==============================] - 2s 2ms/step - loss: 0.4000 - accuracy: 0.8364\n",
            "Epoch 94/100\n",
            "800/800 [==============================] - 2s 2ms/step - loss: 0.3997 - accuracy: 0.8354\n",
            "Epoch 95/100\n",
            "800/800 [==============================] - 2s 2ms/step - loss: 0.3998 - accuracy: 0.8359\n",
            "Epoch 96/100\n",
            "800/800 [==============================] - 2s 2ms/step - loss: 0.3994 - accuracy: 0.8354\n",
            "Epoch 97/100\n",
            "800/800 [==============================] - 2s 2ms/step - loss: 0.3997 - accuracy: 0.8351\n",
            "Epoch 98/100\n",
            "800/800 [==============================] - 2s 2ms/step - loss: 0.3994 - accuracy: 0.8357\n",
            "Epoch 99/100\n",
            "800/800 [==============================] - 2s 2ms/step - loss: 0.3994 - accuracy: 0.8345\n",
            "Epoch 100/100\n",
            "800/800 [==============================] - 2s 2ms/step - loss: 0.3994 - accuracy: 0.8350\n"
          ]
        },
        {
          "output_type": "execute_result",
          "data": {
            "text/plain": [
              "<keras.callbacks.History at 0x7f1f8009f890>"
            ]
          },
          "metadata": {},
          "execution_count": 20
        }
      ]
    },
    {
      "cell_type": "code",
      "source": [
        "y_pred"
      ],
      "metadata": {
        "colab": {
          "base_uri": "https://localhost:8080/"
        },
        "id": "LhGiUlc_WvD0",
        "outputId": "9e50c1cb-8119-4fee-c0be-b3b2fb05bf0e"
      },
      "execution_count": 23,
      "outputs": [
        {
          "output_type": "execute_result",
          "data": {
            "text/plain": [
              "array([[False],\n",
              "       [False],\n",
              "       [False],\n",
              "       ...,\n",
              "       [False],\n",
              "       [False],\n",
              "       [False]])"
            ]
          },
          "metadata": {},
          "execution_count": 23
        }
      ]
    },
    {
      "cell_type": "markdown",
      "metadata": {
        "id": "jsUJ7kBnbOE_"
      },
      "source": [
        "# Parte 3 - Evaluar el modelo y calcular predicciones finales"
      ]
    },
    {
      "cell_type": "markdown",
      "metadata": {
        "id": "7ZWV9kiBbOFA"
      },
      "source": [
        "# Predicción de los resultados con el Conjunto de Testing"
      ]
    },
    {
      "cell_type": "code",
      "metadata": {
        "id": "XVzX_pIhbOFA"
      },
      "source": [
        "y_pred  = classifier.predict(X_test)\n",
        "y_pred = (y_pred>0.5)"
      ],
      "execution_count": 22,
      "outputs": []
    },
    {
      "cell_type": "markdown",
      "metadata": {
        "id": "W0R6AD0bbOFD"
      },
      "source": [
        "# Elaborar una matriz de confusión"
      ]
    },
    {
      "cell_type": "code",
      "metadata": {
        "id": "cv-193GvbOFD"
      },
      "source": [
        "from sklearn.metrics import confusion_matrix\n",
        "cm = confusion_matrix(y_test, y_pred)"
      ],
      "execution_count": 24,
      "outputs": []
    },
    {
      "cell_type": "code",
      "source": [
        "cm"
      ],
      "metadata": {
        "colab": {
          "base_uri": "https://localhost:8080/"
        },
        "id": "hUkl-_E8XoEx",
        "outputId": "92bef5fb-26f8-4169-8112-deb094c896a3"
      },
      "execution_count": 25,
      "outputs": [
        {
          "output_type": "execute_result",
          "data": {
            "text/plain": [
              "array([[1549,   46],\n",
              "       [ 268,  137]])"
            ]
          },
          "metadata": {},
          "execution_count": 25
        }
      ]
    },
    {
      "cell_type": "code",
      "source": [
        "(1546 + 143) / 2000"
      ],
      "metadata": {
        "colab": {
          "base_uri": "https://localhost:8080/"
        },
        "id": "BYQ5fsXSYQ2u",
        "outputId": "8133a59a-a492-4707-ac8a-ff2863afe127"
      },
      "execution_count": 26,
      "outputs": [
        {
          "output_type": "execute_result",
          "data": {
            "text/plain": [
              "0.8445"
            ]
          },
          "metadata": {},
          "execution_count": 26
        }
      ]
    },
    {
      "cell_type": "markdown",
      "metadata": {
        "id": "3qBAu2KobrIh"
      },
      "source": [
        "## Parte 4 - Evaluar, mejorar y Ajustar la RNA\n"
      ]
    },
    {
      "cell_type": "markdown",
      "metadata": {
        "id": "E3by0rPFbuM3"
      },
      "source": [
        "### Evaluar la **RNA**\n"
      ]
    },
    {
      "cell_type": "code",
      "metadata": {
        "id": "Xn44nPWXbsbS"
      },
      "source": [
        "from keras.wrappers.scikit_learn import KerasClassifier\n",
        "from sklearn.model_selection import cross_val_score"
      ],
      "execution_count": 27,
      "outputs": []
    },
    {
      "cell_type": "code",
      "metadata": {
        "id": "VEv9LR5MbwJ_"
      },
      "source": [
        "def build_classifier():\n",
        "  # Inicializar la RNA\n",
        "  classifier = Sequential()\n",
        "  # Añadir las capas de entrada y primera capa oculta\n",
        "  classifier.add(Dense(units = 6, kernel_initializer = \"uniform\", activation = \"relu\", input_dim = 11))\n",
        "  # Añadir la segunda capa oculta\n",
        "  classifier.add(Dense(units = 6, kernel_initializer = \"uniform\", activation = \"relu\"))\n",
        "  # Añadir la capa de salida\n",
        "  classifier.add(Dense(units = 1, kernel_initializer = \"uniform\", activation = \"sigmoid\"))\n",
        "  # Compliar la RNA\n",
        "  classifier.compile(optimizer = \"adam\", loss = \"binary_crossentropy\", metrics = [\"accuracy\"])\n",
        "  # Devolver la clasificación\n",
        "  return classifier"
      ],
      "execution_count": 28,
      "outputs": []
    },
    {
      "cell_type": "code",
      "metadata": {
        "id": "84ER1wwKbx-s",
        "colab": {
          "base_uri": "https://localhost:8080/"
        },
        "outputId": "bbe6e85b-a9c6-4502-b9f1-cf0f02e50307"
      },
      "source": [
        "classifier = KerasClassifier(build_fn = build_classifier, batch_size = 10, nb_epoch = 100)\n",
        "accuracies = cross_val_score(estimator=classifier, X = X_train, y = y_train, cv = 10, n_jobs=-1, verbose = 1)"
      ],
      "execution_count": 29,
      "outputs": [
        {
          "output_type": "stream",
          "name": "stderr",
          "text": [
            "/usr/local/lib/python3.7/dist-packages/ipykernel_launcher.py:1: DeprecationWarning: KerasClassifier is deprecated, use Sci-Keras (https://github.com/adriangb/scikeras) instead. See https://www.adriangb.com/scikeras/stable/migration.html for help migrating.\n",
            "  \"\"\"Entry point for launching an IPython kernel.\n",
            "[Parallel(n_jobs=-1)]: Using backend LokyBackend with 2 concurrent workers.\n",
            "[Parallel(n_jobs=-1)]: Done  10 out of  10 | elapsed:   25.6s finished\n"
          ]
        }
      ]
    },
    {
      "cell_type": "code",
      "source": [
        "accuracies"
      ],
      "metadata": {
        "id": "xKvgu4o-q-Ve",
        "outputId": "7508f5e2-c503-4fd9-ba82-f5fc9b5d7b92",
        "colab": {
          "base_uri": "https://localhost:8080/"
        }
      },
      "execution_count": 30,
      "outputs": [
        {
          "output_type": "execute_result",
          "data": {
            "text/plain": [
              "array([0.78625   , 0.79000002, 0.80000001, 0.78250003, 0.81625003,\n",
              "       0.81      , 0.78750002, 0.79374999, 0.79874998, 0.79500002])"
            ]
          },
          "metadata": {},
          "execution_count": 30
        }
      ]
    },
    {
      "cell_type": "code",
      "metadata": {
        "id": "kH5SWOLjbz1J",
        "outputId": "2a2875f2-1c7e-4ff6-bddc-9f97924e79a2",
        "colab": {
          "base_uri": "https://localhost:8080/"
        }
      },
      "source": [
        "mean = accuracies.mean()\n",
        "variance = accuracies.std()\n",
        "print(mean)\n",
        "print(variance)"
      ],
      "execution_count": 32,
      "outputs": [
        {
          "output_type": "stream",
          "name": "stdout",
          "text": [
            "0.7960000097751617\n",
            "0.010105690527913859\n"
          ]
        }
      ]
    },
    {
      "cell_type": "markdown",
      "metadata": {
        "id": "Mv-Hs66Tb3Mv"
      },
      "source": [
        "### Mejorar la RNA"
      ]
    },
    {
      "cell_type": "markdown",
      "metadata": {
        "id": "d-TdOlIlb22x"
      },
      "source": [
        "#### Regularización de Dropout para evitar el *overfitting*\n"
      ]
    },
    {
      "cell_type": "markdown",
      "metadata": {
        "id": "k0xNpbSSb7_D"
      },
      "source": [
        "### Ajustar la *RNA*\n"
      ]
    },
    {
      "cell_type": "code",
      "metadata": {
        "id": "4XOkEVJ_eE93"
      },
      "source": [
        "from sklearn.model_selection import GridSearchCV"
      ],
      "execution_count": 36,
      "outputs": []
    },
    {
      "cell_type": "code",
      "metadata": {
        "id": "lURNzjkSb1Ce"
      },
      "source": [
        "def build_classifier(optimizer):\n",
        "  classifier = Sequential()\n",
        "  classifier.add(Dense(units = 6, kernel_initializer = \"uniform\",  activation = \"relu\", input_dim = 11))\n",
        "  classifier.add(Dense(units = 6, kernel_initializer = \"uniform\",  activation = \"relu\"))\n",
        "  classifier.add(Dense(units = 1, kernel_initializer = \"uniform\",  activation = \"sigmoid\"))\n",
        "  classifier.compile(optimizer = optimizer, loss = \"binary_crossentropy\", metrics = [\"accuracy\"])\n",
        "  return classifier\n"
      ],
      "execution_count": 37,
      "outputs": []
    },
    {
      "cell_type": "code",
      "metadata": {
        "id": "1mRpi1Kcb96V",
        "outputId": "d97b8590-cd48-4336-ddab-3d37f65c0332",
        "colab": {
          "base_uri": "https://localhost:8080/"
        }
      },
      "source": [
        "classifier = KerasClassifier(build_fn = build_classifier)"
      ],
      "execution_count": 38,
      "outputs": [
        {
          "output_type": "stream",
          "name": "stderr",
          "text": [
            "/usr/local/lib/python3.7/dist-packages/ipykernel_launcher.py:1: DeprecationWarning: KerasClassifier is deprecated, use Sci-Keras (https://github.com/adriangb/scikeras) instead. See https://www.adriangb.com/scikeras/stable/migration.html for help migrating.\n",
            "  \"\"\"Entry point for launching an IPython kernel.\n"
          ]
        }
      ]
    },
    {
      "cell_type": "code",
      "metadata": {
        "id": "KkRJLSzAb_6R"
      },
      "source": [
        "parameters = {\n",
        "    'batch_size' : [25,32],\n",
        "    'nb_epoch' : [100, 500], \n",
        "    'optimizer' : ['adam', 'rmsprop']\n",
        "}"
      ],
      "execution_count": 39,
      "outputs": []
    },
    {
      "cell_type": "code",
      "metadata": {
        "id": "_Ejn37PBcB-7",
        "colab": {
          "base_uri": "https://localhost:8080/"
        },
        "outputId": "6f0da1bd-ffcd-446b-b47d-b24b45855526"
      },
      "source": [
        "grid_search = GridSearchCV(estimator = classifier, \n",
        "                           param_grid = parameters, \n",
        "                           scoring = 'accuracy', \n",
        "                           cv = 10)\n",
        "grid_search = grid_search.fit(X_train, y_train)\n",
        "\n",
        "best_parameters = grid_search.best_params_\n",
        "best_accuracy = grid_search.best_score_"
      ],
      "execution_count": 40,
      "outputs": [
        {
          "output_type": "stream",
          "name": "stdout",
          "text": [
            "288/288 [==============================] - 1s 2ms/step - loss: 0.5543 - accuracy: 0.7961\n",
            "288/288 [==============================] - 1s 2ms/step - loss: 0.5662 - accuracy: 0.7936\n",
            "288/288 [==============================] - 1s 2ms/step - loss: 0.5606 - accuracy: 0.7956\n",
            "288/288 [==============================] - 1s 2ms/step - loss: 0.5488 - accuracy: 0.7971\n",
            "288/288 [==============================] - 1s 2ms/step - loss: 0.5749 - accuracy: 0.7919\n",
            "288/288 [==============================] - 1s 2ms/step - loss: 0.5648 - accuracy: 0.7933\n",
            "288/288 [==============================] - 1s 2ms/step - loss: 0.5440 - accuracy: 0.7964\n",
            "288/288 [==============================] - 1s 2ms/step - loss: 0.5709 - accuracy: 0.7953\n",
            "288/288 [==============================] - 1s 2ms/step - loss: 0.5607 - accuracy: 0.7942\n",
            "288/288 [==============================] - 1s 2ms/step - loss: 0.5560 - accuracy: 0.7957\n",
            "288/288 [==============================] - 1s 2ms/step - loss: 0.5841 - accuracy: 0.7951\n",
            "288/288 [==============================] - 1s 2ms/step - loss: 0.5999 - accuracy: 0.7954\n",
            "288/288 [==============================] - 1s 2ms/step - loss: 0.5603 - accuracy: 0.7956\n",
            "288/288 [==============================] - 1s 2ms/step - loss: 0.5870 - accuracy: 0.7969\n",
            "288/288 [==============================] - 1s 2ms/step - loss: 0.5828 - accuracy: 0.7935\n",
            "288/288 [==============================] - 1s 2ms/step - loss: 0.6016 - accuracy: 0.7931\n",
            "288/288 [==============================] - 1s 2ms/step - loss: 0.5930 - accuracy: 0.7953\n",
            "288/288 [==============================] - 1s 2ms/step - loss: 0.5632 - accuracy: 0.7962\n",
            "288/288 [==============================] - 1s 2ms/step - loss: 0.5821 - accuracy: 0.7951\n",
            "288/288 [==============================] - 1s 2ms/step - loss: 0.5986 - accuracy: 0.7958\n",
            "288/288 [==============================] - 1s 2ms/step - loss: 0.5624 - accuracy: 0.7961\n",
            "288/288 [==============================] - 1s 2ms/step - loss: 0.5572 - accuracy: 0.7954\n",
            "288/288 [==============================] - 1s 2ms/step - loss: 0.5651 - accuracy: 0.7937\n",
            "288/288 [==============================] - 1s 2ms/step - loss: 0.5529 - accuracy: 0.7965\n",
            "288/288 [==============================] - 1s 2ms/step - loss: 0.5798 - accuracy: 0.7921\n",
            "288/288 [==============================] - 1s 2ms/step - loss: 0.5534 - accuracy: 0.7925\n",
            "288/288 [==============================] - 1s 2ms/step - loss: 0.5649 - accuracy: 0.7951\n",
            "288/288 [==============================] - 1s 2ms/step - loss: 0.5905 - accuracy: 0.7942\n",
            "288/288 [==============================] - 1s 2ms/step - loss: 0.5517 - accuracy: 0.7957\n",
            "288/288 [==============================] - 1s 2ms/step - loss: 0.5740 - accuracy: 0.7944\n",
            "288/288 [==============================] - 1s 2ms/step - loss: 0.6489 - accuracy: 0.7954\n",
            "288/288 [==============================] - 1s 2ms/step - loss: 0.5814 - accuracy: 0.7965\n",
            "288/288 [==============================] - 1s 3ms/step - loss: 0.5962 - accuracy: 0.7946\n",
            "288/288 [==============================] - 1s 3ms/step - loss: 0.5779 - accuracy: 0.7967\n",
            "288/288 [==============================] - 2s 3ms/step - loss: 0.5671 - accuracy: 0.7937\n",
            "288/288 [==============================] - 1s 2ms/step - loss: 0.5666 - accuracy: 0.7935\n",
            "288/288 [==============================] - 1s 3ms/step - loss: 0.5857 - accuracy: 0.7969\n",
            "288/288 [==============================] - 1s 2ms/step - loss: 0.5707 - accuracy: 0.7956\n",
            "288/288 [==============================] - 1s 2ms/step - loss: 0.5740 - accuracy: 0.7940\n",
            "288/288 [==============================] - 1s 2ms/step - loss: 0.6060 - accuracy: 0.7944\n",
            "225/225 [==============================] - 1s 2ms/step - loss: 0.5851 - accuracy: 0.7965\n",
            "225/225 [==============================] - 1s 2ms/step - loss: 0.5894 - accuracy: 0.7944\n",
            "225/225 [==============================] - 1s 2ms/step - loss: 0.5864 - accuracy: 0.7953\n",
            "225/225 [==============================] - 1s 2ms/step - loss: 0.5931 - accuracy: 0.7953\n",
            "225/225 [==============================] - 1s 2ms/step - loss: 0.5986 - accuracy: 0.7917\n",
            "225/225 [==============================] - 1s 2ms/step - loss: 0.6070 - accuracy: 0.7918\n",
            "225/225 [==============================] - 1s 2ms/step - loss: 0.5951 - accuracy: 0.7968\n",
            "225/225 [==============================] - 1s 2ms/step - loss: 0.5752 - accuracy: 0.7961\n",
            "225/225 [==============================] - 1s 2ms/step - loss: 0.5873 - accuracy: 0.7953\n",
            "225/225 [==============================] - 1s 2ms/step - loss: 0.6630 - accuracy: 0.7940\n",
            "225/225 [==============================] - 1s 2ms/step - loss: 0.6394 - accuracy: 0.7944\n",
            "225/225 [==============================] - 1s 2ms/step - loss: 0.6071 - accuracy: 0.7956\n",
            "225/225 [==============================] - 1s 2ms/step - loss: 0.6025 - accuracy: 0.7931\n",
            "225/225 [==============================] - 1s 2ms/step - loss: 0.5901 - accuracy: 0.7971\n",
            "225/225 [==============================] - 1s 2ms/step - loss: 0.5812 - accuracy: 0.7937\n",
            "225/225 [==============================] - 1s 2ms/step - loss: 0.5976 - accuracy: 0.7926\n",
            "225/225 [==============================] - 1s 2ms/step - loss: 0.6092 - accuracy: 0.7950\n",
            "225/225 [==============================] - 1s 2ms/step - loss: 0.6096 - accuracy: 0.7947\n",
            "225/225 [==============================] - 1s 2ms/step - loss: 0.6011 - accuracy: 0.7958\n",
            "225/225 [==============================] - 1s 2ms/step - loss: 0.6122 - accuracy: 0.7939\n",
            "225/225 [==============================] - 1s 2ms/step - loss: 0.6346 - accuracy: 0.7954\n",
            "225/225 [==============================] - 1s 2ms/step - loss: 0.5776 - accuracy: 0.7949\n",
            "225/225 [==============================] - 1s 2ms/step - loss: 0.6110 - accuracy: 0.7943\n",
            "225/225 [==============================] - 1s 2ms/step - loss: 0.5913 - accuracy: 0.7969\n",
            "225/225 [==============================] - 1s 2ms/step - loss: 0.5967 - accuracy: 0.7926\n",
            "225/225 [==============================] - 1s 2ms/step - loss: 0.6143 - accuracy: 0.7929\n",
            "225/225 [==============================] - 1s 2ms/step - loss: 0.5795 - accuracy: 0.7962\n",
            "225/225 [==============================] - 1s 2ms/step - loss: 0.5794 - accuracy: 0.7957\n",
            "225/225 [==============================] - 1s 2ms/step - loss: 0.5681 - accuracy: 0.7958\n",
            "225/225 [==============================] - 1s 2ms/step - loss: 0.5685 - accuracy: 0.7957\n",
            "225/225 [==============================] - 1s 2ms/step - loss: 0.6045 - accuracy: 0.7954\n",
            "225/225 [==============================] - 1s 2ms/step - loss: 0.5967 - accuracy: 0.7962\n",
            "225/225 [==============================] - 1s 2ms/step - loss: 0.6210 - accuracy: 0.7937\n",
            "225/225 [==============================] - 1s 2ms/step - loss: 0.6137 - accuracy: 0.7960\n",
            "225/225 [==============================] - 1s 2ms/step - loss: 0.6125 - accuracy: 0.7921\n",
            "225/225 [==============================] - 1s 2ms/step - loss: 0.6039 - accuracy: 0.7928\n",
            "225/225 [==============================] - 1s 2ms/step - loss: 0.6427 - accuracy: 0.7933\n",
            "225/225 [==============================] - 1s 2ms/step - loss: 0.6102 - accuracy: 0.7947\n",
            "225/225 [==============================] - 1s 2ms/step - loss: 0.6178 - accuracy: 0.7943\n",
            "225/225 [==============================] - 1s 2ms/step - loss: 0.5963 - accuracy: 0.7953\n",
            "320/320 [==============================] - 1s 2ms/step - loss: 0.5436 - accuracy: 0.7959\n"
          ]
        }
      ]
    }
  ]
}